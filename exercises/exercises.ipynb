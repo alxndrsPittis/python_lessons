{
 "cells": [
  {
   "cell_type": "markdown",
   "id": "5efedce2-ccea-4d86-a18a-2cf6d9323acc",
   "metadata": {},
   "source": [
    "# Λίστα με ασκήσεις\n",
    "## Δευτέρα 26/02/2024"
   ]
  },
  {
   "cell_type": "markdown",
   "id": "5280357c-59ee-4677-8293-1d8c1afd383f",
   "metadata": {},
   "source": [
    "### >KT964724.1 Euplokamis dunlapae putative nonfluorescent protein mRNA, complete cds <a href=\"https://www.ncbi.nlm.nih.gov/nuccore/KT964724.1?report=fasta\" target=\"_blank\">NCBI link</a>\n",
    "ATTACTATATTTTAATTGAGTGCCTAGTGAGCAGCAATGGACTCCCGTATGGAAAGGGCAGAGTCTGTCT TTGCAGGCAGTATAAAGAGTAAACTCATTGCTGACTTAGTTTATGAGGACCAAACCTACAAGTTGTCAGG GGAAGGGTTTGGGAACCCCCAAGAGGGTCAGCATACGTTAGAGATGAGGTGTTTTGGTACGGAGGCATGC CCTCTTTCATGGTTTGTACTGGGTCCAGTGATACAGTACAGTTACAGAATGTTCACCCAGTATTCAGGTA ACGGAATGTACGACTTCTTCAAGACCTCCTTCCCTGGTGGTCTTAGTACAGAGTCAGTGTGTACCTTCAA TGATGGGGCTACTATCACTGGCAGTCATAATATCAGCTTTGTCAAGGACATCGTGGTCTGCAGATCTAAG CTGGAGTGCGCAGGGTTCAATGACGAGTCTCTGGCCCTGTCCCAGGAGCTGTCCCAAGTCAAGCCTTGTT ACGAGATAATAGATGGATCCGGAGTAGACGCTGTTTCCAGCTCTGTCAAACTCGAGTGGGACTTGTCAGA CGGGGATAAGTACAGTGCCCAGGTAGAGTCAGTGATCAGGAGTAAGACCAACTTTGCACCACAGAGACAC TTTATAGCTCATCACAGCAAGGTGATTGAAAAGTCGCAGAACAATCTGCACTTTTCCCAGCGTGATAAGT CCAGAGCAAACGTCATCAACTTCTACCTGCATAAAGAACAACACAAACGATAGGTCACGTTTAATGAGCA AGTTCTCGCAGTCTGTTTAGCACTCCGGGACTCTGTCTACCGTGGGAACTGAGAGGTGTCACGGGGAAGA TGTCTGTTTGTATTCGGTAGTTAATTTGAACTTGAAGGGAGTTTGTATGGAGTTGCTTGTTGAATGGGAT AAAGCTTTTGAAATGCTTGAGAAGCTTAGGAAGCGGAAGAGTTAAGAGGGGATTTTGAAAAAGGAATGCT TAAATTATTTTGTTTGACG"
   ]
  },
  {
   "cell_type": "markdown",
   "id": "f8248ce7-3418-4ebf-ac38-8fa44878546b",
   "metadata": {},
   "source": [
    "- Copy-paste the sequence above, assign it to a variable (e.g. seq) use str.replace to remove spaces (**str.replace? for help**). Alternatively copy multiline sequence from the NCBI link, paste text enclosed in tripple quotes and remove newlines.\n",
    "- What is the overall length of the sequence?\n",
    "- If the sequence starts with a start codon keep it, else find the first ATG (if first three letters == \"ATG\" else find it) and remove trailing sequence upstream. (**str.find?** for help)\n",
    "- Check if the sequence ends with stop codon (TAA, TAG, TGA), else find the first in-frame (**increment counter by 3 in a while loop**)\n",
    "- Get the coding sequence from start codon to last (before last codon)\n",
    "- Get the reverse of the sequence using **indexing with negative step**\n",
    "- What is the GC content of the gene? Write a **function** that returns it and print \"Gene's GC content: X%\"."
   ]
  }
 ],
 "metadata": {
  "kernelspec": {
   "display_name": "Python 3 (ipykernel)",
   "language": "python",
   "name": "python3"
  },
  "language_info": {
   "codemirror_mode": {
    "name": "ipython",
    "version": 3
   },
   "file_extension": ".py",
   "mimetype": "text/x-python",
   "name": "python",
   "nbconvert_exporter": "python",
   "pygments_lexer": "ipython3",
   "version": "3.10.13"
  }
 },
 "nbformat": 4,
 "nbformat_minor": 5
}
