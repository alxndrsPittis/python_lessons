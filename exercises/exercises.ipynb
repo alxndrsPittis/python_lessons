{
 "cells": [
  {
   "cell_type": "markdown",
   "id": "5efedce2-ccea-4d86-a18a-2cf6d9323acc",
   "metadata": {},
   "source": [
    "# Λίστα με ασκήσεις\n",
    "## Δευτέρα 26/02/2024"
   ]
  },
  {
   "cell_type": "markdown",
   "id": "5280357c-59ee-4677-8293-1d8c1afd383f",
   "metadata": {},
   "source": [
    "### >KT964724.1 Euplokamis dunlapae putative nonfluorescent protein mRNA, complete cds (https://www.ncbi.nlm.nih.gov/nuccore/KT964724.1?report=fasta)\n",
    "ATTACTATATTTTAATTGAGTGCCTAGTGAGCAGCAATGGACTCCCGTATGGAAAGGGCAGAGTCTGTCT TTGCAGGCAGTATAAAGAGTAAACTCATTGCTGACTTAGTTTATGAGGACCAAACCTACAAGTTGTCAGG GGAAGGGTTTGGGAACCCCCAAGAGGGTCAGCATACGTTAGAGATGAGGTGTTTTGGTACGGAGGCATGC CCTCTTTCATGGTTTGTACTGGGTCCAGTGATACAGTACAGTTACAGAATGTTCACCCAGTATTCAGGTA ACGGAATGTACGACTTCTTCAAGACCTCCTTCCCTGGTGGTCTTAGTACAGAGTCAGTGTGTACCTTCAA TGATGGGGCTACTATCACTGGCAGTCATAATATCAGCTTTGTCAAGGACATCGTGGTCTGCAGATCTAAG CTGGAGTGCGCAGGGTTCAATGACGAGTCTCTGGCCCTGTCCCAGGAGCTGTCCCAAGTCAAGCCTTGTT ACGAGATAATAGATGGATCCGGAGTAGACGCTGTTTCCAGCTCTGTCAAACTCGAGTGGGACTTGTCAGA CGGGGATAAGTACAGTGCCCAGGTAGAGTCAGTGATCAGGAGTAAGACCAACTTTGCACCACAGAGACAC TTTATAGCTCATCACAGCAAGGTGATTGAAAAGTCGCAGAACAATCTGCACTTTTCCCAGCGTGATAAGT CCAGAGCAAACGTCATCAACTTCTACCTGCATAAAGAACAACACAAACGATAGGTCACGTTTAATGAGCA AGTTCTCGCAGTCTGTTTAGCACTCCGGGACTCTGTCTACCGTGGGAACTGAGAGGTGTCACGGGGAAGA TGTCTGTTTGTATTCGGTAGTTAATTTGAACTTGAAGGGAGTTTGTATGGAGTTGCTTGTTGAATGGGAT AAAGCTTTTGAAATGCTTGAGAAGCTTAGGAAGCGGAAGAGTTAAGAGGGGATTTTGAAAAAGGAATGCT TAAATTATTTTGTTTGACG"
   ]
  },
  {
   "cell_type": "markdown",
   "id": "f8248ce7-3418-4ebf-ac38-8fa44878546b",
   "metadata": {},
   "source": [
    "- Copy-paste the sequence, assign it to a variable (e.g. \"seq\") use str.replace to remove spaces (**str.replace? for help**).\n",
    "- What is the overall length of the sequence?\n",
    "- Check if the sequence starts with a start codon, else find the first ATG (if first three letters == \"ATG\" else find it) and remove trailing sequence upstream. (**str.find?** for help)\n",
    "- Check if the sequence ends with stop codon (TAA, TAG, TGA), else find the first in-frame (increment counter by 3 in a while loop)\n",
    "- Get the coding sequence from start codon to last (before last codon)\n",
    "- Get the reverse of the sequence using indexing with negative step\n",
    "- What is the GC content of the gene? Write a function that returns it and print \"Gene's GC content: X%\"."
   ]
  },
  {
   "cell_type": "code",
   "execution_count": 44,
   "id": "ee0331a5-d5b0-4787-9ea1-54f76b54430a",
   "metadata": {},
   "outputs": [],
   "source": [
    "seq = 'ATTACTATATTTTAATTGAGTGCCTAGTGAGCAGCAATGGACTCCCGTATGGAAAGGGCAGAGTCTGTCT TTGCAGGCAGTATAAAGAGTAAACTCATTGCTGACTTAGTTTATGAGGACCAAACCTACAAGTTGTCAGG GGAAGGGTTTGGGAACCCCCAAGAGGGTCAGCATACGTTAGAGATGAGGTGTTTTGGTACGGAGGCATGC CCTCTTTCATGGTTTGTACTGGGTCCAGTGATACAGTACAGTTACAGAATGTTCACCCAGTATTCAGGTA ACGGAATGTACGACTTCTTCAAGACCTCCTTCCCTGGTGGTCTTAGTACAGAGTCAGTGTGTACCTTCAA TGATGGGGCTACTATCACTGGCAGTCATAATATCAGCTTTGTCAAGGACATCGTGGTCTGCAGATCTAAG CTGGAGTGCGCAGGGTTCAATGACGAGTCTCTGGCCCTGTCCCAGGAGCTGTCCCAAGTCAAGCCTTGTT ACGAGATAATAGATGGATCCGGAGTAGACGCTGTTTCCAGCTCTGTCAAACTCGAGTGGGACTTGTCAGA CGGGGATAAGTACAGTGCCCAGGTAGAGTCAGTGATCAGGAGTAAGACCAACTTTGCACCACAGAGACAC TTTATAGCTCATCACAGCAAGGTGATTGAAAAGTCGCAGAACAATCTGCACTTTTCCCAGCGTGATAAGT CCAGAGCAAACGTCATCAACTTCTACCTGCATAAAGAACAACACAAACGATAGGTCACGTTTAATGAGCA AGTTCTCGCAGTCTGTTTAGCACTCCGGGACTCTGTCTACCGTGGGAACTGAGAGGTGTCACGGGGAAGA TGTCTGTTTGTATTCGGTAGTTAATTTGAACTTGAAGGGAGTTTGTATGGAGTTGCTTGTTGAATGGGAT AAAGCTTTTGAAATGCTTGAGAAGCTTAGGAAGCGGAAGAGTTAAGAGGGGATTTTGAAAAAGGAATGCT TAAATTATTTTGTTTGACG'"
   ]
  },
  {
   "cell_type": "code",
   "execution_count": 63,
   "id": "7c1eac3e-9e9d-49f0-bc16-1e417df8c3da",
   "metadata": {},
   "outputs": [
    {
     "data": {
      "text/plain": [
       "999"
      ]
     },
     "execution_count": 63,
     "metadata": {},
     "output_type": "execute_result"
    }
   ],
   "source": [
    "len(\"ATTACTATATTTTAATTGAGTGCCTAGTGAGCAGCAATGGACTCCCGTATGGAAAGGGCAGAGTCTGTCT TTGCAGGCAGTATAAAGAGTAAACTCATTGCTGACTTAGTTTATGAGGACCAAACCTACAAGTTGTCAGG GGAAGGGTTTGGGAACCCCCAAGAGGGTCAGCATACGTTAGAGATGAGGTGTTTTGGTACGGAGGCATGC CCTCTTTCATGGTTTGTACTGGGTCCAGTGATACAGTACAGTTACAGAATGTTCACCCAGTATTCAGGTA ACGGAATGTACGACTTCTTCAAGACCTCCTTCCCTGGTGGTCTTAGTACAGAGTCAGTGTGTACCTTCAA TGATGGGGCTACTATCACTGGCAGTCATAATATCAGCTTTGTCAAGGACATCGTGGTCTGCAGATCTAAG CTGGAGTGCGCAGGGTTCAATGACGAGTCTCTGGCCCTGTCCCAGGAGCTGTCCCAAGTCAAGCCTTGTT ACGAGATAATAGATGGATCCGGAGTAGACGCTGTTTCCAGCTCTGTCAAACTCGAGTGGGACTTGTCAGA CGGGGATAAGTACAGTGCCCAGGTAGAGTCAGTGATCAGGAGTAAGACCAACTTTGCACCACAGAGACAC TTTATAGCTCATCACAGCAAGGTGATTGAAAAGTCGCAGAACAATCTGCACTTTTCCCAGCGTGATAAGT CCAGAGCAAACGTCATCAACTTCTACCTGCATAAAGAACAACACAAACGATAGGTCACGTTTAATGAGCA AGTTCTCGCAGTCTGTTTAGCACTCCGGGACTCTGTCTACCGTGGGAACTGAGAGGTGTCACGGGGAAGA TGTCTGTTTGTATTCGGTAGTTAATTTGAACTTGAAGGGAGTTTGTATGGAGTTGCTTGTTGAATGGGAT AAAGCTTTTGAAATGCTTGAGAAGCTTAGGAAGCGGAAGAGTTAAGAGGGGATTTTGAAAAAGGAATGCT TAAATTATTTTGTTTGACG\".replace(\" \", \"\"))"
   ]
  },
  {
   "cell_type": "code",
   "execution_count": 7,
   "id": "215cae46-9c9e-48b3-8bf0-5a10912dd629",
   "metadata": {},
   "outputs": [
    {
     "data": {
      "text/plain": [
       "\u001b[0;31mSignature:\u001b[0m \u001b[0mstr\u001b[0m\u001b[0;34m.\u001b[0m\u001b[0mreplace\u001b[0m\u001b[0;34m(\u001b[0m\u001b[0mself\u001b[0m\u001b[0;34m,\u001b[0m \u001b[0mold\u001b[0m\u001b[0;34m,\u001b[0m \u001b[0mnew\u001b[0m\u001b[0;34m,\u001b[0m \u001b[0mcount\u001b[0m\u001b[0;34m=\u001b[0m\u001b[0;34m-\u001b[0m\u001b[0;36m1\u001b[0m\u001b[0;34m,\u001b[0m \u001b[0;34m/\u001b[0m\u001b[0;34m)\u001b[0m\u001b[0;34m\u001b[0m\u001b[0;34m\u001b[0m\u001b[0m\n",
       "\u001b[0;31mDocstring:\u001b[0m\n",
       "Return a copy with all occurrences of substring old replaced by new.\n",
       "\n",
       "  count\n",
       "    Maximum number of occurrences to replace.\n",
       "    -1 (the default value) means replace all occurrences.\n",
       "\n",
       "If the optional argument count is given, only the first count occurrences are\n",
       "replaced.\n",
       "\u001b[0;31mType:\u001b[0m      method_descriptor"
      ]
     },
     "metadata": {},
     "output_type": "display_data"
    }
   ],
   "source": [
    "str.replace?"
   ]
  },
  {
   "cell_type": "code",
   "execution_count": 45,
   "id": "dc9d59e1-8eee-45f8-b16d-972c444e5015",
   "metadata": {},
   "outputs": [],
   "source": [
    "seq = seq.replace(\" \", \"\")"
   ]
  },
  {
   "cell_type": "code",
   "execution_count": 46,
   "id": "665786dd-2c60-4953-9c66-51e9881c3498",
   "metadata": {},
   "outputs": [],
   "source": [
    "start = seq.find(\"ATG\")\n",
    "seq = seq[start:]"
   ]
  },
  {
   "cell_type": "code",
   "execution_count": 47,
   "id": "a1e3b56c-e651-40a0-b1d0-5a59b082940e",
   "metadata": {},
   "outputs": [
    {
     "data": {
      "text/plain": [
       "963"
      ]
     },
     "execution_count": 47,
     "metadata": {},
     "output_type": "execute_result"
    }
   ],
   "source": [
    "len(seq)"
   ]
  },
  {
   "cell_type": "code",
   "execution_count": 50,
   "id": "add9d176-c215-48b2-a351-b70890c4d8f7",
   "metadata": {
    "scrolled": true
   },
   "outputs": [],
   "source": [
    "n = 0\n",
    "while n <= len(seq) - 3:\n",
    "    codon = seq[n:n+3]\n",
    "    if codon in [\"TAA\", \"TAG\", \"TGA\"]:\n",
    "        end = n\n",
    "        break\n",
    "    n += 3"
   ]
  },
  {
   "cell_type": "code",
   "execution_count": 52,
   "id": "2a58e869-485b-4334-a2dc-3ed4ed76b848",
   "metadata": {},
   "outputs": [],
   "source": [
    "end_codon = seq[end:end+3]"
   ]
  },
  {
   "cell_type": "code",
   "execution_count": 31,
   "id": "ec54a91d-1bf5-44ac-813b-242e733fe3c2",
   "metadata": {},
   "outputs": [
    {
     "data": {
      "text/plain": [
       "'ATGGACTCCCGTATGGAAAGGGCAGAGTCTGTCTTTGCAGGCAGTATAAAGAGTAAACTCATTGCTGACTTAGTTTATGAGGACCAAACCTACAAGTTGTCAGGGGAAGGGTTTGGGAACCCCCAAGAGGGTCAGCATACGTTAGAGATGAGGTGTTTTGGTACGGAGGCATGCCCTCTTTCATGGTTTGTACTGGGTCCAGTGATACAGTACAGTTACAGAATGTTCACCCAGTATTCAGGTAACGGAATGTACGACTTCTTCAAGACCTCCTTCCCTGGTGGTCTTAGTACAGAGTCAGTGTGTACCTTCAATGATGGGGCTACTATCACTGGCAGTCATAATATCAGCTTTGTCAAGGACATCGTGGTCTGCAGATCTAAGCTGGAGTGCGCAGGGTTCAATGACGAGTCTCTGGCCCTGTCCCAGGAGCTGTCCCAAGTCAAGCCTTGTTACGAGATAATAGATGGATCCGGAGTAGACGCTGTTTCCAGCTCTGTCAAACTCGAGTGGGACTTGTCAGACGGGGATAAGTACAGTGCCCAGGTAGAGTCAGTGATCAGGAGTAAGACCAACTTTGCACCACAGAGACACTTTATAGCTCATCACAGCAAGGTGATTGAAAAGTCGCAGAACAATCTGCACTTTTCCCAGCGTGATAAGTCCAGAGCAAACGTCATCAACTTCTACCTGCATAAAGAACAACACAAACGATAGGTCACGTTTAATGAGCAAGTTCTCGCAGTCTGTTTAGCACTCCGGGACTCTGTCTACCGTGGGAACTGAGAGGTGTCACGGGGAAGATGTCTGTTTGTATTCGGTAGTTAATTTGAACTTGAAGGGAGTTTGTATGGAGTTGCTTGTTGAATGGGATAAAGCTTTTGAAATGCTTGAGAAGCTTAGGAAGCGGAAGAGTTAAGAGGGGATTTTGAAAAAGGAATGCTTAAATTATTTTGTTTGACG'"
      ]
     },
     "execution_count": 31,
     "metadata": {},
     "output_type": "execute_result"
    }
   ],
   "source": []
  },
  {
   "cell_type": "code",
   "execution_count": null,
   "id": "556e789d-e102-4621-8af5-a696b127c1ec",
   "metadata": {},
   "outputs": [],
   "source": []
  },
  {
   "cell_type": "code",
   "execution_count": 12,
   "id": "54b03573-0f78-480c-b4f0-a0afdb371d93",
   "metadata": {},
   "outputs": [
    {
     "data": {
      "text/plain": [
       "12"
      ]
     },
     "execution_count": 12,
     "metadata": {},
     "output_type": "execute_result"
    }
   ],
   "source": [
    "seq.count(\"TAG\")"
   ]
  },
  {
   "cell_type": "code",
   "execution_count": 21,
   "id": "2037d84c-deb6-4799-8455-0f179602f9c8",
   "metadata": {},
   "outputs": [
    {
     "data": {
      "text/plain": [
       "936"
      ]
     },
     "execution_count": 21,
     "metadata": {},
     "output_type": "execute_result"
    }
   ],
   "source": [
    "seq.rindex(\"TAG\")"
   ]
  },
  {
   "cell_type": "code",
   "execution_count": null,
   "id": "af2df608-cd59-46ad-9b44-1a6148850dfb",
   "metadata": {},
   "outputs": [],
   "source": [
    "seq_reverse = seq[::-1]"
   ]
  }
 ],
 "metadata": {
  "kernelspec": {
   "display_name": "Python 3 (ipykernel)",
   "language": "python",
   "name": "python3"
  },
  "language_info": {
   "codemirror_mode": {
    "name": "ipython",
    "version": 3
   },
   "file_extension": ".py",
   "mimetype": "text/x-python",
   "name": "python",
   "nbconvert_exporter": "python",
   "pygments_lexer": "ipython3",
   "version": "3.10.13"
  }
 },
 "nbformat": 4,
 "nbformat_minor": 5
}
