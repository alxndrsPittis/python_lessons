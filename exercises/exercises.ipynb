{
 "cells": [
  {
   "cell_type": "markdown",
   "id": "f60dedeb-b29c-4554-b31c-043b2b5e95b7",
   "metadata": {},
   "source": [
    "## Ways to run python code\n",
    "- Write code in python script and execute in shell (python script_name.py)\n",
    "- Execute in (i)python command shell (ipython: %run script_name.py)\n",
    "- jupyter notebook/lab\n",
    "- VS code integrated terminal etc.\n",
    "- ..\n",
    "\n",
    "! relative path\n",
    "\n",
    "conda create --name python_course --channel=conda-forge python jupyterlab nb_conda_kernels\n",
    "\n",
    "conda activate python_course\n",
    "\n",
    "mkdir ~/Documents/PythonIntro\n",
    "\n",
    "cd ~/Documents/PythonIntro"
   ]
  },
  {
   "cell_type": "markdown",
   "id": "5efedce2-ccea-4d86-a18a-2cf6d9323acc",
   "metadata": {},
   "source": [
    "# Aσκήσεις\n",
    "## Δευτέρα 26/02/2024 (strings, integers, float, boolean, indexing)"
   ]
  },
  {
   "cell_type": "markdown",
   "id": "5280357c-59ee-4677-8293-1d8c1afd383f",
   "metadata": {},
   "source": [
    "### >KT964724.1 Euplokamis dunlapae putative nonfluorescent protein mRNA, complete cds <a href=\"https://www.ncbi.nlm.nih.gov/nuccore/KT964724.1?report=fasta\" target=\"_blank\">NCBI link</a>\n",
    "ATTACTATATTTTAATTGAGTGCCTAGTGAGCAGCAATGGACTCCCGTATGGAAAGGGCAGAGTCTGTCT TTGCAGGCAGTATAAAGAGTAAACTCATTGCTGACTTAGTTTATGAGGACCAAACCTACAAGTTGTCAGG GGAAGGGTTTGGGAACCCCCAAGAGGGTCAGCATACGTTAGAGATGAGGTGTTTTGGTACGGAGGCATGC CCTCTTTCATGGTTTGTACTGGGTCCAGTGATACAGTACAGTTACAGAATGTTCACCCAGTATTCAGGTA ACGGAATGTACGACTTCTTCAAGACCTCCTTCCCTGGTGGTCTTAGTACAGAGTCAGTGTGTACCTTCAA TGATGGGGCTACTATCACTGGCAGTCATAATATCAGCTTTGTCAAGGACATCGTGGTCTGCAGATCTAAG CTGGAGTGCGCAGGGTTCAATGACGAGTCTCTGGCCCTGTCCCAGGAGCTGTCCCAAGTCAAGCCTTGTT ACGAGATAATAGATGGATCCGGAGTAGACGCTGTTTCCAGCTCTGTCAAACTCGAGTGGGACTTGTCAGA CGGGGATAAGTACAGTGCCCAGGTAGAGTCAGTGATCAGGAGTAAGACCAACTTTGCACCACAGAGACAC TTTATAGCTCATCACAGCAAGGTGATTGAAAAGTCGCAGAACAATCTGCACTTTTCCCAGCGTGATAAGT CCAGAGCAAACGTCATCAACTTCTACCTGCATAAAGAACAACACAAACGATAGGTCACGTTTAATGAGCA AGTTCTCGCAGTCTGTTTAGCACTCCGGGACTCTGTCTACCGTGGGAACTGAGAGGTGTCACGGGGAAGA TGTCTGTTTGTATTCGGTAGTTAATTTGAACTTGAAGGGAGTTTGTATGGAGTTGCTTGTTGAATGGGAT AAAGCTTTTGAAATGCTTGAGAAGCTTAGGAAGCGGAAGAGTTAAGAGGGGATTTTGAAAAAGGAATGCT TAAATTATTTTGTTTGACG"
   ]
  },
  {
   "cell_type": "markdown",
   "id": "c4223bbb-2007-41af-b5b7-86615ed6d20a",
   "metadata": {},
   "source": [
    "- Copy-paste the sequence above, assign it to a variable (e.g. seq) use str.replace to remove spaces (**str.replace? for help**). Alternatively copy multiline sequence from the NCBI link, paste text enclosed in tripple quotes and remove newlines."
   ]
  },
  {
   "cell_type": "code",
   "execution_count": null,
   "id": "1695f35d-8fa7-4ea9-80af-ef9ad283dcfe",
   "metadata": {},
   "outputs": [],
   "source": []
  },
  {
   "cell_type": "markdown",
   "id": "12ec4a0a-c857-42b8-8eb0-03413009005b",
   "metadata": {},
   "source": [
    "- What is the overall length of the sequence?"
   ]
  },
  {
   "cell_type": "code",
   "execution_count": null,
   "id": "5d555462-a5c7-40f4-826c-ac5b2d10f12d",
   "metadata": {},
   "outputs": [],
   "source": []
  },
  {
   "cell_type": "markdown",
   "id": "5bc56fe5-525c-40ff-bb2c-faa48fd0ed8e",
   "metadata": {},
   "source": [
    "- Get the reverse of the sequence using **indexing with negative step**"
   ]
  },
  {
   "cell_type": "code",
   "execution_count": null,
   "id": "2a5445eb-8315-467f-ae37-5b2c55b9f38b",
   "metadata": {},
   "outputs": [],
   "source": []
  },
  {
   "cell_type": "markdown",
   "id": "7ca7816c-eedc-46f0-8fb4-499c95a3139d",
   "metadata": {},
   "source": [
    "- If the sequence starts with a start codon keep it, else find the first ATG (if first three letters == \"ATG\" else find it) and remove trailing sequence upstream. (**str.find?** for help)"
   ]
  },
  {
   "cell_type": "code",
   "execution_count": null,
   "id": "4ca3a8fe-818b-4f5c-b087-ecd4080a63d3",
   "metadata": {},
   "outputs": [],
   "source": []
  },
  {
   "cell_type": "markdown",
   "id": "c9f63027-01f8-4652-ad3e-45a19b6f5ab8",
   "metadata": {},
   "source": [
    "- Check if the sequence ends with a stop codon (TAA, TAG, TGA), else find the **first** in-frame (**increment counter by 3 in a while loop**)"
   ]
  },
  {
   "cell_type": "code",
   "execution_count": null,
   "id": "6cdca248-c069-4226-8ad7-bdfdb86c4b5e",
   "metadata": {},
   "outputs": [],
   "source": []
  },
  {
   "cell_type": "markdown",
   "id": "87fcc75d-10c8-4175-9c3f-6dd8c5748cef",
   "metadata": {},
   "source": [
    "- Get the coding sequence from start codon to last (before last codon)"
   ]
  },
  {
   "cell_type": "code",
   "execution_count": null,
   "id": "ea54207d-27f5-4ce5-8758-09c42efbf6f6",
   "metadata": {},
   "outputs": [],
   "source": []
  },
  {
   "cell_type": "markdown",
   "id": "b6aaf758-5c18-43e0-9604-0272a9dc58d9",
   "metadata": {},
   "source": [
    "- What is the GC content of the gene? Write a **function** that returns it and print \"Gene's GC content: X%\" using the string format method."
   ]
  },
  {
   "cell_type": "code",
   "execution_count": null,
   "id": "96e9ccbf-5938-47a6-aa76-d376fd962df8",
   "metadata": {},
   "outputs": [],
   "source": []
  }
 ],
 "metadata": {
  "kernelspec": {
   "display_name": "Python 3 (ipykernel)",
   "language": "python",
   "name": "python3"
  },
  "language_info": {
   "codemirror_mode": {
    "name": "ipython",
    "version": 3
   },
   "file_extension": ".py",
   "mimetype": "text/x-python",
   "name": "python",
   "nbconvert_exporter": "python",
   "pygments_lexer": "ipython3",
   "version": "3.10.13"
  }
 },
 "nbformat": 4,
 "nbformat_minor": 5
}
