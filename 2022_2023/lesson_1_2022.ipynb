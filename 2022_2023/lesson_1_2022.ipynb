{
 "cells": [
  {
   "cell_type": "code",
   "execution_count": 20,
   "id": "b85a690b",
   "metadata": {},
   "outputs": [
    {
     "name": "stdout",
     "output_type": "stream",
     "text": [
      "sfdg\n"
     ]
    }
   ],
   "source": [
    "print (\"sfdg\")"
   ]
  },
  {
   "cell_type": "code",
   "execution_count": null,
   "id": "c895911b",
   "metadata": {},
   "outputs": [],
   "source": []
  },
  {
   "cell_type": "code",
   "execution_count": 21,
   "id": "7c213300",
   "metadata": {},
   "outputs": [
    {
     "data": {
      "text/plain": [
       "6"
      ]
     },
     "execution_count": 21,
     "metadata": {},
     "output_type": "execute_result"
    }
   ],
   "source": [
    "1\n",
    "2\n",
    "3\n",
    "4\n",
    "5\n",
    "6\n"
   ]
  },
  {
   "cell_type": "code",
   "execution_count": 22,
   "id": "754d5ef9",
   "metadata": {},
   "outputs": [
    {
     "data": {
      "text/plain": [
       "13"
      ]
     },
     "execution_count": 22,
     "metadata": {},
     "output_type": "execute_result"
    }
   ],
   "source": [
    "1+2\n",
    "5+8"
   ]
  },
  {
   "cell_type": "code",
   "execution_count": 23,
   "id": "00aa25dc",
   "metadata": {},
   "outputs": [],
   "source": [
    "l = [\n",
    "    'rafail',\n",
    "    'andreas',\n",
    "    'aggelos',\n",
    "    'elena',\n",
    "    'marianna',\n",
    "    'olympia',\n",
    "    'agaph',\n",
    "    'nikos',\n",
    "    'melina',\n",
    "    'katerina',\n",
    "    'anna',\n",
    "]"
   ]
  },
  {
   "cell_type": "code",
   "execution_count": 24,
   "id": "91a7a266",
   "metadata": {},
   "outputs": [],
   "source": [
    "import random\n",
    "\n",
    "def g():\n",
    "    return random.choice(l)\n"
   ]
  },
  {
   "cell_type": "code",
   "execution_count": 78,
   "id": "35f7a794",
   "metadata": {},
   "outputs": [
    {
     "data": {
      "text/plain": [
       "'andreas'"
      ]
     },
     "execution_count": 78,
     "metadata": {},
     "output_type": "execute_result"
    }
   ],
   "source": [
    "g()"
   ]
  },
  {
   "cell_type": "code",
   "execution_count": 69,
   "id": "4d147af1",
   "metadata": {},
   "outputs": [
    {
     "data": {
      "text/plain": [
       "8"
      ]
     },
     "execution_count": 69,
     "metadata": {},
     "output_type": "execute_result"
    }
   ],
   "source": [
    "3+5"
   ]
  },
  {
   "cell_type": "code",
   "execution_count": 71,
   "id": "c1065161",
   "metadata": {},
   "outputs": [
    {
     "data": {
      "text/plain": [
       "2.5"
      ]
     },
     "execution_count": 71,
     "metadata": {},
     "output_type": "execute_result"
    }
   ],
   "source": [
    "5/2"
   ]
  },
  {
   "cell_type": "code",
   "execution_count": 72,
   "id": "4289d37b",
   "metadata": {},
   "outputs": [
    {
     "data": {
      "text/plain": [
       "0.4"
      ]
     },
     "execution_count": 72,
     "metadata": {},
     "output_type": "execute_result"
    }
   ],
   "source": [
    "2/5"
   ]
  },
  {
   "cell_type": "code",
   "execution_count": 74,
   "id": "84f10ea4",
   "metadata": {},
   "outputs": [
    {
     "data": {
      "text/plain": [
       "2.0"
      ]
     },
     "execution_count": 74,
     "metadata": {},
     "output_type": "execute_result"
    }
   ],
   "source": [
    "6/3"
   ]
  },
  {
   "cell_type": "code",
   "execution_count": 75,
   "id": "025828e1",
   "metadata": {},
   "outputs": [
    {
     "data": {
      "text/plain": [
       "2"
      ]
     },
     "execution_count": 75,
     "metadata": {},
     "output_type": "execute_result"
    }
   ],
   "source": [
    "5//2"
   ]
  },
  {
   "cell_type": "code",
   "execution_count": 79,
   "id": "2224f7eb",
   "metadata": {},
   "outputs": [
    {
     "data": {
      "text/plain": [
       "4"
      ]
     },
     "execution_count": 79,
     "metadata": {},
     "output_type": "execute_result"
    }
   ],
   "source": [
    "11%7"
   ]
  },
  {
   "cell_type": "code",
   "execution_count": 81,
   "id": "5ebdbfab",
   "metadata": {},
   "outputs": [
    {
     "data": {
      "text/plain": [
       "16"
      ]
     },
     "execution_count": 81,
     "metadata": {},
     "output_type": "execute_result"
    }
   ],
   "source": [
    "2 ** 4"
   ]
  },
  {
   "cell_type": "code",
   "execution_count": null,
   "id": "0633598d",
   "metadata": {},
   "outputs": [],
   "source": []
  },
  {
   "cell_type": "code",
   "execution_count": 80,
   "id": "8b8997cf",
   "metadata": {},
   "outputs": [
    {
     "data": {
      "text/plain": [
       "'rafail'"
      ]
     },
     "execution_count": 80,
     "metadata": {},
     "output_type": "execute_result"
    }
   ],
   "source": [
    "g()"
   ]
  },
  {
   "cell_type": "code",
   "execution_count": 27,
   "id": "50e5c64d",
   "metadata": {},
   "outputs": [],
   "source": [
    "# sdlfkghsdfgjhsdl kfjghslkdfgn"
   ]
  },
  {
   "cell_type": "code",
   "execution_count": 82,
   "id": "8f61709a",
   "metadata": {},
   "outputs": [
    {
     "data": {
      "text/plain": [
       "'DFGHJK'"
      ]
     },
     "execution_count": 82,
     "metadata": {},
     "output_type": "execute_result"
    }
   ],
   "source": [
    "'DFGHJK'"
   ]
  },
  {
   "cell_type": "code",
   "execution_count": 83,
   "id": "987e4756",
   "metadata": {},
   "outputs": [
    {
     "data": {
      "text/plain": [
       "9"
      ]
     },
     "execution_count": 83,
     "metadata": {},
     "output_type": "execute_result"
    }
   ],
   "source": [
    "5+4"
   ]
  },
  {
   "cell_type": "code",
   "execution_count": 84,
   "id": "ca3a7abe",
   "metadata": {},
   "outputs": [
    {
     "data": {
      "text/plain": [
       "'abcdef'"
      ]
     },
     "execution_count": 84,
     "metadata": {},
     "output_type": "execute_result"
    }
   ],
   "source": [
    "'abc' + 'def'"
   ]
  },
  {
   "cell_type": "code",
   "execution_count": 85,
   "id": "289a2543",
   "metadata": {},
   "outputs": [
    {
     "data": {
      "text/plain": [
       "'abcabcabcabcabcabcabcabcabcabc'"
      ]
     },
     "execution_count": 85,
     "metadata": {},
     "output_type": "execute_result"
    }
   ],
   "source": [
    "'abc' * 10"
   ]
  },
  {
   "cell_type": "code",
   "execution_count": 86,
   "id": "d9e1ffed",
   "metadata": {},
   "outputs": [
    {
     "name": "stdout",
     "output_type": "stream",
     "text": [
      "sgsdg\n"
     ]
    }
   ],
   "source": [
    "print ('sgsdg')"
   ]
  },
  {
   "cell_type": "code",
   "execution_count": 87,
   "id": "92db4a13",
   "metadata": {},
   "outputs": [
    {
     "data": {
      "text/plain": [
       "12"
      ]
     },
     "execution_count": 87,
     "metadata": {},
     "output_type": "execute_result"
    }
   ],
   "source": [
    "len('sdfgsdfgsdfg')"
   ]
  },
  {
   "cell_type": "code",
   "execution_count": 88,
   "id": "3c93547f",
   "metadata": {},
   "outputs": [
    {
     "data": {
      "text/plain": [
       "'nikos'"
      ]
     },
     "execution_count": 88,
     "metadata": {},
     "output_type": "execute_result"
    }
   ],
   "source": [
    "g()"
   ]
  },
  {
   "cell_type": "code",
   "execution_count": 89,
   "id": "0a835f80",
   "metadata": {},
   "outputs": [
    {
     "data": {
      "text/plain": [
       "15"
      ]
     },
     "execution_count": 89,
     "metadata": {},
     "output_type": "execute_result"
    }
   ],
   "source": [
    "len('nikos' * 3)"
   ]
  },
  {
   "cell_type": "code",
   "execution_count": 90,
   "id": "ac180a5a",
   "metadata": {},
   "outputs": [
    {
     "data": {
      "text/plain": [
       "0"
      ]
     },
     "execution_count": 90,
     "metadata": {},
     "output_type": "execute_result"
    }
   ],
   "source": [
    "len('')"
   ]
  },
  {
   "cell_type": "code",
   "execution_count": 91,
   "id": "dc2392cc",
   "metadata": {},
   "outputs": [
    {
     "data": {
      "text/plain": [
       "'andreas'"
      ]
     },
     "execution_count": 91,
     "metadata": {},
     "output_type": "execute_result"
    }
   ],
   "source": [
    "g()"
   ]
  },
  {
   "cell_type": "code",
   "execution_count": 92,
   "id": "4c785aa3",
   "metadata": {},
   "outputs": [
    {
     "data": {
      "text/plain": [
       "1"
      ]
     },
     "execution_count": 92,
     "metadata": {},
     "output_type": "execute_result"
    }
   ],
   "source": [
    "len(' ')"
   ]
  },
  {
   "cell_type": "code",
   "execution_count": 94,
   "id": "c0aef23f",
   "metadata": {},
   "outputs": [
    {
     "data": {
      "text/plain": [
       "'katerina'"
      ]
     },
     "execution_count": 94,
     "metadata": {},
     "output_type": "execute_result"
    }
   ],
   "source": [
    "g()"
   ]
  },
  {
   "cell_type": "code",
   "execution_count": 95,
   "id": "216dd158",
   "metadata": {},
   "outputs": [
    {
     "data": {
      "text/plain": [
       "'abcdef'"
      ]
     },
     "execution_count": 95,
     "metadata": {},
     "output_type": "execute_result"
    }
   ],
   "source": [
    "'abc' + 'def'"
   ]
  },
  {
   "cell_type": "code",
   "execution_count": null,
   "id": "dc7ff9fb",
   "metadata": {},
   "outputs": [],
   "source": []
  },
  {
   "cell_type": "code",
   "execution_count": 96,
   "id": "44cbf823",
   "metadata": {},
   "outputs": [
    {
     "data": {
      "text/plain": [
       "'12'"
      ]
     },
     "execution_count": 96,
     "metadata": {},
     "output_type": "execute_result"
    }
   ],
   "source": [
    "'1' + '2'"
   ]
  },
  {
   "cell_type": "code",
   "execution_count": 97,
   "id": "f4112bd9",
   "metadata": {},
   "outputs": [
    {
     "data": {
      "text/plain": [
       "3"
      ]
     },
     "execution_count": 97,
     "metadata": {},
     "output_type": "execute_result"
    }
   ],
   "source": [
    "1+2"
   ]
  },
  {
   "cell_type": "code",
   "execution_count": 98,
   "id": "1c7a51da",
   "metadata": {},
   "outputs": [
    {
     "data": {
      "text/plain": [
       "'fkghsdfg1932 4123418273648172365481726354'"
      ]
     },
     "execution_count": 98,
     "metadata": {},
     "output_type": "execute_result"
    }
   ],
   "source": [
    "'fkghsdfg1932 4123418273648172365481726354'"
   ]
  },
  {
   "cell_type": "code",
   "execution_count": 99,
   "id": "36ce688c",
   "metadata": {},
   "outputs": [
    {
     "data": {
      "text/plain": [
       "'fsd'"
      ]
     },
     "execution_count": 99,
     "metadata": {},
     "output_type": "execute_result"
    }
   ],
   "source": [
    "'fsd'"
   ]
  },
  {
   "cell_type": "code",
   "execution_count": 100,
   "id": "ea36588d",
   "metadata": {},
   "outputs": [
    {
     "data": {
      "text/plain": [
       "'asdfsdf'"
      ]
     },
     "execution_count": 100,
     "metadata": {},
     "output_type": "execute_result"
    }
   ],
   "source": [
    "\"asdfsdf\""
   ]
  },
  {
   "cell_type": "code",
   "execution_count": 101,
   "id": "92359e7a",
   "metadata": {},
   "outputs": [
    {
     "data": {
      "text/plain": [
       "\"H 'gata' tou Nikoy\""
      ]
     },
     "execution_count": 101,
     "metadata": {},
     "output_type": "execute_result"
    }
   ],
   "source": [
    "\"H 'gata' tou Nikoy\""
   ]
  },
  {
   "cell_type": "code",
   "execution_count": 103,
   "id": "b1a987fe",
   "metadata": {},
   "outputs": [
    {
     "data": {
      "text/plain": [
       "\"Nick's cat\""
      ]
     },
     "execution_count": 103,
     "metadata": {},
     "output_type": "execute_result"
    }
   ],
   "source": [
    "\"Nick's cat\""
   ]
  },
  {
   "cell_type": "code",
   "execution_count": 104,
   "id": "47dae692",
   "metadata": {},
   "outputs": [
    {
     "data": {
      "text/plain": [
       "\"Nick's cat\""
      ]
     },
     "execution_count": 104,
     "metadata": {},
     "output_type": "execute_result"
    }
   ],
   "source": [
    "'Nick\\'s cat'"
   ]
  },
  {
   "cell_type": "code",
   "execution_count": 105,
   "id": "576d3d3b",
   "metadata": {},
   "outputs": [
    {
     "data": {
      "text/plain": [
       "'asdfdfasdfasd νηγδδ φγηδ φγηδ γη δγφ 😋😋😋😋😋😋😋'"
      ]
     },
     "execution_count": 105,
     "metadata": {},
     "output_type": "execute_result"
    }
   ],
   "source": [
    "'asdfdfasdfasd νηγδδ φγηδ φγηδ γη δγφ 😋😋😋😋😋😋😋'"
   ]
  },
  {
   "cell_type": "code",
   "execution_count": 106,
   "id": "57823933",
   "metadata": {},
   "outputs": [
    {
     "ename": "SyntaxError",
     "evalue": "invalid character '😋' (U+1F60B) (3540826540.py, line 1)",
     "output_type": "error",
     "traceback": [
      "\u001b[1;36m  Input \u001b[1;32mIn [106]\u001b[1;36m\u001b[0m\n\u001b[1;33m    😋 = 'asdfasdf'\u001b[0m\n\u001b[1;37m    ^\u001b[0m\n\u001b[1;31mSyntaxError\u001b[0m\u001b[1;31m:\u001b[0m invalid character '😋' (U+1F60B)\n"
     ]
    }
   ],
   "source": [
    "😋 = 'asdfasdf'"
   ]
  },
  {
   "cell_type": "code",
   "execution_count": 107,
   "id": "d2b02828",
   "metadata": {},
   "outputs": [],
   "source": [
    "φανταστική_μεταβλητή = 'asdfasdf'"
   ]
  },
  {
   "cell_type": "code",
   "execution_count": 109,
   "id": "1a956c7c",
   "metadata": {},
   "outputs": [
    {
     "data": {
      "text/plain": [
       "'asdfasdfsfgs'"
      ]
     },
     "execution_count": 109,
     "metadata": {},
     "output_type": "execute_result"
    }
   ],
   "source": [
    "φανταστική_μεταβλητή + 'sfgs'"
   ]
  },
  {
   "cell_type": "code",
   "execution_count": 110,
   "id": "ba9d9e9e",
   "metadata": {},
   "outputs": [
    {
     "data": {
      "text/plain": [
       "5"
      ]
     },
     "execution_count": 110,
     "metadata": {},
     "output_type": "execute_result"
    }
   ],
   "source": [
    "'sdfgsdfgsdfgssdfg'.count('s')"
   ]
  },
  {
   "cell_type": "code",
   "execution_count": 111,
   "id": "522cfb08",
   "metadata": {},
   "outputs": [
    {
     "data": {
      "text/plain": [
       "2"
      ]
     },
     "execution_count": 111,
     "metadata": {},
     "output_type": "execute_result"
    }
   ],
   "source": [
    "'adfasdfadf'.count('ad')"
   ]
  },
  {
   "cell_type": "code",
   "execution_count": 112,
   "id": "8122d15d",
   "metadata": {},
   "outputs": [
    {
     "data": {
      "text/plain": [
       "9"
      ]
     },
     "execution_count": 112,
     "metadata": {},
     "output_type": "execute_result"
    }
   ],
   "source": [
    "len('dfasdfadf')"
   ]
  },
  {
   "cell_type": "code",
   "execution_count": 114,
   "id": "edc05963",
   "metadata": {},
   "outputs": [
    {
     "data": {
      "text/plain": [
       "3"
      ]
     },
     "execution_count": 114,
     "metadata": {},
     "output_type": "execute_result"
    }
   ],
   "source": [
    "'alexandros'.index('x')"
   ]
  },
  {
   "cell_type": "code",
   "execution_count": 113,
   "id": "5be29273",
   "metadata": {},
   "outputs": [
    {
     "data": {
      "text/plain": [
       "'rafail'"
      ]
     },
     "execution_count": 113,
     "metadata": {},
     "output_type": "execute_result"
    }
   ],
   "source": [
    "g()"
   ]
  },
  {
   "cell_type": "code",
   "execution_count": 115,
   "id": "bcc5da99",
   "metadata": {},
   "outputs": [
    {
     "data": {
      "text/plain": [
       "2"
      ]
     },
     "execution_count": 115,
     "metadata": {},
     "output_type": "execute_result"
    }
   ],
   "source": [
    "'xxxx'.count('xx')"
   ]
  },
  {
   "cell_type": "code",
   "execution_count": 116,
   "id": "a692397c",
   "metadata": {},
   "outputs": [
    {
     "data": {
      "text/plain": [
       "0"
      ]
     },
     "execution_count": 116,
     "metadata": {},
     "output_type": "execute_result"
    }
   ],
   "source": [
    "'xxxx'.count('dfghd')"
   ]
  },
  {
   "cell_type": "code",
   "execution_count": 117,
   "id": "dcba5068",
   "metadata": {},
   "outputs": [
    {
     "ename": "ValueError",
     "evalue": "substring not found",
     "output_type": "error",
     "traceback": [
      "\u001b[1;31m---------------------------------------------------------------------------\u001b[0m",
      "\u001b[1;31mValueError\u001b[0m                                Traceback (most recent call last)",
      "Input \u001b[1;32mIn [117]\u001b[0m, in \u001b[0;36m<cell line: 1>\u001b[1;34m()\u001b[0m\n\u001b[1;32m----> 1\u001b[0m \u001b[38;5;124;43m'\u001b[39;49m\u001b[38;5;124;43mxxxx\u001b[39;49m\u001b[38;5;124;43m'\u001b[39;49m\u001b[38;5;241;43m.\u001b[39;49m\u001b[43mindex\u001b[49m\u001b[43m(\u001b[49m\u001b[38;5;124;43m'\u001b[39;49m\u001b[38;5;124;43mdfghd\u001b[39;49m\u001b[38;5;124;43m'\u001b[39;49m\u001b[43m)\u001b[49m\n",
      "\u001b[1;31mValueError\u001b[0m: substring not found"
     ]
    }
   ],
   "source": [
    "'xxxx'.index('dfghd')"
   ]
  },
  {
   "cell_type": "code",
   "execution_count": 118,
   "id": "a1ab3e42",
   "metadata": {},
   "outputs": [
    {
     "data": {
      "text/plain": [
       "-1"
      ]
     },
     "execution_count": 118,
     "metadata": {},
     "output_type": "execute_result"
    }
   ],
   "source": [
    "'afgsadgsdfgs'.find('ttt')"
   ]
  },
  {
   "cell_type": "code",
   "execution_count": 119,
   "id": "73b3dc89",
   "metadata": {},
   "outputs": [
    {
     "data": {
      "text/plain": [
       "1"
      ]
     },
     "execution_count": 119,
     "metadata": {},
     "output_type": "execute_result"
    }
   ],
   "source": [
    "'afgsadgsdfgs'.find('f')"
   ]
  },
  {
   "cell_type": "code",
   "execution_count": 120,
   "id": "18e1bd7e",
   "metadata": {},
   "outputs": [
    {
     "data": {
      "text/plain": [
       "1"
      ]
     },
     "execution_count": 120,
     "metadata": {},
     "output_type": "execute_result"
    }
   ],
   "source": [
    "'abcbcbcbc'.index('b')"
   ]
  },
  {
   "cell_type": "code",
   "execution_count": 121,
   "id": "cb8adb6e",
   "metadata": {},
   "outputs": [
    {
     "data": {
      "text/plain": [
       "'abcdef'"
      ]
     },
     "execution_count": 121,
     "metadata": {},
     "output_type": "execute_result"
    }
   ],
   "source": [
    "'abc'  'def'"
   ]
  },
  {
   "cell_type": "code",
   "execution_count": 123,
   "id": "a709adfa",
   "metadata": {},
   "outputs": [
    {
     "data": {
      "text/plain": [
       "('a', 'bc')"
      ]
     },
     "execution_count": 123,
     "metadata": {},
     "output_type": "execute_result"
    }
   ],
   "source": [
    "'a', 'b' 'c'"
   ]
  },
  {
   "cell_type": "code",
   "execution_count": 124,
   "id": "7ce51647",
   "metadata": {},
   "outputs": [],
   "source": [
    "\n",
    "a = 7\n"
   ]
  },
  {
   "cell_type": "code",
   "execution_count": 125,
   "id": "d865d6c7",
   "metadata": {},
   "outputs": [
    {
     "name": "stdout",
     "output_type": "stream",
     "text": [
      "7\n"
     ]
    }
   ],
   "source": [
    "print (a)"
   ]
  },
  {
   "cell_type": "code",
   "execution_count": 126,
   "id": "da0981b3",
   "metadata": {},
   "outputs": [
    {
     "name": "stdout",
     "output_type": "stream",
     "text": [
      "15\n"
     ]
    }
   ],
   "source": [
    "a=7\n",
    "b = 8\n",
    "\n",
    "print (a+b)"
   ]
  },
  {
   "cell_type": "code",
   "execution_count": 127,
   "id": "65e5f1ba",
   "metadata": {},
   "outputs": [],
   "source": [
    "age = 50"
   ]
  },
  {
   "cell_type": "code",
   "execution_count": 128,
   "id": "5390e640",
   "metadata": {},
   "outputs": [
    {
     "name": "stdout",
     "output_type": "stream",
     "text": [
      "My age is 50\n"
     ]
    }
   ],
   "source": [
    "print ('My age is', age)"
   ]
  },
  {
   "cell_type": "code",
   "execution_count": 131,
   "id": "890852c5",
   "metadata": {},
   "outputs": [
    {
     "name": "stdout",
     "output_type": "stream",
     "text": [
      "My age is 50\n"
     ]
    }
   ],
   "source": [
    "print ('My age is ' + str(age))"
   ]
  },
  {
   "cell_type": "code",
   "execution_count": 132,
   "id": "126a29ce",
   "metadata": {},
   "outputs": [
    {
     "name": "stdout",
     "output_type": "stream",
     "text": [
      "My age is 50\n"
     ]
    }
   ],
   "source": [
    "print ('My age is %s' % age)"
   ]
  },
  {
   "cell_type": "code",
   "execution_count": 135,
   "id": "28ddeb7a",
   "metadata": {},
   "outputs": [
    {
     "name": "stdout",
     "output_type": "stream",
     "text": [
      "My age is 50\n"
     ]
    }
   ],
   "source": [
    "print ('My age is {0}'.format(age))"
   ]
  },
  {
   "cell_type": "code",
   "execution_count": 136,
   "id": "b712ed80",
   "metadata": {},
   "outputs": [
    {
     "name": "stdout",
     "output_type": "stream",
     "text": [
      "My age is 50\n"
     ]
    }
   ],
   "source": [
    "print (f'My age is {age}')"
   ]
  },
  {
   "cell_type": "code",
   "execution_count": 139,
   "id": "fa02d09d",
   "metadata": {},
   "outputs": [
    {
     "data": {
      "text/plain": [
       "'gfdhf 50 ghfghf'"
      ]
     },
     "execution_count": 139,
     "metadata": {},
     "output_type": "execute_result"
    }
   ],
   "source": [
    "f'gfdhf {age} ghfghf'"
   ]
  },
  {
   "cell_type": "code",
   "execution_count": 140,
   "id": "6400a777",
   "metadata": {},
   "outputs": [],
   "source": [
    "a=2529853498673948562398563985623984562938475623984756293847562938745629384765"
   ]
  },
  {
   "cell_type": "code",
   "execution_count": 141,
   "id": "ccfd1b28",
   "metadata": {},
   "outputs": [
    {
     "data": {
      "text/plain": [
       "2529853498673948562398563985623984562938475623984756293847562938745629384765"
      ]
     },
     "execution_count": 141,
     "metadata": {},
     "output_type": "execute_result"
    }
   ],
   "source": [
    "a"
   ]
  },
  {
   "cell_type": "code",
   "execution_count": 144,
   "id": "1b2729f9",
   "metadata": {},
   "outputs": [
    {
     "name": "stdout",
     "output_type": "stream",
     "text": [
      "85349691878828774596821872557827202933446873216362890052053867262090843537661537867197058700970058601461194548823137984673121405399480355897151108565704949045567422464\n"
     ]
    }
   ],
   "source": [
    "print (34**109)"
   ]
  },
  {
   "cell_type": "code",
   "execution_count": 145,
   "id": "910c8b8d",
   "metadata": {},
   "outputs": [
    {
     "data": {
      "text/plain": [
       "1.3452345231223457"
      ]
     },
     "execution_count": 145,
     "metadata": {},
     "output_type": "execute_result"
    }
   ],
   "source": [
    "1.345234523122345624523452345"
   ]
  },
  {
   "cell_type": "code",
   "execution_count": 146,
   "id": "45024814",
   "metadata": {},
   "outputs": [],
   "source": [
    "a = 1/3"
   ]
  },
  {
   "cell_type": "code",
   "execution_count": 147,
   "id": "b494e561",
   "metadata": {},
   "outputs": [
    {
     "data": {
      "text/plain": [
       "0.3333333333333333"
      ]
     },
     "execution_count": 147,
     "metadata": {},
     "output_type": "execute_result"
    }
   ],
   "source": [
    "a"
   ]
  },
  {
   "cell_type": "code",
   "execution_count": 148,
   "id": "da12bfac",
   "metadata": {},
   "outputs": [
    {
     "data": {
      "text/plain": [
       "1.0"
      ]
     },
     "execution_count": 148,
     "metadata": {},
     "output_type": "execute_result"
    }
   ],
   "source": [
    "a*3"
   ]
  },
  {
   "cell_type": "code",
   "execution_count": 149,
   "id": "e472141e",
   "metadata": {},
   "outputs": [],
   "source": [
    "b=3"
   ]
  },
  {
   "cell_type": "code",
   "execution_count": 150,
   "id": "06b6d614",
   "metadata": {},
   "outputs": [
    {
     "data": {
      "text/plain": [
       "1.0"
      ]
     },
     "execution_count": 150,
     "metadata": {},
     "output_type": "execute_result"
    }
   ],
   "source": [
    "1/b + 1/b + 1/b"
   ]
  },
  {
   "cell_type": "code",
   "execution_count": 151,
   "id": "2252a109",
   "metadata": {},
   "outputs": [
    {
     "data": {
      "text/plain": [
       "0.3333333333333333"
      ]
     },
     "execution_count": 151,
     "metadata": {},
     "output_type": "execute_result"
    }
   ],
   "source": [
    "a"
   ]
  },
  {
   "cell_type": "code",
   "execution_count": 158,
   "id": "e8c130da",
   "metadata": {},
   "outputs": [
    {
     "name": "stdout",
     "output_type": "stream",
     "text": [
      "the value is 0.1428571428571428492126926812488818541169166564941406250000000000000000000000000000000000000000000000\n"
     ]
    }
   ],
   "source": [
    "print (f'the value is {1/7:.100f}') # Decimal('0.1428571428571428571428571429')"
   ]
  },
  {
   "cell_type": "code",
   "execution_count": 157,
   "id": "2d9a1aed",
   "metadata": {},
   "outputs": [],
   "source": [
    "import decimal"
   ]
  },
  {
   "cell_type": "code",
   "execution_count": 130,
   "id": "e237594c",
   "metadata": {},
   "outputs": [
    {
     "data": {
      "text/plain": [
       "'45356'"
      ]
     },
     "execution_count": 130,
     "metadata": {},
     "output_type": "execute_result"
    }
   ],
   "source": [
    "str(45356)"
   ]
  },
  {
   "cell_type": "code",
   "execution_count": 159,
   "id": "d22cfb37",
   "metadata": {},
   "outputs": [],
   "source": [
    "a=3\n",
    "b=5\n",
    "c =        8"
   ]
  },
  {
   "cell_type": "code",
   "execution_count": 160,
   "id": "a02171ef",
   "metadata": {},
   "outputs": [
    {
     "ename": "IndentationError",
     "evalue": "unexpected indent (999004443.py, line 2)",
     "output_type": "error",
     "traceback": [
      "\u001b[1;36m  Input \u001b[1;32mIn [160]\u001b[1;36m\u001b[0m\n\u001b[1;33m    b = 3\u001b[0m\n\u001b[1;37m    ^\u001b[0m\n\u001b[1;31mIndentationError\u001b[0m\u001b[1;31m:\u001b[0m unexpected indent\n"
     ]
    }
   ],
   "source": [
    "a=3\n",
    " b = 3"
   ]
  },
  {
   "cell_type": "code",
   "execution_count": 161,
   "id": "4ad7ba81",
   "metadata": {},
   "outputs": [
    {
     "data": {
      "text/plain": [
       "'SDFGDFGD'"
      ]
     },
     "execution_count": 161,
     "metadata": {},
     "output_type": "execute_result"
    }
   ],
   "source": [
    "'sdfgdfgd'.upper()"
   ]
  },
  {
   "cell_type": "code",
   "execution_count": 162,
   "id": "33cb0f50",
   "metadata": {},
   "outputs": [
    {
     "data": {
      "text/plain": [
       "'dasdfdfasdfasdfadsfasfd'"
      ]
     },
     "execution_count": 162,
     "metadata": {},
     "output_type": "execute_result"
    }
   ],
   "source": [
    "'dASDFDfAsdfaSDfadsfasfd'.lower()"
   ]
  },
  {
   "cell_type": "code",
   "execution_count": 163,
   "id": "c3b5d77c",
   "metadata": {},
   "outputs": [
    {
     "data": {
      "text/plain": [
       "'OlexOndros'"
      ]
     },
     "execution_count": 163,
     "metadata": {},
     "output_type": "execute_result"
    }
   ],
   "source": [
    "'alexandros'.replace('a', 'O')"
   ]
  },
  {
   "cell_type": "code",
   "execution_count": 164,
   "id": "bb3aac71",
   "metadata": {},
   "outputs": [
    {
     "data": {
      "text/plain": [
       "'Oxandros'"
      ]
     },
     "execution_count": 164,
     "metadata": {},
     "output_type": "execute_result"
    }
   ],
   "source": [
    "'alexandros'.replace('ale', 'O')"
   ]
  },
  {
   "cell_type": "markdown",
   "id": "4f0a8ede",
   "metadata": {},
   "source": [
    "## Indexing !\n",
    "\n",
    "* item 1\n",
    "* item **2**\n",
    "\n",
    "this is a [link](https://www.dfadfa.com)\n"
   ]
  },
  {
   "cell_type": "code",
   "execution_count": 165,
   "id": "01894391",
   "metadata": {},
   "outputs": [
    {
     "data": {
      "text/plain": [
       "3"
      ]
     },
     "execution_count": 165,
     "metadata": {},
     "output_type": "execute_result"
    }
   ],
   "source": [
    "'Alexandros'.index('x')"
   ]
  },
  {
   "cell_type": "code",
   "execution_count": 166,
   "id": "1db03465",
   "metadata": {},
   "outputs": [
    {
     "data": {
      "text/plain": [
       "'x'"
      ]
     },
     "execution_count": 166,
     "metadata": {},
     "output_type": "execute_result"
    }
   ],
   "source": [
    "'Alexandros'[3]"
   ]
  },
  {
   "cell_type": "code",
   "execution_count": 167,
   "id": "ec2c0437",
   "metadata": {},
   "outputs": [
    {
     "data": {
      "text/plain": [
       "'A'"
      ]
     },
     "execution_count": 167,
     "metadata": {},
     "output_type": "execute_result"
    }
   ],
   "source": [
    "'Alexandros'[0]"
   ]
  },
  {
   "cell_type": "code",
   "execution_count": 168,
   "id": "5763d8e8",
   "metadata": {},
   "outputs": [
    {
     "ename": "IndexError",
     "evalue": "string index out of range",
     "output_type": "error",
     "traceback": [
      "\u001b[1;31m---------------------------------------------------------------------------\u001b[0m",
      "\u001b[1;31mIndexError\u001b[0m                                Traceback (most recent call last)",
      "Input \u001b[1;32mIn [168]\u001b[0m, in \u001b[0;36m<cell line: 1>\u001b[1;34m()\u001b[0m\n\u001b[1;32m----> 1\u001b[0m \u001b[38;5;124;43m'\u001b[39;49m\u001b[38;5;124;43mAlexandros\u001b[39;49m\u001b[38;5;124;43m'\u001b[39;49m\u001b[43m[\u001b[49m\u001b[38;5;241;43m100\u001b[39;49m\u001b[43m]\u001b[49m\n",
      "\u001b[1;31mIndexError\u001b[0m: string index out of range"
     ]
    }
   ],
   "source": [
    "'Alexandros'[100]"
   ]
  },
  {
   "cell_type": "code",
   "execution_count": 174,
   "id": "7dda744e",
   "metadata": {},
   "outputs": [
    {
     "data": {
      "text/plain": [
       "'xan'"
      ]
     },
     "execution_count": 174,
     "metadata": {},
     "output_type": "execute_result"
    }
   ],
   "source": [
    "'Alexandros'[3:6]"
   ]
  },
  {
   "cell_type": "code",
   "execution_count": 176,
   "id": "c0de1edc",
   "metadata": {},
   "outputs": [
    {
     "data": {
      "text/plain": [
       "'xandros'"
      ]
     },
     "execution_count": 176,
     "metadata": {},
     "output_type": "execute_result"
    }
   ],
   "source": [
    "'Alexandros'[3:100]"
   ]
  },
  {
   "cell_type": "code",
   "execution_count": 179,
   "id": "101df5fe",
   "metadata": {},
   "outputs": [
    {
     "data": {
      "text/plain": [
       "'xandros'"
      ]
     },
     "execution_count": 179,
     "metadata": {},
     "output_type": "execute_result"
    }
   ],
   "source": [
    "'Alexandros'[3:]"
   ]
  },
  {
   "cell_type": "code",
   "execution_count": 181,
   "id": "4e3671e7",
   "metadata": {},
   "outputs": [
    {
     "data": {
      "text/plain": [
       "'Alexa'"
      ]
     },
     "execution_count": 181,
     "metadata": {},
     "output_type": "execute_result"
    }
   ],
   "source": [
    "'Alexandros'[0:5]"
   ]
  },
  {
   "cell_type": "code",
   "execution_count": 183,
   "id": "1db3c429",
   "metadata": {},
   "outputs": [
    {
     "data": {
      "text/plain": [
       "'Alexa'"
      ]
     },
     "execution_count": 183,
     "metadata": {},
     "output_type": "execute_result"
    }
   ],
   "source": [
    "'Alexandros'[:5]"
   ]
  },
  {
   "cell_type": "code",
   "execution_count": 190,
   "id": "63cd2ebf",
   "metadata": {},
   "outputs": [
    {
     "data": {
      "text/plain": [
       "'r'"
      ]
     },
     "execution_count": 190,
     "metadata": {},
     "output_type": "execute_result"
    }
   ],
   "source": [
    "'Alexandros'[-3]"
   ]
  },
  {
   "cell_type": "code",
   "execution_count": 192,
   "id": "53fbf2c4",
   "metadata": {},
   "outputs": [
    {
     "data": {
      "text/plain": [
       "'ndro'"
      ]
     },
     "execution_count": 192,
     "metadata": {},
     "output_type": "execute_result"
    }
   ],
   "source": [
    "'Alexandros'[5:-1]"
   ]
  },
  {
   "cell_type": "code",
   "execution_count": 193,
   "id": "431da335",
   "metadata": {},
   "outputs": [
    {
     "data": {
      "text/plain": [
       "-1"
      ]
     },
     "execution_count": 193,
     "metadata": {},
     "output_type": "execute_result"
    }
   ],
   "source": [
    "-1//2"
   ]
  },
  {
   "cell_type": "code",
   "execution_count": 194,
   "id": "3b155ce0",
   "metadata": {},
   "outputs": [
    {
     "data": {
      "text/plain": [
       "-1"
      ]
     },
     "execution_count": 194,
     "metadata": {},
     "output_type": "execute_result"
    }
   ],
   "source": [
    "-1//3"
   ]
  },
  {
   "cell_type": "code",
   "execution_count": 196,
   "id": "b5e16d9b",
   "metadata": {},
   "outputs": [
    {
     "data": {
      "text/plain": [
       "0"
      ]
     },
     "execution_count": 196,
     "metadata": {},
     "output_type": "execute_result"
    }
   ],
   "source": [
    "1//3"
   ]
  },
  {
   "cell_type": "code",
   "execution_count": 197,
   "id": "8e3e67f9",
   "metadata": {},
   "outputs": [
    {
     "data": {
      "text/plain": [
       "0"
      ]
     },
     "execution_count": 197,
     "metadata": {},
     "output_type": "execute_result"
    }
   ],
   "source": [
    "-(1//3)"
   ]
  },
  {
   "cell_type": "code",
   "execution_count": null,
   "id": "112170fe",
   "metadata": {},
   "outputs": [],
   "source": []
  },
  {
   "cell_type": "code",
   "execution_count": 191,
   "id": "d6506bbb",
   "metadata": {},
   "outputs": [
    {
     "data": {
      "text/plain": [
       "'elena'"
      ]
     },
     "execution_count": 191,
     "metadata": {},
     "output_type": "execute_result"
    }
   ],
   "source": [
    "g()"
   ]
  },
  {
   "cell_type": "code",
   "execution_count": null,
   "id": "7a0304b1",
   "metadata": {},
   "outputs": [],
   "source": []
  },
  {
   "cell_type": "code",
   "execution_count": 187,
   "id": "43b7b49f",
   "metadata": {},
   "outputs": [
    {
     "data": {
      "text/plain": [
       "'agaph'"
      ]
     },
     "execution_count": 187,
     "metadata": {},
     "output_type": "execute_result"
    }
   ],
   "source": [
    "g()"
   ]
  },
  {
   "cell_type": "code",
   "execution_count": null,
   "id": "c06c7415",
   "metadata": {},
   "outputs": [],
   "source": []
  },
  {
   "cell_type": "code",
   "execution_count": 175,
   "id": "432726ae",
   "metadata": {},
   "outputs": [
    {
     "data": {
      "text/plain": [
       "'olympia'"
      ]
     },
     "execution_count": 175,
     "metadata": {},
     "output_type": "execute_result"
    }
   ],
   "source": [
    "g()"
   ]
  },
  {
   "cell_type": "code",
   "execution_count": 172,
   "id": "98903c14",
   "metadata": {},
   "outputs": [
    {
     "data": {
      "text/plain": [
       "'aggelos'"
      ]
     },
     "execution_count": 172,
     "metadata": {},
     "output_type": "execute_result"
    }
   ],
   "source": []
  },
  {
   "cell_type": "code",
   "execution_count": 198,
   "id": "449dbc53",
   "metadata": {},
   "outputs": [],
   "source": [
    "a = 5"
   ]
  },
  {
   "cell_type": "code",
   "execution_count": 199,
   "id": "49e2e0b4",
   "metadata": {},
   "outputs": [
    {
     "data": {
      "text/plain": [
       "'andreas'"
      ]
     },
     "execution_count": 199,
     "metadata": {},
     "output_type": "execute_result"
    }
   ],
   "source": [
    "g()"
   ]
  },
  {
   "cell_type": "code",
   "execution_count": 200,
   "id": "4756bd50",
   "metadata": {},
   "outputs": [
    {
     "name": "stdout",
     "output_type": "stream",
     "text": [
      "6\n"
     ]
    }
   ],
   "source": [
    "a = a + 1\n",
    "print (a)"
   ]
  },
  {
   "cell_type": "code",
   "execution_count": 201,
   "id": "221440cc",
   "metadata": {},
   "outputs": [],
   "source": [
    "a = 5 + 1"
   ]
  },
  {
   "cell_type": "code",
   "execution_count": 202,
   "id": "1c184029",
   "metadata": {},
   "outputs": [],
   "source": [
    "a = a + 1"
   ]
  },
  {
   "cell_type": "code",
   "execution_count": 204,
   "id": "b9460c73",
   "metadata": {},
   "outputs": [
    {
     "name": "stdout",
     "output_type": "stream",
     "text": [
      "3\n"
     ]
    }
   ],
   "source": [
    "a=0\n",
    "\n",
    "a = a + 1\n",
    "a = a + 1\n",
    "a = a + 1\n",
    "\n",
    "print (a)"
   ]
  },
  {
   "cell_type": "code",
   "execution_count": 206,
   "id": "cc0c7929",
   "metadata": {},
   "outputs": [
    {
     "name": "stdout",
     "output_type": "stream",
     "text": [
      "3\n"
     ]
    }
   ],
   "source": [
    "a=0\n",
    "\n",
    "a +=1\n",
    "a +=1 \n",
    "a +=1 \n",
    "\n",
    "print (a)"
   ]
  },
  {
   "cell_type": "code",
   "execution_count": 207,
   "id": "99e38232",
   "metadata": {},
   "outputs": [
    {
     "name": "stdout",
     "output_type": "stream",
     "text": [
      "-3\n"
     ]
    }
   ],
   "source": [
    "a=0\n",
    "\n",
    "a -=1\n",
    "a -=1 \n",
    "a -=1 \n",
    "\n",
    "print (a)"
   ]
  },
  {
   "cell_type": "code",
   "execution_count": 208,
   "id": "fb0bc398",
   "metadata": {},
   "outputs": [
    {
     "name": "stdout",
     "output_type": "stream",
     "text": [
      "250\n"
     ]
    }
   ],
   "source": [
    "a=2\n",
    "\n",
    "a *=5\n",
    "a *=5 \n",
    "a *=5 \n",
    "\n",
    "print (a)"
   ]
  },
  {
   "cell_type": "code",
   "execution_count": 211,
   "id": "2329c204",
   "metadata": {},
   "outputs": [
    {
     "data": {
      "text/plain": [
       "2"
      ]
     },
     "execution_count": 211,
     "metadata": {},
     "output_type": "execute_result"
    }
   ],
   "source": [
    "True + 1"
   ]
  },
  {
   "cell_type": "code",
   "execution_count": 214,
   "id": "820316ec",
   "metadata": {},
   "outputs": [
    {
     "data": {
      "text/plain": [
       "0"
      ]
     },
     "execution_count": 214,
     "metadata": {},
     "output_type": "execute_result"
    }
   ],
   "source": [
    "False * 10"
   ]
  },
  {
   "cell_type": "code",
   "execution_count": 217,
   "id": "ad7e16df",
   "metadata": {},
   "outputs": [
    {
     "data": {
      "text/plain": [
       "False"
      ]
     },
     "execution_count": 217,
     "metadata": {},
     "output_type": "execute_result"
    }
   ],
   "source": [
    "3 > 5"
   ]
  },
  {
   "cell_type": "code",
   "execution_count": 219,
   "id": "85e454c6",
   "metadata": {},
   "outputs": [
    {
     "data": {
      "text/plain": [
       "True"
      ]
     },
     "execution_count": 219,
     "metadata": {},
     "output_type": "execute_result"
    }
   ],
   "source": [
    "10 <= 10"
   ]
  },
  {
   "cell_type": "code",
   "execution_count": 222,
   "id": "f717e0b5",
   "metadata": {},
   "outputs": [
    {
     "data": {
      "text/plain": [
       "False"
      ]
     },
     "execution_count": 222,
     "metadata": {},
     "output_type": "execute_result"
    }
   ],
   "source": [
    "11 >= 12"
   ]
  },
  {
   "cell_type": "code",
   "execution_count": 226,
   "id": "4957054d",
   "metadata": {},
   "outputs": [
    {
     "data": {
      "text/plain": [
       "True"
      ]
     },
     "execution_count": 226,
     "metadata": {},
     "output_type": "execute_result"
    }
   ],
   "source": [
    "3<5<8"
   ]
  },
  {
   "cell_type": "code",
   "execution_count": 227,
   "id": "f550e1b1",
   "metadata": {},
   "outputs": [
    {
     "data": {
      "text/plain": [
       "2"
      ]
     },
     "execution_count": 227,
     "metadata": {},
     "output_type": "execute_result"
    }
   ],
   "source": [
    "True+ True"
   ]
  },
  {
   "cell_type": "code",
   "execution_count": 228,
   "id": "9bec9392",
   "metadata": {},
   "outputs": [
    {
     "data": {
      "text/plain": [
       "True"
      ]
     },
     "execution_count": 228,
     "metadata": {},
     "output_type": "execute_result"
    }
   ],
   "source": [
    "True and True"
   ]
  },
  {
   "cell_type": "code",
   "execution_count": 229,
   "id": "87116bc7",
   "metadata": {},
   "outputs": [
    {
     "data": {
      "text/plain": [
       "False"
      ]
     },
     "execution_count": 229,
     "metadata": {},
     "output_type": "execute_result"
    }
   ],
   "source": [
    "False and True"
   ]
  },
  {
   "cell_type": "code",
   "execution_count": 230,
   "id": "28193591",
   "metadata": {},
   "outputs": [
    {
     "data": {
      "text/plain": [
       "False"
      ]
     },
     "execution_count": 230,
     "metadata": {},
     "output_type": "execute_result"
    }
   ],
   "source": [
    "True and False"
   ]
  },
  {
   "cell_type": "code",
   "execution_count": 231,
   "id": "bf3c866d",
   "metadata": {},
   "outputs": [
    {
     "data": {
      "text/plain": [
       "False"
      ]
     },
     "execution_count": 231,
     "metadata": {},
     "output_type": "execute_result"
    }
   ],
   "source": [
    "False and False"
   ]
  },
  {
   "cell_type": "code",
   "execution_count": 232,
   "id": "fa543b8b",
   "metadata": {},
   "outputs": [
    {
     "data": {
      "text/plain": [
       "True"
      ]
     },
     "execution_count": 232,
     "metadata": {},
     "output_type": "execute_result"
    }
   ],
   "source": [
    "True or True"
   ]
  },
  {
   "cell_type": "code",
   "execution_count": 233,
   "id": "3dff09d2",
   "metadata": {},
   "outputs": [
    {
     "data": {
      "text/plain": [
       "True"
      ]
     },
     "execution_count": 233,
     "metadata": {},
     "output_type": "execute_result"
    }
   ],
   "source": [
    "False or True"
   ]
  },
  {
   "cell_type": "code",
   "execution_count": 234,
   "id": "08470e09",
   "metadata": {},
   "outputs": [
    {
     "data": {
      "text/plain": [
       "True"
      ]
     },
     "execution_count": 234,
     "metadata": {},
     "output_type": "execute_result"
    }
   ],
   "source": [
    "True or False"
   ]
  },
  {
   "cell_type": "code",
   "execution_count": 235,
   "id": "a66f6afa",
   "metadata": {},
   "outputs": [
    {
     "data": {
      "text/plain": [
       "False"
      ]
     },
     "execution_count": 235,
     "metadata": {},
     "output_type": "execute_result"
    }
   ],
   "source": [
    "False or False"
   ]
  },
  {
   "cell_type": "code",
   "execution_count": 236,
   "id": "d9260128",
   "metadata": {},
   "outputs": [
    {
     "data": {
      "text/plain": [
       "3"
      ]
     },
     "execution_count": 236,
     "metadata": {},
     "output_type": "execute_result"
    }
   ],
   "source": [
    "5 and 3"
   ]
  },
  {
   "cell_type": "code",
   "execution_count": 237,
   "id": "4065dad7",
   "metadata": {},
   "outputs": [
    {
     "data": {
      "text/plain": [
       "5"
      ]
     },
     "execution_count": 237,
     "metadata": {},
     "output_type": "execute_result"
    }
   ],
   "source": [
    "5 or 3"
   ]
  },
  {
   "cell_type": "code",
   "execution_count": 238,
   "id": "8aad4f17",
   "metadata": {},
   "outputs": [
    {
     "data": {
      "text/plain": [
       "True"
      ]
     },
     "execution_count": 238,
     "metadata": {},
     "output_type": "execute_result"
    }
   ],
   "source": [
    "bool('alexandros')"
   ]
  },
  {
   "cell_type": "code",
   "execution_count": 239,
   "id": "6b8c55a8",
   "metadata": {},
   "outputs": [
    {
     "data": {
      "text/plain": [
       "False"
      ]
     },
     "execution_count": 239,
     "metadata": {},
     "output_type": "execute_result"
    }
   ],
   "source": [
    "bool('')"
   ]
  },
  {
   "cell_type": "code",
   "execution_count": 240,
   "id": "45cda6fc",
   "metadata": {},
   "outputs": [
    {
     "data": {
      "text/plain": [
       "True"
      ]
     },
     "execution_count": 240,
     "metadata": {},
     "output_type": "execute_result"
    }
   ],
   "source": [
    "bool(1234)"
   ]
  },
  {
   "cell_type": "code",
   "execution_count": 241,
   "id": "004faf39",
   "metadata": {},
   "outputs": [
    {
     "data": {
      "text/plain": [
       "False"
      ]
     },
     "execution_count": 241,
     "metadata": {},
     "output_type": "execute_result"
    }
   ],
   "source": [
    "bool(0)"
   ]
  },
  {
   "cell_type": "code",
   "execution_count": 242,
   "id": "ebda5271",
   "metadata": {},
   "outputs": [
    {
     "data": {
      "text/plain": [
       "True"
      ]
     },
     "execution_count": 242,
     "metadata": {},
     "output_type": "execute_result"
    }
   ],
   "source": [
    "bool(11234.1341)"
   ]
  },
  {
   "cell_type": "code",
   "execution_count": 243,
   "id": "1fe7f117",
   "metadata": {},
   "outputs": [
    {
     "data": {
      "text/plain": [
       "False"
      ]
     },
     "execution_count": 243,
     "metadata": {},
     "output_type": "execute_result"
    }
   ],
   "source": [
    "bool(0.0)"
   ]
  },
  {
   "cell_type": "code",
   "execution_count": 244,
   "id": "15b7a61a",
   "metadata": {},
   "outputs": [
    {
     "data": {
      "text/plain": [
       "True"
      ]
     },
     "execution_count": 244,
     "metadata": {},
     "output_type": "execute_result"
    }
   ],
   "source": [
    "bool(0.000000000000000001)"
   ]
  },
  {
   "cell_type": "code",
   "execution_count": 245,
   "id": "86bd0cc4",
   "metadata": {},
   "outputs": [
    {
     "data": {
      "text/plain": [
       "True"
      ]
     },
     "execution_count": 245,
     "metadata": {},
     "output_type": "execute_result"
    }
   ],
   "source": [
    "bool(0.00000000000000000000000000000000000000000000000000000000000000001)"
   ]
  },
  {
   "cell_type": "code",
   "execution_count": 246,
   "id": "5c886581",
   "metadata": {},
   "outputs": [
    {
     "data": {
      "text/plain": [
       "1e-65"
      ]
     },
     "execution_count": 246,
     "metadata": {},
     "output_type": "execute_result"
    }
   ],
   "source": [
    "0.00000000000000000000000000000000000000000000000000000000000000001"
   ]
  },
  {
   "cell_type": "code",
   "execution_count": 247,
   "id": "eb306810",
   "metadata": {},
   "outputs": [
    {
     "data": {
      "text/plain": [
       "5"
      ]
     },
     "execution_count": 247,
     "metadata": {},
     "output_type": "execute_result"
    }
   ],
   "source": [
    "5 or 3"
   ]
  },
  {
   "cell_type": "code",
   "execution_count": 248,
   "id": "02bbada2",
   "metadata": {
    "scrolled": true
   },
   "outputs": [
    {
     "data": {
      "text/plain": [
       "5"
      ]
     },
     "execution_count": 248,
     "metadata": {},
     "output_type": "execute_result"
    }
   ],
   "source": [
    "5 or 1/0"
   ]
  },
  {
   "cell_type": "code",
   "execution_count": 249,
   "id": "de529107",
   "metadata": {},
   "outputs": [
    {
     "data": {
      "text/plain": [
       "5"
      ]
     },
     "execution_count": 249,
     "metadata": {},
     "output_type": "execute_result"
    }
   ],
   "source": [
    "0 or 0 or 5 or 1/0"
   ]
  },
  {
   "cell_type": "code",
   "execution_count": 250,
   "id": "d4f11a6b",
   "metadata": {},
   "outputs": [
    {
     "data": {
      "text/plain": [
       "0"
      ]
     },
     "execution_count": 250,
     "metadata": {},
     "output_type": "execute_result"
    }
   ],
   "source": [
    "5 and 5 and 0 and 1/0"
   ]
  },
  {
   "cell_type": "code",
   "execution_count": 251,
   "id": "54756e49",
   "metadata": {},
   "outputs": [
    {
     "data": {
      "text/plain": [
       "0"
      ]
     },
     "execution_count": 251,
     "metadata": {},
     "output_type": "execute_result"
    }
   ],
   "source": [
    "5 and 5 and 0 and 23452345**2345234523452345"
   ]
  },
  {
   "cell_type": "code",
   "execution_count": 252,
   "id": "96fdc5a6",
   "metadata": {},
   "outputs": [
    {
     "data": {
      "text/plain": [
       "False"
      ]
     },
     "execution_count": 252,
     "metadata": {},
     "output_type": "execute_result"
    }
   ],
   "source": [
    "not True"
   ]
  },
  {
   "cell_type": "code",
   "execution_count": 253,
   "id": "5bd6e8fa",
   "metadata": {},
   "outputs": [
    {
     "data": {
      "text/plain": [
       "True"
      ]
     },
     "execution_count": 253,
     "metadata": {},
     "output_type": "execute_result"
    }
   ],
   "source": [
    "not False"
   ]
  },
  {
   "cell_type": "code",
   "execution_count": 254,
   "id": "8217f4e4",
   "metadata": {},
   "outputs": [
    {
     "data": {
      "text/plain": [
       "False"
      ]
     },
     "execution_count": 254,
     "metadata": {},
     "output_type": "execute_result"
    }
   ],
   "source": [
    "not 5"
   ]
  },
  {
   "cell_type": "code",
   "execution_count": 255,
   "id": "3fc02436",
   "metadata": {},
   "outputs": [
    {
     "data": {
      "text/plain": [
       "False"
      ]
     },
     "execution_count": 255,
     "metadata": {},
     "output_type": "execute_result"
    }
   ],
   "source": [
    "bool(True) ^ bool(True)"
   ]
  },
  {
   "cell_type": "code",
   "execution_count": 256,
   "id": "0a80f456",
   "metadata": {},
   "outputs": [
    {
     "data": {
      "text/plain": [
       "False"
      ]
     },
     "execution_count": 256,
     "metadata": {},
     "output_type": "execute_result"
    }
   ],
   "source": [
    "bool(4) ^ bool(7)"
   ]
  },
  {
   "cell_type": "code",
   "execution_count": 257,
   "id": "073c268d",
   "metadata": {},
   "outputs": [
    {
     "data": {
      "text/plain": [
       "True"
      ]
     },
     "execution_count": 257,
     "metadata": {},
     "output_type": "execute_result"
    }
   ],
   "source": [
    "bool(4) ^ bool(0)"
   ]
  },
  {
   "cell_type": "code",
   "execution_count": 258,
   "id": "3ac3182d",
   "metadata": {},
   "outputs": [
    {
     "data": {
      "text/plain": [
       "False"
      ]
     },
     "execution_count": 258,
     "metadata": {},
     "output_type": "execute_result"
    }
   ],
   "source": [
    "bool(0) ^ bool(0)"
   ]
  },
  {
   "cell_type": "code",
   "execution_count": 224,
   "id": "06a712f6",
   "metadata": {},
   "outputs": [
    {
     "data": {
      "text/plain": [
       "True"
      ]
     },
     "execution_count": 224,
     "metadata": {},
     "output_type": "execute_result"
    }
   ],
   "source": [
    "(3<4)"
   ]
  },
  {
   "cell_type": "code",
   "execution_count": null,
   "id": "423107fc",
   "metadata": {},
   "outputs": [],
   "source": []
  },
  {
   "cell_type": "code",
   "execution_count": null,
   "id": "bb566fa1",
   "metadata": {},
   "outputs": [],
   "source": []
  },
  {
   "cell_type": "code",
   "execution_count": 220,
   "id": "e2a53176",
   "metadata": {},
   "outputs": [
    {
     "data": {
      "text/plain": [
       "'melina'"
      ]
     },
     "execution_count": 220,
     "metadata": {},
     "output_type": "execute_result"
    }
   ],
   "source": [
    "g()"
   ]
  },
  {
   "cell_type": "code",
   "execution_count": null,
   "id": "10e1c77f",
   "metadata": {},
   "outputs": [],
   "source": []
  },
  {
   "cell_type": "code",
   "execution_count": 203,
   "id": "a0636bf7",
   "metadata": {},
   "outputs": [
    {
     "data": {
      "text/plain": [
       "'elena'"
      ]
     },
     "execution_count": 203,
     "metadata": {},
     "output_type": "execute_result"
    }
   ],
   "source": [
    "g()"
   ]
  },
  {
   "cell_type": "code",
   "execution_count": 259,
   "id": "aaf4d1f5",
   "metadata": {},
   "outputs": [
    {
     "data": {
      "text/plain": [
       "6"
      ]
     },
     "execution_count": 259,
     "metadata": {},
     "output_type": "execute_result"
    }
   ],
   "source": [
    "int(6.7)"
   ]
  },
  {
   "cell_type": "code",
   "execution_count": 261,
   "id": "31a2f247",
   "metadata": {},
   "outputs": [
    {
     "data": {
      "text/plain": [
       "6"
      ]
     },
     "execution_count": 261,
     "metadata": {},
     "output_type": "execute_result"
    }
   ],
   "source": [
    "int('6')"
   ]
  },
  {
   "cell_type": "code",
   "execution_count": 262,
   "id": "06e0961b",
   "metadata": {},
   "outputs": [
    {
     "data": {
      "text/plain": [
       "6"
      ]
     },
     "execution_count": 262,
     "metadata": {},
     "output_type": "execute_result"
    }
   ],
   "source": [
    "int(float('6.7'))"
   ]
  },
  {
   "cell_type": "code",
   "execution_count": 263,
   "id": "dea3d2f7",
   "metadata": {},
   "outputs": [
    {
     "data": {
      "text/plain": [
       "6.0"
      ]
     },
     "execution_count": 263,
     "metadata": {},
     "output_type": "execute_result"
    }
   ],
   "source": [
    "float(6)"
   ]
  },
  {
   "cell_type": "code",
   "execution_count": 264,
   "id": "1a2ab9a5",
   "metadata": {},
   "outputs": [
    {
     "data": {
      "text/plain": [
       "7.7"
      ]
     },
     "execution_count": 264,
     "metadata": {},
     "output_type": "execute_result"
    }
   ],
   "source": [
    "float('7.7')"
   ]
  },
  {
   "cell_type": "code",
   "execution_count": 265,
   "id": "52424eb3",
   "metadata": {},
   "outputs": [
    {
     "data": {
      "text/plain": [
       "1.0"
      ]
     },
     "execution_count": 265,
     "metadata": {},
     "output_type": "execute_result"
    }
   ],
   "source": [
    "float(True)"
   ]
  },
  {
   "cell_type": "code",
   "execution_count": 266,
   "id": "77480847",
   "metadata": {},
   "outputs": [
    {
     "data": {
      "text/plain": [
       "'11'"
      ]
     },
     "execution_count": 266,
     "metadata": {},
     "output_type": "execute_result"
    }
   ],
   "source": [
    "str(7+4)"
   ]
  },
  {
   "cell_type": "code",
   "execution_count": 267,
   "id": "7e87124e",
   "metadata": {},
   "outputs": [
    {
     "data": {
      "text/plain": [
       "False"
      ]
     },
     "execution_count": 267,
     "metadata": {},
     "output_type": "execute_result"
    }
   ],
   "source": [
    "bool('')"
   ]
  },
  {
   "cell_type": "code",
   "execution_count": 268,
   "id": "a57d32bb",
   "metadata": {},
   "outputs": [
    {
     "name": "stdout",
     "output_type": "stream",
     "text": [
      "Help on built-in function replace:\n",
      "\n",
      "replace(old, new, count=-1, /) method of builtins.str instance\n",
      "    Return a copy with all occurrences of substring old replaced by new.\n",
      "    \n",
      "      count\n",
      "        Maximum number of occurrences to replace.\n",
      "        -1 (the default value) means replace all occurrences.\n",
      "    \n",
      "    If the optional argument count is given, only the first count occurrences are\n",
      "    replaced.\n",
      "\n"
     ]
    }
   ],
   "source": [
    "help(''.replace)"
   ]
  },
  {
   "cell_type": "code",
   "execution_count": 271,
   "id": "8fe48cfa",
   "metadata": {},
   "outputs": [
    {
     "data": {
      "text/plain": [
       "True"
      ]
     },
     "execution_count": 271,
     "metadata": {},
     "output_type": "execute_result"
    }
   ],
   "source": [
    "bool('ssdgsdfg')"
   ]
  },
  {
   "cell_type": "code",
   "execution_count": 272,
   "id": "72ccb934",
   "metadata": {},
   "outputs": [
    {
     "data": {
      "text/plain": [
       "True"
      ]
     },
     "execution_count": 272,
     "metadata": {},
     "output_type": "execute_result"
    }
   ],
   "source": [
    "bool(' ')"
   ]
  },
  {
   "cell_type": "code",
   "execution_count": null,
   "id": "e4f6fdad",
   "metadata": {},
   "outputs": [],
   "source": []
  }
 ],
 "metadata": {
  "kernelspec": {
   "display_name": "Python 3 (ipykernel)",
   "language": "python",
   "name": "python3"
  },
  "language_info": {
   "codemirror_mode": {
    "name": "ipython",
    "version": 3
   },
   "file_extension": ".py",
   "mimetype": "text/x-python",
   "name": "python",
   "nbconvert_exporter": "python",
   "pygments_lexer": "ipython3",
   "version": "3.9.12"
  }
 },
 "nbformat": 4,
 "nbformat_minor": 5
}
