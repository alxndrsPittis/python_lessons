{
 "cells": [
  {
   "cell_type": "markdown",
   "metadata": {},
   "source": [
    "## Μέρος 1ο Numpy\n",
    "\n",
    "### Άσκηση 1\n",
    "Φτιάξτε μία συνάρτηση όπου παίρνει σαν όρισμα έναν θετικό ακέραιο (n). Επιστρέφει έναν numpy πίνακα της μορφής:\n",
    "\n",
    "```\n",
    "n=1\n",
    "[1]\n",
    "\n",
    "n=2\n",
    "\n",
    "1 1 1\n",
    "1 2 1\n",
    "1 1 1\n",
    "\n",
    "n=3\n",
    "\n",
    "1 1 1 1 1\n",
    "1 2 2 2 1\n",
    "1 2 3 2 1\n",
    "1 2 2 2 2\n",
    "1 1 1 1 1\n",
    "\n",
    "n=4\n",
    "1 1 1 1 1 1 1\n",
    "1 2 2 2 2 2 1\n",
    "1 2 3 3 3 2 1\n",
    "1 2 3 4 3 2 1\n",
    "1 2 3 3 3 2 1\n",
    "1 2 2 2 2 2 1\n",
    "1 1 1 1 1 1 1\n",
    "\n",
    "```\n"
   ]
  },
  {
   "cell_type": "markdown",
   "metadata": {},
   "source": [
    "### Άσκηση 2\n",
    "\n",
    "Λύσετε την άσκηση 17 της σειρά 2 με numpy"
   ]
  },
  {
   "cell_type": "markdown",
   "metadata": {},
   "source": [
    "### Άσκηση 3\n",
    "\n",
    "Στο παιχνίδι \"φιδάκι\" ένας παίκτης ξεκινάει από τη θέση 0 και ρίχνει ένα ζάρι. Στη συνέχεια προχωράει τόσες θέσεις όσο έδειξε το ζάρι σε ένα grid 10 Χ 10. Ο παίκτης ξεκινάει από τη θέση 0 με σκοπό να φτάσει ή να ξεπεράσει τη θέση 100. Σε κάποιες θέσεις υπάρχουν \"φιδάκια\" και σε κάποιες θέσεις \"σκάλες\". Αν ένας παίκτης πέσει σε φιδάκι τότε πάει σε χαμηλότερη θέση. Αν ένας παίκτης φτάσει σε σκάλα, τότε ανεβαίνει σε υψηλότερη θέση. \n",
    "\n",
    "Παρακάτω δίνονται οι θέσεις που βρίσκονται και οι θέσεις που οδηγούν όλα τα φιδάκια:\n",
    "\n",
    "```python\n",
    "snakes = (\n",
    "    (41, 4), (44, 23), (49, 11), (58, 19), (52, 7), (62, 21), (69,31), (73, 1), (84, 13), (92,34), (95,26), (99, 21),\n",
    ")\n",
    "```\n",
    "Για παράδειγμα αν ένας παίκτης πάει στο τετράγωνο 41 τότε θα μεταφερθεί στο τετράγωνο 4.\n",
    "\n",
    "Παρακάτω δίνονται οι θέσεις που βρίσκονται και που φτάνουν όλες οι σκάλες:\n",
    "\n",
    "```python\n",
    "ladders = ((28,36), (60, 84), (63, 85), (57, 75), (51, 91), (66, 88), (78, 82), (76, 94))\n",
    "```\n",
    "Για παράδειγμα αν κάποιος φτάσει στη θέση 28, τότε θα μεταφερθεί στη θέση 36\n",
    "\n",
    "Προσέξτε τι συμβαίνει στη θέση 60!\n",
    "\n",
    "Ποιος είναι ο μέσος όρος από τον αριθμό ζαριών  που πρέπει να ρίξει ένας παίκτης για να τελειώσει το παιχνίδι αν παίξει 1.000.000 γύρους;\n"
   ]
  },
  {
   "cell_type": "markdown",
   "metadata": {},
   "source": [
    "### Άσκηση 4\n",
    "\n",
    "Έστω ένας πίνακας numpy ο οποίος έχει 3 γραμμές και άγνωστο αριθμό από στήλες. Γράψτε **μία εντολή** η οποία υπολογίζει το άθροισμα των στοιχεών της 3ης γραμμής μόνο για τα στοιχεία που ισχύει το εξής: Η στήλη στην οποία βρίσκονται, η 2η γραμμή περιέχει αριθμό μεγαλύτερο από τη 1η. Για παράδειγμα:\n",
    "```\n",
    "array([[0.1230491 , 0.76031307, 0.5964704 , 0.83711418],\n",
    "       [0.94897269, 0.22972344, 0.95787227, 0.55601793],\n",
    "       [0.61116218, 0.06076185, 0.63889176, 0.32201735]])\n",
    "```\n",
    "\n",
    "Από τη 3η γραμμή αθροίζουμε μόνο το 0.61116218 και το 0.63889176. Γιατί στις αντίστοιχες στήλες η 2η γραμμή είναι μεγαλύτερη από τη 1η. Ή αλλιώς: \n",
    "* 1η στήλη: το 0.94897269 > 0.1230491 άρα παίρνουμε το 0.61116218\n",
    "* 2η στήλη: το 0.22972344 ΔΕΝ είναι μεγαλύτερο από το 0.76031307 άρα δεν παίρνουμε το 0.76031307\n",
    "* 3η στήλη: το 0.95787227 > 0.5964704 άρα παίρνουμε το 0.63889176\n",
    "* 3η στήλη: το 0.55601793 ΔΕΝ είναι μεγαλύτερο από το 0.83711418 άρα ΔΕΝ παίρνουμε το 0.32201735.\n",
    "\n",
    "Απάντηση: 1.2500539369028698 \n",
    "\n"
   ]
  },
  {
   "cell_type": "markdown",
   "metadata": {},
   "source": [
    "### Άσκηση 5\n",
    "\n",
    "Τα νέα κρούσματα του κορονοϊού στην Ελλάδα από τις 15 Φεβρουαρίου 2020 μέχρι 13 Δεκεμβρίου 2020 δίνονται σε αυτή τη λίστα:\n",
    "```\n",
    "corona = [None, None, None, None, None, None, None, None, None, None, None, None, 2, 1, 3, 0, 0, 0, 2, 22, 14, 21, 7, 11, 5, 10, 18, 73, 38, 103, 21, 35, 31, 46, 31, 35, 94, 71, 48, 78, 71, 74, 95, 95, 56, 102, 101, 129, 69, 60, 62, 20, 77, 52, 71, 56, 70, 33, 31, 25, 22, 15, 17, 11, 0, 10, 156, 7, 55, 27, 16, 11, 17, 32, 10, 15, 21, 8, 6, 6, 10, 21, 15, 13, 19, 6, 10, 18, 16, 10, 40, 9, 15, 2, 4, 10, 3, 21, 2, 2, 4, 10, 11, 3, 3, 6, 2, 1, 19, 0, 15, 15, 13, 17, 52, 9, 10, 20, 20, 4, 9, 13, 14, 55, 24, 10, 19, 10, 21, 15, 8, 11, 22, 23, 10, 14, 19, 23, 26, 28, 25, 8, 43, 27, 33, 50, 60, 40, 31, 23, 57, 27, 29, 25, 19, 24, 5, 36, 29, 33, 25, 31, 27, 34, 52, 57, 65, 76, 110, 75, 75, 118, 119, 145, 151, 151, 202, 126, 193, 235, 204, 251, 226, 217, 147, 250, 212, 250, 204, 243, 283, 155, 168, 293, 251, 269, 177, 157, 183, 207, 233, 241, 202, 186, 138, 139, 169, 248, 367, 287, 302, 204, 180, 310, 311, 359, 338, 240, 164, 453, 333, 358, 341, 286, 315, 216, 263, 416, 352, 411, 460, 267, 229, 300, 399, 406, 434, 391, 306, 280, 294, 408, 435, 452, 503, 482, 438, 432, 667, 865, 882, 841, 935, 790, 714, 1256, 1547, 1211, 1686, 2055, 1678, 1151, 2166, 2646, 2915, 2447, 2555, 1889, 1489, 2383, 2751, 3316, 3038, 2835, 1695, 2198, 2422, 3209, 3227, 2551, 2309, 1498, 1387, 2131, 2151, 2018, 1981, 1747, 1193, 1044, 2199, 2185, 1882, 1648, 1383, 903, 1250, 1324, 1675, 1533, 1395, 1194, 692]\n",
    "```\n",
    "\n",
    "Αυτά είναι πραγματικά και επίσημα στοιχεία. Τις πρώτες μέρες η Ελλάδα δεν μετρούσε δείγματα για αυτό και υπάρχουν None τιμές. Μπορείτε να τις \"πετάξετε έξω\".\n",
    "\n",
    "\n",
    "* Φτιάξτε ένα plot με το moving average για 7 μέρες. Δηλαδή υπολογίστε για κάθε μέρα τον μέσο όρο που προκύπτει από τις 3 προηγούμενες τη μέρα αυτή και τις 3 επόμενες μέρες. \n",
    "* Κάντε το ίδιο για moving average 3 ημερών.\n",
    "* Τις ακραίες τιμές (δηλαδή τις τελευταίες 5-6) μπορείτε να τις αγνοήσετε"
   ]
  },
  {
   "cell_type": "markdown",
   "metadata": {},
   "source": [
    "### Άσκηση 6\n",
    "\n",
    "Χρησιμοποιήστε τα ίδια data με την άσκηση 5. Φτιάξτε τα ίδια plots αλλά πάρετε το άθροισμα των κρουσμάτων από την αρχή μέχρι την κάθε μέτα (cumulative sum). \n"
   ]
  },
  {
   "cell_type": "markdown",
   "metadata": {},
   "source": [
    "### Άσκηση 7\n",
    "\n",
    "Ας φτιάξουμε 5 τυχαία σημεία στον δισδιάστατο χώρο:\n",
    "  "
   ]
  },
  {
   "cell_type": "code",
   "execution_count": 75,
   "metadata": {},
   "outputs": [
    {
     "data": {
      "text/plain": [
       "array([[0.76078033, 0.30387176],\n",
       "       [0.03709276, 0.77089766],\n",
       "       [0.59827573, 0.91134462],\n",
       "       [0.13400415, 0.52916721],\n",
       "       [0.33592566, 0.53704996]])"
      ]
     },
     "execution_count": 75,
     "metadata": {},
     "output_type": "execute_result"
    }
   ],
   "source": [
    "points = np.random.random((5,2))\n",
    "points"
   ]
  },
  {
   "cell_type": "markdown",
   "metadata": {},
   "source": [
    "Ας τα πλοτάρουμε στον χώρο!"
   ]
  },
  {
   "cell_type": "code",
   "execution_count": 76,
   "metadata": {},
   "outputs": [
    {
     "data": {
      "text/plain": [
       "[<matplotlib.lines.Line2D at 0x6227d9c18>]"
      ]
     },
     "execution_count": 76,
     "metadata": {},
     "output_type": "execute_result"
    },
    {
     "data": {
      "image/png": "[encoded data removed]",
      "text/plain": [
       "<Figure size 432x288 with 1 Axes>"
      ]
     },
     "metadata": {
      "needs_background": "light"
     },
     "output_type": "display_data"
    }
   ],
   "source": [
    "import matplotlib.pyplot as plt\n",
    "fig, ax = plt.subplots()\n",
    "\n",
    "#points = np.random.random((5,2))\n",
    "\n",
    "ax.plot(points[:,0], points[:,1], '.')"
   ]
  },
  {
   "cell_type": "markdown",
   "metadata": {},
   "source": [
    "Ένα ερώτημα που προκύπτει είναι: ποιο είναι το μικρότερο κυρτό πολύγονο που να εμπερικλύει όλα τα στοιχεία; Αυτό είναι ένα πολύ παλιό και ενδιαφέρον πρόβλημα της υπολογιστικής γεωμετρίας. Ευτυχώς για εμάς η scipy το έχει λύσει αυτό:"
   ]
  },
  {
   "cell_type": "code",
   "execution_count": 79,
   "metadata": {},
   "outputs": [],
   "source": [
    "from scipy.spatial import ConvexHull\n",
    "\n",
    "def polygon_plot(points):\n",
    "    hull = ConvexHull(points)\n",
    "\n",
    "    plt.plot(points[:,0], points[:,1], 'o')\n",
    "    for simplex in hull.simplices:\n",
    "\n",
    "        plt.plot(points[simplex, 0], points[simplex, 1], 'k-')\n",
    "        "
   ]
  },
  {
   "cell_type": "code",
   "execution_count": 80,
   "metadata": {},
   "outputs": [
    {
     "data": {
      "image/png": "[encoded data removed]",
      "text/plain": [
       "<Figure size 432x288 with 1 Axes>"
      ]
     },
     "metadata": {
      "needs_background": "light"
     },
     "output_type": "display_data"
    }
   ],
   "source": [
    "polygon_plot(points)"
   ]
  },
  {
   "cell_type": "markdown",
   "metadata": {},
   "source": [
    "Για λεπτομέρειες της λύσεις μπορείτε να δείτε εδώ: https://en.wikipedia.org/wiki/Gift_wrapping_algorithm \n",
    "\n",
    "Παρατηρούμε ότι παρόλο που ζητήσαμε 5 σημεία το μικρότερο πολύγονο που εμπερικλύει όλα τα σημεία έχει 4 σημεία. Το ένα είναι \"μέσα\" στο πολύγωνο. Ας το ξανακάνουμε το ίδιο με ένα άλλο τυχαίο σετ από 5 σημεία:\n"
   ]
  },
  {
   "cell_type": "code",
   "execution_count": 105,
   "metadata": {},
   "outputs": [
    {
     "name": "stdout",
     "output_type": "stream",
     "text": [
      "[[0.77109408 0.51144108]\n",
      " [0.84406399 0.34140634]\n",
      " [0.06810834 0.97831821]\n",
      " [0.74325048 0.73808662]\n",
      " [0.79511111 0.99526973]]\n"
     ]
    },
    {
     "data": {
      "image/png": "[encoded data removed]",
      "text/plain": [
       "<Figure size 432x288 with 1 Axes>"
      ]
     },
     "metadata": {
      "needs_background": "light"
     },
     "output_type": "display_data"
    }
   ],
   "source": [
    "points_2 = np.random.random((5,2))\n",
    "print (points_2)\n",
    "polygon_plot(points_2)"
   ]
  },
  {
   "cell_type": "markdown",
   "metadata": {},
   "source": [
    "Εδω παρατηρούμε ότι 2 σημεία από τα 5 είναι στο πολύγωνο (το οποίο είναι ένα τρίγωνο). Ας ξανατρέξουμε το πείραμα άλλη μία φορά:\n"
   ]
  },
  {
   "cell_type": "code",
   "execution_count": 106,
   "metadata": {},
   "outputs": [
    {
     "name": "stdout",
     "output_type": "stream",
     "text": [
      "[[0.10372559 0.24445734]\n",
      " [0.02193927 0.09746473]\n",
      " [0.9759169  0.39526575]\n",
      " [0.57092974 0.03707112]\n",
      " [0.84576202 0.86606563]]\n"
     ]
    },
    {
     "data": {
      "image/png": "[encoded data removed]",
      "text/plain": [
       "<Figure size 432x288 with 1 Axes>"
      ]
     },
     "metadata": {
      "needs_background": "light"
     },
     "output_type": "display_data"
    }
   ],
   "source": [
    "points_2 = np.random.random((5,2))\n",
    "print (points_2)\n",
    "polygon_plot(points_2)"
   ]
  },
  {
   "cell_type": "markdown",
   "metadata": {},
   "source": [
    "Εδώ παρατηρούμε ότι και τα 5 σημεία είναι μέρος του ελάχιστου κυρτού πολυγώνου!\n",
    "\n",
    "Εδώ λοιπόν γεννάται το ερώτημα: Ποια είναι η πιθανότητα το ελάχιστο κυρτό πολύγωνο από 5 σημεία να μην εσωκλείει κανένα σημείο; Ποια είναι η αντίστοιχη πιθανότητα για 1 και ποια για 2 σημεία;\n",
    "\n",
    "Ομοίως ποιες είναι οι πιθανότητες το ελάχιστον πολύγωνο από 6 σημεία να εσωκλείει κανένα, 1, 2 ή 3 σημεία;\n",
    "\n",
    "Ας ορίσουμε τώρα τη συνάρτηση f(k) η οποία φτιάχνει k τυχαία σημεία στον 2διάστατο χώρο ```[0,1]Χ[0,1]``` και επιστρέφει το πλήθος από τα στοιχεια που εμπερικλείει το ελάχιστο κυρτό πολύγωνό τους. \n",
    "\n",
    "Υπολογίστε:\n",
    "* Ποιες είναι οι πιθανότητες το f(4) να επιστρέψει 0, 1;\n",
    "* Ποιες είναι οι πιθανότητες το f(5) να επιστρέψει 0, 1, 2;\n",
    "* Ποιες είναι οι πιθανότητες το f(6) να επιστρέψει 0, 1, 2, 3;\n",
    "* Ποιες είναι οι πιθανότητες το f(7) να επιστρέψει 0, 1, 2, 3, 4;\n",
    "* Ποιες είναι οι πιθανότητες το f(8) να επιστρέψει 0, 1, 2, 3, 4, 5;\n",
    "\n",
    "Τρέξτε το κάθε πείραμα 1000 φορές (αν αντέχει ο υπολογιστής σας τρέξτε το περισσότερο..) και αποθηκεύστε τα αποτελέσματα σε έναν πίνακα numpy. Προαιρέτικα: Πως θα κάνατε plot αυτόν τον πίνακα;\n"
   ]
  },
  {
   "cell_type": "markdown",
   "metadata": {},
   "source": [
    "### Άσκηση 8\n",
    "\n",
    "Έστω ότι ένας πληθυσμός αποτελείται από n άτομα. Τον πληθυσμό μπορούμε να τον χωρίσουμε ως εξής:\n",
    "\n",
    "* Αυτοί που έχουν μία ασθένεια (```d_yes```) και αυτοί που δεν έχουν την ασθένεια (```d_no```). Ισχύει ότι ```d_yes + d_no = n```\n",
    "* Αυτοί που έχουν μία μετάλλαξη (```m_yes```) και αυτοί που δεν έχουν την μετάλλαξη (```m_no```). Ισχύει ότι ```m_yes + m_no = n```\n",
    "\n",
    "Ομοίως μπορούμε να ορίσουμε:\n",
    "* ```d_yes_m_yes``` : Έχουν την ασθένεια ΚΑΙ τη μετάλλαξη\n",
    "* ```d_yes_m_no```  : Έχουν την ασθένεια αλλά όχι τη μετάλλαξη\n",
    "* ```d_no_m_yes```  : ΔΕΝ έχουν την ασθένεια αλλά έχουν τη μετάλλαξη\n",
    "* ```d_no_m_no```   : ΔΕΝ έχουν την ασθένεια και ΔΕΝ έχουν τη μετάλλαξη\n",
    "\n",
    "\n",
    "Η παρακάτω συνάρτηση μας επιστρέφει το p-value της συσχέτισης της μετάλλαξης με την ασθένεια:"
   ]
  },
  {
   "cell_type": "code",
   "execution_count": 108,
   "metadata": {},
   "outputs": [],
   "source": [
    "from scipy.stats import chi2_contingency\n",
    "\n",
    "def get_p_value(d_yes_m_yes, d_yes_m_no, d_no_m_yes, d_no_m_no):\n",
    "    obs = np.array([[d_yes_m_yes, d_yes_m_no], [d_no_m_yes, d_no_m_no]])\n",
    "    chi2, p, dof, ex = chi2_contingency(obs)\n",
    "    \n",
    "    return p\n",
    "\n"
   ]
  },
  {
   "cell_type": "markdown",
   "metadata": {},
   "source": [
    "Ορίζουμε τώρα:\n",
    "* a : Το ποσοστό του πληθυσμού που έχει τη μετάλλαξη\n",
    "* b : Το ποσοστό του πληθυσμού που έχει την ασθένεια\n",
    "* c : Από αυτούς που **έχουν τη μετάλλαξη** το ποσοστό που έχει την ασθένεια \n",
    "\n",
    "Έστω ότι ο πληθυσμός αποτελείται από n=1000 άτομα και έστω a=10%\n",
    "\n",
    "Κάντε ένα scatter plot όπου:\n",
    "* το Χ θα είναι το b και θα πάρει 100 τιμές από 0.01 έως 0.20\n",
    "* ΤΟ Υ θα είναι το c και θα πάρει 100 τιμές από 0.001 έως 0.8\n",
    "* Υπολογίστε το p_value για όλες τις δυνατές τιμές των X και Y. \n",
    "* Για κάθε ζευγάρι x,y \"βάλτε\" μία τελεία.\n",
    "* Το χρώμα της \"τελείας\" θα δίνεται από τη παρακάτω συνάρτηση:\n",
    "\n"
   ]
  },
  {
   "cell_type": "code",
   "execution_count": null,
   "metadata": {},
   "outputs": [],
   "source": [
    "from matplotlib import cm\n",
    "\n",
    "viridis = cm.get_cmap('viridis', 12)\n",
    "\n",
    "def my_color(p_value):\n",
    "    return viridis(-np.log(p_value)/150)\n"
   ]
  },
  {
   "cell_type": "markdown",
   "metadata": {},
   "source": [
    "Δίνεται το  plot που βγήκε σε μένα:\n",
    "\n",
    "![image.png](https://i.imgur.com/4Rk8hJr.png)"
   ]
  },
  {
   "cell_type": "markdown",
   "metadata": {},
   "source": [
    "Εσείς εννοείται μπορείτε να το βελτιώσετε!"
   ]
  },
  {
   "cell_type": "markdown",
   "metadata": {},
   "source": [
    "### Άσκηση 9"
   ]
  },
  {
   "cell_type": "markdown",
   "metadata": {},
   "source": [
    "Φτιάξτε μία συνάρτηση η οποία θα παίρνει δύο ορίσματα k,l. Η συνάρτηση θα φτιάχνει έναν πίνακα k X l τέτοιο ώστε όλες οι γραμμές εκτός από τη τελευταία θα έχει ακέραιες τυχαίες τιμές 0 ή 1. Η τελευταία γραμμή θα έχει τυχαίες τιμές ακέραιους από το 1 μέχρι το 10. \n",
    "\n",
    "Για παράδειγμα:\n",
    "```\n",
    "f(4,5)\n",
    "\n",
    "Επιστρέφει:\n",
    "\n",
    "[[0,1,0,1,1],\n",
    " [0,0,0,0,1],\n",
    " [0,0,0,0,1],\n",
    " [3,5,6,7,2]\n",
    "]\n",
    "\n",
    "```\n",
    "\n",
    "Φτιάξτε μία δεύτερη συνάρτηση η οποία θα παίρνει ως όρισμα έναν πίνακα που παράγεται από τη παραπάνω συνάρτηση. Θα επιστρέφει το άθροισμα όλων των στοιχείων για τα οποία όλες οι τιμές της στήλης που βρίσκεται πάνω από αυτον θα είναι 0. Για τον πίνακα του παραδείγματος θα επιστρέφει:\n",
    "\n",
    "```\n",
    "[[0,1,0,1,1],\n",
    " [0,0,0,0,1],\n",
    " [0,0,0,0,1],\n",
    " [3,5,6,7,2]\n",
    "  ^   ^        3+6 = 9\n",
    "]\n",
    "```\n"
   ]
  },
  {
   "cell_type": "markdown",
   "metadata": {},
   "source": [
    "### Άσκηση 10\n",
    "\n",
    "Ένας καθηγητής έχει μία τάξη με 20 μαθητές. Οι βαθμοί τους στις τελικές εξετάσεις είναι:\n",
    "\n",
    "```python\n",
    "grades = np.array([16,  9, 12, 10, 13,  4,  9, 15,  8, 14,  8, 16, 11, 10, 10, 12, 10, 11, 12,  9])\n",
    "```\n",
    "\n",
    "Ο καθηγητής υπολογίζει τον μέσο όρο και την τυπική απόκλιση:\n",
    "```\n",
    "> np.mean(grades)\n",
    "10.95\n",
    "\n",
    "> np.std(grades)\n",
    "2.8718460961548757\n",
    "```\n",
    "\n",
    "Ο καθηγητής δεν είναι και τόσο σίγουρος ότι ο μέσος όρος είναι σωστός! Σκέφτεται ότι ο πραγματικό μέσος θα κυμαίνεται γύρω από τη τιμή που έχει υπολογίσει. Για να το υπολογίσει αυτό κάνει το εξής πείραμα. Φτιάχνει 10.000 τυχαίες τάξεις. Κάθε τάξη έχει 20 μαθητές. Οι βαθμοί τους είναι 20 τυχαίοι αριθμοί με μέσο όρο 10.95 και τυπική απόκλιση 2.872. Ο κώδικας για να το κάνει κάποιος αυτό για μία τάξη είναι:\n",
    "\n",
    "```\n",
    "np.random.normal(10.95, 2.872, 20) # 10.95 = μέσος όρος, 2.872 = τυπική απόκλιση, 20=πλήθος από δείγματα.\n",
    "```\n",
    "\n",
    "Για κάθε μία από τις 10.000 εικονικές τάξεις υπολογίζει τον μέσο όρο.  Στη συνέχεια σκέφτεται ότι αφού αυτή η μέθοδος είναι τελείως τυχαία, σίγουρα θα έχει παράξει μέσους όρους \"ακραίους\". Δηλαδή είτε πολύ μεγάλους είτε πολύ μικρούς. θέλει να πετάξει έξω αυτές τις ακραίες τιμές και βρίσκει την εξής μέθοδο: Ταξινομεί το αποτέλεσμα (τους μέσους όρους) από τον μικρότερο στον μεγαλύτερο. Ορίζει ως υπερβολικά μικρούς τους μέσους όρους που βρίσκονται στις πρώτες 2.5% επί των θέσεων (δηλαδή από τον μικρότερο μέχρι 250-οστό μικρότερο (2.5/100 * 10.000= 250)). Ομοίως ορίζει ως υπερβολικά μεγάλους τους μέσους όρους που βρίσκονται από τον μεγαλύτερο μέχρι τον 250-οστό μεγαλύτερο. Τώρα ξέρει ότι στο πείραμα που έκανε το 95% των πειραμάτων του \"πέσαν\" μέσα σε ένα εύρος. Το εύρος αυτό δεν είναι άλλο από τον μικρότερο και μεγαλύτερο αριθμό που έμεινε. \n",
    "\n",
    "Κάνοντας το πείραμα του καθηγητή, ποιο είναι το εύρος της εκτίμησης του μέσου όρου; \n",
    "\n",
    "Αν υλοποιήσατε το παραπάνω, συγχαρητήρια! Μόλις υπολογίσατε ένα [confidence interval](https://en.wikipedia.org/wiki/Confidence_interval). Ευτυχώς η numpy μας δίνει έτοιμες μεθόδους για τον υπολογισμό του. "
   ]
  },
  {
   "cell_type": "code",
   "execution_count": 2,
   "metadata": {},
   "outputs": [
    {
     "data": {
      "text/plain": [
       "(9.691313631732028, 12.208686368267971)"
      ]
     },
     "execution_count": 2,
     "metadata": {},
     "output_type": "execute_result"
    }
   ],
   "source": [
    "import numpy as np\n",
    "from scipy import stats\n",
    "stats.norm.interval(0.95, loc = 10.95, scale = 2.872 / np.sqrt(20))"
   ]
  },
  {
   "cell_type": "markdown",
   "metadata": {},
   "source": [
    "Πόσο διαφορετικές ήταν οι δικές σας εκτιμήσεις από αυτές της ```stats.norm.interval``` ;\n",
    "\n",
    "Σημείωση: Μία ωραία συζήτηση για το ```scale = 2.872 / np.sqrt(20)``` μπορείτε να βρείτε εδώ: https://stackoverflow.com/questions/28242593/correct-way-to-obtain-confidence-interval-with-scipy"
   ]
  },
  {
   "cell_type": "markdown",
   "metadata": {},
   "source": [
    "### Άσκηση 11\n",
    "\n",
    "Μία φοιητήτρια σημειώνει σε έναν πίνακα numpy ποιες μέρες του χρόνου προγραμμάτισε και ποιες όχι. Ο πίνακας αυτός έχει 52 γραμμές (εβδομάδες) και 7 στήλες. Κάθε στοιχείο του έχει είτε 1 (=προγραμμάτισε!) είτε 0 (=δεν προγραμμάτισε). \n",
    "\n",
    "Ο πίνακα αυτός είναι:\n",
    "\n",
    "```numpy\n",
    "array([[0, 0, 1, 1, 1, 0, 0],\n",
    "       [1, 1, 1, 1, 0, 1, 0],\n",
    "       [0, 0, 1, 0, 0, 1, 1],\n",
    "       [0, 1, 0, 0, 0, 1, 1],\n",
    "       [0, 0, 0, 0, 0, 1, 0],\n",
    "       [1, 1, 1, 0, 1, 0, 0],\n",
    "       [0, 1, 0, 1, 1, 0, 0],\n",
    "       [0, 0, 1, 1, 1, 0, 0],\n",
    "       [0, 0, 0, 1, 0, 1, 0],\n",
    "       [1, 1, 1, 1, 0, 1, 0],\n",
    "       [1, 0, 1, 1, 0, 1, 0],\n",
    "       [1, 1, 1, 1, 0, 0, 0],\n",
    "       [1, 1, 1, 1, 0, 1, 1],\n",
    "       [0, 1, 0, 0, 1, 1, 1],\n",
    "       [1, 1, 0, 0, 1, 0, 1],\n",
    "       [0, 0, 0, 1, 0, 0, 0],\n",
    "       [0, 0, 0, 1, 0, 0, 1],\n",
    "       [0, 0, 1, 0, 1, 0, 1],\n",
    "       [1, 1, 1, 1, 1, 1, 1],\n",
    "       [1, 0, 1, 1, 0, 0, 1],\n",
    "       [1, 0, 0, 1, 1, 0, 0],\n",
    "       [1, 0, 1, 1, 0, 0, 0],\n",
    "       [0, 1, 0, 1, 1, 0, 0],\n",
    "       [1, 0, 1, 0, 0, 1, 0],\n",
    "       [0, 0, 0, 0, 1, 1, 1],\n",
    "       [0, 0, 1, 1, 1, 0, 1],\n",
    "       [0, 1, 1, 1, 1, 1, 1],\n",
    "       [1, 0, 1, 0, 1, 0, 1],\n",
    "       [1, 0, 0, 1, 0, 0, 0],\n",
    "       [0, 1, 0, 0, 0, 1, 0],\n",
    "       [0, 0, 1, 0, 1, 0, 1],\n",
    "       [0, 0, 1, 1, 1, 0, 1],\n",
    "       [1, 1, 0, 1, 0, 0, 0],\n",
    "       [0, 0, 1, 0, 0, 1, 1],\n",
    "       [0, 0, 0, 1, 1, 0, 0],\n",
    "       [0, 0, 1, 0, 0, 1, 0],\n",
    "       [0, 1, 1, 1, 0, 1, 0],\n",
    "       [0, 1, 0, 0, 1, 1, 1],\n",
    "       [0, 0, 0, 1, 1, 0, 0],\n",
    "       [1, 1, 0, 0, 0, 0, 0],\n",
    "       [0, 0, 0, 0, 0, 1, 1],\n",
    "       [1, 0, 1, 0, 0, 0, 1],\n",
    "       [1, 0, 1, 1, 1, 0, 1],\n",
    "       [0, 0, 0, 0, 1, 1, 1],\n",
    "       [0, 0, 0, 0, 1, 1, 1],\n",
    "       [0, 1, 1, 1, 1, 0, 1],\n",
    "       [1, 1, 1, 0, 0, 0, 1],\n",
    "       [0, 1, 1, 1, 1, 1, 1],\n",
    "       [1, 0, 0, 0, 1, 1, 1],\n",
    "       [0, 0, 1, 0, 0, 1, 1],\n",
    "       [1, 0, 1, 0, 1, 0, 0],\n",
    "       [0, 0, 1, 0, 0, 1, 0]])\n",
    "```\n",
    "\n",
    "Αν 1 είναι η πρώτη μέρα και 52*7 = 364, η τελευταία, βρείτε ποιο είναι το μεγαλύτερο συνεχόμενο διάστημα από μέρες για το οποίο η φοιτήτρια το πέρασε προγραμματίζοντας. Η απάντησή σας δηλαδή πρέπει να είναι δύο αριθμοί (π.χ. από τη μέρα 10 μέχρι και τη μέρα 20 δεν υπήρχε ούτε μία μέρα που να μην προγραμμάτισε)."
   ]
  },
  {
   "cell_type": "markdown",
   "metadata": {},
   "source": [
    "## Μέρος 2ο, pandas\n",
    "\n",
    "### Άσκηση 12\n",
    "\n",
    "Απαντήστε με pandas στις ερωτήσεις της άσκησης 9 της 2ης σειράς.\n"
   ]
  },
  {
   "cell_type": "markdown",
   "metadata": {},
   "source": [
    "### Άσκηση 13\n",
    "\n",
    "Απαντήστε με pandas στις ερωτήσεις της άσκησης 10 της 2ης σειράς.\n"
   ]
  },
  {
   "cell_type": "markdown",
   "metadata": {},
   "source": [
    "### Άσκηση 14\n",
    "\n",
    "Απαντήστε με pandas στις ερωτήσεις της άσκησης 11 της 2ης σειράς.\n"
   ]
  },
  {
   "cell_type": "markdown",
   "metadata": {},
   "source": [
    "### Άσκηση 15\n",
    "\n",
    "Το 2017 η Hanah Anderson και ο Matt Daniels δημοσίευσαν μία ανάλυση από τους διαλόγους 2000 σεναρίων με βάση το φύλο των κύριων χαρακτήρων τους. 538 από αυτές τις ταινίες έχουν πάνω 200.000 ψήφους στο IMDB. [πηγή](https://public.tableau.com/en-us/gallery/whos-talking-popular-films?tab=featured&type=featured).\n",
    "\n",
    "Μπορείτε να κατεβάσετε και να φορτώσετε στο pandas, τα δεδομένα για αυτές τις 538 ταινίες:"
   ]
  },
  {
   "cell_type": "code",
   "execution_count": 203,
   "metadata": {},
   "outputs": [],
   "source": [
    "import pandas as pd"
   ]
  },
  {
   "cell_type": "code",
   "execution_count": 209,
   "metadata": {},
   "outputs": [
    {
     "data": {
      "text/html": [
       "<div>\n",
       "<style scoped>\n",
       "    .dataframe tbody tr th:only-of-type {\n",
       "        vertical-align: middle;\n",
       "    }\n",
       "\n",
       "    .dataframe tbody tr th {\n",
       "        vertical-align: top;\n",
       "    }\n",
       "\n",
       "    .dataframe thead th {\n",
       "        text-align: right;\n",
       "    }\n",
       "</style>\n",
       "<table border=\"1\" class=\"dataframe\">\n",
       "  <thead>\n",
       "    <tr style=\"text-align: right;\">\n",
       "      <th></th>\n",
       "      <th>Color</th>\n",
       "      <th>Title</th>\n",
       "      <th>Average Rating</th>\n",
       "      <th>FemaleWordPercent</th>\n",
       "      <th>Num Votes</th>\n",
       "    </tr>\n",
       "  </thead>\n",
       "  <tbody>\n",
       "    <tr>\n",
       "      <th>0</th>\n",
       "      <td>Female</td>\n",
       "      <td>A Nightmare on Elm Street</td>\n",
       "      <td>7.5</td>\n",
       "      <td>1</td>\n",
       "      <td>200272</td>\n",
       "    </tr>\n",
       "    <tr>\n",
       "      <th>1</th>\n",
       "      <td>Female</td>\n",
       "      <td>Alice in Wonderland</td>\n",
       "      <td>6.4</td>\n",
       "      <td>1</td>\n",
       "      <td>376644</td>\n",
       "    </tr>\n",
       "    <tr>\n",
       "      <th>2</th>\n",
       "      <td>Female</td>\n",
       "      <td>Am�lie</td>\n",
       "      <td>8.3</td>\n",
       "      <td>1</td>\n",
       "      <td>690368</td>\n",
       "    </tr>\n",
       "    <tr>\n",
       "      <th>3</th>\n",
       "      <td>Female</td>\n",
       "      <td>Atonement</td>\n",
       "      <td>7.8</td>\n",
       "      <td>1</td>\n",
       "      <td>243529</td>\n",
       "    </tr>\n",
       "    <tr>\n",
       "      <th>4</th>\n",
       "      <td>Female</td>\n",
       "      <td>Beetlejuice</td>\n",
       "      <td>7.5</td>\n",
       "      <td>1</td>\n",
       "      <td>251805</td>\n",
       "    </tr>\n",
       "    <tr>\n",
       "      <th>5</th>\n",
       "      <td>Female</td>\n",
       "      <td>Before Sunrise</td>\n",
       "      <td>8.1</td>\n",
       "      <td>1</td>\n",
       "      <td>262812</td>\n",
       "    </tr>\n",
       "    <tr>\n",
       "      <th>6</th>\n",
       "      <td>Female</td>\n",
       "      <td>Before Sunset</td>\n",
       "      <td>8.0</td>\n",
       "      <td>1</td>\n",
       "      <td>228786</td>\n",
       "    </tr>\n",
       "    <tr>\n",
       "      <th>7</th>\n",
       "      <td>Female</td>\n",
       "      <td>Black Swan</td>\n",
       "      <td>8.0</td>\n",
       "      <td>1</td>\n",
       "      <td>686046</td>\n",
       "    </tr>\n",
       "    <tr>\n",
       "      <th>8</th>\n",
       "      <td>Female</td>\n",
       "      <td>Bridesmaids</td>\n",
       "      <td>6.8</td>\n",
       "      <td>1</td>\n",
       "      <td>263000</td>\n",
       "    </tr>\n",
       "    <tr>\n",
       "      <th>9</th>\n",
       "      <td>Female</td>\n",
       "      <td>Easy A</td>\n",
       "      <td>7.0</td>\n",
       "      <td>1</td>\n",
       "      <td>350313</td>\n",
       "    </tr>\n",
       "  </tbody>\n",
       "</table>\n",
       "</div>"
      ],
      "text/plain": [
       "    Color                      Title  Average Rating  FemaleWordPercent  \\\n",
       "0  Female  A Nightmare on Elm Street             7.5                  1   \n",
       "1  Female        Alice in Wonderland             6.4                  1   \n",
       "2  Female                     Am�lie             8.3                  1   \n",
       "3  Female                  Atonement             7.8                  1   \n",
       "4  Female                Beetlejuice             7.5                  1   \n",
       "5  Female             Before Sunrise             8.1                  1   \n",
       "6  Female              Before Sunset             8.0                  1   \n",
       "7  Female                 Black Swan             8.0                  1   \n",
       "8  Female                Bridesmaids             6.8                  1   \n",
       "9  Female                     Easy A             7.0                  1   \n",
       "\n",
       "   Num Votes  \n",
       "0     200272  \n",
       "1     376644  \n",
       "2     690368  \n",
       "3     243529  \n",
       "4     251805  \n",
       "5     262812  \n",
       "6     228786  \n",
       "7     686046  \n",
       "8     263000  \n",
       "9     350313  "
      ]
     },
     "execution_count": 209,
     "metadata": {},
     "output_type": "execute_result"
    }
   ],
   "source": [
    "movies = pd.read_csv('https://www.dropbox.com/s/6160fv5j83ce51r/48a17eca3a8d13518f76f300524300fb.csv?dl=1', \n",
    "            sep='\\t', encoding = \"utf-16\", skiprows=lambda x:x==1, \n",
    "            converters={'Num Votes': lambda x:int(x.replace(',',''))})\n",
    "\n",
    "movies[:10] # Δείχνουμε τις πρώτες 10 γραμμές"
   ]
  },
  {
   "cell_type": "markdown",
   "metadata": {},
   "source": [
    "Δυστυχώς η στήλη \"FemaleWordPercent\" έχει \"χαθεί\" και υπάρχει σε ένα άλλος αρχείο το οποίο μπορείτε να το φορτώσετε με:"
   ]
  },
  {
   "cell_type": "code",
   "execution_count": 220,
   "metadata": {},
   "outputs": [
    {
     "data": {
      "text/html": [
       "<div>\n",
       "<style scoped>\n",
       "    .dataframe tbody tr th:only-of-type {\n",
       "        vertical-align: middle;\n",
       "    }\n",
       "\n",
       "    .dataframe tbody tr th {\n",
       "        vertical-align: top;\n",
       "    }\n",
       "\n",
       "    .dataframe thead th {\n",
       "        text-align: right;\n",
       "    }\n",
       "</style>\n",
       "<table border=\"1\" class=\"dataframe\">\n",
       "  <thead>\n",
       "    <tr style=\"text-align: right;\">\n",
       "      <th></th>\n",
       "      <th>imdb id (Films)</th>\n",
       "      <th>script id (Films)</th>\n",
       "      <th>Title</th>\n",
       "      <th>Year</th>\n",
       "      <th>FemaleWordPercent (copy)</th>\n",
       "      <th>Gross</th>\n",
       "      <th>Lines Data</th>\n",
       "    </tr>\n",
       "  </thead>\n",
       "  <tbody>\n",
       "    <tr>\n",
       "      <th>0</th>\n",
       "      <td>tt1022603</td>\n",
       "      <td>1534</td>\n",
       "      <td>(500) Days of Summer</td>\n",
       "      <td>2009</td>\n",
       "      <td>0.31</td>\n",
       "      <td>37.0</td>\n",
       "      <td>7.435445e+254</td>\n",
       "    </tr>\n",
       "    <tr>\n",
       "      <th>1</th>\n",
       "      <td>tt0147800</td>\n",
       "      <td>1512</td>\n",
       "      <td>10 Things I Hate About You</td>\n",
       "      <td>1999</td>\n",
       "      <td>0.46</td>\n",
       "      <td>65.0</td>\n",
       "      <td>1.777752e+254</td>\n",
       "    </tr>\n",
       "    <tr>\n",
       "      <th>2</th>\n",
       "      <td>tt2024544</td>\n",
       "      <td>1517</td>\n",
       "      <td>12 Years a Slave</td>\n",
       "      <td>2013</td>\n",
       "      <td>0.18</td>\n",
       "      <td>60.0</td>\n",
       "      <td>4.567335e+108</td>\n",
       "    </tr>\n",
       "    <tr>\n",
       "      <th>3</th>\n",
       "      <td>tt1542344</td>\n",
       "      <td>1520</td>\n",
       "      <td>127 Hours</td>\n",
       "      <td>2010</td>\n",
       "      <td>0.16</td>\n",
       "      <td>20.0</td>\n",
       "      <td>4.535134e+29</td>\n",
       "    </tr>\n",
       "    <tr>\n",
       "      <th>4</th>\n",
       "      <td>tt0450385</td>\n",
       "      <td>6537</td>\n",
       "      <td>1408</td>\n",
       "      <td>2007</td>\n",
       "      <td>0.09</td>\n",
       "      <td>91.0</td>\n",
       "      <td>3.767778e+43</td>\n",
       "    </tr>\n",
       "    <tr>\n",
       "      <th>5</th>\n",
       "      <td>tt0062622</td>\n",
       "      <td>625</td>\n",
       "      <td>2001: A Space Odyssey</td>\n",
       "      <td>1968</td>\n",
       "      <td>0.04</td>\n",
       "      <td>376.0</td>\n",
       "      <td>7.777734e+52</td>\n",
       "    </tr>\n",
       "    <tr>\n",
       "      <th>6</th>\n",
       "      <td>tt1190080</td>\n",
       "      <td>1509</td>\n",
       "      <td>2012</td>\n",
       "      <td>2009</td>\n",
       "      <td>0.18</td>\n",
       "      <td>192.0</td>\n",
       "      <td>7.777634e+209</td>\n",
       "    </tr>\n",
       "    <tr>\n",
       "      <th>7</th>\n",
       "      <td>tt0478087</td>\n",
       "      <td>8543</td>\n",
       "      <td>21</td>\n",
       "      <td>2008</td>\n",
       "      <td>0.07</td>\n",
       "      <td>98.0</td>\n",
       "      <td>6.677778e+89</td>\n",
       "    </tr>\n",
       "    <tr>\n",
       "      <th>8</th>\n",
       "      <td>tt2294449</td>\n",
       "      <td>7834</td>\n",
       "      <td>22 Jump Street</td>\n",
       "      <td>2014</td>\n",
       "      <td>0.16</td>\n",
       "      <td>204.0</td>\n",
       "      <td>7.766778e+141</td>\n",
       "    </tr>\n",
       "    <tr>\n",
       "      <th>9</th>\n",
       "      <td>tt0289043</td>\n",
       "      <td>6360</td>\n",
       "      <td>28 Days Later...</td>\n",
       "      <td>2002</td>\n",
       "      <td>0.28</td>\n",
       "      <td>67.0</td>\n",
       "      <td>7.777566e+76</td>\n",
       "    </tr>\n",
       "  </tbody>\n",
       "</table>\n",
       "</div>"
      ],
      "text/plain": [
       "  imdb id (Films)  script id (Films)                       Title  Year  \\\n",
       "0       tt1022603               1534        (500) Days of Summer  2009   \n",
       "1       tt0147800               1512  10 Things I Hate About You  1999   \n",
       "2       tt2024544               1517            12 Years a Slave  2013   \n",
       "3       tt1542344               1520                   127 Hours  2010   \n",
       "4       tt0450385               6537                        1408  2007   \n",
       "5       tt0062622                625       2001: A Space Odyssey  1968   \n",
       "6       tt1190080               1509                        2012  2009   \n",
       "7       tt0478087               8543                          21  2008   \n",
       "8       tt2294449               7834              22 Jump Street  2014   \n",
       "9       tt0289043               6360            28 Days Later...  2002   \n",
       "\n",
       "   FemaleWordPercent (copy)  Gross     Lines Data  \n",
       "0                      0.31   37.0  7.435445e+254  \n",
       "1                      0.46   65.0  1.777752e+254  \n",
       "2                      0.18   60.0  4.567335e+108  \n",
       "3                      0.16   20.0   4.535134e+29  \n",
       "4                      0.09   91.0   3.767778e+43  \n",
       "5                      0.04  376.0   7.777734e+52  \n",
       "6                      0.18  192.0  7.777634e+209  \n",
       "7                      0.07   98.0   6.677778e+89  \n",
       "8                      0.16  204.0  7.766778e+141  \n",
       "9                      0.28   67.0   7.777566e+76  "
      ]
     },
     "execution_count": 220,
     "metadata": {},
     "output_type": "execute_result"
    }
   ],
   "source": [
    "title = pd.read_csv('https://www.dropbox.com/s/7eve4uibsfipxgl/5be04564358747c8e862235f3c3d3b46.csv?dl=1', \n",
    "                 sep='\\t', encoding='utf-16')\n",
    "\n",
    "title[:10] #Δείχνουμε τις πρώτες 10 γραμμές"
   ]
  },
  {
   "cell_type": "markdown",
   "metadata": {},
   "source": [
    "Από το DataFrame titles εσείς θα πάρετε μόνο τη πληροφορία που υπάρχει στις στήλες \"Title\" και \"FemaleWordPercent (copy)\".\n",
    "\n",
    "Καταρχήν θα πρέπει να κάνετε merge αυτά τα δύο DataFrames με βάση τον τίτλο των ταινιών. Ευτυχώς και τα δύο περιέχουν τις ίδιες ταινίες:"
   ]
  },
  {
   "cell_type": "code",
   "execution_count": 223,
   "metadata": {},
   "outputs": [
    {
     "data": {
      "text/plain": [
       "True"
      ]
     },
     "execution_count": 223,
     "metadata": {},
     "output_type": "execute_result"
    }
   ],
   "source": [
    "set(title['Title']) == set(movies['Title'])"
   ]
  },
  {
   "cell_type": "markdown",
   "metadata": {},
   "source": [
    "Σε αυτή την άσκηση θα πρέπει να φτιάξετε ένα γράφημα, scatterplot Όπου κάθε κουκίδα θα είναι και μία ταινία:\n",
    "   * Στο X άξονα θα είναι το ποσοστό των γυναικείων διαλόγων (στήλη: ```FemaleWordPercent (copy)```)\n",
    "   * Στο Υ άξονα θα είναι το αποτέλεσμα της βαθμολογίας στο IMDB (στήλη ```Average Rating```)\n",
    "   * Το μέγεθος της κάθε κουκίδας θα είναι ανάλογο με το πλήθος των χρηστών που βαθμολόγισαν την ταινία (στήλη ```Num Votes```).\n",
    "   "
   ]
  },
  {
   "cell_type": "markdown",
   "metadata": {},
   "source": [
    "Σκοπός δηλαδή της άσκηση είναι να αναπαράγουμε το διάγραμμα:\n",
    "    \n",
    "![image.png](https://i.imgur.com/M7JoRG2.png)"
   ]
  },
  {
   "cell_type": "markdown",
   "metadata": {},
   "source": [
    "### Άσκηση 16\n",
    "\n",
    "Φτιάξτε έναν generator ο οποίο \"παράγει\" όλους τους αριθμούς fibonacci οι οποίοι είναι άρτιοι (ζηγοί). Δηλαδή θα πρέπει να μπορώ να γράφω:\n",
    "\n",
    "```\n",
    "g = f()\n",
    "\n",
    "next(g) # τυπώνει 2\n",
    "next(g) # τυπώνει 8\n",
    "next(g) # τυπώνει 34\n",
    "next(g) # τυπώνει 144\n",
    "...\n",
    "```\n"
   ]
  },
  {
   "cell_type": "markdown",
   "metadata": {},
   "source": [
    "### Άσκηση 17\n",
    "\n",
    "Φτιάξτε μία συνάρτηση με το όνομα my_name η οποία να.. επιστρέφει το όνομά σας! Θα πρέπει δηλαδή να μπορώ να κάνω:\n",
    "\n",
    "```python\n",
    "my_name() # επιστρέφει το όνομά σας. Π.χ: Δημήτρης Τραμπάκουλας\n",
    "```\n",
    "\n",
    "Σώστε το αρχείο το οποίο περιέχει αυτή τη συνάρτηση με το όνομα \"ask17.py\"\n",
    "\n",
    "Θα πρέπει να μπορώ να κάνω:\n",
    "\n",
    "```python\n",
    "from ask17 import my_name\n",
    "\n",
    "my_name() # Δημήτρης Τραμπάκουλας\n",
    "\n",
    "```"
   ]
  },
  {
   "cell_type": "markdown",
   "metadata": {},
   "source": [
    "### Άσκηση 18\n",
    "\n",
    "Φτιάξτε μία συνάρτηση με το όνομα ask_18 η οποία να.. προσθέτει 2 ακέραιους αριθμούς!\n",
    "\n",
    "π.χ.:\n",
    "\n",
    "```python\n",
    "ask_18(3,5) # επιστρέφει 8\n",
    "```\n",
    "\n",
    "\n",
    "Η συνάρτηση αυτή μπορεί να προσθέτει ΜΟΝΟ θετικούς ακέραιους αριθμούς με τη προϋπόθεση ότι το άθροισμά τους δεν είναι πάνω από 1000!\n",
    "\n",
    "* Αν κάποιος από τους 2 δεν είναι ακέραιος τότε πετάει [TypeError](https://docs.python.org/3/library/exceptions.html#TypeError)\n",
    "* Αν κάποιος από τους 2 δεν είναι θετικός (>0) τότε πετάει [ValueError](https://docs.python.org/3/library/exceptions.html#ValueError)\n",
    "* Αν το αποτέλεσμα της πρόσθεσης είναι παραπάνω από 1000 τότε πετάει [OverflowError](https://docs.python.org/3/library/exceptions.html#TypeError) \n",
    "\n",
    "\n",
    "Φτιάξτε τη συνάρτηση ```my_mean``` η οποία δέχεται μία λίστα από αριθμούς και επιστρέφει τον μέσο όρο τους. Η συνάρτηση **πρέπει** να χρησιμοποιεί την ```ask_18``` για να υπολογίζει το άθροισμα των αριθμών της λίστας. Η συνάρτηση θα πρέπει να \"πιάνει\" όλα τα exceptions που πετάει η ```ask_18```, και αν συμβεί κάποιο, να τυπώνει ένα ενημερωτικό μήνυμα και να επιστρέφει None.  Διαφορετικά επιτρέφει τον μέσο όρο. \n"
   ]
  },
  {
   "cell_type": "markdown",
   "metadata": {},
   "source": [
    "### Άσκηση 19\n",
    "\n",
    "Ποιο είναi το άθροισμα και ποιο το πλήθος των στοιχείων που παράγει αυτός ο generator;\n",
    "\n",
    "```python\n",
    "\n",
    "def f():\n",
    "    a = 2054802212\n",
    "    while a>100:\n",
    "        a = (1103515245*a + 12345) % 2**31\n",
    "        yield a\n",
    "        \n",
    "```\n",
    "\n",
    "Απαγορεύεται η χρήση της list (ή η αποθήκευση όλων των στοιχείων του σε μία λίστα).\n",
    "\n",
    "Βρείτε το με δύο τρόπους:\n",
    "1. Χρησιμοποιήστε τη ```sum```\n",
    "2. Χρησιμοποιήστε τη [StopIteration](https://docs.python.org/3/library/exceptions.html#StopIteration)\n",
    "\n",
    "\n"
   ]
  },
  {
   "cell_type": "markdown",
   "metadata": {},
   "source": [
    "### Άσκηση 20\n",
    "\n",
    "Σε αυτό το link: https://www.dropbox.com/s/qzdqv97w771jwt3/a24abe4a7972c3f54080061c7eeeaa26.txt?dl=1\n",
    "\n",
    "Υπάρχει όλη η Οδύσεια του ομήρου.\n",
    "\n",
    "Φτιάξτε ένα ραβδόγραμμα (barplot) με το πλήθος των λέξεων που έχουν μήκος 1,2,3,... \n",
    "\n",
    "Ένα παράδειγμα δικό μου είναι αυτό:\n",
    "\n",
    "![image.png](https://i.imgur.com/gqi7xLl.png)\n",
    "\n"
   ]
  }
 ],
 "metadata": {
  "kernelspec": {
   "display_name": "Python 3",
   "language": "python",
   "name": "python3"
  },
  "language_info": {
   "codemirror_mode": {
    "name": "ipython",
    "version": 3
   },
   "file_extension": ".py",
   "mimetype": "text/x-python",
   "name": "python",
   "nbconvert_exporter": "python",
   "pygments_lexer": "ipython3",
   "version": "3.7.0"
  }
 },
 "nbformat": 4,
 "nbformat_minor": 2
}
