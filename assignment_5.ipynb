{
 "cells": [
  {
   "cell_type": "markdown",
   "metadata": {},
   "source": [
    "### Άσκηση 1\n",
    "\n",
    "Μπορεί να μην το έχουμε πει στο μάθημα, αλλά η python υποστηρίζει μιγαδικούς αριθμούς! Οι μιγαδικοί αριθμοί αποτελούνται από 2 μέρη το πραγματικό και το φανταστικό μέρος:\n"
   ]
  },
  {
   "cell_type": "code",
   "execution_count": 134,
   "metadata": {},
   "outputs": [],
   "source": [
    "a = 3 + 4j"
   ]
  },
  {
   "cell_type": "markdown",
   "metadata": {},
   "source": [
    "Επίσης έναν μιγαδικό μπορούμε να τον αναπαραστήσουμε στο διδιάστατο επίπεδο όπου x είναι το πραγματικό τους μέρος και y το φανταστικό. Μπορούμε να πάρουμς την απόσταση του μιγαδικού από το σημείο 0,0 δίνεται με τη συνάρτηση ```abs```:"
   ]
  },
  {
   "cell_type": "code",
   "execution_count": 135,
   "metadata": {},
   "outputs": [
    {
     "data": {
      "text/plain": [
       "5.0"
      ]
     },
     "execution_count": 135,
     "metadata": {},
     "output_type": "execute_result"
    }
   ],
   "source": [
    "abs(a)"
   ]
  },
  {
   "cell_type": "markdown",
   "metadata": {},
   "source": [
    "Έστω ότι έχουμε έναν μιγαδικό a. Μπορούμε να του εφαρμόσουμε την εξής πράξη:"
   ]
  },
  {
   "cell_type": "code",
   "execution_count": 142,
   "metadata": {},
   "outputs": [
    {
     "name": "stdout",
     "output_type": "stream",
     "text": [
      "(-7.62772+23.57807j)\n"
     ]
    }
   ],
   "source": [
    "c = -0.62772 - 0.42193j\n",
    "a = 3 + 4j\n",
    "def n(a):\n",
    "    return a**2 + c\n",
    "\n",
    "print (n(a))"
   ]
  },
  {
   "cell_type": "markdown",
   "metadata": {},
   "source": [
    "Ορίζουμε τώρα μία απόσταση από το σημείο 0,0:\n"
   ]
  },
  {
   "cell_type": "code",
   "execution_count": 138,
   "metadata": {},
   "outputs": [],
   "source": [
    "escape_bound = 2"
   ]
  },
  {
   "cell_type": "markdown",
   "metadata": {},
   "source": [
    "Θέλουμε να δούμε αν ένας μιγαδικός όταν του εφαρμόσεις πολλές φορές τη συνάρτηση n μεταφέρεται σε απόσταση μεγαλύτερη από escape_bound από το 0,0. Επίσης αυτό που μας ενδιαφέρει είναι το πλήθος από επαναλήψεις στις οποίες συμβαίνει αυτό. Για παράδειγμα ας πάρουμε τον αριθμό a=-0.97-1.499j και ας μετρήσουμε μετά από πόσες επαναλήψεις φεύγει από το escape_bound:\n"
   ]
  },
  {
   "cell_type": "code",
   "execution_count": 148,
   "metadata": {},
   "outputs": [
    {
     "name": "stdout",
     "output_type": "stream",
     "text": [
      "1\n"
     ]
    }
   ],
   "source": [
    "a=-0.97-1.499j \n",
    "\n",
    "i = 0\n",
    "while abs(a) < escape_bound:\n",
    "    a = n(a)\n",
    "    i = i + 1\n",
    "print (i)\n"
   ]
  },
  {
   "cell_type": "markdown",
   "metadata": {},
   "source": [
    "Βλέπουμε ότι χρειάζεται μία μόνο επανάληψη. Ας πάρουμε τώρα τον αριθμό a=-0.2-0.7j :"
   ]
  },
  {
   "cell_type": "code",
   "execution_count": 156,
   "metadata": {},
   "outputs": [
    {
     "name": "stdout",
     "output_type": "stream",
     "text": [
      "76\n"
     ]
    }
   ],
   "source": [
    "a=-0.2-0.7j \n",
    "\n",
    "i = 0\n",
    "while abs(a) < escape_bound:\n",
    "    a = n(a)\n",
    "    i = i + 1\n",
    "print (i)\n"
   ]
  },
  {
   "cell_type": "markdown",
   "metadata": {},
   "source": [
    "Βλέπουμε ότι χρειάζεται 76 επαναλήψεις. Θέτουμε τώρα σαν όριο επεναλήψεων το max_iterations = 20:"
   ]
  },
  {
   "cell_type": "code",
   "execution_count": 157,
   "metadata": {},
   "outputs": [],
   "source": [
    "max_iterations = 20"
   ]
  },
  {
   "cell_type": "markdown",
   "metadata": {},
   "source": [
    "Δηλαδή αν έχουν περάσει max_iterations τότε σταματάμε να εφαρμόζουμε τη ```n``` και επιστρέφουμε το  max_iterations για αυτό το σημείο."
   ]
  },
  {
   "cell_type": "markdown",
   "metadata": {},
   "source": [
    "Πάρτε τώρα όλα σημεία του επιπέδου από X = -1.8 μέχρι 1.8 με βήμα 0.01  και Y = -1.8 μέχρι 1.8 με βήμα 0.01. Υπολογίστε για κάθε μιγαδικό αριθμό αυτού του επιπέδου πόσες επαναλήψεις χρειάζονται για να φύγει από το escape_bound (με max_iterations=20).\n",
    "\n",
    "Τυπώστε ένα scatter plot όπου το X και Y είναι τα σημεία που πήρατε και το χρώμα της κάθε κουκίδας εξαρτάται από το πλήθος από iterations με βάση τη παρακάτω συνάρτηση:"
   ]
  },
  {
   "cell_type": "code",
   "execution_count": 160,
   "metadata": {},
   "outputs": [],
   "source": [
    "from matplotlib import pyplot as plt\n",
    "\n",
    "def color(iterations):\n",
    "    return plt.cm.viridis(iterations)\n"
   ]
  },
  {
   "cell_type": "markdown",
   "metadata": {},
   "source": [
    "Hint: https://en.wikipedia.org/wiki/Julia_set"
   ]
  },
  {
   "cell_type": "markdown",
   "metadata": {},
   "source": [
    "### Άσκηση 2\n",
    "\n",
    "Μία πόλη έχει 10.000 κατοίκους.\n",
    "Κάθε κάτοικος ζει σε ένα σπίτι μόνος του.\n",
    "H πόλη δυστυχώς χτυπάται ανελέητα από τον κοροναϊό!\n",
    "Η διάδοση του ιού έχει τα εξής χαρακτηριστικά:\n",
    "\n",
    "Κάθε μέρα τυχαίοι N κάτοικοι πάνε να επισκεφτούν άλλα σπίτια. Αν είναι μολυσμένοι οι επισκέπτες και δεν είναι μολυσμένοι οι.. οικοδεσπότες τότε μολύνουν τα άλλα σπίτια.. (και το ανάποδο αν οι επισκέπτες ΔΕΝ είναι μολυσμένοι αλλά είναι μολυσμένοι οι οικοδεσπότες, τότε μολύνονται οι επισκέπτες). Αν ένα σπίτι μολυνθεί από ιό, τότε μετά από 14 μέρες, δεν θεωρείται μολυσμένο, δεν μπορεί πλέον να μολύνει άλλα σπίτια, αλλά ούτε και να μολυνθεί.\n",
    "\n",
    "Αρχικά η πόλη έχει 100 κρούσματα σε τυχαία σπίτια.Ποιο είναι το μέγιστο πλήθος από αρρώστους που θα έχει η πόλη μέχρι κανένας να μην μπορεί πλέον να μεταδόσει τον ιό;\n",
    "\n",
    "Άρρωστος είναι κάποιος που έχει τον ιό από τότε που τον κόλησε μέχρι και μετά από 14 μέρες.Δώστε την απάντηση για:\n",
    "*  Ν=5000 (Δηλαδή ένας στους δύο κάτοικους βγαίνει και επισκέπτεται κάποιον)\n",
    "*  Ν=1000 (Δηλαδή εφαρμόζουμε καραντίνα και ένας στους 10.. τη σπάει) (edited) "
   ]
  },
  {
   "cell_type": "markdown",
   "metadata": {},
   "source": [
    "### Άσκηση 3\n",
    "\n",
    "Φτιάξτε μία συνάρτηση η οποία να να υπολογίζει το position probability matrix για ένα σύνολο από ακολουθίες DNA του ίδιου μήκους. Οδηγίες για το πως γίνεται αυτό μπορείτε να βρείτε εδώ:\n",
    "https://en.wikipedia.org/wiki/Position_weight_matrix\n",
    "\n",
    "Για παράδειγμα έστω οι ακολουθίες:\n",
    "```\n",
    "GAGGTAAAC\n",
    "TCCGTAAGT\n",
    "CAGGTTGGA\n",
    "ACAGTCAGT\n",
    "TAGGTCATT\n",
    "TAGGTACTG\n",
    "ATGGTAACT\n",
    "CAGGTATAC\n",
    "TGTGTGAGT\n",
    "AAGGTAAGT \n",
    "```\n",
    "\n",
    "Στην αρχή φτιάχνετε το position frequency matrix το οποίο έχει 4 γραμμές και στήλες όσα τα μήκη των ακολουθιών. Κάθε στοιχείο του πίνακα στην στήλη j στη πρώτη γραμμή έχει απλά το πλήθος των βάσεων που είναι A σε αυτή τη θέση. Κάθε στοιχείο της 2ης γραμμής έχει το πλήθος των C κτλ.\n",
    "\n",
    "Δηλαδή το position frequency matrix για το παράδειγμά μας είναι:\n",
    "\n",
    "![img](https://wikimedia.org/api/rest_v1/media/math/render/svg/153972d72914a8cb8ddbda6ee366b4fa8485ead2)\n",
    "\n",
    "Στη συνέχεια βρίσκουμε το position probability matrix  υπολογίζοντας απλά το ποσοστό των A,C,G και T σε κάθε στήλη. Για το παράδειγμά μας δηλαδή το position probability matrix είναι:\n",
    "\n",
    "![img](https://wikimedia.org/api/rest_v1/media/math/render/svg/6940f505c03de60ce26b4f89b9f1e9f867b714c8)\n",
    "\n",
    "Φτιάξτε μία συνάρτηση που θα παίρνει σαν παράμετρο μία λίστα με αποκολουθίες του ίδου μήκους και θα επιστρέφει έναν numpy array με το position probability matrix.\n",
    "\n",
    "Φτιάξτε τώρα μία συνάρτηση η οποία να παίρνει σαν παράμετρο ένα position probability matrix (PPM) και μία ακολουθία. Η συνάρτηση θα επιστρέφει τη πιθανότητα εμφάνισης της ακολουθίαςς με βάση αυτό το (PPM). Αυτή η πιθανότητα ορίζεται ως το γινόμενο των στοιχείων στις στήλες του PPM που αντιστοιχούν στις βάσης της ακολουθίας. Για παράδειγμα έστω η ακολουθία: S = GAGGTAAAC και το παραπάνω PPM. Η πιθανότητα εμφάνισης της S είναι:\n",
    "\n",
    "\n",
    "$p(S\\vert M)=0.1\\times 0.6\\times 0.7\\times 1.0\\times 1.0\\times 0.6\\times 0.7\\times 0.2\\times 0.2=0.0007056$\n",
    "\n"
   ]
  },
  {
   "cell_type": "markdown",
   "metadata": {},
   "source": [
    "### Άσκηση 4\n",
    "\n",
    "\n",
    "Μετά από κοπιαστική έρευνα πολλών χρόνων, έχετε καταφέρει να κάνετε αλληλούχιση ένα πλασμίδιο (κυκλικό DNA). Οι αλληλουχίες αυτές βρίσκονται στα παρακάτω reads, δηλαδή στα παρακάτω \"κομμάτια\" ή \"διαβάσματα\":\n",
    "\n",
    "```python\n",
    "reads = [\n",
    " 'TGTGCGTGACC',\n",
    " 'GCCCTCAGTTG',\n",
    " 'CGTGCAGAGGA',\n",
    " 'AAGCTGCACCA',\n",
    " 'CTCATAATGCT',\n",
    " 'TAACCTGGCGT',\n",
    " 'TGCGTAACCTC',\n",
    " 'CCTTCTTAAAG',\n",
    " 'GGATGTGGTGT',\n",
    " 'CAAGGAGCCCT',\n",
    " 'CTCCTATTACA',\n",
    " 'TTGTCCACCTC',\n",
    " 'ACCTTTTAGCC',\n",
    " 'GGCTAGCCCAC',\n",
    " 'TCAAAATACAA',\n",
    " 'TGGCGTAGGGC',\n",
    " 'CCAGCCAATGC',\n",
    " 'GCTGGCTATCA',\n",
    " 'ACAATAAGTGG',\n",
    " 'CACACTGATAA',\n",
    "]\n",
    "``` \n",
    "\n",
    "Αυτά τα reads έχουν μία ιδιομορφία:\n",
    "* Οι τελευταίες 3 βάσεις κάθε read είναι ίδιες με τις πρώτες 3 βάσεις κάποιου άλλου read.\n",
    "* Οι πρώτες 3 βάσεις κάθε read είναι ίδιες με τις τελευταίες 3 βάσεις κάποιου άλλου read. \n",
    "\n",
    "Ο λόγος που έχει συμβεί αυτό είναι επειδή ο τρόπος που έχει αλληλουχιθεί το πλασμίδιο είναι ο ακόλουθος:\n",
    "\n",
    "Αρχικά \"ξεδιπλώθηκε\" η αλλουχία (δηλάδή από κυκλική έγινε συνεχόμενη). Στη συνέχεια διαβάστηκε όλη η αλληλουχία με μία επικάλυψη τριών βάσεων από τη προηγούμενη. Δηλαδή:\n",
    "\n",
    "```\n",
    "XYZNNNNNNNNNNNNNNNNNNNNNNNNNNNNNXYZ  \n",
    "^^^^^^^^^^^                         <- 1ο read                                 \n",
    "        ^^^^^^^^^^^                 <- 2o read\n",
    "                ^^^^^^^^^^^         <- 3o read\n",
    "                        ^^^^^^^^^^^ <- 4o read\n",
    "```\n",
    "\n",
    "\n",
    "Εδώ φαίνεται ένα παράδειγμα με 4 reads. Παρατηρήστε ότι τα πρώτα 3 και τα τελυταία 3 γράμματα της ακολουθίας είναι τα ίδια. Εσείς έχετε 20 reads. Η σειρά που σας δίνεται είναι τυχαία. Ο σκοπός αυτής της άσκησης είναι να κάνετε assemble αυτά τα reads σε μία ακολουθία. Ποια είναι αυτή η ακολουθία;\n"
   ]
  },
  {
   "cell_type": "markdown",
   "metadata": {},
   "source": [
    "### Άσκηση 5\n",
    "\n",
    "Όπως γνωρίζουμε από τη βιολογία στο τέλος κάθε μετάγραφου υπάρχει η περιοχή 3'UTR. Σύμφωνα με τη wikipedia: https://en.wikipedia.org/wiki/Three_prime_untranslated_region \n",
    "\n",
    "> The length of the 3′-UTR is significant since longer 3′-UTRs are associated with lower levels of gene expression. \n",
    "\n",
    "Δηλαδή όσο πιο μεγάλη αυτή η περιοχή τόσο μεγαλύτερη η έκφραση του μετάγραφου. Νομίζω ότι μπορούμε να ερευνήσουμε λίγο αυτή τη διαπίστωση..\n",
    "\n",
    "Καταρχή μπορούμε να πάμε στο [Expression Atlas](https://www.ebi.ac.uk/gxa/experiments/E-MTAB-5214/Downloads) και να κατεβάσουμε τα δεδομένα από [αυτό το paper](https://europepmc.org/article/MED/25954001). Σε αυτό το πείραμα οι συγγραφείς μελέτησαν την έκφραση σχεδόν όλων των γονιδίων σε 53 διαφορετικούς ιστούς. Μπορείτε να κατεβάσετε το αρχείο [Expression values across all genes (TPM)](https://www.ebi.ac.uk/gxa/experiments-content/E-MTAB-5214/resources/ExperimentDownloadSupplier.RnaSeqBaseline/tpms.tsv) και να το μελετήσετε.. Θα δείτε ότι η πρώτη στήλη είναι το ENSEMBL code για το γονίδιο, η 2η στήλη έχει το όνομα του γονιδίου και οι υπόλοιπες στήλες έχουν την έκφραση του γονιδίου σε διάφορους ιστούς (δεν μας ενδιαφέρει εδώ πως το μετρήσανε ή τι δείχνουν αυτές οι ποσότητες). \n",
    "\n",
    "Τώρα αυτό που χρειάζεται να βρούμε είναι το μήκος της περιοχής 3'UTR για όλα αυτά τα γονίδια. Μπορούμε να πάμε στη GENCODE: https://www.gencodegenes.org/human/  και να κατεβάσουμε το αρχείο GFF3 Comprehensive gene annotation (this is the main annotation file for most users): ftp://ftp.ebi.ac.uk/pub/databases/gencode/Gencode_human/release_36/gencode.v36.annotation.gff3.gz . Μέσα σε αυτό το αρχείο υπάρχουν πληροφορίες για όλα τα γονίδια / μετάγραφα / εξόνια / 5'UTR / 3'UTR του ανθρώπινου γονιδιώματος. \n",
    "\n",
    "Η δομή του αρχείου εξηγείται [εδώ](https://www.gencodegenes.org/pages/data_format.html) (παρόλο που αναφέρεται στο GTF format, το φορμάτ GFF3 είναι παρόμοιο), και [εδώ](https://www.gencodegenes.org/pages/faq.html)\n",
    "\n",
    "Στο αρχείο αυτό υπάρχει για παράδειγμα η εγγραφή:\n",
    "```\n",
    "chrX\tHAVANA\tthree_prime_UTR\t100627108\t100629986\t.\t-\t.\tID=UTR3:ENST00000373020.9;Parent=ENST00000373020.9;gene_id=ENSG00000000003.15;transcript_id=ENST00000373020.9;gene_type=protein_coding;gene_name=TSPAN6;transcript_type=protein_coding;transcript_name=TSPAN6-201;exon_number=8;exon_id=ENSE00001459322.5;level=2;protein_id=ENSP00000362111.4;transcript_support_level=1;hgnc_id=HGNC:11858;tag=basic,MANE_Select,appris_principal_1,CCDS;ccdsid=CCDS14470.1;havana_gene=OTTHUMG00000022002.2;havana_transcript=OTTHUMT00000057483.2\n",
    "```\n",
    "\n",
    "Το οποίο σημαίνει ότι το γονίδο με κωδικό gene_id=ENSG00000000003.15, έχει ένα μετάγραφο (transcript) με κωδικό transcript_id=ENST00000373020.9 το οποίο έχει ένα 3'UTR (three_prime_UTR) το οποίο ξεκινάει από τη θέση 100627108 και τελειώνει στη θέση 100629986. \n",
    "\n",
    "\n",
    "Άρα ξέρουμε ότι το γονίδιο ENSG00000000003 (είναι το πρώτο γονίδιο που αναφέρεται στο Expression Atlas) έχει ένα 3'UTR μς μέγεθος 100629986-100627108=2878. \n",
    "\n",
    "Εδώ όμως υπάρχει ένα πρόβλημα:\n",
    "* Ένα γονίδιο (μπορεί να) έχει πολλά μετάγραφα\n",
    "* Ένα μετάγραφο (μπορεί να) έχει πολλά 3'UTR\n",
    "\n",
    "Για το 2ο πρόβλημα η απάντηση είναι εύκολη. Παίρνουμα απλά το \"τελευταίο\" 3'UTR (το οποίο είναι και συνήθως το μεγαλύτερο). \n",
    "\n",
    "Για το 1ο η απάντηση είναι πιο πολύπλοκη. Όπως παρατηρούμε στα πεδία της εγγραφής του ENSG00000000003 στο GFF3 αρχείο, βλέπουμε διάφορα πεδία. Μερικά από αυτά είναι:\n",
    "* tag=basic,MANE_Select,appris_principal_1,CCDS\n",
    "* transcript_support_level=1 \n",
    "* level=2 \n",
    "\n",
    "Εσείς θα πρέπει να ιεραρχήσετε τα μετάγραφα με βάση αυτή τη πληροφορία! Ο αλγόριθμος που θα χρησιμοποιήσουμε είναι ο εξής:\n",
    "* Πάρε αυτό που έχει tag MANE_Select\n",
    "* Αν υπάρχουν παραπάνω από 1 μετάγραφα με MANE_Select, ή κανένα:\n",
    "   * Πάρε αυτό που έχει tag appris_principal_1 \n",
    "   * Αν υπάρχουν παραπάνω 1 μετάγραφα με tag appris_principal_1 ή κανένα:\n",
    "      * Πάρε αυτό που έχει tag basic \n",
    "      * Αν υπάρχουν παραπάνω από 1 μετάγραφα με tag basic, ή κανένα:\n",
    "         * Πάρε αυτό που έχει tag CCDS.\n",
    "         * Αν υπάρχουν παραπάνω από 1 μετάγραφα με tag CCDS ή κανένα: \n",
    "            * Πάρε αυτό που έχει το μεγαλύτερο transcript_support_level \n",
    "            * Αν υπάρχουν παραπάνω από 1 με το ίδιο (μεγαλύτερο) transcript_support_level ή κανένα:\n",
    "               * Πάρε αυτό με το μεγαλύτερο level\n",
    "               * Αν υπάρχει παραπάνω από 1 με το ίδιο (μεγαλύτερο) level ή κανένα:\n",
    "                  * Αγνόησε αυτό το transcript, αφού τυπώσεις ένα μήνυμα!\n",
    "                     \n",
    "Και αφού αυτή η εκφώνηση με βοήθησε να φτάσω τα markdown bullets του Jupyter στα άκρα μπορούμε να συνεχίσουμε. \n",
    "\n",
    "\n",
    "Για κάθε γονίδιο που υπάρχει στο Expression Atlas πάρτε τον μέσο όρο της έκφρασής του για όλους τους ιστούς. Στη συνέχεια βρείτε το μέγεθος του 3'UTR του γονιδίου αυτό από το GENCODE με βάση τη μέθοδο που περιγράψαμε πριν. Φτιάξτε ένα scatter plot για όλα τα γονίδια όπου X=μήκος 3'UTR του γονιδίου και Y=μέσος όρος της έκφρασης. Από το scatter plot φαίνεται να επιβεβαιώνεται η πρόταση της wikipedia;\n",
    "\n",
    "Προαιρετικά:\n",
    "* Πειραματιστείτε περιορίζοντας την έκφραση μόνο σε συγκεκριμένους ιστούς. Ποιοι φαίνονται να εξαρτώνται περισσότερο από το μέγεθος του 3'UTR και ποιοι το λιγότερο;\n"
   ]
  },
  {
   "cell_type": "markdown",
   "metadata": {},
   "source": [
    "### Άσκηση 6\n",
    "\n",
    "Η ακολουθία του μετάγραφου NM_000059 του γονιδίου BRCA2 βρίσκεται εδώ: https://www.ncbi.nlm.nih.gov/nuccore/NM_000059\n",
    "\n",
    "Από την ακολουθία και μόνο, μπορούμε να εξάγουμε τα ORFs (Open Reading Frames). Ένα ORF ξεκινάει από το start codon (ATG) και σταματάει σε stop codon (TAA, TGA, TAG). Για παράδειγμα σε αυτή την ακολουθία υπάρχει η υπο-ακολουθία:\n",
    "\n",
    "```\n",
    "ATGCAAATATGTTGGTTCTGCTATAGTTCCATCCTGTTCAAAAGTCAGGA\n",
    "TGAATATGAAGAGTGGTGTTTCCTTTTGAGCAATTCTTCATCCTTAAGTC\n",
    "AGCATGATTATAAGAAAAATAGAACCCTCAGTGTAACTCTAATTCCTTTT\n",
    "TACTATTCCAGTGTGATCTCTGAAATTAAATTACTTCAACTAAAAATTCA\n",
    "AATACTTTAA\n",
    "```\n",
    "\n",
    "η οποία ξεκινάει από τη θέση: 11051 και σταματάει στη θέση: 11260. Αυτό είναι ένα  από τα ORFs της ακολουθίας.\n",
    "Ένα μετάγραφο (όπως και αυτό του παραδείγματος) μπορεί να έχει εμφωλευμένα (nested) ORFs δηλαδή ένα ORF να είναι μέσα σε ένα άλλο ORF. \n",
    "\n",
    "Επίσης ένα ORF μπορεί να είναι στο αρνητικό (-) strand. Σε αυτή τη περίπτωση πρέπει να βρούμε μία αντίστροφη και συμπληρωματική ακολουθία (reverse and complementary) η οποία να έχει τα χαρακτηριστικά ενός ORF (δηλαδή ξεκινάει με ένα start codon και σταματάει με ένα stop codon). \n",
    "\n",
    "Για παράδειγμα από τη θέση 5542 έως 5793 υπάρχει η εξής ακολουθία:\n",
    "```\n",
    "TCAAAAAAACACTAGTTTTTCCAAAGTAATATCCAATGTAAAAGATGCAAATGCATACCCACAAACTGTAAATGAAGATATTTGCGTTGAGGAACTTGTGACTAGCTCTTCACCCTGCAAAAATAAAAATGCAGCCATTAAATTGTCCATATCTAATAGTAATAATTTTGAGGTAGGGCCACCTGCATTTAGGATAGCCAGTGGTAAAATCGTTTGTGTTTCACATGAAACAATTAAAAAAGTGAAAGACAT\n",
    "```\n",
    "\n",
    "Αν πάρουμε την αντίστροφη συμπληρωματική της θα δούμε ότι αυτή είναι:\n",
    "```\n",
    "ATGTCTTTCACTTTTTTAATTGTTTCATGTGAAACACAAACGATTTTACC\n",
    "ACTGGCTATCCTAAATGCAGGTGGCCCTACCTCAAAATTATTACTATTAG\n",
    "ATATGGACAATTTAATGGCTGCATTTTTATTTTTGCAGGGTGAAGAGCTA\n",
    "GTCACAAGTTCCTCAACGCAAATATCTTCATTTACAGTTTGTGGGTATGC\n",
    "ATTTGCATCTTTTACATTGGATATTACTTTGGAAAAACTAGTGTTTTTTT\n",
    "GA\n",
    "```\n",
    "\n",
    "Μία ακολουθία δηλαδή που ταιριάζει στη περιγραφή ενός ORF. Σε αυτή τη περίπτωση λέμε ότι η αρχή του ORF είναι στη θέση 5793 και το τέλος του στη θέση 5542 (δηλάδή αρχή > τέλος).\n",
    "\n",
    "Σκοπός της άσκησης αυτής είναι να φτιάξετε μία συνάρτηση η οποία σαν είσοδο θα παίρνει μία ακολουθία και θα επιστρέφει ένα pandas DataFrame με τα ORFs της ακολουθίας. Για παράδειγμα αυτό που θα πρέπει να επιτρέφει για την ακολουθία του NM_000059 είναι:\n",
    "\n"
   ]
  },
  {
   "cell_type": "code",
   "execution_count": 9,
   "metadata": {},
   "outputs": [
    {
     "data": {
      "text/html": [
       "<div>\n",
       "<style scoped>\n",
       "    .dataframe tbody tr th:only-of-type {\n",
       "        vertical-align: middle;\n",
       "    }\n",
       "\n",
       "    .dataframe tbody tr th {\n",
       "        vertical-align: top;\n",
       "    }\n",
       "\n",
       "    .dataframe thead th {\n",
       "        text-align: right;\n",
       "    }\n",
       "</style>\n",
       "<table border=\"1\" class=\"dataframe\">\n",
       "  <thead>\n",
       "    <tr style=\"text-align: right;\">\n",
       "      <th></th>\n",
       "      <th>label</th>\n",
       "      <th>strand</th>\n",
       "      <th>start</th>\n",
       "      <th>stop</th>\n",
       "      <th>length (nt)</th>\n",
       "      <th>length (aa)</th>\n",
       "    </tr>\n",
       "  </thead>\n",
       "  <tbody>\n",
       "    <tr>\n",
       "      <th>0</th>\n",
       "      <td>ORF1</td>\n",
       "      <td>+</td>\n",
       "      <td>200</td>\n",
       "      <td>10456</td>\n",
       "      <td>10257</td>\n",
       "      <td>3418</td>\n",
       "    </tr>\n",
       "    <tr>\n",
       "      <th>1</th>\n",
       "      <td>ORF11</td>\n",
       "      <td>-</td>\n",
       "      <td>6402</td>\n",
       "      <td>6094</td>\n",
       "      <td>309</td>\n",
       "      <td>102</td>\n",
       "    </tr>\n",
       "    <tr>\n",
       "      <th>2</th>\n",
       "      <td>ORF4</td>\n",
       "      <td>+</td>\n",
       "      <td>7866</td>\n",
       "      <td>8141</td>\n",
       "      <td>276</td>\n",
       "      <td>91</td>\n",
       "    </tr>\n",
       "    <tr>\n",
       "      <th>3</th>\n",
       "      <td>ORF12</td>\n",
       "      <td>-</td>\n",
       "      <td>5793</td>\n",
       "      <td>5542</td>\n",
       "      <td>252</td>\n",
       "      <td>83</td>\n",
       "    </tr>\n",
       "    <tr>\n",
       "      <th>4</th>\n",
       "      <td>ORF6</td>\n",
       "      <td>-</td>\n",
       "      <td>1454</td>\n",
       "      <td>1230</td>\n",
       "      <td>225</td>\n",
       "      <td>74</td>\n",
       "    </tr>\n",
       "    <tr>\n",
       "      <th>5</th>\n",
       "      <td>ORF2</td>\n",
       "      <td>+</td>\n",
       "      <td>11051</td>\n",
       "      <td>11260</td>\n",
       "      <td>210</td>\n",
       "      <td>69</td>\n",
       "    </tr>\n",
       "    <tr>\n",
       "      <th>6</th>\n",
       "      <td>ORF7</td>\n",
       "      <td>-</td>\n",
       "      <td>7843</td>\n",
       "      <td>7637</td>\n",
       "      <td>207</td>\n",
       "      <td>68</td>\n",
       "    </tr>\n",
       "    <tr>\n",
       "      <th>7</th>\n",
       "      <td>ORF8</td>\n",
       "      <td>-</td>\n",
       "      <td>991</td>\n",
       "      <td>791</td>\n",
       "      <td>201</td>\n",
       "      <td>66</td>\n",
       "    </tr>\n",
       "    <tr>\n",
       "      <th>8</th>\n",
       "      <td>ORF5</td>\n",
       "      <td>+</td>\n",
       "      <td>11514</td>\n",
       "      <td>11711</td>\n",
       "      <td>198</td>\n",
       "      <td>65</td>\n",
       "    </tr>\n",
       "    <tr>\n",
       "      <th>9</th>\n",
       "      <td>ORF10</td>\n",
       "      <td>-</td>\n",
       "      <td>8352</td>\n",
       "      <td>8161</td>\n",
       "      <td>192</td>\n",
       "      <td>63</td>\n",
       "    </tr>\n",
       "    <tr>\n",
       "      <th>10</th>\n",
       "      <td>ORF9</td>\n",
       "      <td>-</td>\n",
       "      <td>10056</td>\n",
       "      <td>9877</td>\n",
       "      <td>180</td>\n",
       "      <td>59</td>\n",
       "    </tr>\n",
       "    <tr>\n",
       "      <th>11</th>\n",
       "      <td>ORF3</td>\n",
       "      <td>+</td>\n",
       "      <td>5928</td>\n",
       "      <td>6086</td>\n",
       "      <td>159</td>\n",
       "      <td>52</td>\n",
       "    </tr>\n",
       "  </tbody>\n",
       "</table>\n",
       "</div>"
      ],
      "text/plain": [
       "    label strand  start   stop  length (nt)  length (aa)\n",
       "0    ORF1      +    200  10456        10257         3418\n",
       "1   ORF11      -   6402   6094          309          102\n",
       "2    ORF4      +   7866   8141          276           91\n",
       "3   ORF12      -   5793   5542          252           83\n",
       "4    ORF6      -   1454   1230          225           74\n",
       "5    ORF2      +  11051  11260          210           69\n",
       "6    ORF7      -   7843   7637          207           68\n",
       "7    ORF8      -    991    791          201           66\n",
       "8    ORF5      +  11514  11711          198           65\n",
       "9   ORF10      -   8352   8161          192           63\n",
       "10   ORF9      -  10056   9877          180           59\n",
       "11   ORF3      +   5928   6086          159           52"
      ]
     },
     "execution_count": 9,
     "metadata": {},
     "output_type": "execute_result"
    }
   ],
   "source": [
    "df"
   ]
  },
  {
   "cell_type": "markdown",
   "metadata": {},
   "source": [
    "Σε αυτό το DataFrame:\n",
    "* ```label``` θα είναι ένας μοναδικός κωδικός (ό,τι θέλετε εσεις αρκει να είναι μοναδικό για κάθε ORF). \n",
    "* ```length (nt)```: είναι το μήκος του ORF σε nucleotides (nt). Είναι ίσο με stop-start+1\n",
    "* ```length (aa)```: είναι το μήκος του ORF σε aminoacids (nt). Είναι ίσο με (stop-start-2)/3\n",
    "\n",
    "Το εργαλείο orffinder: https://www.ncbi.nlm.nih.gov/orffinder/ κάνει ακριβώς αυτή τη δουλεία! και μπορείτε να το χρησιμοποιήσετε για να ελέγξετε την υλοποίησή σας!"
   ]
  },
  {
   "cell_type": "markdown",
   "metadata": {},
   "source": [
    "### Άσκηση 7\n",
    "\n",
    "Η [Arabidopsis thaliana](https://en.wikipedia.org/wiki/Arabidopsis_thaliana) είναι ένας οργανισμός ο οποίος θεωρείται πρότυπο  (model organism) στη γονιωματική μελέτη των φυτών. Το γονιδίωμα του φυτού αποτελείται από τρία μέρη: Το πυρηνικό DNA, το χλωροπλαστικό DNA, και το μιτοχονδριακό DNA. Εδώ θα ασχοληθούμε με το  χλωροπλαστικό DNA (plastome). Αυτό το DNA αποτελείται από 154,478 βάσεις και έχει κυκλικό σχήμα. Η wikipedia έχει ένα πολύ καλό σχήμα αυτή της δομής:\n",
    "\n",
    "![img](https://upload.wikimedia.org/wikipedia/commons/f/fa/Plastomap_of_Arabidopsis_thaliana.svg)\n",
    "\n",
    "Αν πάμε εδώ: ftp://ftp.ensemblgenomes.org/pub/plants/release-49/gff3/arabidopsis_thaliana \n",
    "\n",
    "Μπορείτε να κατεβάσετε το αρχείο Arabidopsis_thaliana.TAIR10.49.chromosome.Pt.gff3.gz το οποίο περιέχει τις θέσεις και τα ονόματα όλων των γονιδίων του χλωροπλαστικού DNA. Για παράδειγμα μέσα στο αρχείο αυτό θα δούμε την εξής γραμμή:\n",
    "\n",
    "```\n",
    "Pt      araport11       gene    383     1444    .       -       .       ID=gene:ATCG00020;Name=PSBA\n",
    "```\n",
    "\n",
    "Δηλαδή στο αρνητικό strand υπάρχει ένα γονίδιο με το όνομα PSBA το οποίο ξεκινάει από τη θέση 383 έως τη θέση 1444.\n",
    "\n",
    "Εσείς θα πρέπει να φτιάξετε ένα plot σαν αυτό της wikipedia (αυτό το είδος ονομάζεται και circos plots) με όλα τα γονίδια του plastome της Arabidopsis. Για να το κάνετε αυτό απλά πρέπει να φτιάξετε πολλά τόξα πάνω σε δύο κύκλους (ένα για το \"+\" strand και ένα για το \"-\" strand). Δίνεται ο παρακάτω κώδικας ο οποίος τυπώνει δύο τόξα σε δύο κύκλους. Το πρώτο τόξο είναι από τις 100 μέχρι 200 μοίρες (από τις 360) ενός κύκλου με ακτίνα 1 και το δεύτερο είναι από τις 150 μέχρι τις 250 μοίρες σε έναν κύκλο με ακτίνα 1.5. Και τα δύο τόξα έχουν ως κέντρο το σημείο (0,0).\n"
   ]
  },
  {
   "cell_type": "code",
   "execution_count": 55,
   "metadata": {},
   "outputs": [
    {
     "data": {
      "image/png": "[encoded data removed]",
      "text/plain": [
       "<Figure size 432x288 with 1 Axes>"
      ]
     },
     "metadata": {
      "needs_background": "light"
     },
     "output_type": "display_data"
    }
   ],
   "source": [
    "from matplotlib.patches import Wedge\n",
    "from matplotlib.collections import PatchCollection\n",
    "import matplotlib.pyplot as plt\n",
    "\n",
    "fig, ax = plt.subplots()\n",
    "\n",
    "patches = [\n",
    "    \n",
    "    Wedge((0.0, 0.0), 1, 100, 200, width=0.05),\n",
    "    Wedge((0.0, 0.0), 1.5, 150, 250, width=0.05),\n",
    "]\n",
    "\n",
    "p = PatchCollection(patches)\n",
    "ax.add_collection(p)\n",
    "ax.set_xlim((-2, 2))\n",
    "ax.set_ylim((-2, 2))\n",
    "ax.set_aspect('equal')\n",
    "\n",
    "plt.show()"
   ]
  },
  {
   "cell_type": "markdown",
   "metadata": {},
   "source": [
    "Στην υλοποίησή σας:\n",
    "* Δεν χρειάζετε να βάλετε τα ονόματα των γονιδίων (αν το βάλετε φυσικά δεν θα είναι λάθος..)\n",
    "* Δεν χρειάζετε να χρωματίσετε τα γονίδια διαφορετικά ανάλογα με το είδος τους (αν το κάνετε δεν θα είναι λάθος...)\n",
    "* Είστε ελεύθεροι να κάνετε ό,τι στυλιστικές διορθώσεις θέλετε!\n",
    "* Αν και ο κώδικας που σας δίνεται είναι αρκετός, μπορείτε και να πειραματιστείτε με βιβλιοθήκες της python που κάνουν circos plots. Π.χ. https://github.com/ponnhide/pyCircos "
   ]
  },
  {
   "cell_type": "markdown",
   "metadata": {},
   "source": [
    "### Άσκηση 8\n",
    "\n",
    "Η [KEGG](https://www.genome.jp/kegg/) είναι ίσως η πιο γνωστή βάση δεδομένων η οποία περιέχει βιολογικά μονοπάτια (pathways). Η KEGG επίσης έχει ένα API μέσω του οποίου μπορούμε να προσπαλάσουμε τη βάση προγραμματιστικά. Κάθε γονίδιο στη KEGG έχει έναν μοναδικό κωδικό ο οποίος ξεκινάει από hsa. Για παράδειγμα το γονίδιο BRCA2 έχει κωδικό: hsa:675 . \n",
    "\n",
    "Σε αυτό το URL: http://rest.kegg.jp/list/hsa \n",
    "\n",
    "υπάρχει μία λίστα με όλα τα γονίδια και τους κωδικούς KEGG που περιέχει η λίστα. Αν ψάξουμε σε αυτή τη λίστα για το BRCA2 θα βρούμε πολλές εγγραφές:\n",
    "\n",
    "```\n",
    "hsa:56647\tBCCIP, TOK-1, TOK1; BRCA2 and CDKN1A interacting protein\n",
    "hsa:79728\tPALB2, FANCN, PNCA3; partner and localizer of BRCA2\n",
    "hsa:56946\tEMSY, C11orf30, GL002; EMSY transcriptional repressor, BRCA2 interacting\n",
    "hsa:675\tBRCA2, BRCC2, BROVCA2, FACD, FAD, FAD1, FANCD, FANCD1, GLM3, PNCA2, XRCC11; BRCA2 DNA repair associated\n",
    "hsa:79184\tBRCC3, BRCC36, C6.1A, CXorf53; BRCA1/BRCA2-containing complex subunit 3\n",
    "```\n",
    "\n",
    "Αυτές οι εγγραφές βλέπουμε ότι έχουν 3 πεδία. Έναν κωδικό (hsa:56647) μία λίστα από γονίδια η οποία τελειώνει με τον χαρακτήρα ```;``` και μία περιγραφή. \n",
    "\n",
    "Εμας μας ενδιαφέρει ο κωδικός ο οποίος έχει το γονίδιο που μας ενδιαφέρει στη λίστα. Δηλαδή στη περίπτωσή μας η εγγραφή:\n",
    "\n",
    "```\n",
    "hsa:675\tBRCA2, BRCC2, BROVCA2, FACD, FAD, FAD1, FANCD, FANCD1, GLM3, PNCA2, XRCC11; BRCA2 DNA repair associated\n",
    "```\n",
    "\n",
    "Από αυτή την εγγραφή βγάζουμε το συμπέρασμα ότι ο κωδικός για το BRCA2 στη KEGG είναι το hsa675.\n",
    "\n",
    "Το επόμενο βήμα είναι να δούμε πια μεταβολικά μονοπάτια έχουν μέσα τους αυτό το γονίδιο. Αυτό γίνεται με ην ακόλουθη κλήση:\n",
    "\n",
    "http://rest.kegg.jp/link/pathway/hsa:675\n",
    "\n",
    "Αυτό μας επιστρέφει μία λίστα από μεταβολικά μονοπάτια:\n",
    "\n",
    "```\n",
    "hsa:675\tpath:hsa03440\n",
    "hsa:675\tpath:hsa03460\n",
    "hsa:675\tpath:hsa05200\n",
    "hsa:675\tpath:hsa05212\n",
    "hsa:675\tpath:hsa05224\n",
    "```\n",
    "\n",
    "Τώρα μπορούμε να κατεβάσουμε αυτά τα μονοπάτια με την εξής κλήση:\n",
    "http://rest.kegg.jp/get/hsa03440/kgml\n",
    "\n",
    "Προσοχή! Αν πατήσετε το link θα δείτε ότι δεν περιέχει τίποτα! Αν όμως το ανοίξετε μέσω της requests τότε θα δείτε ότι περιέχει ένα αρχείο XML. Ευτυχώς ΔΕΝ χρειάζεται να το παρσάρουμε! Υπάρχει η βιβλιοθήκη [xmltodict](https://github.com/martinblech/xmltodict) η οποία μετατρέπει ένα XML σε python dictionary.\n",
    "\n",
    "Μπορείτε να την εγκαταστήσετε από το jupyter με:\n",
    "```bash\n",
    "!pip install xmltodict\n",
    "```\n",
    "\n",
    "Για να το δούμε να δουλεύει:\n"
   ]
  },
  {
   "cell_type": "code",
   "execution_count": 87,
   "metadata": {},
   "outputs": [],
   "source": [
    "import requests\n",
    "import xmltodict\n",
    "\n",
    "r = requests.get('http://rest.kegg.jp/get/hsa03440/kgml')\n",
    "text = r.text\n",
    "r.close()\n",
    "\n",
    "d = xmltodict.parse(text)"
   ]
  },
  {
   "cell_type": "markdown",
   "metadata": {},
   "source": [
    "Τώρα έχουμε το μεταβολικό μονοπάτι hsa03440 σε ένα python dictionary! Το μονοπάτι αυτό έχει κόμβους και ακμές. Οι κόμβοι είναι μία λίστα: ```d['pathway']['entry']```. Ας πάρουμε έναν τυχαίο κόμβο (τον 61ο) "
   ]
  },
  {
   "cell_type": "code",
   "execution_count": 97,
   "metadata": {},
   "outputs": [
    {
     "data": {
      "text/plain": [
       "OrderedDict([('@id', '327'),\n",
       "             ('@name', 'hsa:51720'),\n",
       "             ('@type', 'gene'),\n",
       "             ('@link', 'http://www.kegg.jp/dbget-bin/www_bget?hsa:51720'),\n",
       "             ('graphics',\n",
       "              OrderedDict([('@name', 'UIMC1, RAP80, X2HRIP110'),\n",
       "                           ('@fgcolor', '#000000'),\n",
       "                           ('@bgcolor', '#BFFFBF'),\n",
       "                           ('@type', 'rectangle'),\n",
       "                           ('@x', '1159'),\n",
       "                           ('@y', '293'),\n",
       "                           ('@width', '46'),\n",
       "                           ('@height', '17')]))])"
      ]
     },
     "execution_count": 97,
     "metadata": {},
     "output_type": "execute_result"
    }
   ],
   "source": [
    "d['pathway']['entry'][60]"
   ]
  },
  {
   "cell_type": "markdown",
   "metadata": {},
   "source": [
    "Παρατηρούμε ότι πρόκειται για ένα γονίδιο με κωδικό ```hsa:51720```, το οποίο στον γράφο έχει το ID 327 και όνομα: ```UIMC1, RAP80, X2HRIP110```. \n",
    "\n",
    "Οι ακμές του γράφου είναι σε μία λίστα ```d['pathway']['relation']```. Ας πάρουμε τώρα μία τυχαία ακμή (την 2η)"
   ]
  },
  {
   "cell_type": "code",
   "execution_count": 110,
   "metadata": {},
   "outputs": [
    {
     "data": {
      "text/plain": [
       "OrderedDict([('@entry1', '324'),\n",
       "             ('@entry2', '329'),\n",
       "             ('@type', 'PPrel'),\n",
       "             ('subtype',\n",
       "              OrderedDict([('@name', 'binding/association'),\n",
       "                           ('@value', '---')]))])"
      ]
     },
     "execution_count": 110,
     "metadata": {},
     "output_type": "execute_result"
    }
   ],
   "source": [
    "d['pathway']['relation'][1]"
   ]
  },
  {
   "cell_type": "markdown",
   "metadata": {},
   "source": [
    "Εδώ βλέπουμε ότι υπάρχει μία ακμή που ξεκινάει από το ID 324 και καταλήγει στο ID 329. Επίσης βλέπου με ότι η ακμή αυτή δηλώνει \"binding/association\". Λίστα με όλες τις δυνατές ακμές υπάρχει εδώ: https://www.genome.jp/kegg/xml/docs/ (ψάξτε για \"name and value attributes\").\n",
    "\n",
    "Τώρα μπορούμε να φτιάξουμε έναν γράφο σε python με όλες τις δυνατές συσχετίσεις στα μεταβολικά μονοπάτια που έχει το γονίδιο BRCA2. Για να το κάνουμε αυτό θα χρειαστούμε τη βιβλιοθήκη [networkx](https://networkx.org/). Μπορείτε να την εγκαταστήσετε από το jupyter με:\n",
    "\n",
    "```\n",
    "!pip install networkx\n",
    "```\n",
    "\n",
    "Στη networkx μπορούμε να φτιάξουμε έναν κατευθυνόμενο γράφο ως εξής:\n",
    "\n",
    "\n"
   ]
  },
  {
   "cell_type": "code",
   "execution_count": 114,
   "metadata": {},
   "outputs": [],
   "source": [
    "import networkx as nx\n",
    "\n",
    "G = nx.DiGraph()\n",
    "\n",
    "\n",
    "G.add_edge('AAA', 'BBB',) # Ακμή: AAA --> BBB\n",
    "G.add_edge('BBB', 'CCC') # Ακμή: BBB --> CCC\n",
    "G.add_edge('BBB', 'DDD') # Ακμή: BBB --> DDD\n",
    "\n"
   ]
  },
  {
   "cell_type": "markdown",
   "metadata": {},
   "source": [
    "Αυτόν τον γράφο μπορύμε να τον δούμε ως εξής:\n"
   ]
  },
  {
   "cell_type": "code",
   "execution_count": 116,
   "metadata": {},
   "outputs": [
    {
     "data": {
      "image/png": "[encoded data removed]",
      "text/plain": [
       "<Figure size 432x288 with 1 Axes>"
      ]
     },
     "metadata": {
      "needs_background": "light"
     },
     "output_type": "display_data"
    }
   ],
   "source": [
    "pos = nx.spring_layout(G)\n",
    "nx.draw_networkx(G,pos)"
   ]
  },
  {
   "cell_type": "markdown",
   "metadata": {},
   "source": [
    "Μπορούμε επίσης να βάλουμε ταμπέλες (labels) στις ακμές!"
   ]
  },
  {
   "cell_type": "code",
   "execution_count": 121,
   "metadata": {},
   "outputs": [
    {
     "data": {
      "image/png": "[encoded data removed]",
      "text/plain": [
       "<Figure size 432x288 with 1 Axes>"
      ]
     },
     "metadata": {
      "needs_background": "light"
     },
     "output_type": "display_data"
    }
   ],
   "source": [
    "pos = nx.spring_layout(G)\n",
    "nx.draw_networkx(G,pos)\n",
    "_ = nx.draw_networkx_edge_labels(G,pos,\n",
    "    edge_labels = {\n",
    "        ('AAA', 'BBB'): '-->',\n",
    "        ('BBB', 'DDD'): '---',\n",
    "        ('BBB', 'CCC'): '+p',\n",
    "    })\n"
   ]
  },
  {
   "cell_type": "markdown",
   "metadata": {},
   "source": [
    "\n",
    "Σκοπός αυτή της άσκησης είναι να φτιάξετε μία συνάρτηση python η οποία να έχει σαν όρισμα το όνομα ενός γονιδίου και να φτιάχνει και να τυπώνει έναν γράφο με τις σχέσεις με τα διάφορα γονίδια που υπάρχουν στα μεταβολικά μονοπάτια που εμπλέκεται αυτό το γονίδιο. Δηλαδή θα πρέπει:\n",
    "\n",
    "* Να βρίσκει το KEGG κωδικό του γονιδίου\n",
    "* Να βρίσκει όλα τα μονοπάτια που περιέχον αυτό το γονίδιο\n",
    "* Να κατεβάζει όλα αυτά τα μονοπάτια από τη KEGG και να τα μετατρέπει σε dictionaries\n",
    "* Να παίρνει όλα τα edges που υπάρχουν σε αυτά τα μονοπάτια και να τα βάζει σε **ΕΝΑΝ** γράφο. \n",
    "* Υπάρχουν ακμές που δεν έχουν κάποιο τύπο (π.χ. ```d['pathway']['relation'][6]```).  Αγνοήστε τες. \n",
    "\n",
    "Bonus:\n",
    "* Οι ακμές για κάθε διαφορετικό μονοπάτι να έχουν διαφορετικό χρώμα. Δηλαδή για το BRCA2 εμείς βρήκαμε 5 μονοπάτια (hsa03440, hsa03460, hsa05200, hsa05212, hsa05224). Οπότε θα πρέπει να χρησιμοποιήσετε 5 διαφορετικά χρώματα. \n",
    "* Ο κόμβος που περιέχει το αρχικό γωνίδιο να έχει ένα διαφορετικό χρώμα ώστε να φαίνεται η θέση του εύκολα στον γράφο.\n",
    "* Οτιδήποτε άλλο θεωρείτε εσείς ότι μπορεί να ομορφύνει τον γράφο..\n",
    "\n"
   ]
  },
  {
   "cell_type": "markdown",
   "metadata": {},
   "source": [
    "### Άσκηση 9\n",
    "\n",
    "Βρείτε τη μικρότερη δυνατή ακολουθία που ΔΕΝ υπάρχει στο χρωμόσωμα 22 του ανθρώπου.\n",
    "\n",
    "Bonus: Βρείτε τη μικρότερη ακολουθία που ΔΕΝ υπάρχει σε όλο το ανθρώπινο γονιδίωμα"
   ]
  },
  {
   "cell_type": "markdown",
   "metadata": {},
   "source": [
    "### Άσκηση 10\n",
    "\n",
    "Έστω ότι έχετε 10 \"αντικείμενα\" και έστω ότι μπορείτε να ορίσετε μία απόσταση μεταξύ οποιαδήποτε δύο από αυτά. Για παράδειγμα:\n",
    "\n",
    "\n"
   ]
  },
  {
   "cell_type": "code",
   "execution_count": 166,
   "metadata": {},
   "outputs": [],
   "source": [
    "import random\n",
    "\n",
    "o = [random.random() for x in range(10)]\n",
    "\n",
    "def distance(a,b):\n",
    "    return abs(a-b)\n"
   ]
  },
  {
   "cell_type": "markdown",
   "metadata": {},
   "source": [
    "Τώρα μπορείτε να υπολογίσετε την απόσταση μεταξύ όλων των δυνατών ζευγαριών:"
   ]
  },
  {
   "cell_type": "code",
   "execution_count": 182,
   "metadata": {},
   "outputs": [],
   "source": [
    "from itertools import combinations\n",
    "all_distances = [distance(x,y) for x,y in combinations(o,2)]\n"
   ]
  },
  {
   "cell_type": "markdown",
   "metadata": {},
   "source": [
    "Και να φτιάξετε ένα δενδρόγραμμα:"
   ]
  },
  {
   "cell_type": "code",
   "execution_count": 188,
   "metadata": {},
   "outputs": [
    {
     "data": {
      "image/png": "[encoded data removed]",
      "text/plain": [
       "<Figure size 432x288 with 1 Axes>"
      ]
     },
     "metadata": {
      "needs_background": "light"
     },
     "output_type": "display_data"
    }
   ],
   "source": [
    "from scipy.cluster.hierarchy import dendrogram, linkage\n",
    "\n",
    "l = linkage(all_distances)\n",
    "dn = dendrogram(l)\n"
   ]
  },
  {
   "cell_type": "markdown",
   "metadata": {},
   "source": [
    "Αν ρίξουμε μια ματιά στις αρχικές τιμές θα καταλάβουμε αμέσως τη δομή του δενδρογράμματος. "
   ]
  },
  {
   "cell_type": "code",
   "execution_count": 191,
   "metadata": {},
   "outputs": [
    {
     "data": {
      "text/plain": [
       "[(0, 0.14723712206540718),\n",
       " (1, 0.013586554415206398),\n",
       " (2, 0.31912701432328816),\n",
       " (3, 0.3187087623479772),\n",
       " (4, 0.7447664177223948),\n",
       " (5, 0.20977279804821347),\n",
       " (6, 0.0011267276391725423),\n",
       " (7, 0.002143416890737937),\n",
       " (8, 0.3755675961553716),\n",
       " (9, 0.003968557619038138)]"
      ]
     },
     "execution_count": 191,
     "metadata": {},
     "output_type": "execute_result"
    }
   ],
   "source": [
    "list(enumerate(o))"
   ]
  },
  {
   "cell_type": "markdown",
   "metadata": {},
   "source": [
    "Στο θέμα μας τώρα:\n",
    "\n",
    "Εδώ: https://www.ncbi.nlm.nih.gov/geo/download/?acc=GSE104399&format=file υπάρχει ένα tar αρχείο. Αν το αποσυμπιέσετε θα βρείτε τα αποτελέσματα από CHiP-seq για [αυτή τη μελέτη](https://www.ncbi.nlm.nih.gov/geo/query/acc.cgi?acc=GSE104399)\n",
    "\n",
    "Κάθε ένα αρχείο περιέχει κάποιες περιοχές για παράδειγμα:\n"
   ]
  },
  {
   "cell_type": "code",
   "execution_count": 198,
   "metadata": {},
   "outputs": [
    {
     "name": "stdout",
     "output_type": "stream",
     "text": [
      "1\t10198\t10597\tMACS_peak_1\t130.86\r\n",
      "1\t713898\t714398\tMACS_peak_2\t253.56\r\n",
      "1\t762648\t763198\tMACS_peak_3\t142.57\r\n",
      "1\t868448\t868898\tMACS_peak_4\t244.36\r\n",
      "1\t894498\t894798\tMACS_peak_5\t83.97\r\n",
      "1\t901548\t901948\tMACS_peak_6\t175.89\r\n",
      "1\t912048\t912448\tMACS_peak_7\t351.13\r\n",
      "1\t935548\t935798\tMACS_peak_8\t121.82\r\n",
      "1\t941798\t942248\tMACS_peak_9\t159.85\r\n",
      "1\t948548\t948948\tMACS_peak_10\t106.44\r\n"
     ]
    }
   ],
   "source": [
    "!head ../Downloads/GSM2797143_wz1023.peak.intersect.bed"
   ]
  },
  {
   "cell_type": "code",
   "execution_count": 200,
   "metadata": {},
   "outputs": [
    {
     "name": "stdout",
     "output_type": "stream",
     "text": [
      "1\t10158\t10552\tMACS_peak_1\t246.35\r\n",
      "1\t1065605\t1065924\tMACS_peak_4\t74.96\r\n",
      "1\t1365065\t1365455\tMACS_peak_5\t164.84\r\n",
      "1\t1714355\t1714755\tMACS_peak_6\t136.20\r\n",
      "1\t2466755\t2467044\tMACS_peak_7\t72.30\r\n",
      "1\t3541005\t3541455\tMACS_peak_8\t168.48\r\n",
      "1\t5168805\t5169184\tMACS_peak_9\t138.16\r\n",
      "1\t5491055\t5491405\tMACS_peak_10\t112.18\r\n",
      "1\t5658098\t5658376\tMACS_peak_11\t112.17\r\n",
      "1\t6453505\t6454055\tMACS_peak_12\t355.91\r\n"
     ]
    }
   ],
   "source": [
    "!head ../Downloads/GSM2797132_wz1012.peak.intersect.bed"
   ]
  },
  {
   "cell_type": "markdown",
   "metadata": {},
   "source": [
    "Βλέπουμε ότι οι περιοχές αυτές έχουν και ένα όνομα π.χ. (```MACS_peak_1```). Ορίζουμε λοιπόν την απόσταση δύο αρχείων ώς τη [Jaccard Distance](https://en.wikipedia.org/wiki/Jaccard_index) των συνόλων των ονομάτων των περιοχών τους.\n",
    "\n",
    "Φτιάξτε ένα δενδρόγραμμα για όλα τα αρχεία με βάση τις αποστάσεις αυτές. \n",
    "\n",
    "Και λίγο βιολογία τώρα (προαιρετικό βήμα):\n",
    "Αυτό το πείραμα προέρχεται από [αυτή τη δημοσίεση](https://www.nature.com/articles/s41467-018-02856-2). Κάθε αρχείο στο tar που κατεβάσατα περιέχει τα αποτελέσματα του CHiP-seq για ένα δείγμα. Αν πάτε σε αυτό το λινκ: https://www.ncbi.nlm.nih.gov/geo/query/acc.cgi?acc=GSE104399 και ακολουθήσετε τους συνδέσμους για όλα τα δείγματα θα δείτε και το είδος του πειράματος αλλά και τον φαινότυπο των δειγμάτων. Εκεί μπορείτε να δείτε ότι πρόκειται για δείγματα με καρκίνο μαστού για άνδρες και γυναίκες τα οποία έχουν γίνει targetted σε 6 παράγοντες (steroid hormone receptors (ER, AR, PR, GR) together with pioneer factors (FOXA1, GATA3). Μπορείτε να προσθέσετε στα labels του δενδρογράμματος πληροφορία για το είδος του factor (ER, AR, PR, GR, FOXA1, GATA3) και το είδος του φαινότυπου (MBC=Male Breast Cancer, FBC=Female Breast Cancer);\n"
   ]
  },
  {
   "cell_type": "markdown",
   "metadata": {},
   "source": [
    "### Άσκηση 11\n",
    "Για την αναπαράσταση φυλογενετικών δέντρων συχνά χρησιμοποιούμε το [newick format](https://en.wikipedia.org/wiki/Newick_format). Υπάρχουν πολλές εκδοχές αυτού του φορματ αλλά για αυτή την άσκηση θα χρησιμοποιήσουμε αυτό όπου υπάρχουν παντού αποστάσεις και παντού ονόματα:\n",
    "\n",
    "```\n",
    "(A:0.1,B:0.2,(C:0.3,D:0.4)E:0.5)F;\n",
    "```\n",
    "\n",
    "Γράψτε λοιπόν μία συνάρτηση η οποία να δέχεται ένα string σε newick format σαν το παράδειγμα (με αποστάσεις και ονόματα) και να τυπώνει το αντίστοιχο δέντρο. Μπορείτε να αγνοήσετε τις αποστάσεις. Για παράδειγμα το δέντρο που πρέπει να εμφανίζει το παράδειγμα είναι:\n",
    "\n",
    "\n"
   ]
  },
  {
   "cell_type": "code",
   "execution_count": 204,
   "metadata": {},
   "outputs": [
    {
     "data": {
      "image/png": "[encoded data removed]",
      "text/plain": [
       "<Figure size 432x288 with 1 Axes>"
      ]
     },
     "metadata": {
      "needs_background": "light"
     },
     "output_type": "display_data"
    }
   ],
   "source": [
    "import networkx as nx\n",
    "\n",
    "G = nx.Graph()\n",
    "G.add_edge('F', 'A')\n",
    "G.add_edge('F', 'B')\n",
    "G.add_edge('F', 'E')\n",
    "G.add_edge('E', 'C')\n",
    "G.add_edge('E', 'D')\n",
    "\n",
    "pos = nx.spring_layout(G)\n",
    "nx.draw_networkx(G,pos)\n",
    "\n"
   ]
  },
  {
   "cell_type": "markdown",
   "metadata": {},
   "source": [
    "Αν θέλετε μπορείτε να πειραματιστείτε ώστε να το layout του γράφου να μοιάζει περισσότερο με δέντρο: https://stackoverflow.com/questions/11479624/is-there-a-way-to-guarantee-hierarchical-output-from-networkx "
   ]
  },
  {
   "cell_type": "markdown",
   "metadata": {},
   "source": [
    "### Άσκηση 12\n",
    "\n",
    "Αυτό το αρχείο:\n",
    "https://www.dropbox.com/s/brqaopz8g2vs0ox/covid_fasta.gz?dl=1\n",
    "\n",
    "Περιέχει 8,728 ακολουθίες του ιού COVID. Οι ακολουθίες είναι όσες:\n",
    "* Είναι complete (δεν έχουν missing nucleotides)\n",
    "* Έχουν μεγάλο coverage\n",
    "* Έχουν συλλεχθεί μετά τις 1 Ιουνίου 2020\n",
    "\n",
    "Αφού κατεβάσετε το αρχείο μπορείτε να το ανοίξετε με:"
   ]
  },
  {
   "cell_type": "code",
   "execution_count": 208,
   "metadata": {},
   "outputs": [
    {
     "name": "stdout",
     "output_type": "stream",
     "text": [
      ">hCoV-19/Italy/FVG-ICGEB-S208/2020|EPI_ISL_498558|2020-07\n",
      "\n",
      "ATTAAAGGTTTATACTTTCCCAGGTAACAAACCAACCAACTTTCGATCTCTTGTAGATCTGTTCTCTAAACGAACTTTAA\n",
      "\n"
     ]
    }
   ],
   "source": [
    "import gzip\n",
    "\n",
    "with gzip.open('../Downloads/covid_fasta.gz', 'rt') as f:\n",
    "    first_line = f.readline()\n",
    "    second_line = f.readline()\n",
    "    print (first_line)\n",
    "    print (second_line)\n"
   ]
  },
  {
   "cell_type": "markdown",
   "metadata": {},
   "source": [
    "Το αρχείο είναι σε φορμά fasta. Δηλαδή έχει μία επικεφαλίδα και μετά ακολουθούν πολλές γραμμές με την ακολουθία, όπου κάθε γραμμή έχει 80 βάσεις. Βλέπουμε ότι στην επικεφαλίδα περιέχει και την χώρα από όπου προήλθε το δείγμα που αλληλουχήθηκε.\n",
    "\n",
    "Στη συνέχεια θα δούμε πως.. κάνουμε plot γεωγραφικές κατανομές.\n",
    "\n",
    "Για αρχή κάνουμε install τη geopandas και τη descartes:\n",
    "\n",
    "```\n",
    "! pip install geopandas\n",
    "! pip install descartes\n",
    "```"
   ]
  },
  {
   "cell_type": "markdown",
   "metadata": {},
   "source": [
    "Στη συνέχεια \"φορτώνουμε\" τις γεωγραφικές συντεταγμένες των χωρών:"
   ]
  },
  {
   "cell_type": "code",
   "execution_count": 237,
   "metadata": {},
   "outputs": [],
   "source": [
    "import geopandas\n",
    "world = geopandas.read_file(geopandas.datasets.get_path('naturalearth_lowres'))"
   ]
  },
  {
   "cell_type": "markdown",
   "metadata": {},
   "source": [
    "Σε αυτό το DataFrame μπορούμε να προσθέσουμε μία νέα στήλη η οποία να έχει κάποια τιμή για κάθε χώρα. Ας βάλουμε 100 για την Ελλάδα, 200 για την Ιταλία και 300 για τη Γερμανία:"
   ]
  },
  {
   "cell_type": "code",
   "execution_count": 239,
   "metadata": {},
   "outputs": [],
   "source": [
    "\n",
    "def new_function(row):\n",
    "    name = row['name']\n",
    "    if name == 'Greece':\n",
    "        return 100\n",
    "    if name == 'Italy':\n",
    "        return 200\n",
    "    if name == 'Germany':\n",
    "        return 300\n",
    "    \n",
    "    return 0\n",
    "\n",
    "world['new_column'] = world.apply(new_function, axis=1)"
   ]
  },
  {
   "cell_type": "markdown",
   "metadata": {},
   "source": [
    "Και τώρα μπορούμε να κάνουμε plot αυτή τη νέα πληροφορία!"
   ]
  },
  {
   "cell_type": "code",
   "execution_count": 240,
   "metadata": {},
   "outputs": [
    {
     "data": {
      "text/plain": [
       "<matplotlib.axes._subplots.AxesSubplot at 0x1a2bd6f240>"
      ]
     },
     "execution_count": 240,
     "metadata": {},
     "output_type": "execute_result"
    },
    {
     "data": {
      "image/png": "[encoded data removed]",
      "text/plain": [
       "<Figure size 720x576 with 2 Axes>"
      ]
     },
     "metadata": {
      "needs_background": "light"
     },
     "output_type": "display_data"
    }
   ],
   "source": [
    "import matplotlib.pyplot as plt\n",
    "from mpl_toolkits.axes_grid1 import make_axes_locatable\n",
    "\n",
    "fig, ax = plt.subplots(1, 1, figsize=(10, 8))\n",
    "divider = make_axes_locatable(ax)\n",
    "cax = divider.append_axes(\"right\", size=\"5%\", pad=0.1)\n",
    "world.plot(column='new_column', ax=ax, legend=True, cax=cax)\n"
   ]
  },
  {
   "cell_type": "markdown",
   "metadata": {},
   "source": [
    "Σε αυτή την άσκηση θα πρέπει να κάνετε ένα world plot, το οποίο για κάθε χώρα θα περιέχει το πλήθος των ακολουθιών του COVID που υπάρχουν στο αρχείο που κατεβάσατε."
   ]
  },
  {
   "cell_type": "markdown",
   "metadata": {},
   "source": [
    "### Άσκηση 13\n",
    "\n",
    "Έχοντας κάνει μία γεωγραφική κατανομή μπορούμε να μπούμε πιο βαθειά στις αλληλουχίες του COVID!\n",
    "\n",
    "Βρείτε μία τυχαία ακολουθία από το αρχείο που κατεβάσατε και κάνετε ένα plot με το [ποσοστό των GC νουκλεοτιδίων](https://en.wikipedia.org/wiki/GC-content) που έχει. Για να το κάνουμε αυτό χρησιμοποιούμε ένα \"παράθυρο\" συγκεκριμένου μήκους στο οποίο μετράμε τον λόγο:\n",
    "\n",
    "$GC=\\cfrac{G+C}{A+T+G+C}$\n",
    "\n",
    "* Θέτουμε σαν μέγεθος παραθύρου το 500 και σαν βήμα το 30\n",
    "* Στην αρχή πάρτε το τμήμα της ακολουθία από 1 μέχρι 500 της ακολουθίας που επιλέξατε. Υπολογίστε το λόγο GC και αποθηκεύστε τον.\n",
    "* Μεταφέρετε το παράθυρο κατα 30 νουκλεοτίδια δεξιά. Οπότε η θέση του έγινε από 31 μέχρι 530. Πάλι υπολογίστε τον λόγο  GC και αποθηκεύστε τον\n",
    "* Όταν το τέλος του παραθύρου ξεπεράσει τον μήκος της ακολουθία σταματήστε.\n",
    "* Κάντε ένα πλοτ: βάλτε στο Χ άξονα την αρχή του παραθύρου που έγινε η μέτρηση και στον Υ η μέτρηση του GC που κάνατε.\n",
    "\n",
    "\n"
   ]
  },
  {
   "cell_type": "markdown",
   "metadata": {},
   "source": [
    "### Άσκηση 14\n",
    "\n",
    "Ο υπολογισμός του ποσοστού GC είναι ενδιαφέρον, αλλά το τελευταίο διάστημα έχουν εμφανιστεί και άλλες μετρικές! Μία από αυτές είναι το [Mutual Information](https://en.wikipedia.org/wiki/Mutual_information). Συγκεκριμμένα θα εφαρμόσουμε τη μετρική που έχει παρουσιαστεί σε [αυτό το paper](https://www.ncbi.nlm.nih.gov/pmc/articles/PMC2335307/)\n",
    "\n",
    "Οπότε:\n",
    "* πάρτε πάλι μία τυχαία ακολουθία από το αγαπημένο μας αρχείο.\n",
    "* Θέστε σαν μέγεθος παραθύρου k=5\n",
    "* Έστω Ν<sub>k</sub>(C,G) είναι το πλήθος των φορών που συναντάμε το C και το G σε απόσταση k μέσα στην ακολουθία. Δηλαδή κοιτάμε τη 1η και τη 6η βάση, μετά τη 2η και την 7η, μετά τη 3η και την 8η κτλ.. Αθροίζουμε λοιπόν πόσες φορές τα C και G βρέθηκαν σε απόσταση k.\n",
    "* Τώρα μετράμε τα Ν<sub>k</sub>(Χ,Υ) όπου Χ είναι όλες οι τιμές A,C,G,T και Υ πάλι όλες οι τιμές A,C,G,T. Συνολικά δηλαδή θά πάρουμε 4*4=16 μετρήσεις.\n",
    "* Αθροιζουμε όλες αυτές τις 16 μετρήσεις και παίρνουμε μία τιμή. Ας την ονομάζουμε S<sub>k</sub>.\n",
    "* Στη συνέχεια υπολογίζουμε το P<sub>k</sub>(Χ,Υ) το οποίο ορίζεται ως: Ν<sub>k</sub>(Χ,Υ) / S<sub>k</sub>.\n",
    "* Στη συνέχεια υπολογίζουμε το P(X) το οποίο είναι απλά ο λόγος των εμφανίσεων της βάσης Χ μέσα στην ακολουθία, όπου Χ=A,C,G,T. Δηλαδή αν η ακολουθία είναι AACGTT, τότε P(C)=1/6, P(A)=2/6.\n",
    "* Στη συνέχεια υπολογίζουμε το Ι<sub>k</sub> σύμφωνα με τον παρακάτω τύπο:\n",
    "\n",
    "$I_{k}=\\sum_{X=\\{A,C,G,T\\}}^{}\\sum_{Y=\\{A,C,G,T\\}}^{}p_{k}(X,Y)*\\log\\left ( \\frac{p_{k}(X,Y)}{p(X)*p(Y)} \\right ) $\n",
    "\n",
    "\n",
    "* Υπολογίζουμε τώρα το Ι<sub>k</sub> για όλες τις τιμές του k από το 5 μέχρι και το 454 (σύνολο 450 διαφορετικές μετρήσεις).\n",
    "* Φτιάχνουμε ένα plot όπου X είναι οι τιμές του k και Y είναι οι αντίστοιχες τιμές του Ι<sub>k</sub>."
   ]
  },
  {
   "cell_type": "markdown",
   "metadata": {},
   "source": [
    "### Άσκηση 15\n",
    "\n",
    "Από την Άσκηση 13 για κάθε ακολουθία μπορούμε να φτιάξουμε έναν πίνακα από περίπου ~25.000 τιμές. Για παράδειγμα αν μία ακολουθία αποτελείται από 30.000 βάσεις και το μέγεθος του παραθύρου είναι 500 με βήμα 30, τότε θα έχουμε (30.000-500)/30 = 983 μετρήσεις. \n",
    "\n",
    "Κάντε τις ανάλογες αλλαγές (ό,τι θέλετε: αλλαγή του μέγεθους του παραθύρου ή του βήματος, ή και τα δύο), ώστε το αποτέλεσμα να βγαίνει πάντα 900 μετρήσεις **Για οποιαδήποτε ακολουθία του αρχείου**\n",
    "\n",
    "Στη συνέχεια υπολογίστε\n",
    "* τις τιμές της μετρικής της άσκηση 13 (με τη διόρθωση που μόλις παρουσίασαμε) για όλες τις ακολουθίες\n",
    "* τις τιμές της μετρικής της άσκησης 14 για όλες τις ακολουθίες. \n",
    "* Αν αργεί πολύ αυτή η διαδικασία απλά επιλέξτε 1000 (ή.. λιγότερες) τυχαίες ακολουθίες.\n",
    "\n",
    "Στο τέλος πρέπει να έχετε έναν πίνακα:\n",
    "* Α = 8728 Χ 900, από τις μετρήσεις της 1ης μετρικής (άσκηση 13+διόρθωση)\n",
    "* Β = 8728 Χ 450, από τις μετρήσεις της 2ης μετρικής (άσκηση 14) \n",
    "\n"
   ]
  },
  {
   "cell_type": "markdown",
   "metadata": {},
   "source": [
    "### Άσκηση 16\n",
    "\n",
    "Όταν έχουμε πολυδιάστατα δεδομένα, ένας ωραίος τρόπος για να τα οπτικοποιήσουμε στις 2 διαστάσεις είναι το PCA. Ας δούμε λίγο πως δουλεύει..\n",
    "\n",
    "Για αρχή φτιάχνουμε έναν τυχαίο πίνακα 100*1000\n",
    "\n",
    "\n",
    "\n",
    "\n"
   ]
  },
  {
   "cell_type": "code",
   "execution_count": 245,
   "metadata": {},
   "outputs": [],
   "source": [
    "import numpy as np\n",
    "a = np.random.random((100, 1000))"
   ]
  },
  {
   "cell_type": "markdown",
   "metadata": {},
   "source": [
    "Φτιάχνουμε τώρα και έναν 2ο και.. του προσθέτουμε μία μικρή παραμόρφωση ώστε να τον διαφοροποιήσουμε από τον πρώτο:"
   ]
  },
  {
   "cell_type": "code",
   "execution_count": 254,
   "metadata": {},
   "outputs": [],
   "source": [
    "b = np.random.random((100, 1000)) + 0.04"
   ]
  },
  {
   "cell_type": "markdown",
   "metadata": {},
   "source": [
    "Ας ενώσουμε τους δύο πίνακες σε έναν:"
   ]
  },
  {
   "cell_type": "code",
   "execution_count": 255,
   "metadata": {},
   "outputs": [
    {
     "data": {
      "text/plain": [
       "(200, 1000)"
      ]
     },
     "execution_count": 255,
     "metadata": {},
     "output_type": "execute_result"
    }
   ],
   "source": [
    "c = np.vstack((a,b))\n",
    "c.shape"
   ]
  },
  {
   "cell_type": "markdown",
   "metadata": {},
   "source": [
    "Στη συνέχεια εφαρμόζουμε PCA στον c, για 2 διαστάσεις:"
   ]
  },
  {
   "cell_type": "code",
   "execution_count": 256,
   "metadata": {},
   "outputs": [
    {
     "data": {
      "text/plain": [
       "(200, 2)"
      ]
     },
     "execution_count": 256,
     "metadata": {},
     "output_type": "execute_result"
    }
   ],
   "source": [
    "from sklearn.decomposition import PCA\n",
    "\n",
    "pca = PCA(n_components=2)\n",
    "pca.fit(c)\n",
    "# Κάνουμε προβολή στις 2 διαστάσεις που υπολόγισε το pca.fit:\n",
    "c_PCA = pca.transform(c)\n",
    "c_PCA.shape"
   ]
  },
  {
   "cell_type": "markdown",
   "metadata": {},
   "source": [
    "Βλέπουμε τώρα από τις 1000 διαστάσεις πήγαμε στις 2! Άρα μπορούμε να \"πλοτάρουμε\" στις 2 διαστάσεις:\n"
   ]
  },
  {
   "cell_type": "code",
   "execution_count": 258,
   "metadata": {},
   "outputs": [
    {
     "data": {
      "text/plain": [
       "[<matplotlib.lines.Line2D at 0x1a2dac3860>]"
      ]
     },
     "execution_count": 258,
     "metadata": {},
     "output_type": "execute_result"
    },
    {
     "data": {
      "image/png": "[encoded data removed]",
      "text/plain": [
       "<Figure size 432x288 with 1 Axes>"
      ]
     },
     "metadata": {
      "needs_background": "light"
     },
     "output_type": "display_data"
    }
   ],
   "source": [
    "fig, ax = plt.subplots()\n",
    "\n",
    "ax.plot(c_PCA[:100,0], c_PCA[:100,1], 'r.') # Τα 100 του a είναι κόκκινες κουκίδες\n",
    "ax.plot(c_PCA[100:,0], c_PCA[100:,1], 'b.') # Τα 100 του b είναι μπλε κουκίδες\n"
   ]
  },
  {
   "cell_type": "markdown",
   "metadata": {},
   "source": [
    "Βλέμου δηλαδή ότι παρόλη τη μικρή παραμόρφωση που βάλαμε, το PCA μπόρεσε να δείξει τις διαφορές των a και b σε έναν ικανοποιητικό βαθμό.\n",
    "\n",
    "Σε αυτή την άσκηση θα πρέπει να εφαρμόσετε PCA στις δύο διαστάσεις στους πίνακες Α και Β που φτιάξατε στην άσκηση 15. Θα πρέπει δηλαδή να φτιάξετε 2 plots. \n",
    "\n",
    "**Προαιρετικό:** \n",
    "* Χρωματίστε τις ακολουθίες ανάλογα με τις ηπείρους από όπου προέρχονται τα δείγματα. \n",
    "* Χρωματίστε τις ακολουθίες ανάλογα με τις χώρες που προέρχονται, βάλτε τις 10 μεγαλύτερες σε πληθυσμό χώρες του κόσμου μόνο.\n",
    "* Βάλτε μόνο τις ευρωπαϊκές χώρες και χρωματίστες τις ακολουθίες ανάλογα με τη χώρα από όπου προέρχονται\n"
   ]
  },
  {
   "cell_type": "markdown",
   "metadata": {},
   "source": [
    "### Άσκηση 17\n",
    "\n",
    "Τώρα φτάσαμε στο σημείο να μπορέσουμε να συγκρίνουμε δύο διαφορετικές ακολουθίες του ιού. Οι κλασσσικές μέθοδοι δυστυχώς είναι πολύ αργές για τόσο πολλές ακολουθίες (π.χ. pairwise aligment). Για αυτό θα κάνουμε τη δική μας μετρική. Για μία ακολουθία μετράμε το πλήθος όλως των διαδορετικών κωδικόνιων. Για παράδειγμα το πλήθος όλων των διαφορετικών κωδικόνιων είναι  τη 1η ακολουθία είναι:\n",
    "\n",
    "```python\n",
    "Counter({'TTT': 385, 'TGT': 368, 'TAA': 343, 'TGA': 305, 'AAA': 304, 'TAT': 278, 'AGA': 277, 'TGC': 268, 'TGG': 261, 'AAT': 260, 'ACA': 249, 'GTT': 234, 'TTA': 233, 'CAA': 232, 'TAC': 227, 'ACT': 220, 'AAC': 212, 'TTC': 210, 'ATT': 207, 'CTT': 207, 'AGT': 197, 'TCT': 190, 'GAA': 184, 'TTG': 179, 'TCA': 173, 'CAT': 172, 'GCT': 169, 'GAT': 167, 'CAC': 160, 'ACC': 150, 'GGT': 149, 'AGC': 141, 'TAG': 128, 'AGG': 123, 'GAC': 123, 'GTA': 121, 'ATG': 117, 'GCA': 116, 'ATA': 116, 'CCA': 115, 'ATC': 112, 'GGA': 111, 'AAG': 110, 'CTA': 109, 'CCT': 106, 'GTC': 101, 'GTG': 93, 'CAG': 92, 'GAG': 85, 'GGC': 84, 'CTC': 79, 'CTG': 79, 'TCC': 75, 'GCC': 68, 'ACG': 60, 'CGT': 53, 'GGG': 50, 'CCC': 42, 'CGC': 40, 'TCG': 34, 'CGG': 33, 'CGA': 31, 'CCG': 28, 'GCG': 22})\n",
    "\n",
    "```\n",
    "\n",
    "και για τη 2η:\n",
    "\n",
    "```python\n",
    "Counter({'TTT': 383, 'TGT': 368, 'TAA': 343, 'TGA': 304, 'AAA': 303, 'TAT': 278, 'AGA': 277, 'TGC': 268, 'TGG': 262, 'AAT': 260, 'ACA': 248, 'TTA': 235, 'CAA': 233, 'GTT': 233, 'TAC': 227, 'ACT': 219, 'AAC': 212, 'ATT': 210, 'TTC': 210, 'CTT': 209, 'AGT': 198, 'TCT': 191, 'GAA': 186, 'TTG': 178, 'CAT': 172, 'TCA': 170, 'GCT': 168, 'GAT': 167, 'CAC': 160, 'ACC': 150, 'GGT': 149, 'AGC': 140, 'TAG': 128, 'AGG': 123, 'GAC': 122, 'GTA': 120, 'ATA': 117, 'CCA': 117, 'GCA': 116, 'ATG': 116, 'ATC': 112, 'GGA': 111, 'AAG': 110, 'CTA': 109, 'CCT': 106, 'GTC': 101, 'GTG': 93, 'CAG': 92, 'GGC': 85, 'GAG': 84, 'CTG': 80, 'CTC': 78, 'TCC': 75, 'GCC': 68, 'ACG': 60, 'CGT': 53, 'GGG': 49, 'CCC': 42, 'CGC': 40, 'TCG': 34, 'CGG': 33, 'CGA': 31, 'CCG': 28, 'GCG': 23})\n",
    "```\n",
    "\n",
    "Παρατηρούμε ότι δεν διαφέρουν και πάρα πολύ! Πράγματικά μπορούμε να φτιάξουμε δύο πίνακες 1X64 (64 = 4\\*4\\*4) με τις διαφορετικές τιμές μεταξύ της 1ης και της 2ης ακολουθίας:\n"
   ]
  },
  {
   "cell_type": "code",
   "execution_count": 79,
   "metadata": {},
   "outputs": [],
   "source": [
    "a = np.array([304, 212, 110, 260, 249, 150,  60, 220, 277, 141, 123, 197, 116,\n",
    "        112, 117, 207, 232, 160,  92, 172, 115,  42,  28, 106,  31,  40,\n",
    "         33,  53, 109,  79,  79, 207, 184, 123,  85, 167, 116,  68,  22,\n",
    "        169, 111,  84,  50, 149, 121, 101,  93, 234, 343, 227, 128, 278,\n",
    "        173,  75,  34, 190, 305, 268, 261, 368, 233, 210, 179, 385])\n",
    "b = np.array([303, 212, 110, 260, 248, 150,  60, 219, 277, 140, 123, 198, 117,\n",
    "        112, 116, 210, 233, 160,  92, 172, 117,  42,  28, 106,  31,  40,\n",
    "         33,  53, 109,  78,  80, 209, 186, 122,  84, 167, 116,  68,  23,\n",
    "        168, 111,  85,  49, 149, 120, 101,  93, 233, 343, 227, 128, 278,\n",
    "        170,  75,  34, 191, 304, 268, 262, 368, 235, 210, 178, 383])"
   ]
  },
  {
   "cell_type": "markdown",
   "metadata": {},
   "source": [
    "Στη συνέχρια μπορούμε να υπολογίσουμε τη chi-square distance (κατάλληλη για διαφορές σε επίπεδο ιστογράμματος μεταξύ δύο δειγμάτων). Για αυτόν τον υπολογισμό μπορούμε να χρησιμοποιήσουμε είτε τη scipy:"
   ]
  },
  {
   "cell_type": "code",
   "execution_count": 80,
   "metadata": {},
   "outputs": [
    {
     "data": {
      "text/plain": [
       "0.20114259183383668"
      ]
     },
     "execution_count": 80,
     "metadata": {},
     "output_type": "execute_result"
    }
   ],
   "source": [
    "from scipy.stats import chi2_contingency\n",
    "\n",
    "chi2, p, dof, ex = chi2_contingency(np.array([a,b]))\n",
    "chi2\n"
   ]
  },
  {
   "cell_type": "markdown",
   "metadata": {},
   "source": [
    "Είτε το κώδικα που μπορούμε να βρούμε.. στα Internets!"
   ]
  },
  {
   "cell_type": "code",
   "execution_count": 81,
   "metadata": {},
   "outputs": [
    {
     "data": {
      "text/plain": [
       "0.20114259183383668"
      ]
     },
     "execution_count": 81,
     "metadata": {},
     "output_type": "execute_result"
    }
   ],
   "source": [
    "# Function to calculate Chi-distace \n",
    "# Source: https://www.geeksforgeeks.org/chi-square-distance-in-python/\n",
    "def chi2_distance(A, B): \n",
    "  \n",
    "    # compute the chi-squared distance using above formula \n",
    "    chi =  np.sum([((a - b) ** 2) / (a + b)  \n",
    "                      for (a, b) in zip(A, B)])\n",
    "    \n",
    "    return chi\n",
    "\n",
    "\n",
    "chi2_distance(a,b)\n"
   ]
  },
  {
   "cell_type": "markdown",
   "metadata": {},
   "source": [
    "Οπότε τώρα έχουμε μία (σχετικά..) γρήγορη μέθοδο για να συγκρίνουμε ακολουθίες. Το επόμενο στάδιο είναι να.. πετάξουμε έξω όσες ακουλουθίες \"μοιάζουν\" μέσα στο αρχείο. Για να το κάνουμε αυτό τρέχουμε τον εξής αλγόριθμο.\n",
    "\n",
    "* Συγκρίνουμε τη 1η με τη 2η. Αν το ch-square distance είναι μικρότερο από 1 τότε πετάμε τη 1η ακολουθία και ξεκινάμε από την αρχή.\n",
    "* Αν δεν είναι ίδιο συγκρίνουμε τη 1η με τη 3η, αν το distance είναι μικρότερο από 1.0 πετάμε τη 1η και ξεκινάμε από την αρχή, αλλιώς συγκρίνουμε τη 1η με τη 4η κτλ..\n",
    "* Συνεχίζουμε συγκρίνοντας τη 2η με τη 3η, 2η με 4η, ...\n",
    "* Συνεχίζουμε αυτή τη διαδικασία μέχρι να μην υπάρχει ζευγάρι από ακολουθίες με distance < 1.0\n",
    "\n",
    "Αυτή η διαδικασία δεν πρέπει να παίρνει παραπάνω από ~15 λεπτά υπολογισμών (η δική μου υλοποίηση  έκανε 5 λεπτά). Μόλις τελειώσει θα έχουν μείνει 14 ακολουθίες (από τις 8728!) που διαφέρουν τελείως μεταξύ τους. Δηλαδή θα έχετε ανακαλύψει τα 14 βασικά strains του ιού. Ποιες είναι αυτές οι ακολουθίες (τυπώστε τις επικεφαλίδες τους);"
   ]
  },
  {
   "cell_type": "markdown",
   "metadata": {},
   "source": [
    "### Άσκηση 18\n",
    "\n",
    "Φτιάξτε ένα δενδρόγραμμα με τις 14 ακολουθίες που βρήκατε από της άσκηση 17. Χρησιμοποιήστε τη μεθοδολογία της άσκησης 10 για να φτιάξετε το δενδρόγραμμα. Ως μετρική για την απόσταση χρησιμοποιήστε το chi square distance. Αν θέλετε μπορείτε να χρησιμοποιήσετε όποια άλλη μετρική απόστασης θέλετε!\n"
   ]
  },
  {
   "cell_type": "markdown",
   "metadata": {},
   "source": [
    "### Άσκηση 19\n",
    "\n",
    "Φτιάξτε τη κλάσση Covid η οποία θα παίρνει ως initialization ένα αρχείο με ακολουθίες fasta όπως είναι το αρχείο covid.fasta που βρίσκεται στο: https://www.dropbox.com/s/brqaopz8g2vs0ox/covid_fasta.gz?dl=1 . Θα πρέπει δηλαδή να μπορώ να γράφω:\n",
    "\n",
    "\n"
   ]
  },
  {
   "cell_type": "code",
   "execution_count": 130,
   "metadata": {},
   "outputs": [],
   "source": [
    "my_covid = Covid('../Downloads/covid_fasta.gz') "
   ]
  },
  {
   "cell_type": "markdown",
   "metadata": {},
   "source": [
    "Η κλάση Covid θα πρέπει να υποστηρίζει τις εξής λειτουργίες:\n",
    "    \n",
    "```len```: επιστρέφει το πλήθος με τις ακολουθίες που έχει το αρχείο. Θα πρέπει δηλαδή να μπορώ να γράφω:\n",
    "\n",
    "\n",
    "    "
   ]
  },
  {
   "cell_type": "code",
   "execution_count": 96,
   "metadata": {},
   "outputs": [
    {
     "data": {
      "text/plain": [
       "8727"
      ]
     },
     "execution_count": 96,
     "metadata": {},
     "output_type": "execute_result"
    }
   ],
   "source": [
    "len(my_covid)"
   ]
  },
  {
   "cell_type": "markdown",
   "metadata": {},
   "source": [
    "Επίσης η κλάση θα πρέπει να υποστηρίζει τη λειτουργία iteration. Κάθε βήμα του iteration θα πρέπει να επιστρέφει ένα tuple. Το πρώτο στοιχείο του tuple θα έχει την επικεφαλίδατα της κάθε ακολουθίες και το δεύτερο την ακολουθία."
   ]
  },
  {
   "cell_type": "code",
   "execution_count": 104,
   "metadata": {},
   "outputs": [
    {
     "name": "stdout",
     "output_type": "stream",
     "text": [
      "hCoV-19/Italy/FVG-ICGEB-S211/2020|EPI_ISL_498559|2020-07-01 ATTAAAGGTT\n",
      "hCoV-19/Italy/FVG-ICGEB-S212/2020|EPI_ISL_498560|2020-07-02 ATTAAAGGTT\n",
      "hCoV-19/Italy/FVG-ICGEB-S214/2020|EPI_ISL_498561|2020-07-01 ATTAAAGGTT\n",
      "hCoV-19/Italy/FVG-ICGEB-S217/2020|EPI_ISL_498562|2020-07-07 ATTAAAGGTT\n",
      "hCoV-19/Italy/FVG-ICGEB-S218/2020|EPI_ISL_498563|2020-07-06 ATTAAAGGTT\n",
      "hCoV-19/SaudiArabia/KAUST-JEDDAH936/2020|EPI_ISL_513063|2020-06-17 ATTAAAGGTT\n",
      "hCoV-19/SaudiArabia/KAUST-JEDDAH990/2020|EPI_ISL_513064|2020-06-23 ATTAAAGGTT\n",
      "hCoV-19/SaudiArabia/KAUST-JEDDAH991/2020|EPI_ISL_513065|2020-06-23 ATTAAAGGTT\n",
      "hCoV-19/SaudiArabia/KAUST-JEDDAH992/2020|EPI_ISL_513066|2020-06-17 ATTAAAGGTT\n",
      "hCoV-19/SaudiArabia/KAUST-JEDDAH993/2020|EPI_ISL_513067|2020-06-17 ATTAAAGGTT\n",
      "hCoV-19/SaudiArabia/KAUST-JEDDAH996/2020|EPI_ISL_513069|2020-06-17 ATTAAAGGTT\n"
     ]
    }
   ],
   "source": [
    "for i,x in enumerate(my_covid):\n",
    "    print (x[0], x[1][:10])\n",
    "    if i == 10:\n",
    "        break"
   ]
  },
  {
   "cell_type": "markdown",
   "metadata": {},
   "source": [
    "Υλοποιήστε τη μέθοδο get η οποία θα παίρνει έναν αριθμό i και θα επιστρέφει ένα tuple με την i-στή εγγραφή. Θα πρέπει δηλαδή να μπορώ να γράψω:"
   ]
  },
  {
   "cell_type": "code",
   "execution_count": 113,
   "metadata": {},
   "outputs": [
    {
     "name": "stdout",
     "output_type": "stream",
     "text": [
      "hCoV-19/Japan/PG-6091/2020|EPI_ISL_689203|2020-08\n"
     ]
    }
   ],
   "source": [
    "a = my_covid.get(100)\n",
    "print (a[0])"
   ]
  },
  {
   "cell_type": "code",
   "execution_count": 114,
   "metadata": {},
   "outputs": [
    {
     "name": "stdout",
     "output_type": "stream",
     "text": [
      "TAAAATCTGT\n"
     ]
    }
   ],
   "source": [
    "print (a[1][:10]) # Οι πρώτες 10 βάσεις της 100ης ακολουθίας:"
   ]
  },
  {
   "cell_type": "markdown",
   "metadata": {},
   "source": [
    "Τέλος η κλάση θα πρέπει να έχει τη static συνάρτηση distance η οποία θα υπολογίζει τη chi square distance μεταξύ δύο ακολουθιών. Θα πρέπει δηλαδή να μπορώ να κάνω:"
   ]
  },
  {
   "cell_type": "code",
   "execution_count": 131,
   "metadata": {},
   "outputs": [
    {
     "name": "stdout",
     "output_type": "stream",
     "text": [
      "0.019995765761621487\n"
     ]
    }
   ],
   "source": [
    "a = my_covid.get(1)\n",
    "b = my_covid.get(2)\n",
    "\n",
    "d = my_covid.distance(a[1],b[1])\n",
    "print (d)\n"
   ]
  },
  {
   "cell_type": "markdown",
   "metadata": {},
   "source": [
    "### Άσκηση 20\n",
    "\n",
    "Φτιάξτε τη κλάση Covid_Analysis η οποία να κληρονομεί τη κλάση Covid. Προσθέστε μεθόδους στη κλάση Covid_Analysis οι οποίες να υλοποιούν οποιαδήποτε από τις ασκήσεις 12,13,14,15,16,17,18.\n",
    "\n",
    "\n"
   ]
  }
 ],
 "metadata": {
  "kernelspec": {
   "display_name": "Python 3",
   "language": "python",
   "name": "python3"
  },
  "language_info": {
   "codemirror_mode": {
    "name": "ipython",
    "version": 3
   },
   "file_extension": ".py",
   "mimetype": "text/x-python",
   "name": "python",
   "nbconvert_exporter": "python",
   "pygments_lexer": "ipython3",
   "version": "3.8.5"
  }
 },
 "nbformat": 4,
 "nbformat_minor": 2
}
