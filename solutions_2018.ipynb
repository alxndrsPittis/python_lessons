{
 "cells": [
  {
   "cell_type": "markdown",
   "metadata": {},
   "source": [
    "# Λύσεις ασκήσεων σειρά 1, 2018"
   ]
  },
  {
   "cell_type": "markdown",
   "metadata": {},
   "source": [
    "### 1η άσκηση\n",
    "έστω οι μεταβλητές:\n",
    "```python\n",
    "name = \"Mitsos\"\n",
    "age = 45\n",
    "```\n",
    "Ανάλογα με τις τιμές της μεταβλητής, να τυπώνει:\n",
    "```\n",
    "to onoma mou einai <name> kai h hlikia mou einai <age>\n",
    "π.χ.:\n",
    "to onoma mou einai Mitsos kai h hlikia mou einai 45\n",
    "```\n"
   ]
  },
  {
   "cell_type": "code",
   "execution_count": 1,
   "metadata": {},
   "outputs": [
    {
     "name": "stdout",
     "output_type": "stream",
     "text": [
      "to onoma mou einai: mitsos kai h hlikia mou einai 45\n"
     ]
    }
   ],
   "source": [
    "def f(name, age):\n",
    "    print ('to onoma mou einai:', name, 'kai h hlikia mou einai', age)\n",
    "f('mitsos', 45)"
   ]
  },
  {
   "cell_type": "markdown",
   "metadata": {},
   "source": [
    "### 2η άσκηση\n",
    "Γράψτε κώδικα ο οποίος θα ελέγχει αν ο αριθμός ```a``` διαιρεί τέλεια τον αριθμό ```b```\n"
   ]
  },
  {
   "cell_type": "code",
   "execution_count": 2,
   "metadata": {},
   "outputs": [],
   "source": [
    "def f(a,b):\n",
    "    return a%b==0"
   ]
  },
  {
   "cell_type": "code",
   "execution_count": 3,
   "metadata": {},
   "outputs": [
    {
     "data": {
      "text/plain": [
       "False"
      ]
     },
     "execution_count": 3,
     "metadata": {},
     "output_type": "execute_result"
    }
   ],
   "source": [
    "f(10,3)"
   ]
  },
  {
   "cell_type": "code",
   "execution_count": 4,
   "metadata": {},
   "outputs": [
    {
     "data": {
      "text/plain": [
       "True"
      ]
     },
     "execution_count": 4,
     "metadata": {},
     "output_type": "execute_result"
    }
   ],
   "source": [
    "f(10,2)"
   ]
  },
  {
   "cell_type": "markdown",
   "metadata": {},
   "source": [
    "### 3η άσκηση\n",
    "Γράψτε κώδικα ο οποίος θα βρίσκει τον μικρότερο από 3 αριθμούς. Μη χρησιμοποιήσετε τη ```min```. "
   ]
  },
  {
   "cell_type": "code",
   "execution_count": 5,
   "metadata": {},
   "outputs": [],
   "source": [
    "def f(a,b,c):\n",
    "    if a<=b:\n",
    "        if a<=c:\n",
    "            return a\n",
    "        return c\n",
    "    if b<=c:\n",
    "        return b\n",
    "    return c"
   ]
  },
  {
   "cell_type": "code",
   "execution_count": 6,
   "metadata": {},
   "outputs": [
    {
     "data": {
      "text/plain": [
       "1"
      ]
     },
     "execution_count": 6,
     "metadata": {},
     "output_type": "execute_result"
    }
   ],
   "source": [
    "f(1,2,3)"
   ]
  },
  {
   "cell_type": "code",
   "execution_count": 7,
   "metadata": {},
   "outputs": [
    {
     "data": {
      "text/plain": [
       "1"
      ]
     },
     "execution_count": 7,
     "metadata": {},
     "output_type": "execute_result"
    }
   ],
   "source": [
    "f(1,3,2)"
   ]
  },
  {
   "cell_type": "code",
   "execution_count": 8,
   "metadata": {},
   "outputs": [
    {
     "data": {
      "text/plain": [
       "1"
      ]
     },
     "execution_count": 8,
     "metadata": {},
     "output_type": "execute_result"
    }
   ],
   "source": [
    "f(2,1,3)"
   ]
  },
  {
   "cell_type": "code",
   "execution_count": 9,
   "metadata": {},
   "outputs": [
    {
     "data": {
      "text/plain": [
       "1"
      ]
     },
     "execution_count": 9,
     "metadata": {},
     "output_type": "execute_result"
    }
   ],
   "source": [
    "f(3,1,2)"
   ]
  },
  {
   "cell_type": "code",
   "execution_count": 10,
   "metadata": {},
   "outputs": [
    {
     "data": {
      "text/plain": [
       "1"
      ]
     },
     "execution_count": 10,
     "metadata": {},
     "output_type": "execute_result"
    }
   ],
   "source": [
    "f(2,3,1)"
   ]
  },
  {
   "cell_type": "code",
   "execution_count": 11,
   "metadata": {},
   "outputs": [
    {
     "data": {
      "text/plain": [
       "1"
      ]
     },
     "execution_count": 11,
     "metadata": {},
     "output_type": "execute_result"
    }
   ],
   "source": [
    "f(3,2,1)"
   ]
  },
  {
   "cell_type": "markdown",
   "metadata": {},
   "source": [
    "## 4η άσκηση\n",
    "Γράψτε κώδικα ο οποίος θα βρίσκει τον μεσαίο από 3 αριθμούς. δηλαδή αν οι αριθμοί είναι 5,3,8. Θα τυπώνει: 5 . Μη κάνετε import κάποια βιβλιοθήκη. Μην χρησιμοποιήσετε min, max ή sort."
   ]
  },
  {
   "cell_type": "code",
   "execution_count": 12,
   "metadata": {},
   "outputs": [],
   "source": [
    "def f(a,b,c):\n",
    "    if a<=b:\n",
    "        if b<=c:\n",
    "            return b\n",
    "        if a<=c:\n",
    "            return c\n",
    "        return a\n",
    "    if c<=b:\n",
    "        return b\n",
    "    if c<=a:\n",
    "        return c\n",
    "    return a"
   ]
  },
  {
   "cell_type": "code",
   "execution_count": 13,
   "metadata": {},
   "outputs": [
    {
     "data": {
      "text/plain": [
       "2"
      ]
     },
     "execution_count": 13,
     "metadata": {},
     "output_type": "execute_result"
    }
   ],
   "source": [
    "f(1,2,3)"
   ]
  },
  {
   "cell_type": "code",
   "execution_count": 14,
   "metadata": {},
   "outputs": [
    {
     "data": {
      "text/plain": [
       "2"
      ]
     },
     "execution_count": 14,
     "metadata": {},
     "output_type": "execute_result"
    }
   ],
   "source": [
    "f(1,3,2)"
   ]
  },
  {
   "cell_type": "code",
   "execution_count": 15,
   "metadata": {},
   "outputs": [
    {
     "data": {
      "text/plain": [
       "2"
      ]
     },
     "execution_count": 15,
     "metadata": {},
     "output_type": "execute_result"
    }
   ],
   "source": [
    "f(2,1,3)"
   ]
  },
  {
   "cell_type": "code",
   "execution_count": 16,
   "metadata": {},
   "outputs": [
    {
     "data": {
      "text/plain": [
       "2"
      ]
     },
     "execution_count": 16,
     "metadata": {},
     "output_type": "execute_result"
    }
   ],
   "source": [
    "f(3,1,2)"
   ]
  },
  {
   "cell_type": "code",
   "execution_count": 17,
   "metadata": {},
   "outputs": [
    {
     "data": {
      "text/plain": [
       "2"
      ]
     },
     "execution_count": 17,
     "metadata": {},
     "output_type": "execute_result"
    }
   ],
   "source": [
    "f(3,2,1)"
   ]
  },
  {
   "cell_type": "code",
   "execution_count": 18,
   "metadata": {},
   "outputs": [
    {
     "data": {
      "text/plain": [
       "2"
      ]
     },
     "execution_count": 18,
     "metadata": {},
     "output_type": "execute_result"
    }
   ],
   "source": [
    "f(2,3,1)"
   ]
  },
  {
   "cell_type": "markdown",
   "metadata": {},
   "source": [
    "Ένας άλλος τρόπος:"
   ]
  },
  {
   "cell_type": "code",
   "execution_count": 19,
   "metadata": {},
   "outputs": [],
   "source": [
    "def f(a,b,c):\n",
    "    if b<=a<=c:\n",
    "        return a\n",
    "    if c<=a<=b:\n",
    "        return a\n",
    "    if a<=b<=c:\n",
    "        return b\n",
    "    if c<=b<=a:\n",
    "        return b\n",
    "    if a<=c<=b:\n",
    "        return c\n",
    "    if b<=c<=a:\n",
    "        return c"
   ]
  },
  {
   "cell_type": "markdown",
   "metadata": {},
   "source": [
    "### 6η άσκηση\n",
    "Γράψτε κώδικα που θα βρίσκει τον μέσο όρο από ενα list με αριθμούς. Μη κάνετε import κάποια βιβλιοθήκη.\n"
   ]
  },
  {
   "cell_type": "code",
   "execution_count": 20,
   "metadata": {},
   "outputs": [],
   "source": [
    "def f(l):\n",
    "    return sum(l)/len(l)"
   ]
  },
  {
   "cell_type": "code",
   "execution_count": 21,
   "metadata": {},
   "outputs": [
    {
     "data": {
      "text/plain": [
       "2.5"
      ]
     },
     "execution_count": 21,
     "metadata": {},
     "output_type": "execute_result"
    }
   ],
   "source": [
    "f([1,2,3,4])"
   ]
  },
  {
   "cell_type": "markdown",
   "metadata": {},
   "source": [
    "### 7η άσκηση\n",
    "Γράψτε κώδικα που θα βρίσκει τον μέσο όρο από το πλήθος από γράμματα που έχει μία λίστα από strings.\n",
    "δηλαδη αν η λίστα είναι\n",
    "```python\n",
    "a = ['mitsos', 'anna', 'epameinonas']\n",
    "```\n",
    "Θα πρέπει να τυπώσει:7.0 (Δηλαδή: (6+4+11)/3 )"
   ]
  },
  {
   "cell_type": "code",
   "execution_count": 22,
   "metadata": {},
   "outputs": [],
   "source": [
    "def f(l):\n",
    "    counts = [len(x) for x in l]\n",
    "    return sum(counts)/len(counts)\n"
   ]
  },
  {
   "cell_type": "code",
   "execution_count": 23,
   "metadata": {},
   "outputs": [
    {
     "data": {
      "text/plain": [
       "7.0"
      ]
     },
     "execution_count": 23,
     "metadata": {},
     "output_type": "execute_result"
    }
   ],
   "source": [
    "f(['mitsos', 'anna', 'epameinonas'])"
   ]
  },
  {
   "cell_type": "markdown",
   "metadata": {},
   "source": [
    "### 8η άσκηση\n",
    "Έστω η λίστα με τα παρακάτω ελληνικά νησιά:\n",
    "```python\n",
    "islands = [\n",
    "    \"Astypalaia\",\n",
    "    \"Kalymnos\",\n",
    "    \"Karpathos\",\n",
    "    \"Kasos\",\n",
    "    \"Kastellorizo\",\n",
    "    \"Kos\",\n",
    "    \"Leros\",\n",
    "    \"Nisyros\",\n",
    "    \"Patmos\",\n",
    "    \"Rhodos\",\n",
    "    \"Symi\",\n",
    "    \"Tilos\",]\n",
    "```\n",
    "\n",
    "Πόσα νησιά το όνομά τους αρχίζει από φωνήεν; Μπορείτε να ορίσετε εσείς όποια λίστα με φωνήεντα θέλετε. "
   ]
  },
  {
   "cell_type": "code",
   "execution_count": 24,
   "metadata": {},
   "outputs": [
    {
     "data": {
      "text/plain": [
       "['Astypalaia']"
      ]
     },
     "execution_count": 24,
     "metadata": {},
     "output_type": "execute_result"
    }
   ],
   "source": [
    "islands = [\n",
    "    \"Astypalaia\",\n",
    "    \"Kalymnos\",\n",
    "    \"Karpathos\",\n",
    "    \"Kasos\",\n",
    "    \"Kastellorizo\",\n",
    "    \"Kos\",\n",
    "    \"Leros\",\n",
    "    \"Nisyros\",\n",
    "    \"Patmos\",\n",
    "    \"Rhodos\",\n",
    "    \"Symi\",\n",
    "    \"Tilos\",]\n",
    "\n",
    "fon = ['a', 'e', 'o', 'i', 'y', 'u', 'w']\n",
    "def f(l):\n",
    "    return [x for x in l if x[0].lower() in fon]\n",
    "\n",
    "f(islands)"
   ]
  },
  {
   "cell_type": "markdown",
   "metadata": {},
   "source": [
    "### 9η άσκηση\n",
    "Έστω η ίδια λίστα με την άσκηση 8. Ποια νησιά έχουν μόνο ένα φωνήεν; Μη κάνετε import κάποια βιβλιοθήκη. Π.χ.: ```re```"
   ]
  },
  {
   "cell_type": "code",
   "execution_count": 25,
   "metadata": {},
   "outputs": [],
   "source": [
    "def f(l):\n",
    "     return [island for island in islands if sum([island.count(f) for f in fon])==1]"
   ]
  },
  {
   "cell_type": "code",
   "execution_count": 26,
   "metadata": {},
   "outputs": [
    {
     "data": {
      "text/plain": [
       "['Kos']"
      ]
     },
     "execution_count": 26,
     "metadata": {},
     "output_type": "execute_result"
    }
   ],
   "source": [
    "f(islands)"
   ]
  },
  {
   "cell_type": "markdown",
   "metadata": {},
   "source": [
    "### 10η άσκηση\n",
    "Έστω η ίδια λίστα με την άσκηση 8.\n",
    "Ποια νησιά έχουν 5 γράμματα;"
   ]
  },
  {
   "cell_type": "code",
   "execution_count": 27,
   "metadata": {},
   "outputs": [],
   "source": [
    "def f(l):\n",
    "    return [island for island in islands if len(island)==5]"
   ]
  },
  {
   "cell_type": "code",
   "execution_count": 28,
   "metadata": {},
   "outputs": [
    {
     "data": {
      "text/plain": [
       "['Kasos', 'Leros', 'Tilos']"
      ]
     },
     "execution_count": 28,
     "metadata": {},
     "output_type": "execute_result"
    }
   ],
   "source": [
    "f(islands)"
   ]
  },
  {
   "cell_type": "markdown",
   "metadata": {},
   "source": [
    "### 11η άσκηση\n",
    "Έστω ένας αριθμός (π.χ. a=542).\n",
    "Ποιο είναι το άθροισμα των ψηφίων του; (δλδ 5+4+2=11 για το παράδειγμα)"
   ]
  },
  {
   "cell_type": "code",
   "execution_count": 29,
   "metadata": {},
   "outputs": [],
   "source": [
    "def f(n):\n",
    "    return sum([int(x) for x in str(n)])"
   ]
  },
  {
   "cell_type": "code",
   "execution_count": 30,
   "metadata": {},
   "outputs": [
    {
     "data": {
      "text/plain": [
       "11"
      ]
     },
     "execution_count": 30,
     "metadata": {},
     "output_type": "execute_result"
    }
   ],
   "source": [
    "f(542)"
   ]
  },
  {
   "cell_type": "markdown",
   "metadata": {},
   "source": [
    "### 12 άσκηση \n",
    "Έστω 2 strings. Ελέγξτε αν όλα τα γράμματα του πρώτου υπάρχουν στο δεύτερο.\n",
    "\n",
    "π.χ.: \n",
    "* \"mpanana\", \"mpania\" --> True\n",
    "* \"mpanana\", \"pania\" --> False\n"
   ]
  },
  {
   "cell_type": "code",
   "execution_count": 31,
   "metadata": {},
   "outputs": [],
   "source": [
    "def f(a,b):\n",
    "    return all([x in b for x in a])"
   ]
  },
  {
   "cell_type": "code",
   "execution_count": 32,
   "metadata": {},
   "outputs": [
    {
     "data": {
      "text/plain": [
       "True"
      ]
     },
     "execution_count": 32,
     "metadata": {},
     "output_type": "execute_result"
    }
   ],
   "source": [
    "f(\"mpanana\", \"mpania\")"
   ]
  },
  {
   "cell_type": "code",
   "execution_count": 33,
   "metadata": {},
   "outputs": [
    {
     "data": {
      "text/plain": [
       "False"
      ]
     },
     "execution_count": 33,
     "metadata": {},
     "output_type": "execute_result"
    }
   ],
   "source": [
    "f(\"mpanana\", \"pania\")"
   ]
  },
  {
   "cell_type": "markdown",
   "metadata": {},
   "source": [
    "### 13 άσκηση\n",
    "Βρείτε την ευκλίδεια απόσταση μεταξύ δύο σημείων στο 2-διάστατο χώρο. Κάθε σημείο είναι μία λίστα από δύο αριθμούς. Π.χ:\n",
    "```python\n",
    "p_1 = [4,5]\n",
    "p_2 = [-2,7]\n",
    "```\n",
    "Προσπαθήστε χωρίς να κάνετε import κάτι άλλο εκτός από τη math."
   ]
  },
  {
   "cell_type": "code",
   "execution_count": 34,
   "metadata": {},
   "outputs": [],
   "source": [
    "import math\n",
    "\n",
    "def f(a,b):\n",
    "    return math.sqrt((a[0]-b[0])**2 + (a[1]-b[1])**2)"
   ]
  },
  {
   "cell_type": "code",
   "execution_count": 35,
   "metadata": {},
   "outputs": [],
   "source": [
    "p_1 = [4,5]\n",
    "p_2 = [-2,7]"
   ]
  },
  {
   "cell_type": "code",
   "execution_count": 36,
   "metadata": {},
   "outputs": [
    {
     "data": {
      "text/plain": [
       "6.324555320336759"
      ]
     },
     "execution_count": 36,
     "metadata": {},
     "output_type": "execute_result"
    }
   ],
   "source": [
    "f(p_1, p_2)"
   ]
  },
  {
   "cell_type": "markdown",
   "metadata": {},
   "source": [
    "### 14η άσκηση\n",
    "Βρείτε το παραγοντικό (factorial) ενός ακεραίου"
   ]
  },
  {
   "cell_type": "code",
   "execution_count": 37,
   "metadata": {},
   "outputs": [],
   "source": [
    "# 1os tropos\n",
    "def f1(n):\n",
    "    ret = 1\n",
    "    for x in range(1, n+1):\n",
    "        ret *= x\n",
    "    return ret\n",
    "\n",
    "# 2os tropos\n",
    "def f2(n):\n",
    "    if n==1:\n",
    "        return 1\n",
    "    return n*f2(n-1)"
   ]
  },
  {
   "cell_type": "code",
   "execution_count": 38,
   "metadata": {},
   "outputs": [
    {
     "data": {
      "text/plain": [
       "3628800"
      ]
     },
     "execution_count": 38,
     "metadata": {},
     "output_type": "execute_result"
    }
   ],
   "source": [
    "f1(10)"
   ]
  },
  {
   "cell_type": "code",
   "execution_count": 39,
   "metadata": {},
   "outputs": [
    {
     "data": {
      "text/plain": [
       "3628800"
      ]
     },
     "execution_count": 39,
     "metadata": {},
     "output_type": "execute_result"
    }
   ],
   "source": [
    "f2(10)"
   ]
  },
  {
   "cell_type": "code",
   "execution_count": 40,
   "metadata": {},
   "outputs": [
    {
     "data": {
      "text/plain": [
       "3628800"
      ]
     },
     "execution_count": 40,
     "metadata": {},
     "output_type": "execute_result"
    }
   ],
   "source": [
    "1*2*3*4*5*6*7*8*9*10"
   ]
  },
  {
   "cell_type": "markdown",
   "metadata": {},
   "source": [
    "### 15η άσκηση \n",
    "Βρείτε το χ% ενός αριθμού. Π.χ. το 25% του 400 είναι 100. "
   ]
  },
  {
   "cell_type": "code",
   "execution_count": 41,
   "metadata": {},
   "outputs": [],
   "source": [
    "def f(percentage, N):\n",
    "    return percentage/100 * N"
   ]
  },
  {
   "cell_type": "code",
   "execution_count": 42,
   "metadata": {},
   "outputs": [
    {
     "data": {
      "text/plain": [
       "100.0"
      ]
     },
     "execution_count": 42,
     "metadata": {},
     "output_type": "execute_result"
    }
   ],
   "source": [
    "f(25, 400)"
   ]
  },
  {
   "cell_type": "markdown",
   "metadata": {},
   "source": [
    "### 16η άσκηση \n",
    "Βρείτε όλους τους [Munchausen](https://twitter.com/fermatslibrary/status/1039857447618445312) αριθμούς από 1 μέχρι το 1.000.000\n"
   ]
  },
  {
   "cell_type": "code",
   "execution_count": 43,
   "metadata": {},
   "outputs": [],
   "source": [
    "def f():\n",
    "    for x in range(1, 1000001):\n",
    "        digits = [int(digit) for digit in str(x)]\n",
    "        s = sum([digit**digit for digit in digits])\n",
    "        if s == x:\n",
    "            print (x)"
   ]
  },
  {
   "cell_type": "code",
   "execution_count": 44,
   "metadata": {},
   "outputs": [
    {
     "name": "stdout",
     "output_type": "stream",
     "text": [
      "1\n",
      "3435\n"
     ]
    }
   ],
   "source": [
    "f()"
   ]
  },
  {
   "cell_type": "markdown",
   "metadata": {},
   "source": [
    "### 17η άσκηση \n",
    "Βρείτε όλα τα [factorions](https://twitter.com/fermatslibrary/status/1030436593184792578) από το 1 μέχρι το 50.000\n"
   ]
  },
  {
   "cell_type": "code",
   "execution_count": 45,
   "metadata": {},
   "outputs": [],
   "source": [
    "def fact(N):\n",
    "    if N == 0:\n",
    "        return 1\n",
    "    return N*fact(N-1)\n",
    "\n",
    "def f():\n",
    "    for x in range(1, 50001):\n",
    "        digits = [int(digit) for digit in str(x)]\n",
    "        s = sum([fact(digit) for digit in digits])\n",
    "        if s == x:\n",
    "            print (s)\n"
   ]
  },
  {
   "cell_type": "code",
   "execution_count": 46,
   "metadata": {},
   "outputs": [
    {
     "name": "stdout",
     "output_type": "stream",
     "text": [
      "1\n",
      "2\n",
      "145\n",
      "40585\n"
     ]
    }
   ],
   "source": [
    "f()"
   ]
  },
  {
   "cell_type": "markdown",
   "metadata": {},
   "source": [
    "### 18η άσκηση \n",
    "Ένα έτος είναι δίσεκτο αν διαιρείται με το 4. Από αυτόν τον κανόνα εξαιρούνται τα έτη που διαιρούνται με το 100 (το 1900 ΔΕΝ είναι δίσκετο). Από αυτόν τον κανόνα εξαιρούνται τα έτη που διαιρούνται με το 400 (το 2000 ΗΤΑΝ δίσεκτο). Γράφτε κώδικα που θα υπολογίζει αν ένα έτος είναι δίσεκτο ή όχι"
   ]
  },
  {
   "cell_type": "code",
   "execution_count": 47,
   "metadata": {},
   "outputs": [],
   "source": [
    "def f(year):\n",
    "    if year%4:\n",
    "        return False\n",
    "    if year%400:\n",
    "        return True\n",
    "    if year%100:\n",
    "        return True\n",
    "    return False"
   ]
  },
  {
   "cell_type": "code",
   "execution_count": 48,
   "metadata": {},
   "outputs": [
    {
     "data": {
      "text/plain": [
       "False"
      ]
     },
     "execution_count": 48,
     "metadata": {},
     "output_type": "execute_result"
    }
   ],
   "source": [
    "f(1999)"
   ]
  },
  {
   "cell_type": "code",
   "execution_count": 49,
   "metadata": {},
   "outputs": [
    {
     "data": {
      "text/plain": [
       "True"
      ]
     },
     "execution_count": 49,
     "metadata": {},
     "output_type": "execute_result"
    }
   ],
   "source": [
    "f(2004)"
   ]
  },
  {
   "cell_type": "code",
   "execution_count": 50,
   "metadata": {},
   "outputs": [
    {
     "data": {
      "text/plain": [
       "False"
      ]
     },
     "execution_count": 50,
     "metadata": {},
     "output_type": "execute_result"
    }
   ],
   "source": [
    "f(2000)"
   ]
  },
  {
   "cell_type": "code",
   "execution_count": 51,
   "metadata": {},
   "outputs": [
    {
     "data": {
      "text/plain": [
       "True"
      ]
     },
     "execution_count": 51,
     "metadata": {},
     "output_type": "execute_result"
    }
   ],
   "source": [
    "f(1900)"
   ]
  },
  {
   "cell_type": "markdown",
   "metadata": {},
   "source": [
    "### 19η άσκηση\n",
    "Βρείτε όλους του [Kaprekar](https://twitter.com/fermatslibrary/status/1010174733235687424) από το 1 μέχρι το 10.000"
   ]
  },
  {
   "cell_type": "code",
   "execution_count": 52,
   "metadata": {},
   "outputs": [],
   "source": [
    "def f():\n",
    "    \n",
    "    def digits_to_number(digits):\n",
    "        return int(''.join([str(digit) for digit in digits]))\n",
    "    \n",
    "    for x in range(1, 10001):\n",
    "        digits = [int(digit) for digit in str(x**2)]\n",
    "        l = len(digits)\n",
    "        if l%2:\n",
    "            continue\n",
    "        \n",
    "        part_1 = digits[0:l//2]\n",
    "        part_2 = digits[l//2:]\n",
    "        \n",
    "        if digits_to_number(part_1) + digits_to_number(part_2) == x:\n",
    "            print (x)\n",
    "        \n",
    "        \n",
    "        "
   ]
  },
  {
   "cell_type": "code",
   "execution_count": 53,
   "metadata": {},
   "outputs": [
    {
     "name": "stdout",
     "output_type": "stream",
     "text": [
      "9\n",
      "45\n",
      "55\n",
      "99\n",
      "703\n",
      "999\n",
      "4950\n",
      "5050\n",
      "7272\n",
      "7777\n",
      "9999\n"
     ]
    }
   ],
   "source": [
    "f()"
   ]
  },
  {
   "cell_type": "markdown",
   "metadata": {},
   "source": [
    "### 20η άσκηση\n",
    "Βρείτε όλους τους [Happy numbers](https://twitter.com/fermatslibrary/status/950366488245960707) από το 1 μέχρι το 10.000"
   ]
  },
  {
   "cell_type": "code",
   "execution_count": 54,
   "metadata": {},
   "outputs": [],
   "source": [
    "def f():\n",
    "    for x in range(1,10001):\n",
    "\n",
    "        found_numbers = []\n",
    "        current_number = x\n",
    "        while current_number != 1:\n",
    "            \n",
    "            digits = [int(digit) for digit in str(current_number)]\n",
    "            current_number = sum([digit**2 for digit in digits])\n",
    "        \n",
    "            if current_number in found_numbers:\n",
    "                # Cycle detected...\n",
    "                break\n",
    "            found_numbers.append(current_number)\n",
    "            \n",
    "            if current_number == 1:\n",
    "                print (x)\n",
    "                break\n"
   ]
  },
  {
   "cell_type": "code",
   "execution_count": 55,
   "metadata": {},
   "outputs": [],
   "source": [
    "#f()"
   ]
  },
  {
   "cell_type": "markdown",
   "metadata": {},
   "source": [
    "# Λύσεις ασκήσεων σειρά 2, 2018"
   ]
  },
  {
   "cell_type": "markdown",
   "metadata": {},
   "source": [
    "## Άσκηση 1\n",
    "Φτιάξτε μία συνάρτηση που να παίρνει έναν αριθμό και να επιστρέφει αν είναι πρώτος ή όχι (True/False)"
   ]
  },
  {
   "cell_type": "code",
   "execution_count": 56,
   "metadata": {},
   "outputs": [],
   "source": [
    "import math\n",
    "\n",
    "def is_prime(N):\n",
    "    for k in range(2, int(math.sqrt(N))+1):\n",
    "        if not N%k:\n",
    "            return False\n",
    "    return True\n",
    "\n"
   ]
  },
  {
   "cell_type": "code",
   "execution_count": 57,
   "metadata": {},
   "outputs": [
    {
     "data": {
      "text/plain": [
       "False"
      ]
     },
     "execution_count": 57,
     "metadata": {},
     "output_type": "execute_result"
    }
   ],
   "source": [
    "is_prime(25)"
   ]
  },
  {
   "cell_type": "code",
   "execution_count": 58,
   "metadata": {},
   "outputs": [
    {
     "data": {
      "text/plain": [
       "True"
      ]
     },
     "execution_count": 58,
     "metadata": {},
     "output_type": "execute_result"
    }
   ],
   "source": [
    "is_prime(23)"
   ]
  },
  {
   "cell_type": "markdown",
   "metadata": {},
   "source": [
    "## Άσκηση 2\n",
    "Φτιάξτe μία λίστα με όλους του 1000 πρώτους αριθμούς. (προσοχή: όχι όλους τους πρώτους αριθμούς από το 1 μέχρι το 1000)"
   ]
  },
  {
   "cell_type": "code",
   "execution_count": 59,
   "metadata": {},
   "outputs": [],
   "source": [
    "def f2(limit):\n",
    "    # finds all prime numbers from 1 up to limit\n",
    "    l = []\n",
    "    current_number = 1\n",
    "    while len(l)<limit:\n",
    "        if is_prime(current_number):\n",
    "            l.append(current_number)\n",
    "        current_number += 1\n",
    "        \n",
    "    return l"
   ]
  },
  {
   "cell_type": "code",
   "execution_count": 60,
   "metadata": {},
   "outputs": [],
   "source": [
    "# f(1000)"
   ]
  },
  {
   "cell_type": "markdown",
   "metadata": {},
   "source": [
    "## Άσκηση 3\n",
    "Ποιο είναι το άθροισμα όλων των 1000 πρώτων αριθμών που τελειώνουν σε 3;"
   ]
  },
  {
   "cell_type": "code",
   "execution_count": 61,
   "metadata": {},
   "outputs": [
    {
     "data": {
      "text/plain": [
       "927269"
      ]
     },
     "execution_count": 61,
     "metadata": {},
     "output_type": "execute_result"
    }
   ],
   "source": [
    "sum([x for x in f2(1000) if str(x)[-1]=='3'])"
   ]
  },
  {
   "cell_type": "markdown",
   "metadata": {},
   "source": [
    "## Άσκηση 4\n",
    "Πάρτε τους πρώτους 10.000 πρώτους αριθμούς. Πόσοι τελειώνουν σε \"1\", πόσοι σε \"3\", πόσοι σε \"7\" και πόσοι σε \"9\";"
   ]
  },
  {
   "cell_type": "code",
   "execution_count": 62,
   "metadata": {},
   "outputs": [],
   "source": [
    "def f4():\n",
    "    \n",
    "    last_digits = ['1', '3', '7', '9']    \n",
    "    counts = {x: 0for x in last_digits}\n",
    "\n",
    "    for x in f2(10000):\n",
    "        last_digit = str(x)[-1]\n",
    "        if not last_digit in last_digits:\n",
    "            continue\n",
    "            \n",
    "        counts[last_digit] += 1\n",
    "    return counts\n"
   ]
  },
  {
   "cell_type": "code",
   "execution_count": 63,
   "metadata": {},
   "outputs": [
    {
     "data": {
      "text/plain": [
       "{'1': 2485, '3': 2515, '7': 2508, '9': 2490}"
      ]
     },
     "execution_count": 63,
     "metadata": {},
     "output_type": "execute_result"
    }
   ],
   "source": [
    "f4()"
   ]
  },
  {
   "cell_type": "markdown",
   "metadata": {},
   "source": [
    "## Άσκηση 5\n",
    "Πάρτε τους πρώτους 10.000 πρώτους αριθμούς. Πόσοι τελειώνουν σε \"01\", \"02\", \"03\", \"07\", \"09\", \"11\", \"13\", \"17\", \"19\", \"21\", .. \"99\"; Δηλαδή πάρτε όλα τα πιθανά τελευταία 2 ψηφία ενός πρώτου. Θεωρήστε ότι ο 1,2,5 και 7 τελειώνουν σε \"01\", \"02\", \"05\" και \"07\" αντίστοιχα.  Φτιάξτε ένα dictionary.  π.χ:\n",
    "\n",
    "```python\n",
    "solution = {\n",
    "  '01': 132,\n",
    "  '03' : 76,\n",
    "  ...\n",
    "  '99': 91,\n",
    "}\n",
    "```"
   ]
  },
  {
   "cell_type": "code",
   "execution_count": 64,
   "metadata": {},
   "outputs": [],
   "source": [
    "def f5():\n",
    "\n",
    "    counts = {}\n",
    "    \n",
    "    last_2_digits = []\n",
    "    for x in f2(10000):\n",
    "        str_x = str(x)\n",
    "        last_digit = str_x[-1]\n",
    "\n",
    "        if len(str_x) == 1:\n",
    "            one_before_last = '0'\n",
    "        else:\n",
    "            one_before_last = str_x[-2]\n",
    "        \n",
    "        last_two_digits = one_before_last + last_digit\n",
    "        if not last_two_digits in counts:\n",
    "            counts[last_two_digits] = 0\n",
    "            \n",
    "        counts[last_two_digits] += 1\n",
    "    return counts"
   ]
  },
  {
   "cell_type": "code",
   "execution_count": 65,
   "metadata": {},
   "outputs": [
    {
     "data": {
      "text/plain": [
       "{'01': 255,\n",
       " '02': 1,\n",
       " '03': 250,\n",
       " '05': 1,\n",
       " '07': 250,\n",
       " '11': 257,\n",
       " '13': 256,\n",
       " '17': 253,\n",
       " '19': 248,\n",
       " '23': 259,\n",
       " '29': 254,\n",
       " '31': 251,\n",
       " '37': 254,\n",
       " '41': 237,\n",
       " '43': 246,\n",
       " '47': 248,\n",
       " '53': 250,\n",
       " '59': 254,\n",
       " '61': 239,\n",
       " '67': 250,\n",
       " '71': 245,\n",
       " '73': 244,\n",
       " '79': 253,\n",
       " '83': 256,\n",
       " '89': 247,\n",
       " '97': 260,\n",
       " '09': 245,\n",
       " '27': 250,\n",
       " '39': 254,\n",
       " '49': 245,\n",
       " '51': 253,\n",
       " '57': 246,\n",
       " '63': 246,\n",
       " '81': 251,\n",
       " '91': 247,\n",
       " '93': 261,\n",
       " '99': 243,\n",
       " '33': 247,\n",
       " '69': 247,\n",
       " '77': 242,\n",
       " '21': 250,\n",
       " '87': 255}"
      ]
     },
     "execution_count": 65,
     "metadata": {},
     "output_type": "execute_result"
    }
   ],
   "source": [
    "f5()"
   ]
  },
  {
   "cell_type": "markdown",
   "metadata": {},
   "source": [
    "## Άσκηση 6\n",
    "Ποιός είναι ο μέσος όρος των τιμών του dictionary της άσκησης 5;"
   ]
  },
  {
   "cell_type": "code",
   "execution_count": 66,
   "metadata": {},
   "outputs": [],
   "source": [
    "def f6():\n",
    "    values = f5().values()\n",
    "    return sum(values)/len(values)"
   ]
  },
  {
   "cell_type": "code",
   "execution_count": 67,
   "metadata": {},
   "outputs": [
    {
     "data": {
      "text/plain": [
       "238.0952380952381"
      ]
     },
     "execution_count": 67,
     "metadata": {},
     "output_type": "execute_result"
    }
   ],
   "source": [
    "f6()"
   ]
  },
  {
   "cell_type": "markdown",
   "metadata": {},
   "source": [
    "## Άσκηση 7\n",
    "Από όλα τα counts της άσκησης 5, Ποιά κατάληξη έχει τους περισσότερους πρώτους αριθμούς;"
   ]
  },
  {
   "cell_type": "code",
   "execution_count": 68,
   "metadata": {},
   "outputs": [],
   "source": [
    "def f7():\n",
    "    counts = f5()\n",
    "    return max([(v,k) for k,v in counts.items()])"
   ]
  },
  {
   "cell_type": "code",
   "execution_count": 69,
   "metadata": {},
   "outputs": [
    {
     "data": {
      "text/plain": [
       "(261, '93')"
      ]
     },
     "execution_count": 69,
     "metadata": {},
     "output_type": "execute_result"
    }
   ],
   "source": [
    "f7()"
   ]
  },
  {
   "cell_type": "markdown",
   "metadata": {},
   "source": [
    "## Άσκηση 8\n",
    "Αν αρχίσουμε να αθροίζουμε όλους τους πρώτους αριθμούς ξεκινώντας από το 1, μετά από ποιον πρώτο αριθμό το άθροισμα θα ξεπεράσει το 1.000.000; "
   ]
  },
  {
   "cell_type": "code",
   "execution_count": 70,
   "metadata": {},
   "outputs": [],
   "source": [
    "def f8():\n",
    "    s = 0\n",
    "    current_number = 1\n",
    "    while s<=1000000:\n",
    "        if is_prime(current_number):\n",
    "            s += current_number\n",
    "            \n",
    "        current_number += 2\n",
    "        \n",
    "    return current_number"
   ]
  },
  {
   "cell_type": "code",
   "execution_count": 71,
   "metadata": {},
   "outputs": [
    {
     "data": {
      "text/plain": [
       "3945"
      ]
     },
     "execution_count": 71,
     "metadata": {},
     "output_type": "execute_result"
    }
   ],
   "source": [
    "f8()"
   ]
  },
  {
   "cell_type": "markdown",
   "metadata": {},
   "source": [
    "## Άσκηση 9\n",
    "Δίνεται πως να φτιάξετε μία λίστα με 1000 τυχαίους αιρθμούς από το 0.0 μέχρι το 1.0:\n",
    "\n",
    "```python\n",
    "import random\n",
    "l = [random.random() for x in range(1000)]\n",
    "```\n",
    "\n",
    "Ποιος είναι ο δεύτερος μεγαλύτερος αριθμός της λίστας; Μη χρησιμοποιήσετε ```sort``` ή ```max```. Πρέπει να χρησιμοποιήσετε ένα και μόνο 1 ```for```. Επίσης αν οι 2 (ή παραπάνω) μεγαλύτεροι αριθμοί είναι ίσοι θα πρέπει να επιστρέφει έναν από αυτούς. Δηλαδή ο δεύτερος μεγαλύτερος αριθμός της λίστας: ```[3,6,5,6]``` είναι το 6 και όχι το 5.\n"
   ]
  },
  {
   "cell_type": "code",
   "execution_count": 72,
   "metadata": {},
   "outputs": [],
   "source": [
    "def f9(my_list):\n",
    "    \n",
    "    first_max = my_list[0]\n",
    "    second_max = my_list[0]\n",
    "    \n",
    "    for x in my_list:\n",
    "        if x >= first_max:\n",
    "            second_max = first_max\n",
    "            first_max = x\n",
    "            continue\n",
    "        if x >= second_max:\n",
    "            second_max = x\n",
    "            \n",
    "            \n",
    "    return second_max"
   ]
  },
  {
   "cell_type": "code",
   "execution_count": 73,
   "metadata": {},
   "outputs": [],
   "source": [
    "import random\n",
    "l = [random.random() for x in range(1000)]"
   ]
  },
  {
   "cell_type": "code",
   "execution_count": 74,
   "metadata": {},
   "outputs": [
    {
     "data": {
      "text/plain": [
       "0.9972017606218616"
      ]
     },
     "execution_count": 74,
     "metadata": {},
     "output_type": "execute_result"
    }
   ],
   "source": [
    "f9(l)"
   ]
  },
  {
   "cell_type": "code",
   "execution_count": 75,
   "metadata": {},
   "outputs": [
    {
     "data": {
      "text/plain": [
       "0.9979808298962436"
      ]
     },
     "execution_count": 75,
     "metadata": {},
     "output_type": "execute_result"
    }
   ],
   "source": [
    "max(l)"
   ]
  },
  {
   "cell_type": "code",
   "execution_count": 76,
   "metadata": {},
   "outputs": [
    {
     "data": {
      "text/plain": [
       "6"
      ]
     },
     "execution_count": 76,
     "metadata": {},
     "output_type": "execute_result"
    }
   ],
   "source": [
    "f9([3,6,5,6])"
   ]
  },
  {
   "cell_type": "markdown",
   "metadata": {},
   "source": [
    "## Άσκηση 10\n",
    "\n",
    "Δίνεται το παρακάτω string:\n",
    "\n",
    "```python\n",
    "a = '''\n",
    "#CHROM  POS     ID      REF     ALT     QUAL\n",
    "chr19   617614  .       G       A       39.2648\n",
    "chr19   617804  .       G       A       0.309945\n",
    "chr19   617959  .       A       C       0.0608339\n",
    "chr19   618159  .       A       G       193.704\n",
    "chr19   618428  .       T       G       1.87498E-5\n",
    "chr19   618851  .       T       C       74.4613\n",
    "chr19   618854  .       G       A       74.4613\n",
    "chr19   618911  .       T       G       2.88308E-4\n",
    "chr19   619021  .       G       C       352.245\n",
    "chr19   619139  .       G       A       137.482\n",
    "chr19   619408  .       A       G       207.722\n",
    "chr19   619574  .       T       G       594.095\n",
    "chr19   619772  .       G       C       612.352\n",
    "chr19   619913  .       T       C       276.649\n",
    "chr19   620004  .       T       C       0.00524165\n",
    "chr19   620045  .       A       T       15.5734\n",
    "chr19   620201  .       A       C       5.61107E-5\n",
    "chr19   620210  .       A       C       1.63995E-5\n",
    "chr19   620214  .       T       C       3.42253E-5\n",
    "chr19   620228  .       A       C       8.62681E-4\n",
    "chr19   620299  .       C       A       6.06919\n",
    "chr19   620315  .       A       C       3.3417E-4\n",
    "chr19   620381  .       T       G       5.01393E-4\n",
    "chr19   620414  .       A       C       6.37073E-6\n",
    "chr19   620429  .       T       C       2.46975E-5\n",
    "chr19   620454  .       A       C       4.25049E-5\n",
    "chr19   620459  .       T       C       4.96425E-5\n",
    "chr19   620728  .       A       G       0.0198511\n",
    "chr19   620807  .       G       A       41.4442 \n",
    "'''\n",
    "\n",
    "```\n",
    "\n",
    "Όπως βλέπετε περιέχει πληροφορίες για διάφορες θέσεις στο χρωμόσωμα 19.\n",
    "\n",
    "Πόσες γραμμές περιέχει;\n"
   ]
  },
  {
   "cell_type": "code",
   "execution_count": 77,
   "metadata": {},
   "outputs": [],
   "source": [
    "def f10(s):\n",
    "    return s.strip().count('\\n')"
   ]
  },
  {
   "cell_type": "code",
   "execution_count": 78,
   "metadata": {},
   "outputs": [
    {
     "data": {
      "text/plain": [
       "29"
      ]
     },
     "execution_count": 78,
     "metadata": {},
     "output_type": "execute_result"
    }
   ],
   "source": [
    "a = '''\n",
    "#CHROM  POS     ID      REF     ALT     QUAL\n",
    "chr19   617614  .       G       A       39.2648\n",
    "chr19   617804  .       G       A       0.309945\n",
    "chr19   617959  .       A       C       0.0608339\n",
    "chr19   618159  .       A       G       193.704\n",
    "chr19   618428  .       T       G       1.87498E-5\n",
    "chr19   618851  .       T       C       74.4613\n",
    "chr19   618854  .       G       A       74.4613\n",
    "chr19   618911  .       T       G       2.88308E-4\n",
    "chr19   619021  .       G       C       352.245\n",
    "chr19   619139  .       G       A       137.482\n",
    "chr19   619408  .       A       G       207.722\n",
    "chr19   619574  .       T       G       594.095\n",
    "chr19   619772  .       G       C       612.352\n",
    "chr19   619913  .       T       C       276.649\n",
    "chr19   620004  .       T       C       0.00524165\n",
    "chr19   620045  .       A       T       15.5734\n",
    "chr19   620201  .       A       C       5.61107E-5\n",
    "chr19   620210  .       A       C       1.63995E-5\n",
    "chr19   620214  .       T       C       3.42253E-5\n",
    "chr19   620228  .       A       C       8.62681E-4\n",
    "chr19   620299  .       C       A       6.06919\n",
    "chr19   620315  .       A       C       3.3417E-4\n",
    "chr19   620381  .       T       G       5.01393E-4\n",
    "chr19   620414  .       A       C       6.37073E-6\n",
    "chr19   620429  .       T       C       2.46975E-5\n",
    "chr19   620454  .       A       C       4.25049E-5\n",
    "chr19   620459  .       T       C       4.96425E-5\n",
    "chr19   620728  .       A       G       0.0198511\n",
    "chr19   620807  .       G       A       41.4442 \n",
    "'''\n",
    "\n",
    "\n",
    "f10(a)"
   ]
  },
  {
   "cell_type": "markdown",
   "metadata": {},
   "source": [
    "## Άσκηση 11\n",
    "Έστω το string της άσκηση 10. Φτιάξτε ένα dictionary του οποίου το key να είναι το POS και το value να είναι το QUAL. Δηλαδή:\n",
    "\n",
    "```python\n",
    "q = {\n",
    "  617614 : 39.2648,\n",
    "  617804 : 0.309945,\n",
    "  ...\n",
    "}\n",
    "```\n",
    "\n",
    "* hint 1: Έστω το string: \n",
    "```python\n",
    "a = ''' \n",
    "mitsos 452\n",
    "kwstas 999\n",
    "'''\n",
    "```\n",
    "\n",
    "Τότε:\n",
    "```python\n",
    "b = a.split('\\n')\n",
    "print (b)\n",
    "```\n",
    "```text\n",
    "[' ', 'mitsos 452', 'kwstas 999', '']\n",
    "```\n",
    "\n",
    "* hint 2: Έστω η λίστα: \n",
    "```python\n",
    "b = [' ', 'mitsos 452', 'kwstas 999', '']\n",
    "```\n",
    "Τότε:\n",
    "```python\n",
    "c = [x.strip() for x in b]\n",
    "print (c)\n",
    "```\n",
    "```text\n",
    "['', 'mitsos 452', 'kwstas 999', '']\n",
    "```\n",
    "\n",
    "* hint 3. Έστω η λίστα:\n",
    "```python\n",
    "c = ['', 'mitsos 452', 'kwstas 999', '']\n",
    "```\n",
    "Τότε:\n",
    "```python\n",
    "d = [x for x in c if x] # Θυμηθείτε ότι το '' είναι False\n",
    "print (d)\n",
    "```\n",
    "```text\n",
    "['mitsos 452', 'kwstas 999']\n",
    "```\n",
    "\n",
    "* Hint 4. Έστω η λίστα:\n",
    "```python\n",
    "d = ['mitsos 452', 'kwstas 999']\n",
    "```\n",
    "Τότε:\n",
    "```python\n",
    "e = [x.split() for x in d]\n",
    "print (e)\n",
    "```\n",
    "```text\n",
    "[['mitsos', '452'], ['kwstas', '999']]\n",
    "```\n",
    "\n",
    "* Hint 5. Έστω η λίστα:\n",
    "```python\n",
    "e = [['mitsos', '452'], ['kwstas', '999']]\n",
    "```\n",
    "Τότε:\n",
    "```python\n",
    "f = {x[0] : int(x[1]) for x in e}\n",
    "print (f)\n",
    "```\n",
    "```text\n",
    "{'mitsos': 452, 'kwstas': 999}\n",
    "```\n",
    "* Hint 6. (Όλο μαζί). Έστω το string:\n",
    "```python\n",
    "a = ''' \n",
    "mitsos 452\n",
    "kwstas 999\n",
    "'''\n",
    "```\n",
    "Τότε:\n",
    "```python\n",
    "b = {y[0]:int(y[1]) for y in [x.split() for x in a.split('\\n') if x.strip()]}\n",
    "print (b)\n",
    "```\n",
    "```text\n",
    "{'mitsos': 452, 'kwstas': 999}\n",
    "```"
   ]
  },
  {
   "cell_type": "code",
   "execution_count": 79,
   "metadata": {},
   "outputs": [],
   "source": [
    "def f11(s):\n",
    "    splitted = [x.split() for x in s.strip().split('\\n')[1:]]\n",
    "    return {int(x[1]) : float(x[5]) for x in splitted}"
   ]
  },
  {
   "cell_type": "code",
   "execution_count": 80,
   "metadata": {},
   "outputs": [
    {
     "data": {
      "text/plain": [
       "{617614: 39.2648,\n",
       " 617804: 0.309945,\n",
       " 617959: 0.0608339,\n",
       " 618159: 193.704,\n",
       " 618428: 1.87498e-05,\n",
       " 618851: 74.4613,\n",
       " 618854: 74.4613,\n",
       " 618911: 0.000288308,\n",
       " 619021: 352.245,\n",
       " 619139: 137.482,\n",
       " 619408: 207.722,\n",
       " 619574: 594.095,\n",
       " 619772: 612.352,\n",
       " 619913: 276.649,\n",
       " 620004: 0.00524165,\n",
       " 620045: 15.5734,\n",
       " 620201: 5.61107e-05,\n",
       " 620210: 1.63995e-05,\n",
       " 620214: 3.42253e-05,\n",
       " 620228: 0.000862681,\n",
       " 620299: 6.06919,\n",
       " 620315: 0.00033417,\n",
       " 620381: 0.000501393,\n",
       " 620414: 6.37073e-06,\n",
       " 620429: 2.46975e-05,\n",
       " 620454: 4.25049e-05,\n",
       " 620459: 4.96425e-05,\n",
       " 620728: 0.0198511,\n",
       " 620807: 41.4442}"
      ]
     },
     "execution_count": 80,
     "metadata": {},
     "output_type": "execute_result"
    }
   ],
   "source": [
    "f11(a)"
   ]
  },
  {
   "cell_type": "markdown",
   "metadata": {},
   "source": [
    "## Άσκηση 12\n",
    "Έστω το string της άσκηση 10. Φτιάχτε ένα dictionay όπου το key θα είναι το POS και το value θα είναι ένα dictionary που θα περιέχει τα REF και ALT. Δηλαδή:\n",
    "\n",
    "```python\n",
    "q = {\n",
    "  617614 : {'REF': 'G', 'ALT': 'A'},\n",
    "  617804 : {'REF': 'G', 'ALT': 'A'},\n",
    "  617959 : {'REF': 'A', 'ALT': 'C'},\n",
    "  ...\n",
    "}\n",
    "```"
   ]
  },
  {
   "cell_type": "code",
   "execution_count": 81,
   "metadata": {},
   "outputs": [],
   "source": [
    "def f12(s):\n",
    "    splitted = [x.split() for x in s.strip().split('\\n')[1:]]\n",
    "    return {int(x[1]): {'REF': x[3], 'ALT': x[4]} for x in splitted}\n",
    "    "
   ]
  },
  {
   "cell_type": "code",
   "execution_count": 82,
   "metadata": {},
   "outputs": [
    {
     "data": {
      "text/plain": [
       "{617614: {'REF': 'G', 'ALT': 'A'},\n",
       " 617804: {'REF': 'G', 'ALT': 'A'},\n",
       " 617959: {'REF': 'A', 'ALT': 'C'},\n",
       " 618159: {'REF': 'A', 'ALT': 'G'},\n",
       " 618428: {'REF': 'T', 'ALT': 'G'},\n",
       " 618851: {'REF': 'T', 'ALT': 'C'},\n",
       " 618854: {'REF': 'G', 'ALT': 'A'},\n",
       " 618911: {'REF': 'T', 'ALT': 'G'},\n",
       " 619021: {'REF': 'G', 'ALT': 'C'},\n",
       " 619139: {'REF': 'G', 'ALT': 'A'},\n",
       " 619408: {'REF': 'A', 'ALT': 'G'},\n",
       " 619574: {'REF': 'T', 'ALT': 'G'},\n",
       " 619772: {'REF': 'G', 'ALT': 'C'},\n",
       " 619913: {'REF': 'T', 'ALT': 'C'},\n",
       " 620004: {'REF': 'T', 'ALT': 'C'},\n",
       " 620045: {'REF': 'A', 'ALT': 'T'},\n",
       " 620201: {'REF': 'A', 'ALT': 'C'},\n",
       " 620210: {'REF': 'A', 'ALT': 'C'},\n",
       " 620214: {'REF': 'T', 'ALT': 'C'},\n",
       " 620228: {'REF': 'A', 'ALT': 'C'},\n",
       " 620299: {'REF': 'C', 'ALT': 'A'},\n",
       " 620315: {'REF': 'A', 'ALT': 'C'},\n",
       " 620381: {'REF': 'T', 'ALT': 'G'},\n",
       " 620414: {'REF': 'A', 'ALT': 'C'},\n",
       " 620429: {'REF': 'T', 'ALT': 'C'},\n",
       " 620454: {'REF': 'A', 'ALT': 'C'},\n",
       " 620459: {'REF': 'T', 'ALT': 'C'},\n",
       " 620728: {'REF': 'A', 'ALT': 'G'},\n",
       " 620807: {'REF': 'G', 'ALT': 'A'}}"
      ]
     },
     "execution_count": 82,
     "metadata": {},
     "output_type": "execute_result"
    }
   ],
   "source": [
    "f12(a)"
   ]
  },
  {
   "cell_type": "markdown",
   "metadata": {},
   "source": [
    "## Άσκηση 13\n",
    "Έστω το dictionary της άσκησης 12. Πόσες φορές βλέπουμε να έχουμε 'REF' = G και 'ALT' = A ;"
   ]
  },
  {
   "cell_type": "code",
   "execution_count": 83,
   "metadata": {},
   "outputs": [],
   "source": [
    "def f13(s):\n",
    "    d = f12(s)\n",
    "    return sum([x=={'REF':'G', 'ALT': 'A'} for x in d.values()])"
   ]
  },
  {
   "cell_type": "code",
   "execution_count": 84,
   "metadata": {},
   "outputs": [
    {
     "data": {
      "text/plain": [
       "5"
      ]
     },
     "execution_count": 84,
     "metadata": {},
     "output_type": "execute_result"
    }
   ],
   "source": [
    "f13(a)"
   ]
  },
  {
   "cell_type": "markdown",
   "metadata": {},
   "source": [
    "## Άσκηση 14\n",
    "Έστω το dictionary της άσκησης 12. Πόσες φορές εμφανίζονται όλοι οι διαφορετικoί συνδοιασμοί για REF = 'A', 'C', 'G', 'T' και ALT = 'A', 'C', 'G', 'T' (όπου το REF είναι διαφορετικό από το ALT); Δηλαδή φτιάξτε ένα dictionary όπως αυτό:\n",
    "\n",
    "```python\n",
    "d = {\n",
    " ('A', 'C') : 4,\n",
    " ('A', 'G') : 2,\n",
    " ('A', 'T') : 0,\n",
    " ('C', 'A') : 1,\n",
    " ('C', 'G') : 2,\n",
    " ('C', 'T') : 3, \n",
    " ...\n",
    "}\n",
    "```\n",
    "\n",
    "* Το πρώτο value του key είναι το REF και το δεύτερο το ALT\n",
    "* Τα νούμερα που έχω βάλει εδώ είναι τυχαία.\n"
   ]
  },
  {
   "cell_type": "code",
   "execution_count": 85,
   "metadata": {},
   "outputs": [],
   "source": [
    "# 1os tropos\n",
    "def f14_1(s):\n",
    "    ref_alt_dict = f12(s)\n",
    "    result = {}\n",
    "    for ref in ['A', 'C', 'G', 'T']:\n",
    "        for alt in ['A', 'C', 'G', 'T']:\n",
    "            if ref==alt:\n",
    "                continue\n",
    "                \n",
    "            key = (ref,alt)\n",
    "            result[key] = sum([x['REF']==ref and x['ALT']==alt for x in ref_alt_dict.values()])\n",
    "            \n",
    "    return result"
   ]
  },
  {
   "cell_type": "code",
   "execution_count": 86,
   "metadata": {},
   "outputs": [
    {
     "data": {
      "text/plain": [
       "{('A', 'C'): 7,\n",
       " ('A', 'G'): 3,\n",
       " ('A', 'T'): 1,\n",
       " ('C', 'A'): 1,\n",
       " ('C', 'G'): 0,\n",
       " ('C', 'T'): 0,\n",
       " ('G', 'A'): 5,\n",
       " ('G', 'C'): 2,\n",
       " ('G', 'T'): 0,\n",
       " ('T', 'A'): 0,\n",
       " ('T', 'C'): 6,\n",
       " ('T', 'G'): 4}"
      ]
     },
     "execution_count": 86,
     "metadata": {},
     "output_type": "execute_result"
    }
   ],
   "source": [
    "f14_1(a)"
   ]
  },
  {
   "cell_type": "code",
   "execution_count": 87,
   "metadata": {},
   "outputs": [],
   "source": [
    "# 2os tropos. WARNING! UNREADABLE!\n",
    "def f14_2(s):\n",
    "    ref_alt_dict = f12(s)\n",
    "\n",
    "    return {(ref,alt): sum([x['REF']==ref and x['ALT']==alt for x in ref_alt_dict.values()]) for ref in ['A', 'C', 'G', 'T'] for alt in ['A', 'C', 'G', 'T'] if ref!=alt}\n"
   ]
  },
  {
   "cell_type": "code",
   "execution_count": 88,
   "metadata": {},
   "outputs": [
    {
     "data": {
      "text/plain": [
       "{('A', 'C'): 7,\n",
       " ('A', 'G'): 3,\n",
       " ('A', 'T'): 1,\n",
       " ('C', 'A'): 1,\n",
       " ('C', 'G'): 0,\n",
       " ('C', 'T'): 0,\n",
       " ('G', 'A'): 5,\n",
       " ('G', 'C'): 2,\n",
       " ('G', 'T'): 0,\n",
       " ('T', 'A'): 0,\n",
       " ('T', 'C'): 6,\n",
       " ('T', 'G'): 4}"
      ]
     },
     "execution_count": 88,
     "metadata": {},
     "output_type": "execute_result"
    }
   ],
   "source": [
    "f14_2(a)"
   ]
  },
  {
   "cell_type": "code",
   "execution_count": 89,
   "metadata": {},
   "outputs": [],
   "source": [
    "# 3os tropos. DEN EPISTREFEI OMWS OSA EXOUN 0 counts\n",
    "\n",
    "from collections import Counter\n",
    "\n",
    "def f14_3(s):\n",
    "    ref_alt_dict = f12(s)\n",
    "\n",
    "    return Counter([(v['REF'], v['ALT']) for v in ref_alt_dict.values()])"
   ]
  },
  {
   "cell_type": "code",
   "execution_count": 90,
   "metadata": {},
   "outputs": [
    {
     "data": {
      "text/plain": [
       "Counter({('G', 'A'): 5,\n",
       "         ('A', 'C'): 7,\n",
       "         ('A', 'G'): 3,\n",
       "         ('T', 'G'): 4,\n",
       "         ('T', 'C'): 6,\n",
       "         ('G', 'C'): 2,\n",
       "         ('A', 'T'): 1,\n",
       "         ('C', 'A'): 1})"
      ]
     },
     "execution_count": 90,
     "metadata": {},
     "output_type": "execute_result"
    }
   ],
   "source": [
    "f14_3(a)"
   ]
  },
  {
   "cell_type": "markdown",
   "metadata": {},
   "source": [
    "## Άσκηση 15\n",
    "Φτιάξτε το ίδιο dictionary με αυτό της άσκησης 12 αλλά τα keys είναι οι 4 διαφορετικές τιμές για το REF και τα values θα πρέπει να είναι και αυτά dictionaries όπου τα keys του θα είναι οι 4 διαφορετικές τιμές του ALT και τα values θα είναι τα counts. Δηλαδή:\n",
    "\n",
    "```python\n",
    "d = {\n",
    "'A' : {'C': 4, 'G': 2, 'T': 0},\n",
    "'C' : {'A': 1, 'G': 2, 'T': 3}, \n",
    "...\n",
    "}\n",
    "```\n",
    "\n",
    "Δηλαδή το REF=A και το ALT=C εμφανίζεται 4 φορές. Το REF=A και το ALT=G εμφανίζεται 2 φορές, κτλ..\n",
    "* Hint 1\n",
    "```python\n",
    "a = {}\n",
    "if a:\n",
    "   print ('Not Empty')\n",
    "else:\n",
    "   print ('Empty')\n",
    "```\n",
    "```python\n",
    "Empty\n",
    "```\n",
    "* Hint 2\n",
    "```python\n",
    "a = {'A': {'C': 5}}\n",
    "a['A']['T'] = 7\n",
    "print (a)\n",
    "```\n",
    "```python\n",
    "{'A': {'C': 5, 'T': 7}}\n",
    "```\n"
   ]
  },
  {
   "cell_type": "code",
   "execution_count": 91,
   "metadata": {},
   "outputs": [],
   "source": [
    "def f15(s):\n",
    "    ref_alt_dict = f12(s)\n",
    "    \n",
    "    result = {}\n",
    "    for v in ref_alt_dict.values():\n",
    "        ref = v['REF']\n",
    "        alt = v['ALT']\n",
    "        \n",
    "        if not ref in result:\n",
    "            result[ref] = {}\n",
    "            \n",
    "        if not alt in result[ref]:\n",
    "            result[ref][alt] = 0\n",
    "        \n",
    "        result[ref][alt] += 1\n",
    "        \n",
    "    return result\n",
    "\n",
    "\n",
    "            "
   ]
  },
  {
   "cell_type": "code",
   "execution_count": 92,
   "metadata": {},
   "outputs": [
    {
     "data": {
      "text/plain": [
       "{'G': {'A': 5, 'C': 2},\n",
       " 'A': {'C': 7, 'G': 3, 'T': 1},\n",
       " 'T': {'G': 4, 'C': 6},\n",
       " 'C': {'A': 1}}"
      ]
     },
     "execution_count": 92,
     "metadata": {},
     "output_type": "execute_result"
    }
   ],
   "source": [
    "f15(a)"
   ]
  },
  {
   "cell_type": "markdown",
   "metadata": {},
   "source": [
    "## Άσκηση 16\n",
    "Έστω το string της άσκησης 10, ποια μεταλλαγή (δηλαδή ζευγάρι REF,ALT) εμφανίζεται τις περισσότερες φορές;"
   ]
  },
  {
   "cell_type": "code",
   "execution_count": 93,
   "metadata": {},
   "outputs": [],
   "source": [
    "def f16(s):\n",
    "    ref_alt_counts = f14_1(s)\n",
    "    return max([(v,k) for k,v in ref_alt_counts.items()])"
   ]
  },
  {
   "cell_type": "code",
   "execution_count": 94,
   "metadata": {},
   "outputs": [
    {
     "data": {
      "text/plain": [
       "(7, ('A', 'C'))"
      ]
     },
     "execution_count": 94,
     "metadata": {},
     "output_type": "execute_result"
    }
   ],
   "source": [
    "f16(a)"
   ]
  },
  {
   "cell_type": "markdown",
   "metadata": {},
   "source": [
    "## Άσκηση 17\n",
    "Έστω το string της άσκησης 10. Κάντε sort των ζευγαριών REF,ALT με βάση το πόσες φορές εμφανίζονται (sort επιτρέπεται εννοείται) "
   ]
  },
  {
   "cell_type": "code",
   "execution_count": 95,
   "metadata": {},
   "outputs": [],
   "source": [
    "def f17(s):\n",
    "    \n",
    "    ref_alt_counts = f14_1(s)\n",
    "    return sorted(ref_alt_counts.items(), key=lambda x:x[1])"
   ]
  },
  {
   "cell_type": "code",
   "execution_count": 96,
   "metadata": {},
   "outputs": [
    {
     "data": {
      "text/plain": [
       "[(('C', 'G'), 0),\n",
       " (('C', 'T'), 0),\n",
       " (('G', 'T'), 0),\n",
       " (('T', 'A'), 0),\n",
       " (('A', 'T'), 1),\n",
       " (('C', 'A'), 1),\n",
       " (('G', 'C'), 2),\n",
       " (('A', 'G'), 3),\n",
       " (('T', 'G'), 4),\n",
       " (('G', 'A'), 5),\n",
       " (('T', 'C'), 6),\n",
       " (('A', 'C'), 7)]"
      ]
     },
     "execution_count": 96,
     "metadata": {},
     "output_type": "execute_result"
    }
   ],
   "source": [
    "f17(a)"
   ]
  },
  {
   "cell_type": "markdown",
   "metadata": {},
   "source": [
    "## Άσκηση 18\n",
    "Έστω το string της άσκησης 10. Σε ποια θέση (POS) έχουμε το μεγαλύτερο QUAL;\n"
   ]
  },
  {
   "cell_type": "code",
   "execution_count": 97,
   "metadata": {},
   "outputs": [],
   "source": [
    "def f18(s):\n",
    "    qual_dict = f11(s)\n",
    "    return max([(v,k) for k,v in qual_dict.items()])"
   ]
  },
  {
   "cell_type": "code",
   "execution_count": 98,
   "metadata": {},
   "outputs": [
    {
     "data": {
      "text/plain": [
       "(612.352, 619772)"
      ]
     },
     "execution_count": 98,
     "metadata": {},
     "output_type": "execute_result"
    }
   ],
   "source": [
    "f18(a)"
   ]
  },
  {
   "cell_type": "markdown",
   "metadata": {},
   "source": [
    "# Άσκηση 19 \n",
    "Έστω το string της άσκησης 10. Κάντε sort το POS ανάλογα με το QUAL. Η λίστα πρέπει να ξεκινάει από το μεγαλύτερο QUAL και να καταλήγει στο μικρότερο QUAL."
   ]
  },
  {
   "cell_type": "code",
   "execution_count": 99,
   "metadata": {},
   "outputs": [],
   "source": [
    "def f19(s):\n",
    "    qual_dict = f11(s)\n",
    "    return sorted(qual_dict.items(), key=lambda x:x[1], reverse=True)"
   ]
  },
  {
   "cell_type": "code",
   "execution_count": 100,
   "metadata": {},
   "outputs": [
    {
     "data": {
      "text/plain": [
       "[(619772, 612.352),\n",
       " (619574, 594.095),\n",
       " (619021, 352.245),\n",
       " (619913, 276.649),\n",
       " (619408, 207.722),\n",
       " (618159, 193.704),\n",
       " (619139, 137.482),\n",
       " (618851, 74.4613),\n",
       " (618854, 74.4613),\n",
       " (620807, 41.4442),\n",
       " (617614, 39.2648),\n",
       " (620045, 15.5734),\n",
       " (620299, 6.06919),\n",
       " (617804, 0.309945),\n",
       " (617959, 0.0608339),\n",
       " (620728, 0.0198511),\n",
       " (620004, 0.00524165),\n",
       " (620228, 0.000862681),\n",
       " (620381, 0.000501393),\n",
       " (620315, 0.00033417),\n",
       " (618911, 0.000288308),\n",
       " (620201, 5.61107e-05),\n",
       " (620459, 4.96425e-05),\n",
       " (620454, 4.25049e-05),\n",
       " (620214, 3.42253e-05),\n",
       " (620429, 2.46975e-05),\n",
       " (618428, 1.87498e-05),\n",
       " (620210, 1.63995e-05),\n",
       " (620414, 6.37073e-06)]"
      ]
     },
     "execution_count": 100,
     "metadata": {},
     "output_type": "execute_result"
    }
   ],
   "source": [
    "f19(a)"
   ]
  },
  {
   "cell_type": "markdown",
   "metadata": {},
   "source": [
    "## Άσκηση 20\n",
    "Έστω το string της άσκησης 10. Ποιο ζευγάρι από entries, έχει τη μικρότερη απόσταση μεταξύ τους; Απόσταση ορίζεται ως το απόλυτο της  διαφοράς του POS. "
   ]
  },
  {
   "cell_type": "code",
   "execution_count": 101,
   "metadata": {},
   "outputs": [
    {
     "name": "stdout",
     "output_type": "stream",
     "text": [
      "2 Closer entries (dist=3):\n",
      "chr19   618851  .       T       C       74.4613\n",
      "chr19   618854  .       G       A       74.4613\n"
     ]
    }
   ],
   "source": [
    "\n",
    "# 1os tropos\n",
    "def f20_1(s):\n",
    "    \n",
    "    entries = s.strip().split('\\n')[1:]\n",
    "    splitted = [x.split() for x in entries]\n",
    "    positions = [int(x[1]) for x in splitted]\n",
    "\n",
    "    def distance(i,j):\n",
    "        return abs(positions[i]-positions[j])\n",
    "    \n",
    "    #Get the closer positions\n",
    "\n",
    "    all_positions = []\n",
    "    for i in range(len(positions)):\n",
    "        for j in range(i+1, len(positions)):\n",
    "            all_positions.append((distance(i,j), (i,j)))\n",
    "    \n",
    "    closer = min(all_positions)\n",
    "    print ('2 Closer entries (dist={}):'.format(closer[0]))\n",
    "    print (entries[closer[1][0]])\n",
    "    print (entries[closer[1][1]])\n",
    "    \n",
    "f20_1(a)"
   ]
  },
  {
   "cell_type": "code",
   "execution_count": 102,
   "metadata": {},
   "outputs": [
    {
     "name": "stdout",
     "output_type": "stream",
     "text": [
      "2 Closer entries (dist=3):\n",
      "chr19   618851  .       T       C       74.4613\n",
      "chr19   618854  .       G       A       74.4613\n"
     ]
    }
   ],
   "source": [
    "# 2os tropos\n",
    "\n",
    "from itertools import combinations\n",
    "\n",
    "def f20_2(s):\n",
    "    \n",
    "    entries = s.strip().split('\\n')[1:]\n",
    "    splitted = [x.split() for x in entries]\n",
    "    positions = [int(x[1]) for x in splitted]\n",
    "\n",
    "    def distance(i,j):\n",
    "        return abs(positions[i]-positions[j])\n",
    "    \n",
    "    #Get the closer positions\n",
    "    closer = min((distance(i,j), (i,j)) for i,j in combinations(range(len(entries)), 2))\n",
    "\n",
    "    print ('2 Closer entries (dist={}):'.format(closer[0]))\n",
    "    print (entries[closer[1][0]])\n",
    "    print (entries[closer[1][1]])\n",
    "    \n",
    "f20_2(a)"
   ]
  },
  {
   "cell_type": "markdown",
   "metadata": {},
   "source": [
    "# Λύσεις ασκήσεων σειρά 3, 2018"
   ]
  },
  {
   "cell_type": "markdown",
   "metadata": {},
   "source": [
    "Σε αυτό το link: http://people.csail.mit.edu/jasonkb/raw_lexica/greek.raw βρίσκεται μία λίστα με όλες (σχεδόν) τις Eλληνικές λέξεις. Πηγαίνετε σε αυτό το link, περιμένετε να το φορτώσει o browser σας και μετά σώστε το με File --> Save as.. στο αρχείο \"greek.raw\".\n",
    "\n",
    "Εναλλακτικά μπορείτε να τρέξετε από linux την παρακάτω εντολή:\n",
    "\n",
    "```\n",
    "wget http://people.csail.mit.edu/jasonkb/raw_lexica/greek.raw\n",
    "```\n",
    "\n",
    "αν δεν δουλέψει αυτό μπορείτε να κάνετε:\n",
    "\n",
    "```\n",
    "curl http://people.csail.mit.edu/jasonkb/raw_lexica/greek.raw > greek.raw\n",
    "```\n",
    "\n",
    "Οι παρακάτω ασκήσεις υποθέτουν ότι έχετε κάνει ένα από τα παραπάνω και το αρχείο greek.raw βρίσκεται στον υπολογιστή σας. Το αρχείο περιέχει μία ελληνική λέξη σε κάθε γραμμή."
   ]
  },
  {
   "cell_type": "code",
   "execution_count": 1,
   "metadata": {},
   "outputs": [
    {
     "name": "stdout",
     "output_type": "stream",
     "text": [
      "--2019-11-16 10:36:46--  http://people.csail.mit.edu/jasonkb/raw_lexica/greek.raw\n",
      "Resolving people.csail.mit.edu (people.csail.mit.edu)... 128.30.2.133\n",
      "Connecting to people.csail.mit.edu (people.csail.mit.edu)|128.30.2.133|:80... connected.\n",
      "HTTP request sent, awaiting response... 200 OK\n",
      "Length: 7829739 (7.5M)\n",
      "Saving to: 'greek.raw'\n",
      "\n",
      "greek.raw           100%[===================>]   7.47M   973KB/s    in 8.2s    \n",
      "\n",
      "2019-11-16 10:36:58 (931 KB/s) - 'greek.raw' saved [7829739/7829739]\n",
      "\n"
     ]
    }
   ],
   "source": [
    "!wget http://people.csail.mit.edu/jasonkb/raw_lexica/greek.raw"
   ]
  },
  {
   "cell_type": "markdown",
   "metadata": {},
   "source": [
    "### Άσκηση 1\n",
    "Πόσες γραμμές περιέχει το αρχείο;"
   ]
  },
  {
   "cell_type": "code",
   "execution_count": 15,
   "metadata": {},
   "outputs": [
    {
     "data": {
      "text/plain": [
       "359791"
      ]
     },
     "execution_count": 15,
     "metadata": {},
     "output_type": "execute_result"
    }
   ],
   "source": [
    "with open('greek.raw') as f:\n",
    "    lines = f.readlines()\n",
    "len(lines)"
   ]
  },
  {
   "cell_type": "markdown",
   "metadata": {},
   "source": [
    "### Άσκηση 2\n",
    "Ποια είναι η μεγαλύτερη λέξη;"
   ]
  },
  {
   "cell_type": "code",
   "execution_count": 4,
   "metadata": {},
   "outputs": [
    {
     "data": {
      "text/plain": [
       "'ΑΒΑΝΓΚΑΡΝΤΙΣΜΟΣ\\n'"
      ]
     },
     "execution_count": 4,
     "metadata": {},
     "output_type": "execute_result"
    }
   ],
   "source": [
    "max(lines, key=len)"
   ]
  },
  {
   "cell_type": "markdown",
   "metadata": {},
   "source": [
    "### Άσκηση 3\n",
    "Πόσες φορές υπάρχει το \"Π\" σε όλες τις λέξεις;"
   ]
  },
  {
   "cell_type": "code",
   "execution_count": 5,
   "metadata": {},
   "outputs": [
    {
     "data": {
      "text/plain": [
       "127374"
      ]
     },
     "execution_count": 5,
     "metadata": {},
     "output_type": "execute_result"
    }
   ],
   "source": [
    "sum(x.count('Π') for x in lines)"
   ]
  },
  {
   "cell_type": "markdown",
   "metadata": {},
   "source": [
    "### Άσκηση 4\n",
    "Ποιο είναι το γράμμα που εμφανίζεται τις δεύτερες λιγότερες φορές σε όλες τις ελληνικές λέξεις που τελειώνουν σε \"ΕΣ\";"
   ]
  },
  {
   "cell_type": "code",
   "execution_count": 19,
   "metadata": {},
   "outputs": [
    {
     "data": {
      "text/plain": [
       "('Ξ', 1242)"
      ]
     },
     "execution_count": 19,
     "metadata": {},
     "output_type": "execute_result"
    }
   ],
   "source": [
    "from collections import Counter\n",
    "\n",
    "# Remove '\\n'\n",
    "lines = [l.strip() for l in lines]\n",
    "\n",
    "# Μέτρα τα γράμματα όλων των λέξεων που τελειώνουν σε 'ΕΣ'\n",
    "c = Counter(letter for x in lines if x[-2:] == 'ΕΣ' for letter in x)\n",
    "\n",
    "# Ταξινόμησε με βάση το πλήθος τους\n",
    "s = sorted(c.items(), key=lambda x:x[1])\n",
    "\n",
    "# Τύπωσε το δεύτερο λιγότερο:\n",
    "s[1]"
   ]
  },
  {
   "cell_type": "markdown",
   "metadata": {},
   "source": [
    "### Άσκηση 5\n",
    "Φτιάξτε το αρχείο \"greek_len_sorted.txt\" το οποίο θα έχει όλες τις λέξεις ταξινομημένες ανάλογα με το μήκος τους (από τη μικρότερη στη μεγαλύτερη). Κάθε γραμμή του αρχείου θα περιέχει και μία λέξη."
   ]
  },
  {
   "cell_type": "code",
   "execution_count": 20,
   "metadata": {},
   "outputs": [],
   "source": [
    "s = sorted(lines, key=len)\n",
    "\n",
    "with open('greek_len_sorted.txt', 'w') as f:\n",
    "    f.write('\\n'.join(s) + '\\n')"
   ]
  },
  {
   "cell_type": "markdown",
   "metadata": {},
   "source": [
    "### Άσκηση 6\n",
    "Βρείτε πόσες λέξεις υπάρχουν με 1 γράμμα, με 2 γράμματα, κτλ.. Φτιάξτε ένα dictionary (keys=μήκος, values=πλήθος λέξεων που έχουν αυτό το μήκος)."
   ]
  },
  {
   "cell_type": "code",
   "execution_count": 22,
   "metadata": {},
   "outputs": [
    {
     "data": {
      "text/plain": [
       "Counter({3: 524,\n",
       "         6: 14579,\n",
       "         5: 6520,\n",
       "         7: 25024,\n",
       "         10: 51504,\n",
       "         11: 51398,\n",
       "         12: 45816,\n",
       "         13: 36177,\n",
       "         14: 25833,\n",
       "         8: 36755,\n",
       "         4: 2187,\n",
       "         15: 17141,\n",
       "         9: 46206,\n",
       "         2: 103,\n",
       "         1: 24})"
      ]
     },
     "execution_count": 22,
     "metadata": {},
     "output_type": "execute_result"
    }
   ],
   "source": [
    "from collections import Counter\n",
    "\n",
    "Counter(len(x) for x in lines)\n"
   ]
  },
  {
   "cell_type": "markdown",
   "metadata": {},
   "source": [
    "### Άσκηση 7\n",
    "Ποιο είναι το πιο συχνό μήκος των λέξεων (δηλαδή το key με μεγαλύτερο value από την Άσκηση 6)"
   ]
  },
  {
   "cell_type": "code",
   "execution_count": 25,
   "metadata": {},
   "outputs": [
    {
     "data": {
      "text/plain": [
       "10"
      ]
     },
     "execution_count": 25,
     "metadata": {},
     "output_type": "execute_result"
    }
   ],
   "source": [
    "c = Counter(len(x) for x in lines)\n",
    "\n",
    "max(c.items(), key=lambda x : x[1])[0]"
   ]
  },
  {
   "cell_type": "markdown",
   "metadata": {},
   "source": [
    "### Άσκηση 8\n",
    "Φτιάξτε έναν generator ο οποίος θα δέχεται σαν όρισμα μία λέξη και θα παράγει ελληνικές λέξεις που είναι αναγραμματισμός τους. Δίνοναι κάποια παραδείγματα χρήσης (έστω anag o ζητούμενος generator)\n",
    "\n",
    "```python\n",
    "list(anag('ΜΙΚΡΟ'))\n",
    "['ΚΟΡΜΙ', 'ΜΙΚΡΟ']\n",
    "\n",
    "list(anag('ΚΑΝΤΕΡΑΚΗΣ'))\n",
    "['ΑΡΚΕΣΤΗΚΑΝ']\n",
    "\n",
    "g = anag('ΜΙΚΡΟ')\n",
    "\n",
    "print (next(g)) # Τυπώνει 'ΚΟΡΜΙ΄\n",
    "```\n",
    "\n",
    "ΠΡΟΣΟΧΗ! ΜΗΝ παράξετε όλους τους δυνατούς ανασυνδυασμούς των γραμμάτων μίας λέξης. Δεν χρειάζεται πουθενά αυτό."
   ]
  },
  {
   "cell_type": "code",
   "execution_count": 32,
   "metadata": {},
   "outputs": [],
   "source": [
    "def anag(word):\n",
    "    w_s = sorted(word)\n",
    "    for l in lines:\n",
    "        l_s = sorted(l)\n",
    "        if w_s == l_s:\n",
    "            yield l"
   ]
  },
  {
   "cell_type": "code",
   "execution_count": 33,
   "metadata": {},
   "outputs": [],
   "source": [
    "g = anag('ΚΑΝΤΕΡΑΚΗΣ')"
   ]
  },
  {
   "cell_type": "code",
   "execution_count": 34,
   "metadata": {},
   "outputs": [
    {
     "data": {
      "text/plain": [
       "'ΑΡΚΕΣΤΗΚΑΝ'"
      ]
     },
     "execution_count": 34,
     "metadata": {},
     "output_type": "execute_result"
    }
   ],
   "source": [
    "next(g)"
   ]
  },
  {
   "cell_type": "markdown",
   "metadata": {},
   "source": [
    "### Άσκηση 9\n",
    "Υποθέτω ότι θα έχετε ακούσει για την [αριθμοσοφία](https://el.wiktionary.org/wiki/%CE%B1%CF%81%CE%B9%CE%B8%CE%BC%CE%BF%CF%83%CE%BF%CF%86%CE%AF%CE%B1). Σε κάθε γράμμα δίνεται μία αξία. Η αξία μίας λέξης είναι το άθροισμα της αξίας των γραμμάτων. Αφού μάσησα λίγο δυόσμο και επικαλέστηκα τη βοήθεια του Απόλλωνα, μου αποκαλύφθηκε αυτή η αντιστοίχιση σε μορφή python dictionary ([αν και υπάρχουν και στη wikipedia](https://en.wikipedia.org/wiki/Isopsephy))!\n",
    "\n",
    "```python\n",
    " {'Α': 1,\n",
    " 'Β': 2,\n",
    " 'Γ': 3,\n",
    " 'Δ': 4,\n",
    " 'Ε': 5,\n",
    " 'Ζ': 7,\n",
    " 'Η': 8,\n",
    " 'Θ': 9,\n",
    " 'Ι': 10,\n",
    " 'Κ': 20,\n",
    " 'Λ': 30,\n",
    " 'Μ': 40,\n",
    " 'Ν': 50,\n",
    " 'Ξ': 60,\n",
    " 'Ο': 70,\n",
    " 'Π': 80,\n",
    " 'Ρ': 100,\n",
    " 'Σ': 200,\n",
    " 'Τ': 300,\n",
    " 'Υ': 400,\n",
    " 'Φ': 500,\n",
    " 'Χ': 600,\n",
    " 'Ψ': 700,\n",
    " 'Ω': 800}\n",
    "```\n",
    "Φτιάξτε μία συνάρτηση που θα παίρνει μία ελληνική λέξη με κεφαλαία και θα επιστρέφει την \"αξία\" της. Π.χ \"ΚΡΗΤΗ\" = 20+100+8+300+8=436)\n"
   ]
  },
  {
   "cell_type": "code",
   "execution_count": 58,
   "metadata": {},
   "outputs": [],
   "source": [
    "values = {'Α': 1,\n",
    " 'Β': 2,\n",
    " 'Γ': 3,\n",
    " 'Δ': 4,\n",
    " 'Ε': 5,\n",
    " 'Ζ': 7,\n",
    " 'Η': 8,\n",
    " 'Θ': 9,\n",
    " 'Ι': 10,\n",
    " 'Κ': 20,\n",
    " 'Λ': 30,\n",
    " 'Μ': 40,\n",
    " 'Ν': 50,\n",
    " 'Ξ': 60,\n",
    " 'Ο': 70,\n",
    " 'Π': 80,\n",
    " 'Ρ': 100,\n",
    " 'Σ': 200,\n",
    " 'Τ': 300,\n",
    " 'Υ': 400,\n",
    " 'Φ': 500,\n",
    " 'Χ': 600,\n",
    " 'Ψ': 700,\n",
    " 'Ω': 800,\n",
    " ' ': 0,}\n",
    "\n",
    "def word_value(word):\n",
    "    return sum(values[x] for x in word)"
   ]
  },
  {
   "cell_type": "code",
   "execution_count": 37,
   "metadata": {},
   "outputs": [
    {
     "data": {
      "text/plain": [
       "436"
      ]
     },
     "execution_count": 37,
     "metadata": {},
     "output_type": "execute_result"
    }
   ],
   "source": [
    "word_value('ΚΡΗΤΗ')"
   ]
  },
  {
   "cell_type": "markdown",
   "metadata": {},
   "source": [
    "### Άσκηση 10\n",
    "Ποια είναι η λέξη με τη μεγαλύτερη \"αξία\";"
   ]
  },
  {
   "cell_type": "code",
   "execution_count": 39,
   "metadata": {},
   "outputs": [
    {
     "data": {
      "text/plain": [
       "'ΧΡΥΣΟΣΤΕΦΑΝΩΤΩΝ'"
      ]
     },
     "execution_count": 39,
     "metadata": {},
     "output_type": "execute_result"
    }
   ],
   "source": [
    "max(lines, key=word_value)"
   ]
  },
  {
   "cell_type": "markdown",
   "metadata": {},
   "source": [
    "### Άσκηση 11\n",
    "Φτιάξτε έναν generator ο οποίος θα παίρνει μία λέξη και θα κάνει generate λέξεις με την ίδια αξία. Αν υποθέσουμε ότι g είναι ο generator που έχετε φτιάξει τότε θα πρέπει:\n",
    "\n",
    "```python\n",
    "list(g('ΓΛΩΣΣΑΠΡΟΓΡΑΜΜΑΤΙΣΜΟΥ'))\n",
    "```\n",
    "\n",
    "Θα πρέπει να τυπώνει:\n",
    "\n",
    "```\n",
    "['ΕΝΣΤΙΚΤΩΔΩΣ',\n",
    " 'ΠΥΡΕΤΩΔΩΣ',\n",
    " 'ΣΥΝΩΣΤΙΣΘΟΥΝ',\n",
    " 'ΦΩΤΟΓΡΑΦΙΣΕΣ',\n",
    " 'ΨΙΛΟΧΩΜΑΤΙΖΟΜΑΙ',\n",
    " 'ΨΥΧΟΤΑΡΑΖΕΣΤΕ']\n",
    "```\n",
    "\n",
    "```\n",
    "g_comp_lang = g('ΓΛΩΣΣΑΠΡΟΓΡΑΜΜΑΤΙΣΜΟΥ')\n",
    "\n",
    "print (next(g_comp_lang)) # Τυπώνει 'ΕΝΣΤΙΚΤΩΔΩΣ'\n",
    "print (next(g_comp_lang)) # Τυπώνει 'ΠΥΡΕΤΩΔΩΣ'\n",
    "print (next(g_comp_lang)) # Τυπώνει 'ΣΥΝΩΣΤΙΣΘΟΥΝ'\n",
    "```"
   ]
  },
  {
   "cell_type": "code",
   "execution_count": 41,
   "metadata": {},
   "outputs": [],
   "source": [
    "def g(word):\n",
    "    value = word_value(word)\n",
    "    for l in lines:\n",
    "        if word_value(l) == value:\n",
    "            yield l"
   ]
  },
  {
   "cell_type": "code",
   "execution_count": 42,
   "metadata": {},
   "outputs": [
    {
     "data": {
      "text/plain": [
       "['ΕΝΣΤΙΚΤΩΔΩΣ',\n",
       " 'ΠΥΡΕΤΩΔΩΣ',\n",
       " 'ΣΥΝΩΣΤΙΣΘΟΥΝ',\n",
       " 'ΦΩΤΟΓΡΑΦΙΣΕΣ',\n",
       " 'ΨΙΛΟΧΩΜΑΤΙΖΟΜΑΙ',\n",
       " 'ΨΥΧΟΤΑΡΑΖΕΣΤΕ']"
      ]
     },
     "execution_count": 42,
     "metadata": {},
     "output_type": "execute_result"
    }
   ],
   "source": [
    "list(g('ΓΛΩΣΣΑΠΡΟΓΡΑΜΜΑΤΙΣΜΟΥ'))"
   ]
  },
  {
   "cell_type": "markdown",
   "metadata": {},
   "source": [
    "### Άσκηση 12\n",
    "Φτιάξτε ένα dictionary. Τα keys θα είναι αξίες και τα values θα είναι λίστα με τις λέξεις που έχουν αυτές τις αξίες."
   ]
  },
  {
   "cell_type": "code",
   "execution_count": 44,
   "metadata": {},
   "outputs": [],
   "source": [
    "# 1ος τρόπος \n",
    "d = {}\n",
    "for word in lines:\n",
    "    v = word_value(word)\n",
    "    if not v in d:\n",
    "        d[v] = []\n",
    "    d[v].append(word)"
   ]
  },
  {
   "cell_type": "code",
   "execution_count": 56,
   "metadata": {},
   "outputs": [],
   "source": [
    "# 2ος τρόπος \n",
    "from collections import defaultdict\n",
    "\n",
    "d = defaultdict(list)\n",
    "\n",
    "for word in lines:\n",
    "    d[word_value(word)].append(word)\n"
   ]
  },
  {
   "cell_type": "code",
   "execution_count": 48,
   "metadata": {},
   "outputs": [
    {
     "data": {
      "text/plain": [
       "['ΑΓΚΑΘΕΝΙΑ',\n",
       " 'ΑΔΕΙΟΙ',\n",
       " 'ΑΘΗΝΑΙΚΑ',\n",
       " 'ΑΛΓΕΙΝΑ',\n",
       " 'ΑΝΑΒΑΛΕΙ',\n",
       " 'ΑΝΑΚΑΘΙΖΑ',\n",
       " 'ΑΝΑΛΑΒΕΙ',\n",
       " 'ΑΝΗΛΙΑ',\n",
       " 'ΑΠΑΓΕΙ',\n",
       " 'ΒΕΒΑΙΟΙ',\n",
       " 'ΓΑΛΗΝΗ',\n",
       " 'ΓΑΜΑΝΕ',\n",
       " 'ΔΕΚΑΞΙ',\n",
       " 'ΔΙΚΕΛΛΑ',\n",
       " 'ΕΓΚΑΙΝΙΑ',\n",
       " 'ΕΙΠΕ',\n",
       " 'ΕΝΑΘΛΕ',\n",
       " 'ΕΠΑΘΕ',\n",
       " 'ΕΠΕΒΗ',\n",
       " 'ΗΛΙΚΙΑΚΑ',\n",
       " 'ΘΕΛΑΝΕ',\n",
       " 'ΘΕΜΕΛΙΑ',\n",
       " 'ΙΔΑΝΙΚΕ',\n",
       " 'ΚΑΗΚΑΝ',\n",
       " 'ΚΑΘΟ',\n",
       " 'ΚΑΛΑΜΗ',\n",
       " 'ΚΑΜΗΛΑ',\n",
       " 'ΚΛΗΘΗΚΕ',\n",
       " 'ΛΑΓΝΕΙΑ',\n",
       " 'ΛΑΖΑΝΙΑ',\n",
       " 'ΛΕΛΕΚΙ',\n",
       " 'ΜΑΛΑΚΗ',\n",
       " 'ΜΕΘΑΜΕ',\n",
       " 'ΜΕΝΕ',\n",
       " 'ΝΕΜΕ',\n",
       " 'ΟΔΗΓΕΙ',\n",
       " 'ΠΕΔΙΑ',\n",
       " 'ΠΕΖΗ',\n",
       " 'ΠΗΖΕ',\n",
       " 'Ρ']"
      ]
     },
     "execution_count": 48,
     "metadata": {},
     "output_type": "execute_result"
    }
   ],
   "source": [
    "d[100]"
   ]
  },
  {
   "cell_type": "markdown",
   "metadata": {},
   "source": [
    "### Άσκηση 13\n",
    "Σώστε το dictionary της άσκησης 12 σε ένα αρχείο \"greek_world_values.json\" κάνοντας χρήσης του json serialization."
   ]
  },
  {
   "cell_type": "code",
   "execution_count": 50,
   "metadata": {},
   "outputs": [],
   "source": [
    "import json\n",
    "with open('greek_world_values.json', 'w') as f:\n",
    "    json.dump(d, f)"
   ]
  },
  {
   "cell_type": "markdown",
   "metadata": {},
   "source": [
    "### Άσκηση 14\n",
    "Κάντε deserialize το αρχείο \"greek_world_values.json\" της άσκησης 13"
   ]
  },
  {
   "cell_type": "code",
   "execution_count": 51,
   "metadata": {},
   "outputs": [],
   "source": [
    "with open('greek_world_values.json') as f:\n",
    "    d = json.load(f)"
   ]
  },
  {
   "cell_type": "markdown",
   "metadata": {},
   "source": [
    "### Άσκηση 15\n",
    "Ποια είναι η πιο συχνή \"αξία\"; Δηλαδή ποια αξία έχει τις περισσότερες λέξεις;"
   ]
  },
  {
   "cell_type": "code",
   "execution_count": 57,
   "metadata": {},
   "outputs": [
    {
     "data": {
      "text/plain": [
       "1011"
      ]
     },
     "execution_count": 57,
     "metadata": {},
     "output_type": "execute_result"
    }
   ],
   "source": [
    "max(d.items(), key=lambda x:len(x[1]))[0]"
   ]
  },
  {
   "cell_type": "markdown",
   "metadata": {},
   "source": [
    "### Άσκηση 16 + 17\n",
    "Βρείτε συνδοιασμό δύο λέξεων που έχουν την ίδια αξία με το όνομα + επώνυμό σας. Θεωρήστε ότι το κενό έχει 0 αξία. Για παράδειγμα: η αξία του \"ΑΛΕΞΑΝΔΡΟΣ ΚΑΝΤΕΡΑΚΗΣ\" είναι 1226. Την ίδια αξία έχουν: \"ΔΙΑΥΓΗΣ ΒΟΙΔΟΜΥΓΑ\", \"ΠΡΟΗΓΜΕΝΟΣ ΓΛΕΝΤΖΕΣ\" και \"ΓΡΑΝΙΤΕΝΙΟ ΛΕΒΕΝΤΟΠΑΙΔΟ\". Ο σουρεαλισμός των αποτελεσμάτων θα εκτιμηθεί ιδιαίτερα. Δεν χρειάζετε να κάνετε κάποιον ειδικό αλγόριθμο για αυτή την άσκηση. Δηλαδή αν γράψετε απλά 2-3 ζευγάρια λέξεων που έχουν την ίδια αξία με το ονοματεπώνυμό σας, είναι αρκετό.\n",
    "\n",
    "Φτιάξτε έναν generator ο οποίος θα παίρνει το όνομα + επώνυμό σας και θα παράγει συνδυασμούς 2 λέξεων ακριβώς όπως στην άσκηση 16.\n",
    "\n",
    "* Hint 1: Μπορείτε να πάρετε την αξία του ονοματεπώνυμου, έστω Α, και να φτιάξετε δύο τυχαίους αριθμούς Β και Γ τέτοιους ώστε Β+Γ=Α. Στη συνέχεια παίρνετε μία τυχαία λέξη με αξία Β και μία τυχαία λέξη με αξία Γ. Εννώνετε τις δύο λέξεις με κενό και το κάνετε yield.\n",
    "* Hint 2: Πως παίρνω ένα τυχαίο αντικείμενο από μία λίστα:\n",
    "\n",
    "```python\n",
    "import random\n",
    "random.choice(['κιθαρίστας', 'ντράμερ'])\n",
    "```\n",
    "\n",
    "Θα πρέπει να μπορώ να γράφω δηλαδή (τα παραδείγματα εδώ είναι τυχαία):\n",
    "\n",
    "```python\n",
    "f = funny_random_generator('ΑΛΕΞΑΝΔΡΟΣ ΚΑΝΤΕΡΑΚΗΣ')\n",
    "next(f)\n",
    "\"ΔΙΑΥΓΗΣ ΒΟΙΔΟΜΥΓΑ\"\n",
    "\n",
    "next(f)\n",
    "\"ΠΡΟΗΓΜΕΝΟΣ ΓΛΕΝΤΖΕΣ\"\n",
    "```\n"
   ]
  },
  {
   "cell_type": "code",
   "execution_count": 154,
   "metadata": {},
   "outputs": [],
   "source": [
    "import random\n",
    "def funny_random_generator(sentence):\n",
    "    value = word_value(sentence)\n",
    "    \n",
    "    half = value//2\n",
    "    while True:\n",
    "        value_1 = half + int(half*random.randint(-20,+20)/100)\n",
    "        value_2 = value-value_1\n",
    "         \n",
    "        word_1 = random.choice(d[value_1])\n",
    "        word_2 = random.choice(d[value_2])\n",
    "        yield word_1 + ' ' + word_2"
   ]
  },
  {
   "cell_type": "code",
   "execution_count": 155,
   "metadata": {},
   "outputs": [],
   "source": [
    "f = funny_random_generator('ΑΛΕΞΑΝΔΡΟΣ ΚΑΝΤΕΡΑΚΗΣ')"
   ]
  },
  {
   "cell_type": "code",
   "execution_count": 151,
   "metadata": {},
   "outputs": [
    {
     "data": {
      "text/plain": [
       "'ΦΑΡΔΗ ΑΠΑΡΑΛΕΙΠΤΕ'"
      ]
     },
     "execution_count": 151,
     "metadata": {},
     "output_type": "execute_result"
    }
   ],
   "source": [
    "next(f)"
   ]
  },
  {
   "cell_type": "code",
   "execution_count": 152,
   "metadata": {},
   "outputs": [
    {
     "data": {
      "text/plain": [
       "'ΑΦΗΝΟΜΑΙ ΚΑΘΙΣΑΤΕ'"
      ]
     },
     "execution_count": 152,
     "metadata": {},
     "output_type": "execute_result"
    }
   ],
   "source": [
    "next(f)"
   ]
  },
  {
   "cell_type": "code",
   "execution_count": 153,
   "metadata": {},
   "outputs": [
    {
     "data": {
      "text/plain": [
       "'ΟΜΟΓΑΛΑΚΤΕ ΟΝΕΙΡΟΠΟΛΑΣ'"
      ]
     },
     "execution_count": 153,
     "metadata": {},
     "output_type": "execute_result"
    }
   ],
   "source": [
    "next(f)"
   ]
  },
  {
   "cell_type": "markdown",
   "metadata": {},
   "source": [
    "### Άσκηση 18\n",
    "Το [HUGO Gene Nomenclature Committee](https://www.genenames.org/) ή αλλιώς HGNC, είναι μία επιτροπή και κομμάτι του [HUGO](https://en.wikipedia.org/wiki/Human_Genome_Organisation) το οποίο είναι υπεύθυνο στη τήρηση των ονομάτων των γονιδίων και άλλων γενετικών εννοιών έτσι ώστε να διευκολύνεται η συνεργασία των επιστημόνων αυτής της περιοχής.\n",
    "\n",
    "Σε αυτό το site: https://www.genenames.org/download/statistics-and-files/ υπάρχει μία λίστα με όλα τα datasets που διατηρεί και συντηρεί το HGNC. Τα αρχεία αυτά όπως βλέπετε είναι διαθέσιμα σε TSV (Tab Separated Values) αλλά και σε JSON.\n",
    "\n",
    "Στην άσκηση αυτή θα ασχοληθούμε με το πρώτο dataset της σελίδας: \"protein-coding gene\". Θα πρέπει να κατεβάσετε τα data αυτά σε TSV (link: ftp://ftp.ebi.ac.uk/pub/databases/genenames/new/tsv/locus_groups/protein-coding_gene.txt ) και σε JSON (link: ftp://ftp.ebi.ac.uk/pub/databases/genenames/new/json/locus_groups/protein-coding_gene.json ).\n",
    "\n",
    "* Χρησιμοποιώντας το TSV αρχείο απαντήστε στην ερώτηση πόσα γονίδια υπάρχουν στο μεγάλο άκρο του 17 χρωμοσώματος (17q);\n",
    "* Χρησιμοποιώντας το JSON αρχείο απαντήστε στο ίδιο ερώτημα"
   ]
  },
  {
   "cell_type": "code",
   "execution_count": 157,
   "metadata": {},
   "outputs": [
    {
     "name": "stdout",
     "output_type": "stream",
     "text": [
      "--2019-11-16 11:22:45--  ftp://ftp.ebi.ac.uk/pub/databases/genenames/new/tsv/locus_groups/protein-coding_gene.txt\n",
      "           => 'protein-coding_gene.txt'\n",
      "Resolving ftp.ebi.ac.uk (ftp.ebi.ac.uk)... 193.62.197.74\n",
      "Connecting to ftp.ebi.ac.uk (ftp.ebi.ac.uk)|193.62.197.74|:21... connected.\n",
      "Logging in as anonymous ... Logged in!\n",
      "==> SYST ... done.    ==> PWD ... done.\n",
      "==> TYPE I ... done.  ==> CWD (1) /pub/databases/genenames/new/tsv/locus_groups ... done.\n",
      "==> SIZE protein-coding_gene.txt ... 7855766\n",
      "==> PASV ... done.    ==> RETR protein-coding_gene.txt ... done.\n",
      "Length: 7855766 (7.5M) (unauthoritative)\n",
      "\n",
      "protein-coding_gene 100%[===================>]   7.49M   973KB/s    in 8.0s    \n",
      "\n",
      "2019-11-16 11:22:56 (955 KB/s) - 'protein-coding_gene.txt' saved [7855766]\n",
      "\n"
     ]
    }
   ],
   "source": [
    "! wget ftp://ftp.ebi.ac.uk/pub/databases/genenames/new/tsv/locus_groups/protein-coding_gene.txt"
   ]
  },
  {
   "cell_type": "code",
   "execution_count": 158,
   "metadata": {},
   "outputs": [
    {
     "name": "stdout",
     "output_type": "stream",
     "text": [
      "--2019-11-16 11:23:32--  ftp://ftp.ebi.ac.uk/pub/databases/genenames/new/json/locus_groups/protein-coding_gene.json\n",
      "           => 'protein-coding_gene.json'\n",
      "Resolving ftp.ebi.ac.uk (ftp.ebi.ac.uk)... 193.62.197.74\n",
      "Connecting to ftp.ebi.ac.uk (ftp.ebi.ac.uk)|193.62.197.74|:21... connected.\n",
      "Logging in as anonymous ... Logged in!\n",
      "==> SYST ... done.    ==> PWD ... done.\n",
      "==> TYPE I ... done.  ==> CWD (1) /pub/databases/genenames/new/json/locus_groups ... done.\n",
      "==> SIZE protein-coding_gene.json ... 17708603\n",
      "==> PASV ... done.    ==> RETR protein-coding_gene.json ... done.\n",
      "Length: 17708603 (17M) (unauthoritative)\n",
      "\n",
      "protein-coding_gene 100%[===================>]  16.89M   873KB/s    in 20s     \n",
      "\n",
      "2019-11-16 11:23:53 (855 KB/s) - 'protein-coding_gene.json' saved [17708603]\n",
      "\n"
     ]
    }
   ],
   "source": [
    "! wget ftp://ftp.ebi.ac.uk/pub/databases/genenames/new/json/locus_groups/protein-coding_gene.json"
   ]
  },
  {
   "cell_type": "code",
   "execution_count": 163,
   "metadata": {},
   "outputs": [
    {
     "name": "stdout",
     "output_type": "stream",
     "text": [
      "809\n"
     ]
    }
   ],
   "source": [
    "# Μέσω του txt αρχείου\n",
    "count = 0\n",
    "with open('protein-coding_gene.txt') as f:\n",
    "    header = f.readline().strip().split('\\t')\n",
    "    location_index = header.index('location')\n",
    "    \n",
    "    for line in f.readlines():\n",
    "        line_splitted = line.strip().split('\\t')\n",
    "        chromosome_arm = line_splitted[location_index]\n",
    "        if '17q' in chromosome_arm:\n",
    "            count += 1\n",
    "print (count)"
   ]
  },
  {
   "cell_type": "code",
   "execution_count": 177,
   "metadata": {},
   "outputs": [
    {
     "data": {
      "text/plain": [
       "809"
      ]
     },
     "execution_count": 177,
     "metadata": {},
     "output_type": "execute_result"
    }
   ],
   "source": [
    "# Μέσω του json αρχείου\n",
    "with open('protein-coding_gene.json') as f:\n",
    "    data = json.load(f)\n",
    "    \n",
    "sum(1 for x in data['response']['docs'] if '17q' in x.get('location', ''))"
   ]
  },
  {
   "cell_type": "markdown",
   "metadata": {},
   "source": [
    "### Άσκηση 19\n",
    "Χρησιμοποιώντας τα TSV και JSON αρχεία της άσκησης 18. Βρείτε ποιο γονίδιο (το όνομα του γονιδίου είναι στήλη με τίτλο symbol) έχει τα περισσότερα alias_symbol. Οι τιμές του alias_symbol χωρίζονται με \"|\". π.χ: το γονίδιο \"AACS\" έχει 3 alias_symbol: \"FLJ12389|SUR-5|ACSF1\"."
   ]
  },
  {
   "cell_type": "code",
   "execution_count": 181,
   "metadata": {},
   "outputs": [
    {
     "data": {
      "text/plain": [
       "(19, 'EPCAM')"
      ]
     },
     "execution_count": 181,
     "metadata": {},
     "output_type": "execute_result"
    }
   ],
   "source": [
    "# Μέσω του txt αρχείου:\n",
    "\n",
    "genes = []\n",
    "\n",
    "with open('protein-coding_gene.txt') as f:\n",
    "    header = f.readline().strip().split('\\t')\n",
    "    symbol_index = header.index('symbol')\n",
    "    alias_symbol_index = header.index('alias_symbol')\n",
    "    \n",
    "    for line in f.readlines():\n",
    "        line_splitted = line.strip().split('\\t')\n",
    "        symbol = line_splitted[symbol_index]\n",
    "        alias_sumbol = line_splitted[alias_symbol_index]\n",
    "\n",
    "        alias_count = len(alias_sumbol.split('|'))\n",
    "        genes.append((alias_count, symbol))\n",
    "        \n",
    "max(genes)"
   ]
  },
  {
   "cell_type": "code",
   "execution_count": 202,
   "metadata": {},
   "outputs": [
    {
     "data": {
      "text/plain": [
       "'EPCAM'"
      ]
     },
     "execution_count": 202,
     "metadata": {},
     "output_type": "execute_result"
    }
   ],
   "source": [
    "# Μέσω του json αρχείου\n",
    "with open('protein-coding_gene.json') as f:\n",
    "    data = json.load(f)\n",
    "    \n",
    "max(data['response']['docs'], key=lambda x: len(x.get('alias_symbol', [])))['symbol']"
   ]
  },
  {
   "cell_type": "markdown",
   "metadata": {},
   "source": [
    "### Άσκηση 20\n",
    "Χρησιμοποιώντας τα TSV και JSON αρχεία της άσκησης 18. Βρείτε τα ονόματα (στήλη symbol) των γονιδίων που έχουν το ίδιο refseq_accession."
   ]
  },
  {
   "cell_type": "code",
   "execution_count": 201,
   "metadata": {},
   "outputs": [
    {
     "name": "stdout",
     "output_type": "stream",
     "text": [
      "NM_207355 ['POTEB', 'POTEB3']\n",
      "NG_001332 ['TRA', 'TRD']\n"
     ]
    }
   ],
   "source": [
    "# Μέσω του txt αρχείου:\n",
    "genes = {}\n",
    "with open('protein-coding_gene.txt') as f:\n",
    "    header = f.readline().strip().split('\\t')\n",
    "    symbol_index = header.index('symbol')\n",
    "    refseq_accession_index = header.index('refseq_accession')\n",
    "    \n",
    "    for line in f.readlines():\n",
    "        line_splitted = line.strip().split('\\t')\n",
    "        symbol = line_splitted[symbol_index]\n",
    "        alias_sumbol = line_splitted[alias_symbol_index]\n",
    "        try:\n",
    "            refseq_accession = line_splitted[refseq_accession_index]\n",
    "        except:\n",
    "            continue\n",
    "            \n",
    "        refs = (refseq_accession.strip('\"').split('|'))\n",
    "        \n",
    "        for ref in refs:\n",
    "            if not ref.strip():\n",
    "                continue\n",
    "            if not ref in genes:\n",
    "                genes[ref] = []\n",
    "            genes[ref].append(symbol)\n",
    "        \n",
    "for ref, gene_list in genes.items():\n",
    "    if len(gene_list)>1:\n",
    "        print (ref, gene_list)\n",
    "        "
   ]
  },
  {
   "cell_type": "code",
   "execution_count": 209,
   "metadata": {},
   "outputs": [
    {
     "name": "stdout",
     "output_type": "stream",
     "text": [
      "NM_207355 ['POTEB', 'POTEB3']\n",
      "NG_001332 ['TRA', 'TRD']\n"
     ]
    }
   ],
   "source": [
    "# Μέσω του json αρχείου\n",
    "from collections import defaultdict\n",
    "genes = defaultdict(list)\n",
    "\n",
    "with open('protein-coding_gene.json') as f:\n",
    "    data = json.load(f)\n",
    "\n",
    "for item in data['response']['docs']:\n",
    "    symbol = item['symbol']\n",
    "    if not 'refseq_accession' in item:\n",
    "        continue\n",
    "    refseq_acc = item['refseq_accession']\n",
    "    for refseq in refseq_acc:\n",
    "        genes[refseq].append(symbol)\n",
    "\n",
    "for ref, gene_list in genes.items():\n",
    "    if len(gene_list)>1:\n",
    "        print (ref, gene_list)\n"
   ]
  },
  {
   "cell_type": "markdown",
   "metadata": {},
   "source": [
    "## Λύσεις ασκήσεων σειρά 4, 2018"
   ]
  },
  {
   "cell_type": "markdown",
   "metadata": {},
   "source": [
    "### Άσκηση 1\n",
    "Δίνεται η παρακάτω λίστα με 100 αριθμούς:\n",
    "```python\n",
    "l = [0, -1, 3, 3, 2, -2, -4, 4, 2, -1, -2, 3, 2, -1, 0, 3, 5, -3, 5, -3, \n",
    "-4, -4, 5, -5, -4, 2, 1, 1, -1, 1, 5, 5, 2, 0, 0, 0, -3, 2, 1, 5, 3, 2, \n",
    "2, -5, -2, -3, 1, -5, -4, 3, 3, -5, 2, 0, -2, -1, -1, 1, 2, 3, -3, 4, -2, \n",
    "-4, 0, 0, 0, -4, -3, -1, -1, -2, -4, -3, 0, 4, 1, 4, -4, 3, 5, 5, -1, -2, \n",
    "0, 3, -1, -2, 3, 5, 2, -3, -2, 1, 1, 5, -4, -5, -5, -3]\n",
    "```\n",
    "Αν αθροίσουμε τα 2 πρώτα στοιχεία το αποτέλεσμα θα είναι ```0 + -1= -1``` αν αθροίσουμε τα 3 πρώτα το αποτέλεσμα θα είναι ```0 + -1 + 3 = 2```. Για ποιά τιμή Ν (από το 1 μέχρι το 100), αν αθροίσουμε τα πρώτα Ν στοιχειά του πίνακα, το αποτέλεσμα θα πάρει τη μέγιστη δυνατή τιμή; \n"
   ]
  },
  {
   "cell_type": "code",
   "execution_count": 83,
   "metadata": {},
   "outputs": [],
   "source": [
    "from itertools import accumulate\n",
    "l = [0, -1, 3, 3, 2, -2, -4, 4, 2, -1, -2, 3, 2, -1, 0, 3, 5, -3, 5, -3, \n",
    "-4, -4, 5, -5, -4, 2, 1, 1, -1, 1, 5, 5, 2, 0, 0, 0, -3, 2, 1, 5, 3, 2, \n",
    "2, -5, -2, -3, 1, -5, -4, 3, 3, -5, 2, 0, -2, -1, -1, 1, 2, 3, -3, 4, -2, \n",
    "-4, 0, 0, 0, -4, -3, -1, -1, -2, -4, -3, 0, 4, 1, 4, -4, 3, 5, 5, -1, -2, \n",
    "0, 3, -1, -2, 3, 5, 2, -3, -2, 1, 1, 5, -4, -5, -5, -3]"
   ]
  },
  {
   "cell_type": "code",
   "execution_count": 4,
   "metadata": {},
   "outputs": [
    {
     "data": {
      "text/plain": [
       "42"
      ]
     },
     "execution_count": 4,
     "metadata": {},
     "output_type": "execute_result"
    }
   ],
   "source": [
    "max(enumerate(accumulate(l)), key=lambda x: x[1])[0]"
   ]
  },
  {
   "cell_type": "markdown",
   "metadata": {},
   "source": [
    "### Άσκηση 2\n",
    "Ας υποθέσουμε την ίδια λίστα με την άσκηση 1. Ένα pacman ξεκινάει από την αρχή της λίστας με κατεύθυνση προς το τέλος και \"τρώει\" τους αριθμούς. Για κάθε αριθμό που τρώει \"κερδίζει\" και τόσους πόντους όσο και ο αριθμός που έφαγε. Οπως βλέπετε οι πόντοι μπορεί να είναι και αρνητικοί. Το σκορ του pacman είναι το άθροισμα των αριθμών που έχει φάει. Δηλαδή στην αρχή τρώει το \"0\" και το σκορ του γίνεται \"0\" μετά τρώει το \"-1\" και το σκορ του γίνεται \"-1\", μετά τρώει το \"3\" και το σκορ του γίνεται \"2\" (-1+3) μετά τρώει το \"3\" και το σκορ του γίνεται 5 (2+3), κτλ.. Όταν φτάσει στο τέλος της λίστας, υπάρχει μία μαγική πύλη (γνωστό από το pacman) που το πάει στην αρχή της λίστας και συνεχίζει να τρώει τους ίδιους αριθμούς. Πόσους αριθμούς θα έχει φάει το pacman όταν το σκορ του θα γίνει 100;\n",
    "\n",
    "* Προσοχή 1. Δεν πρέπει να σταματήσετε όταν το σκορ ξεπεράσει το 100. Αλλά όταν φτάσει το 100 ακριβώς. Δηλαδή, πόσα συνολικά νούμερα θα έχει φάει το pacman όταν το άθροισμα θα έχει φτάσει ακριβώς 100. "
   ]
  },
  {
   "cell_type": "code",
   "execution_count": 25,
   "metadata": {},
   "outputs": [
    {
     "name": "stdout",
     "output_type": "stream",
     "text": [
      "1690\n"
     ]
    }
   ],
   "source": [
    "from itertools import accumulate, cycle\n",
    "gen = enumerate(accumulate(cycle(l)))\n",
    "\n",
    "for index, item in gen:\n",
    "    if item==100:\n",
    "        print (index)\n",
    "        break\n"
   ]
  },
  {
   "cell_type": "markdown",
   "metadata": {},
   "source": [
    "### Άσκηση 3\n",
    "Έχουμε την ίδια λίστα με την άσκηση 1 και το ίδιο pacman με την άσκηση 2. Τώρα όμως το pacman έχει τη συμπεριφορά πινγκ-πονγκ. Δηλαδή όταν φτάσει στο τέλος της λίστας, δεν.. τηλεμεταφέρεται στην αρχή όπως στην άσκηση 2, αλλά αλλάζει κατεύθυνση και τρώει από το τέλος προς την αρχή. Δηλαδή το pacman θα φάει το προτελευταίο (-5) μετά το τελευταίο (-3) και μετά αλλάζει κατέυθυνση και τρώει ξανά το προτελευταίο (-5) μετά το προ-προτελευταίο (-5) μέχρι να φτάσει στην αρχή (0) μετά πάλι αλλάζει κατεύθυνση και τρώει το δεύτερο (-1) μετά το τρίτο (3) κτλ. Το pacman συνεχώς αλλάζει κατεύθυνση όταν φτάνει στο τέλος ή στην αρχή της λίστας.  Πόσους αριθμούς θα έχει φάει το pacman όταν το σκορ του θα γίνει 100;"
   ]
  },
  {
   "cell_type": "code",
   "execution_count": 80,
   "metadata": {},
   "outputs": [
    {
     "name": "stdout",
     "output_type": "stream",
     "text": [
      "1234\n"
     ]
    }
   ],
   "source": [
    "def pingpong(l):\n",
    "    while True:\n",
    "        for i in l:\n",
    "            yield i\n",
    "        for i in l[-2:0:-1]:\n",
    "            yield i\n",
    "\n",
    "gen = enumerate(accumulate(pingpong(l)))\n",
    "\n",
    "for index, item in gen:\n",
    "    if item==100:\n",
    "        print (index)\n",
    "        break"
   ]
  },
  {
   "cell_type": "markdown",
   "metadata": {},
   "source": [
    "### Άσκηση 4\n",
    "Από όλες τις δυνατές υπο-ακολουθίες της λίστας της άσκησης 1, ποια έχει το μεγαλύτερο άθροισμα; Ως υπο-ακολουθία ορίζεται οποιοδίποτε υποσύνολο από συνεχόμενα στοιχεία (π.χ. ```[0, -1, 3, 3, 2] ```, ```[1, 5, -4, -5]```, ```[0, 0, 0]```. \n"
   ]
  },
  {
   "cell_type": "code",
   "execution_count": 88,
   "metadata": {},
   "outputs": [
    {
     "data": {
      "text/plain": [
       "(2, 43)"
      ]
     },
     "execution_count": 88,
     "metadata": {},
     "output_type": "execute_result"
    }
   ],
   "source": [
    "max((sum(l[x:y]), (x,y)) for x in range(len(l)) for y in range(x, len(l)))[1]"
   ]
  },
  {
   "cell_type": "markdown",
   "metadata": {},
   "source": [
    "### Άσκηση 5\n",
    "Έστω ότι έχουμε ένα χρωμόσωμα το οποίο έχει μέγεθος μόνο 100 νουκλεοτίδια. Μετά από ένα πείραμα αλληλούχισης πείραμε 20 reads δηλαδή 20 αναγνώσεις από διάφορες περιοχές του χρωμοσώματος. Τρέξαμε alignment και βρήκαμε που είναι η αρχή και που το τέλος κάθε read:\n",
    "```python\n",
    "reads = [(27, 46),\n",
    " (19, 35),\n",
    " (12, 32),\n",
    " (38, 50),\n",
    " (88, 96),\n",
    " (17, 37),\n",
    " (80, 83),\n",
    " (85, 98),\n",
    " (29, 42),\n",
    " (25, 31),\n",
    " (12, 31),\n",
    " (16, 21),\n",
    " (4, 18),\n",
    " (36, 56),\n",
    " (47, 53),\n",
    " (37, 54),\n",
    " (83, 95),\n",
    " (64, 69),\n",
    " (12, 16),\n",
    " (59, 75)]\n",
    "```\n",
    "Αυτή η λίστα περιέχει 20 tuples. Το κάθε tuple περιέχει την αρχή και το τέλος κάθε read. Δηλαδή το πρώτο read έγινε aligned στη περιοχεή από 12 μέχρι ΚΑΙ 50 του χρωμοσώματος. Όλο το χρωμόσωμα είναι από το 1 μέχρι και το 100. Όπως μπορείτε να παρατηρήσετε κάποιες περιοχές του χρωμοσώματος δεν έχουν διαβαστεί από κανένα read. Ποιες είναι αυτές; Δηλαδή ποιες είναι οι θέσεις που δεν καλύπτονται από κανένα read;\n"
   ]
  },
  {
   "cell_type": "code",
   "execution_count": 90,
   "metadata": {},
   "outputs": [
    {
     "data": {
      "text/plain": [
       "{1, 2, 3, 57, 58, 76, 77, 78, 79, 99, 100}"
      ]
     },
     "execution_count": 90,
     "metadata": {},
     "output_type": "execute_result"
    }
   ],
   "source": [
    "reads = [(27, 46),\n",
    " (19, 35),\n",
    " (12, 32),\n",
    " (38, 50),\n",
    " (88, 96),\n",
    " (17, 37),\n",
    " (80, 83),\n",
    " (85, 98),\n",
    " (29, 42),\n",
    " (25, 31),\n",
    " (12, 31),\n",
    " (16, 21),\n",
    " (4, 18),\n",
    " (36, 56),\n",
    " (47, 53),\n",
    " (37, 54),\n",
    " (83, 95),\n",
    " (64, 69),\n",
    " (12, 16),\n",
    " (59, 75)]\n",
    "\n",
    "set(range(1, 101)) - {y for start,end in reads for y in range(start, end+1)}"
   ]
  },
  {
   "cell_type": "markdown",
   "metadata": {},
   "source": [
    "### Άσκηση 6\n",
    "Έστω η λίστα με τα reads από την άσκηση 5. Το coverage μιας θέσης του γονιδιώματος ορίζεται ως το άθροισμα των reads που το περιέχουν (μερικές φορές αντί για coverage, αναφέρεται ως depth). Ποιες θέσεις του γονιδιώματος έχουν το μεγαλύτερο coverage;"
   ]
  },
  {
   "cell_type": "code",
   "execution_count": 96,
   "metadata": {},
   "outputs": [
    {
     "data": {
      "text/plain": [
       "[29, 30, 31]"
      ]
     },
     "execution_count": 96,
     "metadata": {},
     "output_type": "execute_result"
    }
   ],
   "source": [
    "from collections import Counter\n",
    "c = Counter(y for start,end in reads for y in range(start, end+1))\n",
    "m = max(c.items(), key=lambda x:x[1])[1]\n",
    "\n",
    "max_depth = [k for k,v in c.items() if v==m]\n",
    "max_depth"
   ]
  },
  {
   "cell_type": "markdown",
   "metadata": {},
   "source": [
    "### Άσκηση 7\n",
    "Έστω η λίστα με τα reads από την άσκηση 5. Ποιο είναι το average coverage για όλες τις θέσεις (1 μέχρι 100) του χρωμοσώματος; Δηλαδή έστω ότι η θέση 1 έχει coverage 4, η θέση 2 έχει coverage 0, η θέση 3 έχει coverage 6, ... , και η θέση 100 έχει coverage 20, τότε θα πρέπει να υπολογίσετε:\n",
    "```text\n",
    "(4+0+6+.....20) / 100\n",
    "```\n"
   ]
  },
  {
   "cell_type": "code",
   "execution_count": 99,
   "metadata": {},
   "outputs": [
    {
     "data": {
      "text/plain": [
       "2.68"
      ]
     },
     "execution_count": 99,
     "metadata": {},
     "output_type": "execute_result"
    }
   ],
   "source": [
    "c = Counter(y for start,end in reads for y in range(start, end+1))\n",
    "\n",
    "average = sum(c.get(x, 0) for x in range(1,101))/100\n",
    "average\n"
   ]
  },
  {
   "cell_type": "markdown",
   "metadata": {},
   "source": [
    "### Άσκηση 8\n",
    "Δίνεται το [DNA codon table](https://en.wikipedia.org/wiki/DNA_codon_table) σε python dictionary ([κλεμμένο από εδώ](https://www.geeksforgeeks.org/dna-protein-python-3/))\n",
    "\n",
    "```python\n",
    "table = { \n",
    "        'ATA':'I', 'ATC':'I', 'ATT':'I', 'ATG':'M', \n",
    "        'ACA':'T', 'ACC':'T', 'ACG':'T', 'ACT':'T', \n",
    "        'AAC':'N', 'AAT':'N', 'AAA':'K', 'AAG':'K', \n",
    "        'AGC':'S', 'AGT':'S', 'AGA':'R', 'AGG':'R',                  \n",
    "        'CTA':'L', 'CTC':'L', 'CTG':'L', 'CTT':'L', \n",
    "        'CCA':'P', 'CCC':'P', 'CCG':'P', 'CCT':'P', \n",
    "        'CAC':'H', 'CAT':'H', 'CAA':'Q', 'CAG':'Q', \n",
    "        'CGA':'R', 'CGC':'R', 'CGG':'R', 'CGT':'R', \n",
    "        'GTA':'V', 'GTC':'V', 'GTG':'V', 'GTT':'V', \n",
    "        'GCA':'A', 'GCC':'A', 'GCG':'A', 'GCT':'A', \n",
    "        'GAC':'D', 'GAT':'D', 'GAA':'E', 'GAG':'E', \n",
    "        'GGA':'G', 'GGC':'G', 'GGG':'G', 'GGT':'G', \n",
    "        'TCA':'S', 'TCC':'S', 'TCG':'S', 'TCT':'S', \n",
    "        'TTC':'F', 'TTT':'F', 'TTA':'L', 'TTG':'L', \n",
    "        'TAC':'Y', 'TAT':'Y', 'TAA':'_', 'TAG':'_', \n",
    "        'TGC':'C', 'TGT':'C', 'TGA':'_', 'TGG':'W', \n",
    "    } \n",
    "```\n",
    "Γράψτε μία συνάρτηση η οποία παίρνει μία ακολουθία DNA και επιστρέφει τη πρωτεϊνική της ακολουθία με βάση τον παραπάνω πίνακα. Η συνάρτηση θα πρέπει να πετάει exception αν:\n",
    "* Κάποιο από τα γράμματα της ακολουθίας δεν είναι ACGT\n",
    "* Το μήκος της ακολουθίας δεν διαιρείται με το 3"
   ]
  },
  {
   "cell_type": "code",
   "execution_count": 100,
   "metadata": {},
   "outputs": [],
   "source": [
    "table = { \n",
    "        'ATA':'I', 'ATC':'I', 'ATT':'I', 'ATG':'M', \n",
    "        'ACA':'T', 'ACC':'T', 'ACG':'T', 'ACT':'T', \n",
    "        'AAC':'N', 'AAT':'N', 'AAA':'K', 'AAG':'K', \n",
    "        'AGC':'S', 'AGT':'S', 'AGA':'R', 'AGG':'R',                  \n",
    "        'CTA':'L', 'CTC':'L', 'CTG':'L', 'CTT':'L', \n",
    "        'CCA':'P', 'CCC':'P', 'CCG':'P', 'CCT':'P', \n",
    "        'CAC':'H', 'CAT':'H', 'CAA':'Q', 'CAG':'Q', \n",
    "        'CGA':'R', 'CGC':'R', 'CGG':'R', 'CGT':'R', \n",
    "        'GTA':'V', 'GTC':'V', 'GTG':'V', 'GTT':'V', \n",
    "        'GCA':'A', 'GCC':'A', 'GCG':'A', 'GCT':'A', \n",
    "        'GAC':'D', 'GAT':'D', 'GAA':'E', 'GAG':'E', \n",
    "        'GGA':'G', 'GGC':'G', 'GGG':'G', 'GGT':'G', \n",
    "        'TCA':'S', 'TCC':'S', 'TCG':'S', 'TCT':'S', \n",
    "        'TTC':'F', 'TTT':'F', 'TTA':'L', 'TTG':'L', \n",
    "        'TAC':'Y', 'TAT':'Y', 'TAA':'_', 'TAG':'_', \n",
    "        'TGC':'C', 'TGT':'C', 'TGA':'_', 'TGG':'W', \n",
    "    } \n",
    "\n",
    "def f8(p):\n",
    "    if len(p)%3:\n",
    "        raise Exception('Sequence length is not divided with 3')\n",
    "        \n",
    "    ret = ''\n",
    "    for i in range(0, len(p), 3):\n",
    "        sub = p[i:i+3]\n",
    "        if not sub in table:\n",
    "            raise Exception('Sub-sequence {} is does not contain ACGT letters'.format(sub))\n",
    "            \n",
    "        ret += table[sub]\n",
    "    return ret"
   ]
  },
  {
   "cell_type": "code",
   "execution_count": 101,
   "metadata": {},
   "outputs": [
    {
     "ename": "Exception",
     "evalue": "Sequence length is not divided with 3",
     "output_type": "error",
     "traceback": [
      "\u001b[0;31m---------------------------------------------------------------------------\u001b[0m",
      "\u001b[0;31mException\u001b[0m                                 Traceback (most recent call last)",
      "\u001b[0;32m<ipython-input-101-64c7aa8ffee0>\u001b[0m in \u001b[0;36m<module>\u001b[0;34m()\u001b[0m\n\u001b[0;32m----> 1\u001b[0;31m \u001b[0mf8\u001b[0m\u001b[0;34m(\u001b[0m\u001b[0;34m'ACGT'\u001b[0m\u001b[0;34m)\u001b[0m\u001b[0;34m\u001b[0m\u001b[0m\n\u001b[0m",
      "\u001b[0;32m<ipython-input-100-48847c98143f>\u001b[0m in \u001b[0;36mf8\u001b[0;34m(p)\u001b[0m\n\u001b[1;32m     20\u001b[0m \u001b[0;32mdef\u001b[0m \u001b[0mf8\u001b[0m\u001b[0;34m(\u001b[0m\u001b[0mp\u001b[0m\u001b[0;34m)\u001b[0m\u001b[0;34m:\u001b[0m\u001b[0;34m\u001b[0m\u001b[0m\n\u001b[1;32m     21\u001b[0m     \u001b[0;32mif\u001b[0m \u001b[0mlen\u001b[0m\u001b[0;34m(\u001b[0m\u001b[0mp\u001b[0m\u001b[0;34m)\u001b[0m\u001b[0;34m%\u001b[0m\u001b[0;36m3\u001b[0m\u001b[0;34m:\u001b[0m\u001b[0;34m\u001b[0m\u001b[0m\n\u001b[0;32m---> 22\u001b[0;31m         \u001b[0;32mraise\u001b[0m \u001b[0mException\u001b[0m\u001b[0;34m(\u001b[0m\u001b[0;34m'Sequence length is not divided with 3'\u001b[0m\u001b[0;34m)\u001b[0m\u001b[0;34m\u001b[0m\u001b[0m\n\u001b[0m\u001b[1;32m     23\u001b[0m \u001b[0;34m\u001b[0m\u001b[0m\n\u001b[1;32m     24\u001b[0m     \u001b[0mret\u001b[0m \u001b[0;34m=\u001b[0m \u001b[0;34m''\u001b[0m\u001b[0;34m\u001b[0m\u001b[0m\n",
      "\u001b[0;31mException\u001b[0m: Sequence length is not divided with 3"
     ]
    }
   ],
   "source": [
    "f8('ACGT')"
   ]
  },
  {
   "cell_type": "code",
   "execution_count": 103,
   "metadata": {},
   "outputs": [
    {
     "ename": "Exception",
     "evalue": "Sub-sequence ACW is does not contain ACGT letters",
     "output_type": "error",
     "traceback": [
      "\u001b[0;31m---------------------------------------------------------------------------\u001b[0m",
      "\u001b[0;31mException\u001b[0m                                 Traceback (most recent call last)",
      "\u001b[0;32m<ipython-input-103-2e36405f4544>\u001b[0m in \u001b[0;36m<module>\u001b[0;34m()\u001b[0m\n\u001b[0;32m----> 1\u001b[0;31m \u001b[0mf8\u001b[0m\u001b[0;34m(\u001b[0m\u001b[0;34m'AAAACW'\u001b[0m\u001b[0;34m)\u001b[0m\u001b[0;34m\u001b[0m\u001b[0m\n\u001b[0m",
      "\u001b[0;32m<ipython-input-100-48847c98143f>\u001b[0m in \u001b[0;36mf8\u001b[0;34m(p)\u001b[0m\n\u001b[1;32m     26\u001b[0m         \u001b[0msub\u001b[0m \u001b[0;34m=\u001b[0m \u001b[0mp\u001b[0m\u001b[0;34m[\u001b[0m\u001b[0mi\u001b[0m\u001b[0;34m:\u001b[0m\u001b[0mi\u001b[0m\u001b[0;34m+\u001b[0m\u001b[0;36m3\u001b[0m\u001b[0;34m]\u001b[0m\u001b[0;34m\u001b[0m\u001b[0m\n\u001b[1;32m     27\u001b[0m         \u001b[0;32mif\u001b[0m \u001b[0;32mnot\u001b[0m \u001b[0msub\u001b[0m \u001b[0;32min\u001b[0m \u001b[0mtable\u001b[0m\u001b[0;34m:\u001b[0m\u001b[0;34m\u001b[0m\u001b[0m\n\u001b[0;32m---> 28\u001b[0;31m             \u001b[0;32mraise\u001b[0m \u001b[0mException\u001b[0m\u001b[0;34m(\u001b[0m\u001b[0;34m'Sub-sequence {} is does not contain ACGT letters'\u001b[0m\u001b[0;34m.\u001b[0m\u001b[0mformat\u001b[0m\u001b[0;34m(\u001b[0m\u001b[0msub\u001b[0m\u001b[0;34m)\u001b[0m\u001b[0;34m)\u001b[0m\u001b[0;34m\u001b[0m\u001b[0m\n\u001b[0m\u001b[1;32m     29\u001b[0m \u001b[0;34m\u001b[0m\u001b[0m\n\u001b[1;32m     30\u001b[0m         \u001b[0mret\u001b[0m \u001b[0;34m+=\u001b[0m \u001b[0mtable\u001b[0m\u001b[0;34m[\u001b[0m\u001b[0msub\u001b[0m\u001b[0;34m]\u001b[0m\u001b[0;34m\u001b[0m\u001b[0m\n",
      "\u001b[0;31mException\u001b[0m: Sub-sequence ACW is does not contain ACGT letters"
     ]
    }
   ],
   "source": [
    "f8('AAAACW')"
   ]
  },
  {
   "cell_type": "code",
   "execution_count": 104,
   "metadata": {},
   "outputs": [
    {
     "data": {
      "text/plain": [
       "'TGP'"
      ]
     },
     "execution_count": 104,
     "metadata": {},
     "output_type": "execute_result"
    }
   ],
   "source": [
    "f8('ACCGGTCCA')"
   ]
  },
  {
   "cell_type": "markdown",
   "metadata": {},
   "source": [
    "### Άσκηση 9\n",
    "Μετά από χρόνια ανάλυσης, ανακαλύπτετε μία ακολουθία DNA η οποία ευθύνεται για τη πλατυποδία, μία ασθένεια στην οποία έχετε αφιερώσει τη καριέρα σας. Η ακολουθία αυτή είναι: ```CCGGGAGCCTCCACCGAAC```. Με χαρά και προσμονή βάζετε την ακολουθία αυτή στη συνάρτηση της άσκηση 8 για να βρείτε τη πρωτεϊνική της ακολουθία αλλα με τρόμο βλέπετε ότι πετάει exception επειδή το μέγεθός της είναι 19 το οποίο δεν διαιρείται με 3. Μετά από άλλους επιπλέον μήνες κοπιαστικής έρευνας ανακαλύπτετε ότι όντως λοίπουν 2 νουκλεοτίδια από τη πολύτιμη ακολουθία σας (οπότε θα πρέπει να έχει μέγεθος 21, το οποίο διαιρείται με 3). Δυστυχώς δεν μπορείτε να βρείτε ποια νουκλεοτίδια είναι αυτά. Ξέρετε όμως ότι αυτά θα πρέπει να βρίσκονται είτε και τα 2 στην αρχή, είτε και τα δύο στο τέλος, είτε το ένα στην αρχή και το άλλο στο τέλος. Επίσης ανακαλύπτετε ότι η πρωτεϊνική ακολουθία θα πρέπει να έχει τουλάχιστο ένα \"Υ\" (Tyrosine). Ποια είναι λοιπόν η σωστή και ολοκληρωμένη ακολουθία των 21 νουκλεοτιδίων; "
   ]
  },
  {
   "cell_type": "code",
   "execution_count": 108,
   "metadata": {},
   "outputs": [
    {
     "name": "stdout",
     "output_type": "stream",
     "text": [
      "YREPPPN\n"
     ]
    }
   ],
   "source": [
    "seq = 'CCGGGAGCCTCCACCGAAC'\n",
    "\n",
    "for x in 'ACGT':\n",
    "    for y in 'ACGT':\n",
    "        for z in [lambda a,b: a+b+seq, lambda a,b:a+seq+b, lambda a,b:seq+a+b]:\n",
    "            check = f8(z(x,y))\n",
    "            if 'Y' in check:\n",
    "                print (check)\n"
   ]
  },
  {
   "cell_type": "markdown",
   "metadata": {},
   "source": [
    "### Άσκηση 10\n",
    "Αφού βρήκατε την ακολουθία της άσκησης 9 και θεωρείστε πλέον μια αυθεντία στη γενετική της πλατυποδίας, είπατε να επεκταθείτε και σε άλλους οργανισμούς. Εκεί ανακαλύπτετε την ακολουθία ```TGACGAGTCAATCTTCCAGGA``` η οποία έχει σημαντικό ρόλο στην εκδήλωση πλατυποδίας σε σκουλίκια (γιατί όχι;). Μετράτε την ακολουθία και έχει μέγεθος 21 όπως θα περιμένατε αλλά έχει ένα άλλο πρόβλημα: Η ακολουθία ανήκει σε ένα πλασμίδιο, ένα μόριο δηλαδή που έχει κυκλικό DNA. Άρα η ακολουθία σας είναι κυκλική. Εσείς δεν ξέρετε ποια είναι η αρχή του κύκλου όπου θα γίνει η μεταγραφή. Άρα δεν ξέρετε για παράδειγμα αν θα \"ξετυλιχτεί\" ως: ```TGACGAGTCAATCTTCCAGGA``` ή ως ```ΑTGACGAGTCAATCTTCCAGG``` (ξεκινάει από το δεύτερο νουκλεοτίδιο και τελειώνει στο πρώτο) ή με οποιοδήποτε άλλο κυκλικό τρόπο. Εσείς το μόνο που ξέρετε είναι ότι τα τελευταία 2 αμινοξέα της πρωτείνης που παράγεται είναι ίδια. Ποια είναι λοιπόν η πρωτεΐνη που παράγεται;\n"
   ]
  },
  {
   "cell_type": "code",
   "execution_count": 111,
   "metadata": {},
   "outputs": [
    {
     "name": "stdout",
     "output_type": "stream",
     "text": [
      "ESIFQDD\n",
      "RMTSQSS\n"
     ]
    }
   ],
   "source": [
    "seq='TGACGAGTCAATCTTCCAGGA'\n",
    "for i in range(0, len(seq)):\n",
    "    new_seq = f8(seq[i:] + seq[0:i])\n",
    "    if new_seq[-2] == new_seq[-1]:\n",
    "        print (new_seq)"
   ]
  },
  {
   "cell_type": "markdown",
   "metadata": {},
   "source": [
    "### Άσκηση 12\n",
    "Δίνεται το παρακάτω string το οποίο έχει λίστα με γονίδια, μία περιγραφή, καθώς και τη θέση τους στο γονιδίωμα:\n",
    "```\n",
    "genes = '''\n",
    "ADTRP: encoding protein Androgen-dependent TFPI-regulating protein\n",
    "APOM: encoding protein Apolipoprotein M (6p21.33)\n",
    "C6orf10: encoding protein Uncharacterized protein C6orf10 (6p21.32)\n",
    "C6orf62: chromosome 6 open reading frame 62 (6p22.3)\n",
    "C6orf89: chromosome 6 open reading frame 89 (6p21.2)\n",
    "CDKAL1: CDK5 regulatory subunit associated protein 1 like 1 (6p22.3)\n",
    "COL11A2: collagen, type XI, alpha 2(6p21.3)\n",
    "CYP21A2: cytochrome P450, family 21, subfamily A, polypeptide 2 (6p21.33)\n",
    "DHX16: DEAH-box helicase 16 (6p21.33)\n",
    "DOM3Z: Decapping exoribonuclease (6p21.33)\n",
    "DSP: Desmoplakin gene linked to cardiomyopathy (6p24.3)\n",
    "ELOVL5: ELOVL fatty acid elongase 5 (6p12.1)\n",
    "FBXO9: F-box protein 9 (6p12.1)\n",
    "G6B: Protein G6b (6p21.33)\n",
    "GCNT2: N-acetyllactosaminide beta-1,6-N-acetylglucosaminyl-transferase (6p24.3)\n",
    "GMDS: GDP-mannose 4,6-dehydratase (6p25.3)\n",
    "HCG4P11: HLA complex group 4 pseudogene 11\n",
    "HFE: hemochromatosis (6p22.2)\n",
    "HIST1H2AH: histone cluster 1 H2A family member h (6p22.1)\n",
    "'''\n",
    "```\n",
    "* Χρησιμοποιώντας regular expressions εξάγεται μία λίστα με όλα τα γονίδια απο το παραπάνω string.\n",
    "* Χρησιμοποιώντας regular expressions εξάγεται τη θέση του κάθε γονιδίου (υπάρχει στο τέλος κάθε γραμμή: π.χ.: ```6p22.3```). Αν για κάποια γονίδια δεν υπάρχει αυτή η θέση απλά αγνοήστε τα. \n"
   ]
  },
  {
   "cell_type": "code",
   "execution_count": 119,
   "metadata": {},
   "outputs": [
    {
     "name": "stdout",
     "output_type": "stream",
     "text": [
      "['ADTRP', 'APOM', 'C6orf10', 'C6orf62', 'C6orf89', 'CDKAL1', 'COL11A2', 'CYP21A2', 'DHX16', 'DOM3Z', 'DSP', 'ELOVL5', 'FBXO9', 'G6B', 'GCNT2', 'GMDS', 'HCG4P11', 'HFE', 'HIST1H2AH']\n"
     ]
    }
   ],
   "source": [
    "genes = '''\n",
    "ADTRP: encoding protein Androgen-dependent TFPI-regulating protein\n",
    "APOM: encoding protein Apolipoprotein M (6p21.33)\n",
    "C6orf10: encoding protein Uncharacterized protein C6orf10 (6p21.32)\n",
    "C6orf62: chromosome 6 open reading frame 62 (6p22.3)\n",
    "C6orf89: chromosome 6 open reading frame 89 (6p21.2)\n",
    "CDKAL1: CDK5 regulatory subunit associated protein 1 like 1 (6p22.3)\n",
    "COL11A2: collagen, type XI, alpha 2(6p21.3)\n",
    "CYP21A2: cytochrome P450, family 21, subfamily A, polypeptide 2 (6p21.33)\n",
    "DHX16: DEAH-box helicase 16 (6p21.33)\n",
    "DOM3Z: Decapping exoribonuclease (6p21.33)\n",
    "DSP: Desmoplakin gene linked to cardiomyopathy (6p24.3)\n",
    "ELOVL5: ELOVL fatty acid elongase 5 (6p12.1)\n",
    "FBXO9: F-box protein 9 (6p12.1)\n",
    "G6B: Protein G6b (6p21.33)\n",
    "GCNT2: N-acetyllactosaminide beta-1,6-N-acetylglucosaminyl-transferase (6p24.3)\n",
    "GMDS: GDP-mannose 4,6-dehydratase (6p25.3)\n",
    "HCG4P11: HLA complex group 4 pseudogene 11\n",
    "HFE: hemochromatosis (6p22.2)\n",
    "HIST1H2AH: histone cluster 1 H2A family member h (6p22.1)\n",
    "'''\n",
    "\n",
    "# Χρησιμοποιώντας regular expressions εξάγεται μία λίστα με όλα τα γονίδια απο το παραπάνω string.\n",
    "import re\n",
    "gene_symbols = re.findall(r'([\\w]+):', genes)\n",
    "print (gene_symbols)"
   ]
  },
  {
   "cell_type": "code",
   "execution_count": 123,
   "metadata": {},
   "outputs": [
    {
     "data": {
      "text/plain": [
       "{'APOM': '6p21.33',\n",
       " 'C6orf10': '6p21.32',\n",
       " 'C6orf62': '6p22.3',\n",
       " 'C6orf89': '6p21.2',\n",
       " 'CDKAL1': '6p22.3',\n",
       " 'COL11A2': '6p21.3',\n",
       " 'CYP21A2': '6p21.33',\n",
       " 'DHX16': '6p21.33',\n",
       " 'DOM3Z': '6p21.33',\n",
       " 'DSP': '6p24.3',\n",
       " 'ELOVL5': '6p12.1',\n",
       " 'FBXO9': '6p12.1',\n",
       " 'G6B': '6p21.33',\n",
       " 'GCNT2': '6p24.3',\n",
       " 'GMDS': '6p25.3',\n",
       " 'HFE': '6p22.2',\n",
       " 'HIST1H2AH': '6p22.1'}"
      ]
     },
     "execution_count": 123,
     "metadata": {},
     "output_type": "execute_result"
    }
   ],
   "source": [
    "# Χρησιμοποιώντας regular expressions εξάγεται τη θέση του κάθε γονιδίου (υπάρχει στο τέλος κάθε γραμμή: π.χ.: 6p22.3). \n",
    "# Αν για κάποια γονίδια δεν υπάρχει αυτή η θέση απλά αγνοήστε τα.\n",
    "\n",
    "dict(re.findall(r'([\\w]+):.*?\\((.*?)\\)', genes))"
   ]
  },
  {
   "cell_type": "markdown",
   "metadata": {},
   "source": [
    "### Άσκηση 12\n",
    "Το [IUPAC](https://iupac.org/) έχει ορίσει τα [γράμματα που συμβολίζουν τα διάφορα αμινοξέα](https://www.bioinformatics.org/sms/iupac.html):\n",
    "\n",
    "|IUPAC nucleotide code| \tBase|\n",
    "|---------------------|-----|\n",
    "|A |\tAdenine|\n",
    "|C |\tCytosine|\n",
    "|G |\tGuanine|\n",
    "|T (or U) |\tThymine (or Uracil)|\n",
    "|R |\tA or G|\n",
    "|Y |\tC or T|\n",
    "|S |\tG or C|\n",
    "|W |\tA or T|\n",
    "|K |\tG or T|\n",
    "|M |\tA or C|\n",
    "|B |\tC or G or T|\n",
    "|D |\tA or G or T|\n",
    "|H |\tA or C or T|\n",
    "|V |\tA or C or G|\n",
    "|N |\tany base|\n",
    "|. or - \t| gap|\n",
    "\n",
    "Όπως φαίνετε στον πίνακα υπάρχουν γράμματα που συμβολίζουν πολλά πιθανά αμινοξέα. Για παράδειγμα: Μία ακολουθία ```MTVA``` μπορεί να κάνει match την ακολουθία ```ATGA``` αλλά όχι την ακολουθία ```ATΤA``` (το τρίτο γράμμα πρέπει να είναι Α or C or G). Μία ακολουθία η οποία περιέχει γράμματα που αντιστοιχούν σε περισσότερα από 1 αμινοξέα, ονομάζεται μοτίφ. Φτιάξτε μία συνάρτηση η οποία θα δέχεται σαν ορίσματα ένα μοτίφ και μία ακολουθία που περιέχει μόνο τα γράμματα \"A\", \"C\", \"G\", \"T\" και \".\" (το \".\" σημαίνει άγνωστο, άρα θα μπορεί να κάνει match πάντοτε για αυτή τη θέση). Η συνάρτηση θα πρέπει να χρησιμοποιεί regular expressions και να επιστρέφει ```True```/```False``` ανάλογα με το αν κάνει match η ακολουθία το μοτίφ ή όχι. Δηλαδή θα πρέπει να φτιάξετε ένα regular expression το οποίο κάνει match κάθε ακολουθία που είναι συμβατή με το motif. Μετά απλά θα πρέπει να επιστερέψεται True/False ανάλογα με το αν το regular expression που φτιάξατε έκανε match την ακολουθία που δόθηκε.  \n"
   ]
  },
  {
   "cell_type": "code",
   "execution_count": 135,
   "metadata": {},
   "outputs": [],
   "source": [
    "def f12(motif, sequence):\n",
    "    iupac = {\n",
    "        'A': 'A',\n",
    "        'C': 'C',\n",
    "        'G': 'G',\n",
    "        'T': 'T',\n",
    "        'R': '[AG]',\n",
    "        'Y': '[CT]',\n",
    "        'S': '[GC]',\n",
    "        'W': '[AT]',\n",
    "        'K': '[GT]',\n",
    "        'M': '[AC]',\n",
    "        'B': '[CGT]',\n",
    "        'D': '[AGT]',\n",
    "        'H': '[ACT]',\n",
    "        'V': '[ACG]',\n",
    "        'N': '[ACGT]',\n",
    "        '.': '.',\n",
    "    }\n",
    "    \n",
    "    expression = ''.join(iupac[x] for x in motif)\n",
    "    #print (expression)\n",
    "    return bool(re.match(expression, sequence))"
   ]
  },
  {
   "cell_type": "code",
   "execution_count": 136,
   "metadata": {},
   "outputs": [
    {
     "data": {
      "text/plain": [
       "True"
      ]
     },
     "execution_count": 136,
     "metadata": {},
     "output_type": "execute_result"
    }
   ],
   "source": [
    "f12('ASN.V', 'ACT.C')"
   ]
  },
  {
   "cell_type": "markdown",
   "metadata": {},
   "source": [
    "### Άσκηση 13\n",
    "Κάντε το ίδιο με την άσκηση 12, αλλά η συνάρτηση θα δέχεται μόνο ένα όρισμα και αυτό θα είναι το μοτίφ. Η συνάρτηση θα πρέπει να επιστρέφει μία συνάρτηση η οποία θα δέχεται μία ακολουθία και θα επιστρέφει ```True```/```False``` ανάλογα με το αν η ακολουθία έκανε match το μοτίφ ή όχι. Για παράδειγμα θα μπορούμε να γράψουμε:\n",
    "```python\n",
    "matcher = get_matcher('MTVA')\n",
    "print (matcher('ATGA'))\n",
    "True\n",
    "\n",
    "print (matcher('ATΤA'))\n",
    "False\n",
    "```\n",
    "\n",
    "Δίνεται ένα παράδειγμα μίας συνάρτησης που επιστρέφει μία συνάρτηση:\n",
    "```python\n",
    "def f(x):\n",
    "   def g(y):\n",
    "      return x+y\n",
    "   return g\n",
    "   \n",
    "a=f(3)\n",
    "print (a(5))\n",
    ">>> 8\n",
    "```"
   ]
  },
  {
   "cell_type": "code",
   "execution_count": 138,
   "metadata": {},
   "outputs": [],
   "source": [
    "def get_matcher(motif):\n",
    "    iupac = {\n",
    "        'A': 'A',\n",
    "        'C': 'C',\n",
    "        'G': 'G',\n",
    "        'T': 'T',\n",
    "        'R': '[AG]',\n",
    "        'Y': '[CT]',\n",
    "        'S': '[GC]',\n",
    "        'W': '[AT]',\n",
    "        'K': '[GT]',\n",
    "        'M': '[AC]',\n",
    "        'B': '[CGT]',\n",
    "        'D': '[AGT]',\n",
    "        'H': '[ACT]',\n",
    "        'V': '[ACG]',\n",
    "        'N': '[ACGT]',\n",
    "        '.': '.',\n",
    "    }\n",
    "    \n",
    "    expression = ''.join(iupac[x] for x in motif)\n",
    "    return lambda x : bool(re.match(expression, x))  "
   ]
  },
  {
   "cell_type": "code",
   "execution_count": 139,
   "metadata": {},
   "outputs": [
    {
     "name": "stdout",
     "output_type": "stream",
     "text": [
      "True\n"
     ]
    }
   ],
   "source": [
    "matcher = get_matcher('MTVA')\n",
    "print (matcher('ATGA'))"
   ]
  },
  {
   "cell_type": "code",
   "execution_count": 140,
   "metadata": {},
   "outputs": [
    {
     "name": "stdout",
     "output_type": "stream",
     "text": [
      "False\n"
     ]
    }
   ],
   "source": [
    "print (matcher('ATΤA'))"
   ]
  },
  {
   "cell_type": "markdown",
   "metadata": {},
   "source": [
    "### Άσκηση 14\n",
    "Ας υποθέσουμε ότι υπάρχει ένα mutation σε κάποια θέση του γονιδιώματος, το οποίο έχει δύο αλληλόμορφα: το A και το B.\n",
    "Ας ορίσουμε ως pB τη πιθανότητα, να εμφανιστεί το αλληλόμορφο Β σε ένα σετ από τα 2 σετ χρωμοσωμάτων που έχει ο άνθρωπος. \n",
    "Τότε η πιθανότητα να έχει δύο B (ομόζυγος) είναι ```pB**2```. Επίσης η πιθανότητα να έχει ένα Α και ένα Β (ετερόζυγος) είναι ```(1-pB)*pB```.\n",
    "Φτιάξτε μία συνάρτηση η οποία θα παίρνει δύο ορίσματα: το pB και το Ν. Η συνάρτηση θα επιστρέφει μία λίστα με τους γονότυπους από Ν \"τυχαίους\" ανθρώπους. Ο κάθε γονότυπος θα είναι είτε (Α,Α), είτε (Α,Β), είτε (Β,Β). Όπως είπαμε η πιθανότητα να \"εμφανιστεί\" ένα Β θα πρέπει να είναι pB. Η πιθανότητα να \"εμφανιστεί\" ένα Α είναι 1-pΒ. \n",
    "\n",
    "Η παρακάτω εντολή παράγει ένα τυχαίο δεκαδικό (float) αριθμό από το 0 μέχρι το 1.\n",
    "```python\n",
    "import random\n",
    "random.random()\n",
    "```\n",
    "\n",
    "Η παρακάτω εντολή τυπώνει \"κιθαρίστας\" με πιθανότητα 80% και \"ντράμερ\" με πιθανότητα 20%.\n",
    "```python\n",
    "if random.random() < 0.8:\n",
    "   print ('κιθαρίστας')\n",
    "else:\n",
    "   print ('ντράμερ')\n",
    "```\n",
    "\n",
    "**ΠΡΟΣΟΧΗ 1** Θεωρούμε ότι τα δύο χρωμοσώματα έχουν \"ανεξάρτητες τιμές\". Δηλαδή η πιθανότητα το ένα να είναι Β είναι ανεξάρτητη από τη πιθανότητα το άλλο να είναι Β. \n",
    "\n",
    "**ΠΡΟΣΟΧΗ 2** Κάποια βασικά: Το σύνολο όλου του γενετικού υλικού ενός οργανισμού ονομάζεται γονιδίωμα. Ο άνθρωπος έχει 2 σετ από [autosome](https://en.wikipedia.org/wiki/Autosome) χρωμοσώματα στο γονιδίωμά του. Το κάθε σετ έχει 22 χρωμοσώματα. Το ένα σετ το έχουμε πάρει από τον πατέρα μας και το άλλο από τη μητέρα μας. Θεωρούμε ότι η μετάλλαξη για την οποία μιλάει αυτή η άσκηση εμφανίζεται σε μία και μόνο μία θέση σε όλο το γωνιδίωμα. Δεν έχει σημασία σε ποιο χρωμόσωμα εμφανίζεται. Το θέμα είναι ότι η μετάλλαξη αυτή μπορεί είτε να υπάρχει, είτε να μην υπάρχει σε έναν άνθρωπο. Αν υπάρχει τότε μπορεί να εμφανιστεί με δύο τρόπους: ως ετερόζυγη (Α/Β), είτε ως ομόζυγη (Β/Β). Αν δεν υπάρχει τότε έχουμε Α/Α. Α/Β σημαίνει ότι το ένα σετ από χρωμοσώματσα δεν έχει τη μετάλλαξη, ενώ το άλλο την έχει (ή αλλιώς έχουμε πάρει τη μετάλλαξη ή από τον πατέρα μας ή από τη μητέρα μας). Β/Β σημαίνει ότι η μετάλλαξη υπάρχει και στα δύο σετ από χρωμοσώματα (ή αλλιώς την μετάλλαξη την έχουμε κληρονομήσει και από τον πατέρα μας και από τη μητέρα μας). Α/Α σημαίνει ότι ΔΕΝ έχουμε κληρονομήσει τη μετάλλαξη. \n",
    "Τα Α/Α, Α/Β και Β/Β ονομάζονται γονότυπος. Τα Α και Β ονομάζονται αλληλόμορφα. \n",
    "\n",
    "Ένας άλλος τρόπος να διατυπωθεί η άσκηση είναι:\n",
    "\n",
    "Μία μπάλα μπορεί να είναι είτε άσπρη, είτε μαύρη. Η πιθανότητα να είναι μαύρη μία μπάλα είναι pB και η πιθανότητα να είναι άσπρη είναι 1-pB. Ένα κουτί έχει 2 μπάλες. Άρα ένα κουτί μπορεί να έχει είτε Άσπρη/Άσπρη, είτε Άσπρη/Μαύρη είτε Μαύρη/Μαύρη μπάλες. Η πιθανότητα η μία μπάλα να είναι μαύρη **είναι ανεξάρτητη** από τη πιθανότητητα η άλλη μπάλα να είναι μαύρη στο ίδιο κουτί. Φτιάξτε μία συνάρτηση που να παίρνει δύο παρπαμέτρους: pB και Ν. Η συνάρτηση επιστρέφει Ν κουτιά από ζευγάρια από μπάλες (ή αλλιώς μία λίστα μεγέθους Ν όπου το κάθε αντικείμενο της λίστας θα είναι ένα tuple με δύο strings). Η πιθανότητα κάθε μπάλα να είναι μαύρη είναι pB. \n"
   ]
  },
  {
   "cell_type": "code",
   "execution_count": 141,
   "metadata": {},
   "outputs": [],
   "source": [
    "import random\n",
    "def f14(pB, N):\n",
    "    \n",
    "    random_genotype = lambda : 'B' if random.random()<pB else 'A'\n",
    "    \n",
    "    return [(random_genotype(), random_genotype()) for x in range(N)]"
   ]
  },
  {
   "cell_type": "code",
   "execution_count": 142,
   "metadata": {},
   "outputs": [
    {
     "data": {
      "text/plain": [
       "[('A', 'A'),\n",
       " ('B', 'A'),\n",
       " ('A', 'A'),\n",
       " ('A', 'B'),\n",
       " ('A', 'A'),\n",
       " ('B', 'A'),\n",
       " ('A', 'A'),\n",
       " ('A', 'A'),\n",
       " ('A', 'B'),\n",
       " ('B', 'A'),\n",
       " ('A', 'A'),\n",
       " ('B', 'A'),\n",
       " ('A', 'B'),\n",
       " ('B', 'A'),\n",
       " ('A', 'B'),\n",
       " ('A', 'A'),\n",
       " ('A', 'A'),\n",
       " ('A', 'A'),\n",
       " ('A', 'A'),\n",
       " ('A', 'A')]"
      ]
     },
     "execution_count": 142,
     "metadata": {},
     "output_type": "execute_result"
    }
   ],
   "source": [
    "f14(0.3, 20)"
   ]
  },
  {
   "cell_type": "markdown",
   "metadata": {},
   "source": [
    "### Άσκηση 15\n",
    "Συνεχίζουμε από την εκφώνηση της άσκησης 14. Ας υποθέσουμε ότι αν ένας άνθρωπος έχει ένα (ή παραπάνω) 'B' τότε έχει αυξημένες πιθανότητες να έχει κάποια ασθένεια. Ορίζουμε τρεις πιθανότητες:\n",
    "* pAA = Η πιθανότητα ένας άνθρωπος να έχει (A,A) και να έχει την ασθένεια\n",
    "* pAB = Η πιθανότητα ένας άνθρωπος να έχει (Α,Β) και να έχει την ασθένεια \n",
    "* pBB = Η πιθανότητα ένας άνθρωπος να έχει (Β,Β) και να έχει την ασθένεια\n",
    "\n",
    "ισχύει ότι: pΑΑ < pAB < pBB \n",
    "\n",
    "Φτιάξτε μία συνάρτηση η οποία θα παίρνει 5 παραμέτρους: το Ν, το pB, το pAA, το pAB και το pBB.\n",
    "H συνάρτηση θα πρέπει να επιστρέφει μία λίστα με τον γονότυπο από Ν ανθρώπους (όπως ακριβώς στην άσκηση 14) μαζί με το αν έχουν την ασθένεια ή όχι. Δηλαδη θα πρέπει να επιστρέφει μία λίστα της μορφής:\n",
    "\n",
    "```python\n",
    "a = [\n",
    "   ('A', 'A', False), # είναι Α/Α και ΔΕΝ έχει την άσθένεια,\n",
    "   ('A', 'B', True), # είναι A/B και Έχει την ασθένεια,\n",
    "   ...\n",
    "] \n",
    "```\n",
    "\n",
    "Το αν έχουν την ασθένεια (ή όχι) καθορίζεται τυχαία, ανάλογα με τις παραμέτρους pAA, pAB, pBB. Δηλαδή παίρνουμε έναν άνθρωπο και ελέγχουμε τι γονότυπο έχει. Ας υποθέσουμε ότι έχει Α/Β. Άραγε έχει την ασθένεια; Για να το βρούμε αυτό παίρνουμε έναν **καινούργιο** τυχαίο αριθμό (```random.random()```) και ελέγχουμε αν αυτός ο αριθμός είναι μικρότερος από pAB. Αν είναι τότε αυτός ο άνθρωπος έχει την ασθένεια. Αν όχι τότε δεν έχει την ασθένεια. Ένα άλλο παράδειγμα: Παίρνουμε έναν άλλο άνθρωπο και ελέγχουμε τον γονότυπό του. Ας υποθέσουμε ότι είναι A/A, άραγε έχει την ασθένεια; Για να το βρούμε παίρνουμε έναν **άλλο και καινούργιο** τυχαίο αριθμό (```random.random()```) και κοιτάμε αν αυτός ο αριθμός είναι μικρότερος από το pAA. Αν είναι τότε ο άνθρωπος αυτός έχει την ασθένεια, αλλιώς δεν την έχει. \n",
    "\n",
    "**ΠΡΟΣΟΧΗ 1!** το pAB ΔΕΝ είναι η πιθανότητα να έχει γονότυπο Α/Β αλλά η πιθανότητα ΑΝ έχει γονότυπο Α/Β τότε να έχει την ασθένεια. \n",
    "\n",
    "Ένας άλλος τρόπος να το δούμε (με μπάλλες). Έχετε ένα κουτί με 100 ζευγάρια από μπάλες. Κάθε μπάλα του ζευγαριού μπορεί να είναι είτε άσπρη, είτε μαύρη. Η πιθανότητα μία μπάλα να είναι μαύρη είναι pB. Κάθε ζευγάρι μπορεί να είναι είτε Άσπρη/Άσπρη, είτε Άσπρη/Μαύρη, είτε Μαύρη/Μαύρη. Κάθε ζευγάρι μπορεί να είναι είτε Κινέζικης, είτε Ελληνικής κατασκευής. Οι πιθανότητες ένα ζευγάρι να είναι Ελληνικής κατασκευής εξαρτιώνται από το χρώμμα τους. Η πιθανότητα ένα ζευγάρι να είναι Άσπρη/Άσπρη και να είναι Ελληνικής κατασκευής είναι pAA, η πιθανότητα ένα ζευγάρι να είναι Ελληνικής κατασκευής και να είναι Άσπρη/Μαύρη είναι pAB και η πιθανότητα ένα ζευγάρι να είναι Ελληνικής κατασκευής και να είναι Μαύρη/Μαύρη είναι pBB. "
   ]
  },
  {
   "cell_type": "code",
   "execution_count": 151,
   "metadata": {},
   "outputs": [],
   "source": [
    "def f15(N, pB, pAA, pAB, pBB):\n",
    "    people = f14(pB, N)\n",
    "    \n",
    "    has_the_disease = {\n",
    "        ('A', 'A') : lambda  : random.random()<pAA,\n",
    "        ('A', 'B') : lambda  : random.random()<pAB,\n",
    "        ('B', 'A') : lambda  : random.random()<pAB,\n",
    "        ('B', 'B') : lambda  : random.random()<pBB,\n",
    "    }\n",
    "        \n",
    "    return [(x[0], x[1], has_the_disease[x]() ) for x in people]"
   ]
  },
  {
   "cell_type": "code",
   "execution_count": 153,
   "metadata": {},
   "outputs": [
    {
     "data": {
      "text/plain": [
       "[('A', 'B', True),\n",
       " ('A', 'B', False),\n",
       " ('A', 'A', False),\n",
       " ('B', 'B', True),\n",
       " ('B', 'A', False),\n",
       " ('B', 'A', False),\n",
       " ('B', 'A', False),\n",
       " ('A', 'A', False),\n",
       " ('B', 'B', False),\n",
       " ('B', 'A', False),\n",
       " ('B', 'B', False),\n",
       " ('A', 'A', False),\n",
       " ('A', 'B', True),\n",
       " ('A', 'A', False),\n",
       " ('A', 'B', False),\n",
       " ('A', 'A', False),\n",
       " ('B', 'A', False),\n",
       " ('A', 'B', False),\n",
       " ('A', 'A', False),\n",
       " ('A', 'A', False)]"
      ]
     },
     "execution_count": 153,
     "metadata": {},
     "output_type": "execute_result"
    }
   ],
   "source": [
    "f15(20, 0.3, 0.1, 0.2, 0.4)"
   ]
  },
  {
   "cell_type": "markdown",
   "metadata": {},
   "source": [
    "### Άσκηση 16\n",
    "Συνεχίζουμε από την εκφώνηση της άσκησης 15 και κάνουμε τώρα την εξής υπόθεση: Αν μετρήσουμε τον μέσο όρο των \"Β\" σε αυτούς που έχουν την ασθένεια και το μέσο όρο των \"Β\" σε αυτούς που ΔΕΝ έχουν την ασθένεια, θα πρέπει αυτοί που έχουν την ασθένεια να έχουν μεγαλύτερο μέσο όρο. Θα πρέπει να φτιάξετε μία συνάρτηση η οποία θα παίρνει ως παράμετρο τη λίστα που επιστρέφει η συνάρτηση της άσκησης 15, και να επιστρέφει True ή False ανάλογα με το αν η παραπάνω υπόθεση είναι σωστή ή όχι.  \n",
    "\n",
    "Για παράδειγμα έστω ότι οι \"υγιείς\" είναι ```healthy = ['AA', 'AA', 'AB']``` και οι \"ασθενείς\" είναι ```disease = ['AB', 'AA', 'BB']``` Τότε: Ο μέσος όρος των Β στους healthy είναι: 1/6 και ο μέσος όρος των Β στους disease είναι: 3/6. Αφού ```3/6>1/6``` τότε η συνάρτηση επιστρέφει True. Διαφορετικά επιστρέφει False.\n",
    "\n"
   ]
  },
  {
   "cell_type": "code",
   "execution_count": 158,
   "metadata": {},
   "outputs": [],
   "source": [
    "def f16(l):\n",
    "    healthy = [x[:2] for x in l if not x[2]]\n",
    "    disease = [x[:2] for x in l if x[2]]\n",
    "    \n",
    "    def average_B(p):\n",
    "        s = sum(x.count('B') for x in p)\n",
    "        return s/(2*len(p))\n",
    "    \n",
    "    return average_B(disease) > average_B(healthy)"
   ]
  },
  {
   "cell_type": "code",
   "execution_count": 306,
   "metadata": {},
   "outputs": [
    {
     "data": {
      "text/plain": [
       "False"
      ]
     },
     "execution_count": 306,
     "metadata": {},
     "output_type": "execute_result"
    }
   ],
   "source": [
    "f16(f15(20, 0.3, 0.1, 0.2, 0.4))"
   ]
  },
  {
   "cell_type": "markdown",
   "metadata": {},
   "source": [
    "### Άσκηση 17\n",
    "Συνεχίζουμε από την εκφώνηση της άσκηση 16. Τώρα μπορούμε να κάνουμε το εξής πείραμα: Αν έχουμε τους 5 παραμέτρους της συνάρτησης της άσκησης 15, μπορούμε να δούμε με τη συνάρτηση της άσκησης 16 αν η υπόθεση της άσκησης 16 είναι σωστή. Φυσικά αυτό είναι μία μοναδική παρατήρηση. Θα ήταν ενδιαφέρον να επαναλάβουμε αυτή τη διαδικασία πολλές φορές και να μετρήσουμε το ποσοστό τους που η υπόθεση **ΔΕΝ** ήταν σωστή. Φτιάξτε μία συνάρτηση η οποία να παίρνει 6 ορίσματα: τα ορίσματα της άσκησης 15 και ένα όρισμα Τ το οποίο είναι πόσες φορές θέλουμε να επαναλάβουμε το πείραμα. Η συνάρτηση θα επιστρέφει έναν αριθμό από το 0 μέχρι 100 το οποίο θα είναι το ποσοστό των Τ επαναλήψεων για τις οποίες η υπόθεση της άσκησης 16 είναι Λάθος. \n",
    "\n",
    "**Αν έχετε υλοποιήσει τις 14,15,16,17 συγχαρητήρια μόλις υλοποιήσατε ένα [False Discovery Rate](https://en.wikipedia.org/wiki/False_discovery_rate), ή αλλιώς FDR**"
   ]
  },
  {
   "cell_type": "code",
   "execution_count": 198,
   "metadata": {},
   "outputs": [],
   "source": [
    "def f17(N, pB, pAA, pAB, pBB, T):\n",
    "    success = sum(1 for x in range(T) if not f16(f15(N, pB, pAA, pAB, pBB)))\n",
    "    return success/T"
   ]
  },
  {
   "cell_type": "code",
   "execution_count": 199,
   "metadata": {},
   "outputs": [
    {
     "data": {
      "text/plain": [
       "0.044"
      ]
     },
     "execution_count": 199,
     "metadata": {},
     "output_type": "execute_result"
    }
   ],
   "source": [
    "f17(100, 0.3, 0.1, 0.2, 0.3, 1000)"
   ]
  },
  {
   "cell_type": "markdown",
   "metadata": {},
   "source": [
    "## Άσκηση 18\n",
    "Αφού έχουμε κάνει τις ασκήσεις 14,15,16,17, ήρθε η ώρα να απαντήσουμε σε ένα βιολογικό ερώτημα! Ας υποθέσουμε ότι οι πιθανότητες pAA, pAB και PBB είναι:\n",
    "* pAA = 0.1\n",
    "* pAB = 0.15\n",
    "* pBB = 0.2\n",
    "\n",
    "Η ερώτηση είναι: ποια πρέπει να είναι η μικρότερη τιμή της πιθανότητας pB, ώστε να μπορώ να επιβεβαιώσω τη συσχέτιση με την ασθένεια με FDR<0.05, σε έναν πληθυσμό με Ν=1000 και Τ=2000; Για να απαντήσουμε στην ερώτηση αυτή, τρέχτε τη συνάρτηση της άσκησης 17 για διάφορες τιμές του pB. Ξεκινήστε από 0.01 και αυξήστε το με βήμα 0.005. Για κάθε τιμή του pB υπολογίστες το FDR. Όταν το FDR πάρει τιμή κάτω από 0.05 σταματήστε και τυπώστε τη τιμή του pB που βρήκατε.  \n",
    "\n",
    "Φτιάξτε μία συνάρτηση η οποία παίρνει τις παραμέτρους: N, T, pAA, pAB, pBB και επιστρέφει το μικρότερη τιμή του pB ώστε να μπορεί να επιβεβαιωθεί η συσχέτιση με την ασθένεια με FDR<0.05. Η συνάρτηση θα πρέπει να κάνει ό,τι και αυτό το βήμα. Δηλαδή ξεκινάει με pB=0.01, υπολογίζει το FDR και αν αυτό είναι μεγαλύτερο από 0.05 αυξάνει το pB με βήμα 0.005 και συνεχίζει. Όταν βρει FDR<0.05 σταματάει και επιστέφει το pB που βρήκε.  "
   ]
  },
  {
   "cell_type": "code",
   "execution_count": 196,
   "metadata": {},
   "outputs": [],
   "source": [
    "def f18():\n",
    "    N = 1000\n",
    "    pAA = 0.1\n",
    "    pAB = 0.15\n",
    "    pBB = 0.2\n",
    "    T = 2000\n",
    "    \n",
    "    pB_start = 0.01\n",
    "    pB_step = 0.005\n",
    "    FDR = 1\n",
    "    \n",
    "    pB = pB_start-pB_step\n",
    "    while FDR>0.05:\n",
    "        pB += pB_step\n",
    "        FDR = f17(N, pB, pAA, pAB, pBB, T)\n",
    "        print ('pB={}  FDR={}'.format(pB, FDR))\n",
    "        \n",
    "    return pB\n",
    "        "
   ]
  },
  {
   "cell_type": "code",
   "execution_count": 200,
   "metadata": {},
   "outputs": [
    {
     "name": "stdout",
     "output_type": "stream",
     "text": [
      "pB=0.01  FDR=0.292\n",
      "pB=0.015  FDR=0.229\n",
      "pB=0.02  FDR=0.199\n",
      "pB=0.025  FDR=0.165\n",
      "pB=0.030000000000000002  FDR=0.1525\n",
      "pB=0.035  FDR=0.1265\n",
      "pB=0.04  FDR=0.0915\n",
      "pB=0.045  FDR=0.094\n",
      "pB=0.049999999999999996  FDR=0.089\n",
      "pB=0.05499999999999999  FDR=0.0615\n",
      "pB=0.05999999999999999  FDR=0.063\n",
      "pB=0.06499999999999999  FDR=0.0525\n",
      "pB=0.06999999999999999  FDR=0.0535\n",
      "pB=0.075  FDR=0.0395\n"
     ]
    },
    {
     "data": {
      "text/plain": [
       "0.075"
      ]
     },
     "execution_count": 200,
     "metadata": {},
     "output_type": "execute_result"
    }
   ],
   "source": [
    "f18()"
   ]
  },
  {
   "cell_type": "markdown",
   "metadata": {},
   "source": [
    "### Άσκηση 19\n",
    "Υλοποιήστε τις ασκήσεις 14,15,16,17,18 σε numpy. Στις υλοποιησεις σας σε numpy προσπαθήστε να χρησιμοποιήστε όσο το δυνατον λιγότερο for και while. Aν τις έχετε υλοποιήσει σε numpy, υλοποιήστες τις σε κλασσικές δομές python."
   ]
  },
  {
   "cell_type": "code",
   "execution_count": 418,
   "metadata": {},
   "outputs": [],
   "source": [
    "import numpy as np\n",
    "\n",
    "def f_14_2(N, pB):\n",
    "    # True means: B\n",
    "    # False means: A\n",
    "    \n",
    "    a = np.random.random((N,2))\n",
    "    return a<pB"
   ]
  },
  {
   "cell_type": "code",
   "execution_count": 419,
   "metadata": {},
   "outputs": [
    {
     "data": {
      "text/plain": [
       "array([[False, False],\n",
       "       [False, False],\n",
       "       [ True, False],\n",
       "       [False, False],\n",
       "       [False, False],\n",
       "       [ True, False],\n",
       "       [ True, False],\n",
       "       [False, False],\n",
       "       [False, False],\n",
       "       [False,  True]])"
      ]
     },
     "execution_count": 419,
     "metadata": {},
     "output_type": "execute_result"
    }
   ],
   "source": [
    "f_14_2(10, 0.3)"
   ]
  },
  {
   "cell_type": "code",
   "execution_count": 420,
   "metadata": {},
   "outputs": [],
   "source": [
    "def f_15_2(N, pB, pAA, pAB, pBB):\n",
    "    people = f_14_2(N, pB)\n",
    "    \n",
    "    AA = (people[:,0]==0) & (people[:,1]==0)\n",
    "    AB = (people[:,0]==1) ^ (people[:,1]==1)\n",
    "    BB = (people[:,0]==1) & (people[:,1]==1)\n",
    "\n",
    "    ret = np.hstack((people, np.random.random((N,1))))\n",
    "        \n",
    "    ret[AA,2] = ret[AA,2] < pAA\n",
    "    ret[AB,2] = ret[AB,2] < pAB\n",
    "    ret[BB,2] = ret[BB,2] < pBB\n",
    "    \n",
    "    return ret"
   ]
  },
  {
   "cell_type": "code",
   "execution_count": 421,
   "metadata": {},
   "outputs": [
    {
     "data": {
      "text/plain": [
       "array([[0., 0., 0.],\n",
       "       [1., 0., 0.],\n",
       "       [0., 1., 0.],\n",
       "       [0., 0., 0.],\n",
       "       [1., 0., 0.],\n",
       "       [0., 0., 0.],\n",
       "       [0., 0., 0.],\n",
       "       [0., 0., 0.],\n",
       "       [1., 0., 0.],\n",
       "       [0., 0., 0.]])"
      ]
     },
     "execution_count": 421,
     "metadata": {},
     "output_type": "execute_result"
    }
   ],
   "source": [
    "f_15_2(10, 0.3, 0.1, 0.2, 0.3)"
   ]
  },
  {
   "cell_type": "code",
   "execution_count": 422,
   "metadata": {},
   "outputs": [],
   "source": [
    "def f_16_2(a):\n",
    "    \n",
    "    healthy = a[a[:,2]==0.0][:,:2]\n",
    "    disease = a[a[:,2]==1.0][:,:2]\n",
    "    \n",
    "    healthy_B = np.count_nonzero(healthy)\n",
    "    disease_B = np.count_nonzero(disease)\n",
    "    \n",
    "    average_healthy_B = healthy_B/(healthy.size)\n",
    "    average_disease_B = disease_B/(disease.size)\n",
    "    \n",
    "    return average_disease_B > average_healthy_B"
   ]
  },
  {
   "cell_type": "code",
   "execution_count": 423,
   "metadata": {},
   "outputs": [
    {
     "data": {
      "text/plain": [
       "True"
      ]
     },
     "execution_count": 423,
     "metadata": {},
     "output_type": "execute_result"
    }
   ],
   "source": [
    "f_16_2(f_15_2(20, 0.3, 0.1, 0.2, 0.4))"
   ]
  },
  {
   "cell_type": "code",
   "execution_count": 424,
   "metadata": {},
   "outputs": [],
   "source": [
    "def f_17_2(N, pB, pAA, pAB, pBB, T):\n",
    "    a = np.vectorize(lambda i, j: not f_16_2(f_15_2(N, pB, pAA, pAB, pBB)))\n",
    "    m = np.fromfunction(a, (T,1))\n",
    "    \n",
    "    return np.count_nonzero(m)/T"
   ]
  },
  {
   "cell_type": "code",
   "execution_count": 425,
   "metadata": {},
   "outputs": [
    {
     "data": {
      "text/plain": [
       "0.043"
      ]
     },
     "execution_count": 425,
     "metadata": {},
     "output_type": "execute_result"
    }
   ],
   "source": [
    "f_17_2(100, 0.3, 0.1, 0.2, 0.3, 1000)"
   ]
  },
  {
   "cell_type": "code",
   "execution_count": 426,
   "metadata": {},
   "outputs": [],
   "source": [
    "def f_18_2():\n",
    "    N = 1000\n",
    "    pAA = 0.1\n",
    "    pAB = 0.15\n",
    "    pBB = 0.2\n",
    "    T = 2000\n",
    "    \n",
    "    pB_start = 0.01\n",
    "    pB_step = 0.005\n",
    "    FDR = 1\n",
    "    \n",
    "    pB = pB_start-pB_step\n",
    "    while FDR>0.05:\n",
    "        pB += pB_step\n",
    "        FDR = f_17_2(N, pB, pAA, pAB, pBB, T)\n",
    "        print ('pB={}  FDR={}'.format(pB, FDR))\n",
    "        \n",
    "    return pB\n",
    " "
   ]
  },
  {
   "cell_type": "code",
   "execution_count": 427,
   "metadata": {},
   "outputs": [
    {
     "name": "stdout",
     "output_type": "stream",
     "text": [
      "pB=0.01  FDR=0.301\n",
      "pB=0.015  FDR=0.2145\n",
      "pB=0.02  FDR=0.194\n",
      "pB=0.025  FDR=0.157\n",
      "pB=0.030000000000000002  FDR=0.139\n",
      "pB=0.035  FDR=0.124\n",
      "pB=0.04  FDR=0.105\n",
      "pB=0.045  FDR=0.097\n",
      "pB=0.049999999999999996  FDR=0.0855\n",
      "pB=0.05499999999999999  FDR=0.0755\n",
      "pB=0.05999999999999999  FDR=0.052\n",
      "pB=0.06499999999999999  FDR=0.0585\n",
      "pB=0.06999999999999999  FDR=0.0445\n"
     ]
    },
    {
     "data": {
      "text/plain": [
       "0.06999999999999999"
      ]
     },
     "execution_count": 427,
     "metadata": {},
     "output_type": "execute_result"
    }
   ],
   "source": [
    "f_18_2()"
   ]
  },
  {
   "cell_type": "markdown",
   "metadata": {},
   "source": [
    "### Άσκηση 20\n",
    "Συγκρίνετε την απόδοση των ασκήσεων 14,15,16,17,18 μεταξύ numpy και σε κλασσικές δομές python. Αυτό μπορείτε να το κάνετε με τον εξής τρόπο: Φτιάξτε τη συνάρτηση classic_python() η οποία υλοποιεί τη άσκηση 18 με τις κλασσικές δομές python και τη συνάρτηση np_python() η οποία λύνει την άσκηση 18 με numpy.\n",
    "\n",
    "Στη συνέχεια [μπορείτε να μετρήσετε πόσο χρόνο έκανε κάθε συνάρτηση να τρέξει ως εξής](https://stackoverflow.com/a/25823885/5626738):\n",
    "```python\n",
    "from timeit import default_timer as timer\n",
    "\n",
    "start = timer()\n",
    "papades()\n",
    "end = timer()\n",
    "print (end-start) # Τυπώνει πόση ώρα έκανε να τρέξει η papades() σε δευτερόλεπτα.  \n",
    "```\n",
    "\n",
    "Τυπώστε πόσο χρόνο έκανε η classic_python() και πόσο χρόνο έκανε η np_python().\n"
   ]
  },
  {
   "cell_type": "code",
   "execution_count": 428,
   "metadata": {},
   "outputs": [
    {
     "name": "stdout",
     "output_type": "stream",
     "text": [
      "Running classic python..\n",
      "pB=0.01  FDR=0.285\n",
      "pB=0.015  FDR=0.247\n",
      "pB=0.02  FDR=0.1945\n",
      "pB=0.025  FDR=0.165\n",
      "pB=0.030000000000000002  FDR=0.156\n",
      "pB=0.035  FDR=0.1295\n",
      "pB=0.04  FDR=0.1\n",
      "pB=0.045  FDR=0.079\n",
      "pB=0.049999999999999996  FDR=0.0815\n",
      "pB=0.05499999999999999  FDR=0.0735\n",
      "pB=0.05999999999999999  FDR=0.0745\n",
      "pB=0.06499999999999999  FDR=0.055\n",
      "pB=0.06999999999999999  FDR=0.05\n",
      "   Time: 22.604955924000024s\n",
      "Running numpy..\n",
      "pB=0.01  FDR=0.276\n",
      "pB=0.015  FDR=0.225\n",
      "pB=0.02  FDR=0.207\n",
      "pB=0.025  FDR=0.1735\n",
      "pB=0.030000000000000002  FDR=0.1375\n",
      "pB=0.035  FDR=0.113\n",
      "pB=0.04  FDR=0.093\n",
      "pB=0.045  FDR=0.0955\n",
      "pB=0.049999999999999996  FDR=0.0845\n",
      "pB=0.05499999999999999  FDR=0.072\n",
      "pB=0.05999999999999999  FDR=0.0575\n",
      "pB=0.06499999999999999  FDR=0.058\n",
      "pB=0.06999999999999999  FDR=0.047\n",
      "   Time: 3.562609557999167s\n"
     ]
    }
   ],
   "source": [
    "from timeit import default_timer as timer\n",
    "\n",
    "print ('Running classic python..')\n",
    "start = timer()\n",
    "f18()\n",
    "end = timer()\n",
    "print ('   Time: {}s'.format(end-start))\n",
    "\n",
    "print ('Running numpy..')\n",
    "start = timer()\n",
    "f_18_2()\n",
    "end = timer()\n",
    "print ('   Time: {}s'.format(end-start))\n"
   ]
  },
  {
   "cell_type": "code",
   "execution_count": null,
   "metadata": {},
   "outputs": [],
   "source": []
  }
 ],
 "metadata": {
  "kernelspec": {
   "display_name": "Python 3",
   "language": "python",
   "name": "python3"
  },
  "language_info": {
   "codemirror_mode": {
    "name": "ipython",
    "version": 3
   },
   "file_extension": ".py",
   "mimetype": "text/x-python",
   "name": "python",
   "nbconvert_exporter": "python",
   "pygments_lexer": "ipython3",
   "version": "3.8.5"
  }
 },
 "nbformat": 4,
 "nbformat_minor": 2
}
